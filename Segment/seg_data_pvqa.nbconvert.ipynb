{
 "cells": [
  {
   "cell_type": "code",
   "execution_count": 1,
   "metadata": {
    "execution": {
     "iopub.execute_input": "2024-12-05T06:55:41.962167Z",
     "iopub.status.busy": "2024-12-05T06:55:41.961604Z",
     "iopub.status.idle": "2024-12-05T06:55:44.699387Z",
     "shell.execute_reply": "2024-12-05T06:55:44.698008Z"
    }
   },
   "outputs": [],
   "source": [
    "import cv2\n",
    "import random\n",
    "import json\n",
    "import time\n",
    "\n",
    "import torch\n",
    "import numpy as np\n",
    "from tqdm import tqdm\n",
    "\n",
    "import clip\n",
    "from segment_anything import sam_model_registry, SamAutomaticMaskGenerator, SamPredictor\n",
    "from segment_anything.utils.transforms import ResizeLongestSide \n",
    "\n",
    "from PIL import Image  \n",
    "from torchvision import transforms\n",
    "from torchvision.transforms.functional import to_pil_image\n",
    "\n",
    "from sam_caf import hyper_params_tuning, get_crops, retrieve_relevant_crop, retrieve_relevant_crop_biomed, get_sam_prompts, sam_predicton, retrieve_relevant_crop_biomed_topk"
   ]
  },
  {
   "cell_type": "code",
   "execution_count": 2,
   "metadata": {
    "execution": {
     "iopub.execute_input": "2024-12-05T06:55:44.705660Z",
     "iopub.status.busy": "2024-12-05T06:55:44.705342Z",
     "iopub.status.idle": "2024-12-05T06:55:44.711800Z",
     "shell.execute_reply": "2024-12-05T06:55:44.710659Z"
    }
   },
   "outputs": [],
   "source": [
    "#config\n",
    "class DictToObject:\n",
    "    def __init__(self, dict_obj):\n",
    "        for key, value in dict_obj.items():\n",
    "            setattr(self, key, value)\n",
    "\n",
    "config_dict = {\n",
    "    \"model_name\" : \"SAM\",\n",
    "    \"model_type\" : \"vit_h\",\n",
    "    \"source\":    \"False\", \n",
    "    \"refine\" : \"False\",\n",
    "    \"pre_trained\": \"True\", \n",
    "    \"sam_ckpt\":  \"/data/aofei/LLM/SAM/sam_vit_h_4b8939.pth\", \n",
    "    \"clip_prompts\": \"./clip_prompts/abd_seg.json\"\n",
    "}\n",
    "\n",
    "config = DictToObject(config_dict)\n",
    "\n",
    "prompt_mode, mode = \"crops\", \"sam_clip\"\n",
    "\n",
    "def preprocess_image(image_path):\n",
    "    image = cv2.imread(image_path)\n",
    "    image = cv2.resize(image, (256, 256))\n",
    "    return image"
   ]
  },
  {
   "cell_type": "code",
   "execution_count": 3,
   "metadata": {
    "execution": {
     "iopub.execute_input": "2024-12-05T06:55:44.716553Z",
     "iopub.status.busy": "2024-12-05T06:55:44.716340Z",
     "iopub.status.idle": "2024-12-05T06:56:07.408665Z",
     "shell.execute_reply": "2024-12-05T06:56:07.406838Z"
    }
   },
   "outputs": [
    {
     "name": "stderr",
     "output_type": "stream",
     "text": [
      "/data/aofei/conda/env/medh/lib/python3.10/site-packages/transformers/utils/generic.py:441: UserWarning: torch.utils._pytree._register_pytree_node is deprecated. Please use torch.utils._pytree.register_pytree_node instead.\n",
      "  _torch_pytree._register_pytree_node(\n"
     ]
    },
    {
     "name": "stderr",
     "output_type": "stream",
     "text": [
      "/data/aofei/conda/env/medh/lib/python3.10/site-packages/transformers/utils/generic.py:309: UserWarning: torch.utils._pytree._register_pytree_node is deprecated. Please use torch.utils._pytree.register_pytree_node instead.\n",
      "  _torch_pytree._register_pytree_node(\n"
     ]
    },
    {
     "name": "stderr",
     "output_type": "stream",
     "text": [
      "/data/aofei/conda/env/medh/lib/python3.10/site-packages/huggingface_hub/file_download.py:1132: FutureWarning: `resume_download` is deprecated and will be removed in version 1.0.0. Downloads always resume when possible. If you want to force a new download, use `force_download=True`.\n",
      "  warnings.warn(\n"
     ]
    },
    {
     "name": "stderr",
     "output_type": "stream",
     "text": [
      "/data/aofei/conda/env/medh/lib/python3.10/site-packages/transformers/utils/generic.py:309: UserWarning: torch.utils._pytree._register_pytree_node is deprecated. Please use torch.utils._pytree.register_pytree_node instead.\n",
      "  _torch_pytree._register_pytree_node(\n"
     ]
    },
    {
     "name": "stderr",
     "output_type": "stream",
     "text": [
      "/data/aofei/conda/env/medh/lib/python3.10/site-packages/huggingface_hub/file_download.py:1132: FutureWarning: `resume_download` is deprecated and will be removed in version 1.0.0. Downloads always resume when possible. If you want to force a new download, use `force_download=True`.\n",
      "  warnings.warn(\n"
     ]
    }
   ],
   "source": [
    "import os\n",
    "# os.environ[\"TRANSFORMERS_CACHE\"]=\"/data/aofei/huggingface_cache/transformers\"\n",
    "os.environ[\"HF_HOME\"]=\"/data/aofei/huggingface_cache/transformers\"\n",
    "from open_clip import create_model_from_pretrained, get_tokenizer # works on open-clip-torch>=2.23.0, timm>=0.9.8\n",
    "\n",
    "biomed_clip_model, biomed_preprocess = create_model_from_pretrained('hf-hub:microsoft/BiomedCLIP-PubMedBERT_256-vit_base_patch16_224', device=\"cuda\")\n",
    "tokenizer = get_tokenizer('hf-hub:microsoft/BiomedCLIP-PubMedBERT_256-vit_base_patch16_224')\n",
    "\n",
    "clip_model, preprocess = clip.load(\"ViT-L/14\", device=\"cuda\")\n",
    "sam_checkpoint = config.sam_ckpt\n",
    "\n",
    "sam = sam_model_registry[config.model_type](checkpoint=sam_checkpoint)\n",
    "sam.to(\"cuda\")\n",
    "resize_transform = ResizeLongestSide(sam.image_encoder.img_size)\n",
    "\n",
    "dice_scores = []\n",
    "mask_generator, area = hyper_params_tuning(sam)"
   ]
  },
  {
   "cell_type": "code",
   "execution_count": 4,
   "metadata": {
    "execution": {
     "iopub.execute_input": "2024-12-05T06:56:07.415100Z",
     "iopub.status.busy": "2024-12-05T06:56:07.414570Z",
     "iopub.status.idle": "2024-12-05T06:56:07.424862Z",
     "shell.execute_reply": "2024-12-05T06:56:07.423817Z"
    }
   },
   "outputs": [],
   "source": [
    "def sam_generation(image_path):\n",
    "    image = preprocess_image(image_path=image_path)\n",
    "    with torch.no_grad():\n",
    "        # if mode == \"sam_clip\":\n",
    "        masks = mask_generator.generate(image)\n",
    "        masks = [mask for mask in masks if mask[\"area\"] < area] # area filtering based on area value from hyper-params tuning\n",
    "        img_crops = get_crops(image, masks, prompt_mode)\n",
    "        \n",
    "    return masks, img_crops\n",
    "\n",
    "def filter_sam_results(masks, img_crops):\n",
    "    new_masks, new_img_crops = [], []\n",
    "    for i in range(len(masks)):\n",
    "        mask = masks[i]\n",
    "        if mask['bbox'][0] == 0 or mask['bbox'][1] == 0:\n",
    "            continue\n",
    "        if mask['bbox'][2] <= 12 or mask['bbox'][3] <= 12:\n",
    "            continue\n",
    "        y_max, x_max = mask['bbox'][1] + mask['bbox'][3], mask['bbox'][0] + mask['bbox'][2]\n",
    "        if y_max > 253 or x_max > 253:\n",
    "            continue\n",
    "        new_masks.append(mask)\n",
    "        new_img_crops.append(img_crops[i])\n",
    "    return new_masks, new_img_crops\n",
    "\n",
    "def get_topk_similar(k, crop_scores):\n",
    "    sorted_scores = sorted([(i, m) for (i,m) in enumerate(crop_scores)], key=lambda x: x[1], reverse=True)\n",
    "    return sorted_scores[:k]\n",
    "\n",
    "def get_compelete_contour(masks):\n",
    "    width_list = []\n",
    "    # need to consider the chest xray\n",
    "    for i in masks:\n",
    "        width, height = i['bbox'][2], i['bbox'][3]\n",
    "        width_list.append(width)\n",
    "    sorted_width = sorted([(i, m) for (i,m) in  enumerate(width_list)], key=lambda x: x[1], reverse=True)\n",
    "    return sorted_width[0][1]\n",
    "\n",
    "def judge_inner_boxes(bboxes):\n",
    "    for bbox in bboxes:\n",
    "        bbox"
   ]
  },
  {
   "cell_type": "code",
   "execution_count": 5,
   "metadata": {
    "execution": {
     "iopub.execute_input": "2024-12-05T06:56:07.430121Z",
     "iopub.status.busy": "2024-12-05T06:56:07.429935Z",
     "iopub.status.idle": "2024-12-05T06:56:07.437190Z",
     "shell.execute_reply": "2024-12-05T06:56:07.436118Z"
    }
   },
   "outputs": [],
   "source": [
    "masks_image_dict = dict()\n",
    "masks_all_image_dict = dict()\n",
    "crops_image_dict = dict()\n",
    "def generate_segments(query, image_path):\n",
    "    if masks_image_dict.__contains__(image_path):\n",
    "        masks = masks_image_dict[image_path]\n",
    "        img_crops = crops_image_dict[image_path]\n",
    "    else:\n",
    "        masks, img_crops = sam_generation(image_path=image_path)\n",
    "        masks, img_crops = filter_sam_results(masks, img_crops)\n",
    "        masks_image_dict[image_path] = masks\n",
    "        crops_image_dict[image_path] = img_crops\n",
    "    img_crops_filtered = img_crops\n",
    "    prompts = {\"query\": [query]}\n",
    "    max_indices, scores = retrieve_relevant_crop_biomed_topk(img_crops, prompts, biomed_clip_model, biomed_preprocess, config, tokenizer=tokenizer, topk=8)\n",
    "    # topk_indices = get_topk_similar(3, scores[\"query\"])\n",
    "    # define a set of rules, firstly return top3\n",
    "    # if there is no explicit organs to be used as query, then just use the whole segmentation\n",
    "    # if the smaller boxes are in the bigger box, then use all of them but assign higher weights on smaller inner boxes\n",
    "    bboxes = []\n",
    "    segs = []\n",
    "    # print(max_indices)\n",
    "    for i in max_indices[\"query\"]:\n",
    "        bboxes.append(masks[i][\"bbox\"])\n",
    "        segs.append(masks[i][\"segmentation\"])\n",
    "    return bboxes, segs, max_indices[\"query\"]\n",
    "\n",
    "\n",
    "def generate_all_segments(image_path):\n",
    "    if masks_all_image_dict.__contains__(image_path):\n",
    "        masks = masks_all_image_dict[image_path]\n",
    "    else:\n",
    "        masks, img_crops = sam_generation(image_path=image_path)\n",
    "        masks, img_crops = filter_sam_results(masks, img_crops)\n",
    "        masks_all_image_dict[image_path] = masks\n",
    "    return masks"
   ]
  },
  {
   "cell_type": "code",
   "execution_count": 6,
   "metadata": {
    "execution": {
     "iopub.execute_input": "2024-12-05T06:56:07.441792Z",
     "iopub.status.busy": "2024-12-05T06:56:07.441616Z",
     "iopub.status.idle": "2024-12-05T06:56:07.483304Z",
     "shell.execute_reply": "2024-12-05T06:56:07.482202Z"
    }
   },
   "outputs": [
    {
     "data": {
      "text/plain": [
       "19755"
      ]
     },
     "execution_count": 6,
     "metadata": {},
     "output_type": "execute_result"
    }
   ],
   "source": [
    "# Preprocessing for Slake\n",
    "import json\n",
    "# # with open(r\"/data/aofei/hallucination/Slake/data/training_contours.json\", \"r\") as f:\n",
    "# #     train_data = json.load(f)\n",
    "# # len(train_data)\n",
    "\n",
    "with open(r\"/data/aofei/hallucination/PathVQA/pvqa/train_copy.json\", \"r\") as f:\n",
    "    all_train_data = json.load(f)\n",
    "len(all_train_data)\n",
    "\n",
    "# with open(r\"/data/aofei/hallucination/Slake/data/test.json\", \"r\") as f:\n",
    "#     test_data = json.load(f)\n",
    "# len(test_data)\n",
    "\n",
    "# with open(r\"/data/aofei/hallucination/Slake/test.json\", \"r\") as f:\n",
    "#     all_test_data = json.load(f)\n",
    "# len(all_test_data)\n",
    "\n",
    "# # Preprocessing for VQA-RAD\n",
    "# import json\n",
    "# with open(r\"/data/aofei/hallucination/VQA_RAD/MED_RAD_test.json\", \"r\") as f:\n",
    "#     rad_data = json.load(f)\n",
    "# len(rad_data)\n",
    "\n",
    "# train_rad_data = []\n",
    "# for i in rad_data:\n",
    "#     if not i['phrase_type'].startswith(\"test\"):\n",
    "#         train_rad_data.append(i)\n",
    "# len(train_rad_data)"
   ]
  },
  {
   "cell_type": "code",
   "execution_count": 7,
   "metadata": {
    "execution": {
     "iopub.execute_input": "2024-12-05T06:56:07.488321Z",
     "iopub.status.busy": "2024-12-05T06:56:07.488118Z",
     "iopub.status.idle": "2024-12-05T06:56:07.494152Z",
     "shell.execute_reply": "2024-12-05T06:56:07.493143Z"
    }
   },
   "outputs": [
    {
     "data": {
      "text/plain": [
       "{'qid': 100422000,\n",
       " 'image_name': 'train_0422.jpg',\n",
       " 'answer': 'in the canals of hering',\n",
       " 'answer_type': 'other',\n",
       " 'question_type': 'where',\n",
       " 'question': 'Where are liver stem cells (oval cells) located?'}"
      ]
     },
     "execution_count": 7,
     "metadata": {},
     "output_type": "execute_result"
    }
   ],
   "source": [
    "all_train_data[0]"
   ]
  },
  {
   "cell_type": "code",
   "execution_count": 8,
   "metadata": {
    "execution": {
     "iopub.execute_input": "2024-12-05T06:56:07.499878Z",
     "iopub.status.busy": "2024-12-05T06:56:07.499684Z",
     "iopub.status.idle": "2024-12-05T06:56:07.504190Z",
     "shell.execute_reply": "2024-12-05T06:56:07.502980Z"
    }
   },
   "outputs": [],
   "source": [
    "all_train_data_en = all_train_data"
   ]
  },
  {
   "cell_type": "code",
   "execution_count": 9,
   "metadata": {
    "execution": {
     "iopub.execute_input": "2024-12-05T06:56:07.509176Z",
     "iopub.status.busy": "2024-12-05T06:56:07.508965Z",
     "iopub.status.idle": "2024-12-05T06:56:07.627690Z",
     "shell.execute_reply": "2024-12-05T06:56:07.626756Z"
    }
   },
   "outputs": [
    {
     "data": {
      "text/plain": [
       "19755"
      ]
     },
     "execution_count": 9,
     "metadata": {},
     "output_type": "execute_result"
    }
   ],
   "source": [
    "import copy\n",
    "train_data_seg = copy.deepcopy(all_train_data_en)\n",
    "len(train_data_seg)"
   ]
  },
  {
   "cell_type": "code",
   "execution_count": 10,
   "metadata": {
    "execution": {
     "iopub.execute_input": "2024-12-05T06:56:07.632603Z",
     "iopub.status.busy": "2024-12-05T06:56:07.632384Z",
     "iopub.status.idle": "2024-12-05T06:56:07.641789Z",
     "shell.execute_reply": "2024-12-05T06:56:07.640764Z"
    }
   },
   "outputs": [
    {
     "data": {
      "text/plain": [
       "2599"
      ]
     },
     "execution_count": 10,
     "metadata": {},
     "output_type": "execute_result"
    }
   ],
   "source": [
    "len(set([i['image_name'] for i in train_data_seg]))"
   ]
  },
  {
   "cell_type": "code",
   "execution_count": 11,
   "metadata": {
    "execution": {
     "iopub.execute_input": "2024-12-05T06:56:07.647553Z",
     "iopub.status.busy": "2024-12-05T06:56:07.647350Z",
     "iopub.status.idle": "2024-12-05T06:56:07.651244Z",
     "shell.execute_reply": "2024-12-05T06:56:07.650228Z"
    }
   },
   "outputs": [],
   "source": [
    "# len(set([i['img_name'] for i in train_data]))"
   ]
  },
  {
   "cell_type": "code",
   "execution_count": null,
   "metadata": {
    "execution": {
     "iopub.execute_input": "2024-12-05T06:56:07.655976Z",
     "iopub.status.busy": "2024-12-05T06:56:07.655774Z",
     "iopub.status.idle": "2024-12-05T06:56:20.065109Z",
     "shell.execute_reply": "2024-12-05T06:56:20.063727Z"
    }
   },
   "outputs": [
    {
     "name": "stderr",
     "output_type": "stream",
     "text": [
      "\r\n",
      "  0%|                                                                                                                                                                                                                                                   | 0/20 [00:00<?, ?it/s]"
     ]
    },
    {
     "name": "stderr",
     "output_type": "stream",
     "text": [
      "\r\n",
      "  5%|███████████▊                                                                                                                                                                                                                               | 1/20 [00:03<00:57,  3.02s/it]"
     ]
    },
    {
     "name": "stderr",
     "output_type": "stream",
     "text": [
      "\r\n",
      " 20%|███████████████████████████████████████████████                                                                                                                                                                                            | 4/20 [00:03<00:09,  1.67it/s]"
     ]
    },
    {
     "name": "stderr",
     "output_type": "stream",
     "text": [
      "\r\n",
      " 30%|██████████████████████████████████████████████████████████████████████▌                                                                                                                                                                    | 6/20 [00:05<00:12,  1.09it/s]"
     ]
    },
    {
     "name": "stderr",
     "output_type": "stream",
     "text": [
      "\r\n",
      " 45%|█████████████████████████████████████████████████████████████████████████████████████████████████████████▊                                                                                                                                 | 9/20 [00:08<00:10,  1.05it/s]"
     ]
    },
    {
     "name": "stderr",
     "output_type": "stream",
     "text": [
      "\r\n",
      " 50%|█████████████████████████████████████████████████████████████████████████████████████████████████████████████████████                                                                                                                     | 10/20 [00:08<00:08,  1.25it/s]"
     ]
    },
    {
     "name": "stderr",
     "output_type": "stream",
     "text": [
      "\r\n",
      " 55%|████████████████████████████████████████████████████████████████████████████████████████████████████████████████████████████████▋                                                                                                         | 11/20 [00:09<00:05,  1.52it/s]"
     ]
    },
    {
     "name": "stderr",
     "output_type": "stream",
     "text": [
      "\r\n",
      " 60%|████████████████████████████████████████████████████████████████████████████████████████████████████████████████████████████████████████████▍                                                                                             | 12/20 [00:09<00:04,  1.87it/s]"
     ]
    },
    {
     "name": "stderr",
     "output_type": "stream",
     "text": [
      "\r\n",
      " 65%|████████████████████████████████████████████████████████████████████████████████████████████████████████████████████████████████████████████████████████                                                                                  | 13/20 [00:09<00:03,  2.31it/s]"
     ]
    },
    {
     "name": "stderr",
     "output_type": "stream",
     "text": [
      "\r\n",
      " 70%|███████████████████████████████████████████████████████████████████████████████████████████████████████████████████████████████████████████████████████████████████▊                                                                      | 14/20 [00:09<00:02,  2.84it/s]"
     ]
    },
    {
     "name": "stderr",
     "output_type": "stream",
     "text": [
      "\r\n",
      " 75%|███████████████████████████████████████████████████████████████████████████████████████████████████████████████████████████████████████████████████████████████████████████████▌                                                          | 15/20 [00:12<00:04,  1.01it/s]"
     ]
    },
    {
     "name": "stderr",
     "output_type": "stream",
     "text": [
      "\r\n",
      " 85%|██████████████████████████████████████████████████████████████████████████████████████████████████████████████████████████████████████████████████████████████████████████████████████████████████████▉                                   | 17/20 [00:12<00:01,  1.72it/s]"
     ]
    },
    {
     "name": "stderr",
     "output_type": "stream",
     "text": [
      "\r\n",
      " 95%|██████████████████████████████████████████████████████████████████████████████████████████████████████████████████████████████████████████████████████████████████████████████████████████████████████████████████████████████▎           | 19/20 [00:12<00:00,  2.62it/s]"
     ]
    },
    {
     "name": "stderr",
     "output_type": "stream",
     "text": [
      "\r\n",
      "100%|██████████████████████████████████████████████████████████████████████████████████████████████████████████████████████████████████████████████████████████████████████████████████████████████████████████████████████████████████████████| 20/20 [00:12<00:00,  1.61it/s]"
     ]
    },
    {
     "name": "stderr",
     "output_type": "stream",
     "text": [
      "\n"
     ]
    }
   ],
   "source": [
    "# for i in range(len(train_rad_data)):\n",
    "#failure case: 432-3 + 100\n",
    "import os\n",
    "from tqdm import tqdm\n",
    "for i in tqdm(range(len(train_data_seg))):\n",
    "# for i in tqdm(range(20)):\n",
    "    data = train_data_seg[i]\n",
    "    image_path = os.path.join(\"/data/aofei/hallucination/PathVQA/pvqa/images/train\", data[\"image_name\"])\n",
    "    query = f\"Medical image of pathology.\" + data[\"question\"]\n",
    "    bbox, segs, max_indices = [], [], []\n",
    "    # try:\n",
    "    bbox, segs, max_indices = generate_segments(query, image_path)\n",
    "    # except:\n",
    "    #     continue\n",
    "    # print(bbox)\n",
    "    data['bbox'] = bbox\n",
    "    data['mask'] = segs\n",
    "    data[\"bbox_indices\"] = max_indices\n",
    "    "
   ]
  },
  {
   "cell_type": "code",
   "execution_count": 13,
   "metadata": {
    "execution": {
     "iopub.execute_input": "2024-12-05T06:56:20.070468Z",
     "iopub.status.busy": "2024-12-05T06:56:20.070244Z",
     "iopub.status.idle": "2024-12-05T06:56:20.078420Z",
     "shell.execute_reply": "2024-12-05T06:56:20.077264Z"
    }
   },
   "outputs": [
    {
     "data": {
      "text/plain": [
       "{'qid': 100422000,\n",
       " 'image_name': 'train_0422.jpg',\n",
       " 'answer': 'in the canals of hering',\n",
       " 'answer_type': 'other',\n",
       " 'question_type': 'where',\n",
       " 'question': 'Where are liver stem cells (oval cells) located?',\n",
       " 'bbox': [[225, 102, 21, 24],\n",
       "  [188, 88, 14, 28],\n",
       "  [71, 138, 20, 23],\n",
       "  [178, 89, 45, 36],\n",
       "  [104, 80, 21, 40],\n",
       "  [96, 49, 46, 38]],\n",
       " 'mask': [array([[False, False, False, ..., False, False, False],\n",
       "         [False, False, False, ..., False, False, False],\n",
       "         [False, False, False, ..., False, False, False],\n",
       "         ...,\n",
       "         [False, False, False, ..., False, False, False],\n",
       "         [False, False, False, ..., False, False, False],\n",
       "         [False, False, False, ..., False, False, False]]),\n",
       "  array([[False, False, False, ..., False, False, False],\n",
       "         [False, False, False, ..., False, False, False],\n",
       "         [False, False, False, ..., False, False, False],\n",
       "         ...,\n",
       "         [False, False, False, ..., False, False, False],\n",
       "         [False, False, False, ..., False, False, False],\n",
       "         [False, False, False, ..., False, False, False]]),\n",
       "  array([[False, False, False, ..., False, False, False],\n",
       "         [False, False, False, ..., False, False, False],\n",
       "         [False, False, False, ..., False, False, False],\n",
       "         ...,\n",
       "         [False, False, False, ..., False, False, False],\n",
       "         [False, False, False, ..., False, False, False],\n",
       "         [False, False, False, ..., False, False, False]]),\n",
       "  array([[False, False, False, ..., False, False, False],\n",
       "         [False, False, False, ..., False, False, False],\n",
       "         [False, False, False, ..., False, False, False],\n",
       "         ...,\n",
       "         [False, False, False, ..., False, False, False],\n",
       "         [False, False, False, ..., False, False, False],\n",
       "         [False, False, False, ..., False, False, False]]),\n",
       "  array([[False, False, False, ..., False, False, False],\n",
       "         [False, False, False, ..., False, False, False],\n",
       "         [False, False, False, ..., False, False, False],\n",
       "         ...,\n",
       "         [False, False, False, ..., False, False, False],\n",
       "         [False, False, False, ..., False, False, False],\n",
       "         [False, False, False, ..., False, False, False]]),\n",
       "  array([[False, False, False, ..., False, False, False],\n",
       "         [False, False, False, ..., False, False, False],\n",
       "         [False, False, False, ..., False, False, False],\n",
       "         ...,\n",
       "         [False, False, False, ..., False, False, False],\n",
       "         [False, False, False, ..., False, False, False],\n",
       "         [False, False, False, ..., False, False, False]])],\n",
       " 'bbox_indices': [5, 2, 4, 0, 1, 3]}"
      ]
     },
     "execution_count": 13,
     "metadata": {},
     "output_type": "execute_result"
    }
   ],
   "source": [
    "train_data_seg[0]"
   ]
  },
  {
   "cell_type": "code",
   "execution_count": 14,
   "metadata": {
    "execution": {
     "iopub.execute_input": "2024-12-05T06:56:20.084243Z",
     "iopub.status.busy": "2024-12-05T06:56:20.084059Z",
     "iopub.status.idle": "2024-12-05T06:56:20.096136Z",
     "shell.execute_reply": "2024-12-05T06:56:20.094901Z"
    }
   },
   "outputs": [
    {
     "data": {
      "text/plain": [
       "19735"
      ]
     },
     "execution_count": 14,
     "metadata": {},
     "output_type": "execute_result"
    }
   ],
   "source": [
    "s = 0\n",
    "for i in train_data_seg:\n",
    "    if not i.__contains__(\"mask\"):\n",
    "        s+= 1\n",
    "s"
   ]
  },
  {
   "cell_type": "code",
   "execution_count": null,
   "metadata": {},
   "outputs": [],
   "source": []
  },
  {
   "cell_type": "code",
   "execution_count": 15,
   "metadata": {
    "execution": {
     "iopub.execute_input": "2024-12-05T06:56:20.101640Z",
     "iopub.status.busy": "2024-12-05T06:56:20.101439Z",
     "iopub.status.idle": "2024-12-05T06:56:20.108612Z",
     "shell.execute_reply": "2024-12-05T06:56:20.107671Z"
    }
   },
   "outputs": [
    {
     "data": {
      "text/plain": [
       "{'qid': 100422003,\n",
       " 'image_name': 'train_0422.jpg',\n",
       " 'answer': 'yes',\n",
       " 'answer_type': 'yes/no',\n",
       " 'question_type': 'are',\n",
       " 'question': 'Are bile duct cells and canals of Hering stained here with an immunohistochemical stain for cytokeratin 7?',\n",
       " 'bbox': [[225, 102, 21, 24],\n",
       "  [188, 88, 14, 28],\n",
       "  [71, 138, 20, 23],\n",
       "  [178, 89, 45, 36],\n",
       "  [104, 80, 21, 40],\n",
       "  [96, 49, 46, 38]],\n",
       " 'mask': [array([[False, False, False, ..., False, False, False],\n",
       "         [False, False, False, ..., False, False, False],\n",
       "         [False, False, False, ..., False, False, False],\n",
       "         ...,\n",
       "         [False, False, False, ..., False, False, False],\n",
       "         [False, False, False, ..., False, False, False],\n",
       "         [False, False, False, ..., False, False, False]]),\n",
       "  array([[False, False, False, ..., False, False, False],\n",
       "         [False, False, False, ..., False, False, False],\n",
       "         [False, False, False, ..., False, False, False],\n",
       "         ...,\n",
       "         [False, False, False, ..., False, False, False],\n",
       "         [False, False, False, ..., False, False, False],\n",
       "         [False, False, False, ..., False, False, False]]),\n",
       "  array([[False, False, False, ..., False, False, False],\n",
       "         [False, False, False, ..., False, False, False],\n",
       "         [False, False, False, ..., False, False, False],\n",
       "         ...,\n",
       "         [False, False, False, ..., False, False, False],\n",
       "         [False, False, False, ..., False, False, False],\n",
       "         [False, False, False, ..., False, False, False]]),\n",
       "  array([[False, False, False, ..., False, False, False],\n",
       "         [False, False, False, ..., False, False, False],\n",
       "         [False, False, False, ..., False, False, False],\n",
       "         ...,\n",
       "         [False, False, False, ..., False, False, False],\n",
       "         [False, False, False, ..., False, False, False],\n",
       "         [False, False, False, ..., False, False, False]]),\n",
       "  array([[False, False, False, ..., False, False, False],\n",
       "         [False, False, False, ..., False, False, False],\n",
       "         [False, False, False, ..., False, False, False],\n",
       "         ...,\n",
       "         [False, False, False, ..., False, False, False],\n",
       "         [False, False, False, ..., False, False, False],\n",
       "         [False, False, False, ..., False, False, False]]),\n",
       "  array([[False, False, False, ..., False, False, False],\n",
       "         [False, False, False, ..., False, False, False],\n",
       "         [False, False, False, ..., False, False, False],\n",
       "         ...,\n",
       "         [False, False, False, ..., False, False, False],\n",
       "         [False, False, False, ..., False, False, False],\n",
       "         [False, False, False, ..., False, False, False]])],\n",
       " 'bbox_indices': [5, 2, 4, 0, 1, 3]}"
      ]
     },
     "execution_count": 15,
     "metadata": {},
     "output_type": "execute_result"
    }
   ],
   "source": [
    "train_data_seg[3]"
   ]
  },
  {
   "cell_type": "code",
   "execution_count": null,
   "metadata": {},
   "outputs": [],
   "source": []
  },
  {
   "cell_type": "code",
   "execution_count": 16,
   "metadata": {
    "execution": {
     "iopub.execute_input": "2024-12-05T06:56:20.114420Z",
     "iopub.status.busy": "2024-12-05T06:56:20.114210Z",
     "iopub.status.idle": "2024-12-05T06:56:20.404489Z",
     "shell.execute_reply": "2024-12-05T06:56:20.403225Z"
    }
   },
   "outputs": [
    {
     "data": {
      "text/plain": [
       "{'image': 'train_2794.jpg',\n",
       " 'id': 102794002,\n",
       " 'conversations': [{'from': 'human',\n",
       "   'value': '<image>\\nIs bone nearly completely filled with tumor primary present?'},\n",
       "  {'from': 'gpt', 'value': 'no'}],\n",
       " 'bboxes': [],\n",
       " 'masks': []}"
      ]
     },
     "execution_count": 16,
     "metadata": {},
     "output_type": "execute_result"
    }
   ],
   "source": [
    "#training2\n",
    "new_train_data = []\n",
    "segments_dict = dict()\n",
    "for i in train_data_seg:\n",
    "    template = dict()\n",
    "    \n",
    "    # template['answer_type'] = i['answer_type']\n",
    "    template['image'] = i['image_name']\n",
    "    template['id'] = i['qid']\n",
    "    template['conversations'] = []\n",
    "    template['bboxes'] = []\n",
    "    template['masks'] = []\n",
    "    segments_dict[str(i['qid'])] = []\n",
    "    if i.__contains__(\"bbox\"):\n",
    "        template['bboxes'] = i[\"bbox\"]\n",
    "    if i.__contains__(\"mask\"):\n",
    "        segments_dict[str(i['qid'])] = i[\"mask\"]\n",
    "\n",
    "    # if i.__contains__(\"mask\"):\n",
    "    #     json_ready_segments = [\n",
    "    #         arr.astype(int).tolist() for arr in i[\"mask\"]\n",
    "    #     ]\n",
    "    #     template['masks'] = json_ready_segments\n",
    "    # template['text'] = i['question']\n",
    "\n",
    "    new_qa = {\"from\": \"human\", \"value\": \"<image>\\n\" + i['question']}\n",
    "    new_qa2 = {\"from\": \"gpt\", \"value\": str(i['answer'])}\n",
    "    template['conversations'] += [new_qa, new_qa2]\n",
    "    new_train_data.append(template)\n",
    "\n",
    "new_train_data[-6]"
   ]
  },
  {
   "cell_type": "code",
   "execution_count": 17,
   "metadata": {
    "execution": {
     "iopub.execute_input": "2024-12-05T06:56:20.409308Z",
     "iopub.status.busy": "2024-12-05T06:56:20.409097Z",
     "iopub.status.idle": "2024-12-05T06:56:20.640927Z",
     "shell.execute_reply": "2024-12-05T06:56:20.639574Z"
    }
   },
   "outputs": [],
   "source": [
    "new_train_data_top4 = []\n",
    "for i in new_train_data:\n",
    "    j = i.copy()\n",
    "    j[\"bboxes\"] = j[\"bboxes\"][:4]\n",
    "    new_train_data_top4.append(j)"
   ]
  },
  {
   "cell_type": "code",
   "execution_count": 18,
   "metadata": {
    "execution": {
     "iopub.execute_input": "2024-12-05T06:56:20.645626Z",
     "iopub.status.busy": "2024-12-05T06:56:20.645407Z",
     "iopub.status.idle": "2024-12-05T06:56:20.652267Z",
     "shell.execute_reply": "2024-12-05T06:56:20.650872Z"
    }
   },
   "outputs": [
    {
     "data": {
      "text/plain": [
       "{'image': 'train_0422.jpg',\n",
       " 'id': 100422003,\n",
       " 'conversations': [{'from': 'human',\n",
       "   'value': '<image>\\nAre bile duct cells and canals of Hering stained here with an immunohistochemical stain for cytokeratin 7?'},\n",
       "  {'from': 'gpt', 'value': 'yes'}],\n",
       " 'bboxes': [[225, 102, 21, 24],\n",
       "  [188, 88, 14, 28],\n",
       "  [71, 138, 20, 23],\n",
       "  [178, 89, 45, 36]],\n",
       " 'masks': []}"
      ]
     },
     "execution_count": 18,
     "metadata": {},
     "output_type": "execute_result"
    }
   ],
   "source": [
    "new_train_data_top4[3]"
   ]
  },
  {
   "cell_type": "code",
   "execution_count": 19,
   "metadata": {
    "execution": {
     "iopub.execute_input": "2024-12-05T06:56:20.657314Z",
     "iopub.status.busy": "2024-12-05T06:56:20.657119Z",
     "iopub.status.idle": "2024-12-05T06:56:20.668003Z",
     "shell.execute_reply": "2024-12-05T06:56:20.666830Z"
    }
   },
   "outputs": [
    {
     "data": {
      "text/plain": [
       "19735"
      ]
     },
     "execution_count": 19,
     "metadata": {},
     "output_type": "execute_result"
    }
   ],
   "source": [
    "# segments_dict['0']\n",
    "ed = 0\n",
    "for i in segments_dict:\n",
    "    if len(segments_dict[i]) == 0:\n",
    "        ed += 1\n",
    "ed"
   ]
  },
  {
   "cell_type": "code",
   "execution_count": 20,
   "metadata": {
    "execution": {
     "iopub.execute_input": "2024-12-05T06:56:20.673331Z",
     "iopub.status.busy": "2024-12-05T06:56:20.673149Z",
     "iopub.status.idle": "2024-12-05T06:56:21.647942Z",
     "shell.execute_reply": "2024-12-05T06:56:21.646496Z"
    }
   },
   "outputs": [],
   "source": [
    "# save the masks to npz file\n",
    "\n",
    "np.savez_compressed(\"/data/aofei/hallucination/PathVQA/pvqa/training_segments_top8.npz\", **segments_dict)"
   ]
  },
  {
   "cell_type": "code",
   "execution_count": 21,
   "metadata": {
    "execution": {
     "iopub.execute_input": "2024-12-05T06:56:21.653394Z",
     "iopub.status.busy": "2024-12-05T06:56:21.653154Z",
     "iopub.status.idle": "2024-12-05T06:56:21.659479Z",
     "shell.execute_reply": "2024-12-05T06:56:21.658294Z"
    }
   },
   "outputs": [
    {
     "data": {
      "text/plain": [
       "19755"
      ]
     },
     "execution_count": 21,
     "metadata": {},
     "output_type": "execute_result"
    }
   ],
   "source": [
    "len(new_train_data)"
   ]
  },
  {
   "cell_type": "code",
   "execution_count": 22,
   "metadata": {
    "execution": {
     "iopub.execute_input": "2024-12-05T06:56:21.664869Z",
     "iopub.status.busy": "2024-12-05T06:56:21.664638Z",
     "iopub.status.idle": "2024-12-05T06:56:21.669713Z",
     "shell.execute_reply": "2024-12-05T06:56:21.668326Z"
    }
   },
   "outputs": [],
   "source": [
    "# loaded_segments = np.load(\"/data/aofei/hallucination/Slake/data/training_segments.npz\", allow_pickle=True)  # Allow pickle to handle lists\n",
    "\n",
    "# # Access a list of segment arrays by its ID, e.g., \"id_1\"\n",
    "# segments_list_id_1 = loaded_segments[\"0\"]\n",
    "\n",
    "# # Each item in segments_list_id_1 is a 256x256 numpy array\n",
    "# for segment in segments_list_id_1:\n",
    "#     print(segment.shape)"
   ]
  },
  {
   "cell_type": "code",
   "execution_count": null,
   "metadata": {},
   "outputs": [],
   "source": []
  },
  {
   "cell_type": "code",
   "execution_count": 23,
   "metadata": {
    "execution": {
     "iopub.execute_input": "2024-12-05T06:56:21.674974Z",
     "iopub.status.busy": "2024-12-05T06:56:21.674720Z",
     "iopub.status.idle": "2024-12-05T06:56:22.038916Z",
     "shell.execute_reply": "2024-12-05T06:56:22.037264Z"
    }
   },
   "outputs": [],
   "source": [
    "with open('/data/aofei/hallucination/VQA_RAD/data/training_masks_top4.json', 'w') as json_file:\n",
    "    json.dump(new_train_data_top4, json_file, indent=4)"
   ]
  },
  {
   "cell_type": "code",
   "execution_count": 24,
   "metadata": {
    "execution": {
     "iopub.execute_input": "2024-12-05T06:56:22.044210Z",
     "iopub.status.busy": "2024-12-05T06:56:22.043983Z",
     "iopub.status.idle": "2024-12-05T06:56:22.048665Z",
     "shell.execute_reply": "2024-12-05T06:56:22.047563Z"
    }
   },
   "outputs": [],
   "source": [
    "# with open('/data/aofei/hallucination/VQA_RAD/data/training_masks_top8.json', 'w') as json_file:\n",
    "#     json.dump(new_train_data, json_file, indent=4)"
   ]
  },
  {
   "cell_type": "code",
   "execution_count": null,
   "metadata": {},
   "outputs": [],
   "source": []
  }
 ],
 "metadata": {
  "kernelspec": {
   "display_name": "medh",
   "language": "python",
   "name": "python3"
  },
  "language_info": {
   "codemirror_mode": {
    "name": "ipython",
    "version": 3
   },
   "file_extension": ".py",
   "mimetype": "text/x-python",
   "name": "python",
   "nbconvert_exporter": "python",
   "pygments_lexer": "ipython3",
   "version": "3.10.14"
  }
 },
 "nbformat": 4,
 "nbformat_minor": 2
}
