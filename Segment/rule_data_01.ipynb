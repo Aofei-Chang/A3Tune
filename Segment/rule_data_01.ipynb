{
 "cells": [
  {
   "cell_type": "code",
   "execution_count": 3,
   "metadata": {},
   "outputs": [
    {
     "data": {
      "text/plain": [
       "2573"
      ]
     },
     "execution_count": 3,
     "metadata": {},
     "output_type": "execute_result"
    }
   ],
   "source": [
    "import json\n",
    "mimic_train_path = \"/data/aofei/hallucination/RULE/training/alignment/mimic.json\"\n",
    "with open(mimic_train_path, \"r\") as f:\n",
    "    mimic_train = json.load(f)\n",
    "len(mimic_train)\n",
    "\n",
    "iuxray_train_path = \"/data/aofei/hallucination/RULE/training/alignment/iuxray.json\"\n",
    "with open(iuxray_train_path, \"r\") as f:\n",
    "    iuxray_train = json.load(f)\n",
    "len(iuxray_train)\n",
    "\n",
    "iuxray_test_path = \"/data/aofei/hallucination/RULE/test/iuxray_test.jsonl\"\n",
    "with open(iuxray_test_path, 'r') as file:\n",
    "    iuxray_test = [json.loads(line) for line in file]\n",
    "len(iuxray_test)"
   ]
  },
  {
   "cell_type": "code",
   "execution_count": 4,
   "metadata": {},
   "outputs": [
    {
     "data": {
      "text/plain": [
       "{'id': 'CXR2079_IM-0711/0.png',\n",
       " 'image': 'CXR2079_IM-0711/0.png',\n",
       " 'conversations': [{'from': 'human',\n",
       "   'value': 'You are provided with a chest X-ray image, a image-related question and 1 reference report(s): Stable cardiomediastinal silhouette. Stable XXXX opacity in the left base, XXXX scarring or atelectasis. Rounded calcified density in the left lung base, XXXX calcified granuloma. No XXXX consolidation. No pleural effusion or pneumothorax. Stable degenerative changes of the spine.\\nPlease answer the question based on the image and report and choose from the following two options: [yes, no]. It should be noted that the diagnostic information in the reference reports cannot be directly used as the basis for diagnosis, but should only be used for reference and comparison. Question: Is there any focal airspace opacity present?\\n<image>'},\n",
       "  {'from': 'gpt',\n",
       "   'value': 'The chest x-ray does not show any focal airspace opacity.'}],\n",
       " 'rejected_conversations': [{'from': 'human',\n",
       "   'value': 'You are provided with a chest X-ray image, a image-related question and 1 reference report(s): Stable cardiomediastinal silhouette. Stable XXXX opacity in the left base, XXXX scarring or atelectasis. Rounded calcified density in the left lung base, XXXX calcified granuloma. No XXXX consolidation. No pleural effusion or pneumothorax. Stable degenerative changes of the spine.\\nPlease answer the question based on the image and report and choose from the following two options: [yes, no]. It should be noted that the diagnostic information in the reference reports cannot be directly used as the basis for diagnosis, but should only be used for reference and comparison. Question: Is there any focal airspace opacity present?\\n<image>'},\n",
       "  {'from': 'gpt',\n",
       "   'value': 'Yes, there is a focal airspace opacity present in the left base of the lung.'}]}"
      ]
     },
     "execution_count": 4,
     "metadata": {},
     "output_type": "execute_result"
    }
   ],
   "source": [
    "iuxray_train[0]"
   ]
  },
  {
   "cell_type": "code",
   "execution_count": 9,
   "metadata": {},
   "outputs": [
    {
     "data": {
      "text/plain": [
       "{'conversations': [{'from': 'human',\n",
       "   'value': '<image>\\nAre there scattered calcified granulomas seen on the chest X-ray?'},\n",
       "  {'from': 'gpt',\n",
       "   'value': 'Yes, the chest X-ray shows scattered calcified granulomas.'}],\n",
       " 'image': 'CXR729_IM-2288/0.png',\n",
       " 'id': 1578}"
      ]
     },
     "execution_count": 9,
     "metadata": {},
     "output_type": "execute_result"
    }
   ],
   "source": [
    "new_iuxray_data = []\n",
    "_id = 0\n",
    "for i in iuxray_train:\n",
    "    template = dict()\n",
    "    template['conversations'] = []\n",
    "    template['image'] = i['image']\n",
    "    template['id'] = _id\n",
    "    old_conv = i['conversations']\n",
    "    query = \"<image>\\n\" + old_conv[0]['value'].split(\"Question:\")[-1].strip().replace(\"\\n<image>\", \"\")\n",
    "    ans = old_conv[1]['value']\n",
    "    new_qa = {\"from\": \"human\", \"value\": query}\n",
    "    new_qa2 = {\"from\": \"gpt\", \"value\": ans}\n",
    "    template['conversations'] += [new_qa, new_qa2]\n",
    "    new_iuxray_data.append(template)\n",
    "    _id += 1\n",
    "\n",
    "new_iuxray_data[-1]"
   ]
  },
  {
   "cell_type": "code",
   "execution_count": 10,
   "metadata": {},
   "outputs": [],
   "source": [
    "with open(r\"/data/aofei/hallucination/IU_Xray/data/training.json\", \"w\") as f:\n",
    "    json.dump(new_iuxray_data, f, indent=4)"
   ]
  },
  {
   "cell_type": "code",
   "execution_count": 5,
   "metadata": {},
   "outputs": [
    {
     "data": {
      "text/plain": [
       "{'question': 'Does the cardiomediastinal silhouette appear normal in the chest X-ray? \\n<image>',\n",
       " 'answer': 'Yes.',\n",
       " 'image': 'CXR3030_IM-1405/0.png',\n",
       " 'question_id': 1,\n",
       " 'text': 'Does the cardiomediastinal silhouette appear normal in the chest X-ray? Please choose from the following two options: [yes, no]\\n<image>',\n",
       " 'report': 'Normal cardiomediastinal silhouette. There is no focal consolidation. There are no XXXX of a large pleural effusion. There is no pneumothorax. There is no acute bony abnormality seen.'}"
      ]
     },
     "execution_count": 5,
     "metadata": {},
     "output_type": "execute_result"
    }
   ],
   "source": [
    "iuxray_test[0]"
   ]
  },
  {
   "cell_type": "code",
   "execution_count": 6,
   "metadata": {},
   "outputs": [
    {
     "data": {
      "text/plain": [
       "{'conversations': [{'from': 'human',\n",
       "   'value': '<image>\\nAre the mediastinal contours within normal limits? '},\n",
       "  {'from': 'gpt',\n",
       "   'value': 'Yes, since the report does not mention any abnormalities of the mediastinum.'}],\n",
       " 'image': 'CXR49_IM-2110/0.png',\n",
       " 'id': 2573,\n",
       " 'answer_type': 'CLOSED'}"
      ]
     },
     "execution_count": 6,
     "metadata": {},
     "output_type": "execute_result"
    }
   ],
   "source": [
    "new_iuxray_test_data = []\n",
    "\n",
    "for i in iuxray_test:\n",
    "    template = dict()\n",
    "    template['conversations'] = []\n",
    "    template['image'] = i['image']\n",
    "    template['id'] = i['question_id']\n",
    "    query = \"<image>\\n\" + i['question'].strip().replace(\"\\n<image>\", \"\")\n",
    "    ans = i['answer']\n",
    "    template[\"answer_type\"] = \"CLOSED\"\n",
    "    new_qa = {\"from\": \"human\", \"value\": query}\n",
    "    new_qa2 = {\"from\": \"gpt\", \"value\": ans}\n",
    "    template['conversations'] += [new_qa, new_qa2]\n",
    "    new_iuxray_test_data.append(template)\n",
    "\n",
    "new_iuxray_test_data[-1]"
   ]
  },
  {
   "cell_type": "code",
   "execution_count": 7,
   "metadata": {},
   "outputs": [
    {
     "data": {
      "text/plain": [
       "2573"
      ]
     },
     "execution_count": 7,
     "metadata": {},
     "output_type": "execute_result"
    }
   ],
   "source": [
    "len(new_iuxray_test_data)"
   ]
  },
  {
   "cell_type": "code",
   "execution_count": 8,
   "metadata": {},
   "outputs": [],
   "source": [
    "with open(r\"/data/aofei/hallucination/IU_Xray/data/test.json\", \"w\") as f:\n",
    "    json.dump(new_iuxray_test_data, f, indent=4)"
   ]
  },
  {
   "cell_type": "code",
   "execution_count": null,
   "metadata": {},
   "outputs": [],
   "source": []
  }
 ],
 "metadata": {
  "kernelspec": {
   "display_name": "medh",
   "language": "python",
   "name": "python3"
  },
  "language_info": {
   "codemirror_mode": {
    "name": "ipython",
    "version": 3
   },
   "file_extension": ".py",
   "mimetype": "text/x-python",
   "name": "python",
   "nbconvert_exporter": "python",
   "pygments_lexer": "ipython3",
   "version": "3.10.14"
  }
 },
 "nbformat": 4,
 "nbformat_minor": 2
}
