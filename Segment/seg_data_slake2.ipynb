{
 "cells": [
  {
   "cell_type": "code",
   "execution_count": 1,
   "metadata": {},
   "outputs": [],
   "source": [
    "import cv2\n",
    "import random\n",
    "import json\n",
    "import time\n",
    "\n",
    "import torch\n",
    "import numpy as np\n",
    "from tqdm import tqdm\n",
    "\n",
    "import clip\n",
    "from segment_anything import sam_model_registry, SamAutomaticMaskGenerator, SamPredictor\n",
    "from segment_anything.utils.transforms import ResizeLongestSide \n",
    "\n",
    "from PIL import Image  \n",
    "from torchvision import transforms\n",
    "from torchvision.transforms.functional import to_pil_image\n",
    "\n",
    "from sam_caf import hyper_params_tuning, get_crops, retrieve_relevant_crop, retrieve_relevant_crop_biomed, get_sam_prompts, sam_predicton, retrieve_relevant_crop_biomed_topk"
   ]
  },
  {
   "cell_type": "code",
   "execution_count": 2,
   "metadata": {},
   "outputs": [],
   "source": [
    "#config\n",
    "class DictToObject:\n",
    "    def __init__(self, dict_obj):\n",
    "        for key, value in dict_obj.items():\n",
    "            setattr(self, key, value)\n",
    "\n",
    "config_dict = {\n",
    "    \"model_name\" : \"SAM\",\n",
    "    \"model_type\" : \"vit_h\",\n",
    "    \"source\":    \"False\", \n",
    "    \"refine\" : \"False\",\n",
    "    \"pre_trained\": \"True\", \n",
    "    \"sam_ckpt\":  \"/data/aofei/LLM/SAM/sam_vit_h_4b8939.pth\", \n",
    "    \"clip_prompts\": \"./clip_prompts/abd_seg.json\"\n",
    "}\n",
    "\n",
    "config = DictToObject(config_dict)\n",
    "\n",
    "prompt_mode, mode = \"crops\", \"sam_clip\"\n",
    "\n",
    "def preprocess_image(image_path):\n",
    "    image = cv2.imread(image_path)\n",
    "    image = cv2.resize(image, (256, 256))\n",
    "    return image"
   ]
  },
  {
   "cell_type": "code",
   "execution_count": 3,
   "metadata": {},
   "outputs": [
    {
     "name": "stderr",
     "output_type": "stream",
     "text": [
      "/data/aofei/conda/env/medh/lib/python3.10/site-packages/transformers/utils/generic.py:441: UserWarning: torch.utils._pytree._register_pytree_node is deprecated. Please use torch.utils._pytree.register_pytree_node instead.\n",
      "  _torch_pytree._register_pytree_node(\n",
      "/data/aofei/conda/env/medh/lib/python3.10/site-packages/transformers/utils/generic.py:309: UserWarning: torch.utils._pytree._register_pytree_node is deprecated. Please use torch.utils._pytree.register_pytree_node instead.\n",
      "  _torch_pytree._register_pytree_node(\n",
      "/data/aofei/conda/env/medh/lib/python3.10/site-packages/huggingface_hub/file_download.py:1132: FutureWarning: `resume_download` is deprecated and will be removed in version 1.0.0. Downloads always resume when possible. If you want to force a new download, use `force_download=True`.\n",
      "  warnings.warn(\n",
      "/data/aofei/conda/env/medh/lib/python3.10/site-packages/transformers/utils/generic.py:309: UserWarning: torch.utils._pytree._register_pytree_node is deprecated. Please use torch.utils._pytree.register_pytree_node instead.\n",
      "  _torch_pytree._register_pytree_node(\n",
      "/data/aofei/conda/env/medh/lib/python3.10/site-packages/huggingface_hub/file_download.py:1132: FutureWarning: `resume_download` is deprecated and will be removed in version 1.0.0. Downloads always resume when possible. If you want to force a new download, use `force_download=True`.\n",
      "  warnings.warn(\n"
     ]
    }
   ],
   "source": [
    "import os\n",
    "# os.environ[\"TRANSFORMERS_CACHE\"]=\"/data/aofei/huggingface_cache/transformers\"\n",
    "os.environ[\"HF_HOME\"]=\"/data/aofei/huggingface_cache/transformers\"\n",
    "from open_clip import create_model_from_pretrained, get_tokenizer # works on open-clip-torch>=2.23.0, timm>=0.9.8\n",
    "\n",
    "biomed_clip_model, biomed_preprocess = create_model_from_pretrained('hf-hub:microsoft/BiomedCLIP-PubMedBERT_256-vit_base_patch16_224', device=\"cuda\")\n",
    "tokenizer = get_tokenizer('hf-hub:microsoft/BiomedCLIP-PubMedBERT_256-vit_base_patch16_224')\n",
    "\n",
    "clip_model, preprocess = clip.load(\"ViT-L/14\", device=\"cuda\")\n",
    "sam_checkpoint = config.sam_ckpt\n",
    "\n",
    "sam = sam_model_registry[config.model_type](checkpoint=sam_checkpoint)\n",
    "sam.to(\"cuda\")\n",
    "resize_transform = ResizeLongestSide(sam.image_encoder.img_size)\n",
    "\n",
    "dice_scores = []\n",
    "mask_generator, area = hyper_params_tuning(sam)"
   ]
  },
  {
   "cell_type": "code",
   "execution_count": 4,
   "metadata": {},
   "outputs": [],
   "source": [
    "def sam_generation(image_path):\n",
    "    image = preprocess_image(image_path=image_path)\n",
    "    with torch.no_grad():\n",
    "        # if mode == \"sam_clip\":\n",
    "        masks = mask_generator.generate(image)\n",
    "        masks = [mask for mask in masks if mask[\"area\"] < area] # area filtering based on area value from hyper-params tuning\n",
    "        img_crops = get_crops(image, masks, prompt_mode)\n",
    "        \n",
    "    return masks, img_crops\n",
    "\n",
    "def filter_sam_results(masks, img_crops):\n",
    "    new_masks, new_img_crops = [], []\n",
    "    for i in range(len(masks)):\n",
    "        mask = masks[i]\n",
    "        if mask['bbox'][0] == 0 or mask['bbox'][1] == 0:\n",
    "            continue\n",
    "        if mask['bbox'][2] <= 12 or mask['bbox'][3] <= 12:\n",
    "            continue\n",
    "        y_max, x_max = mask['bbox'][1] + mask['bbox'][3], mask['bbox'][0] + mask['bbox'][2]\n",
    "        if y_max > 253 or x_max > 253:\n",
    "            continue\n",
    "        new_masks.append(mask)\n",
    "        new_img_crops.append(img_crops[i])\n",
    "    return new_masks, new_img_crops\n",
    "\n",
    "def get_topk_similar(k, crop_scores):\n",
    "    sorted_scores = sorted([(i, m) for (i,m) in enumerate(crop_scores)], key=lambda x: x[1], reverse=True)\n",
    "    return sorted_scores[:k]\n",
    "\n",
    "def get_compelete_contour(masks):\n",
    "    width_list = []\n",
    "    # need to consider the chest xray\n",
    "    for i in masks:\n",
    "        width, height = i['bbox'][2], i['bbox'][3]\n",
    "        width_list.append(width)\n",
    "    sorted_width = sorted([(i, m) for (i,m) in  enumerate(width_list)], key=lambda x: x[1], reverse=True)\n",
    "    return sorted_width[0][1]\n",
    "\n",
    "def judge_inner_boxes(bboxes):\n",
    "    for bbox in bboxes:\n",
    "        bbox"
   ]
  },
  {
   "cell_type": "code",
   "execution_count": 5,
   "metadata": {},
   "outputs": [],
   "source": [
    "masks_image_dict = dict()\n",
    "masks_all_image_dict = dict()\n",
    "crops_image_dict = dict()\n",
    "def generate_segments(query, image_path):\n",
    "    if masks_image_dict.__contains__(image_path):\n",
    "        masks = masks_image_dict[image_path]\n",
    "        img_crops = crops_image_dict[image_path]\n",
    "    else:\n",
    "        masks, img_crops = sam_generation(image_path=image_path)\n",
    "        masks, img_crops = filter_sam_results(masks, img_crops)\n",
    "        masks_image_dict[image_path] = masks\n",
    "        crops_image_dict[image_path] = img_crops\n",
    "    img_crops_filtered = img_crops\n",
    "    prompts = {\"query\": [query]}\n",
    "    max_indices, scores = retrieve_relevant_crop_biomed_topk(img_crops, prompts, biomed_clip_model, biomed_preprocess, config, tokenizer=tokenizer, topk=8)\n",
    "    # topk_indices = get_topk_similar(3, scores[\"query\"])\n",
    "    # define a set of rules, firstly return top3\n",
    "    # if there is no explicit organs to be used as query, then just use the whole segmentation\n",
    "    # if the smaller boxes are in the bigger box, then use all of them but assign higher weights on smaller inner boxes\n",
    "    bboxes = []\n",
    "    segs = []\n",
    "    # print(max_indices)\n",
    "    for i in max_indices[\"query\"]:\n",
    "        bboxes.append(masks[i][\"bbox\"])\n",
    "        segs.append(masks[i][\"segmentation\"])\n",
    "    return bboxes, segs, max_indices[\"query\"]\n",
    "\n",
    "\n",
    "def generate_all_segments(image_path):\n",
    "    if masks_all_image_dict.__contains__(image_path):\n",
    "        masks = masks_all_image_dict[image_path]\n",
    "    else:\n",
    "        masks, img_crops = sam_generation(image_path=image_path)\n",
    "        masks, img_crops = filter_sam_results(masks, img_crops)\n",
    "        masks_all_image_dict[image_path] = masks\n",
    "    return masks"
   ]
  },
  {
   "cell_type": "code",
   "execution_count": null,
   "metadata": {},
   "outputs": [
    {
     "data": {
      "text/plain": [
       "2094"
      ]
     },
     "execution_count": 7,
     "metadata": {},
     "output_type": "execute_result"
    }
   ],
   "source": [
    "# Preprocessing for Slake\n",
    "import json\n",
    "# with open(r\"/data/aofei/hallucination/Slake/data/training_contours.json\", \"r\") as f:\n",
    "#     train_data = json.load(f)\n",
    "# len(train_data)\n",
    "\n",
    "with open(r\"/data/aofei/hallucination/Slake/train.json\", \"r\") as f:\n",
    "    all_train_data = json.load(f)\n",
    "len(all_train_data)\n",
    "\n",
    "with open(r\"/data/aofei/hallucination/Slake/data/test.json\", \"r\") as f:\n",
    "    test_data = json.load(f)\n",
    "len(test_data)\n",
    "\n",
    "with open(r\"/data/aofei/hallucination/Slake/test.json\", \"r\") as f:\n",
    "    all_test_data = json.load(f)\n",
    "len(all_test_data)"
   ]
  },
  {
   "cell_type": "code",
   "execution_count": 8,
   "metadata": {},
   "outputs": [
    {
     "data": {
      "text/plain": [
       "{'img_id': 1,\n",
       " 'img_name': 'xmlab1/source.jpg',\n",
       " 'question': 'What modality is used to take this image?',\n",
       " 'answer': 'MRI',\n",
       " 'q_lang': 'en',\n",
       " 'location': 'Abdomen',\n",
       " 'modality': 'MRI',\n",
       " 'answer_type': 'OPEN',\n",
       " 'base_type': 'vqa',\n",
       " 'content_type': 'Modality',\n",
       " 'triple': ['vhead', '_', '_'],\n",
       " 'qid': 0}"
      ]
     },
     "execution_count": 8,
     "metadata": {},
     "output_type": "execute_result"
    }
   ],
   "source": [
    "all_train_data[0]"
   ]
  },
  {
   "cell_type": "code",
   "execution_count": 9,
   "metadata": {},
   "outputs": [
    {
     "data": {
      "text/plain": [
       "4919"
      ]
     },
     "execution_count": 9,
     "metadata": {},
     "output_type": "execute_result"
    }
   ],
   "source": [
    "all_train_data_en = [i for i in all_train_data if i['q_lang']==\"en\"]\n",
    "len(all_train_data_en)"
   ]
  },
  {
   "cell_type": "code",
   "execution_count": 10,
   "metadata": {},
   "outputs": [
    {
     "data": {
      "text/plain": [
       "4919"
      ]
     },
     "execution_count": 10,
     "metadata": {},
     "output_type": "execute_result"
    }
   ],
   "source": [
    "import copy\n",
    "train_data_seg = copy.deepcopy(all_train_data_en)\n",
    "len(train_data_seg)"
   ]
  },
  {
   "cell_type": "code",
   "execution_count": 16,
   "metadata": {},
   "outputs": [
    {
     "data": {
      "text/plain": [
       "450"
      ]
     },
     "execution_count": 16,
     "metadata": {},
     "output_type": "execute_result"
    }
   ],
   "source": [
    "len(set([i['img_name'] for i in train_data_seg]))"
   ]
  },
  {
   "cell_type": "code",
   "execution_count": null,
   "metadata": {},
   "outputs": [
    {
     "data": {
      "text/plain": [
       "450"
      ]
     },
     "execution_count": 19,
     "metadata": {},
     "output_type": "execute_result"
    }
   ],
   "source": [
    "# len(set([i['img_name'] for i in train_data]))"
   ]
  },
  {
   "cell_type": "code",
   "execution_count": 14,
   "metadata": {},
   "outputs": [
    {
     "name": "stderr",
     "output_type": "stream",
     "text": [
      "  1%|▏         | 73/4919 [00:20<41:19,  1.95it/s]"
     ]
    },
    {
     "name": "stdout",
     "output_type": "stream",
     "text": [
      "Skipping zero-sized bounding box.\n",
      "Skipping zero-sized bounding box.\n",
      "Skipping zero-sized bounding box.\n",
      "Skipping zero-sized bounding box.\n"
     ]
    },
    {
     "name": "stderr",
     "output_type": "stream",
     "text": [
      "  2%|▏         | 75/4919 [00:26<1:27:25,  1.08s/it]"
     ]
    },
    {
     "name": "stdout",
     "output_type": "stream",
     "text": [
      "Skipping zero-sized bounding box.\n",
      "Skipping zero-sized bounding box.\n"
     ]
    },
    {
     "name": "stderr",
     "output_type": "stream",
     "text": [
      "  2%|▏         | 76/4919 [00:28<1:47:44,  1.33s/it]"
     ]
    },
    {
     "name": "stdout",
     "output_type": "stream",
     "text": [
      "Skipping zero-sized bounding box.\n",
      "Skipping zero-sized bounding box.\n"
     ]
    },
    {
     "name": "stderr",
     "output_type": "stream",
     "text": [
      "  2%|▏         | 77/4919 [00:31<2:07:45,  1.58s/it]"
     ]
    },
    {
     "name": "stdout",
     "output_type": "stream",
     "text": [
      "Skipping zero-sized bounding box.\n",
      "Skipping zero-sized bounding box.\n"
     ]
    },
    {
     "name": "stderr",
     "output_type": "stream",
     "text": [
      "  2%|▏         | 78/4919 [00:34<2:26:09,  1.81s/it]"
     ]
    },
    {
     "name": "stdout",
     "output_type": "stream",
     "text": [
      "Skipping zero-sized bounding box.\n",
      "Skipping zero-sized bounding box.\n"
     ]
    },
    {
     "name": "stderr",
     "output_type": "stream",
     "text": [
      "  2%|▏         | 79/4919 [00:36<2:42:14,  2.01s/it]"
     ]
    },
    {
     "name": "stdout",
     "output_type": "stream",
     "text": [
      "Skipping zero-sized bounding box.\n",
      "Skipping zero-sized bounding box.\n"
     ]
    },
    {
     "name": "stderr",
     "output_type": "stream",
     "text": [
      "  2%|▏         | 80/4919 [00:39<2:55:36,  2.18s/it]"
     ]
    },
    {
     "name": "stdout",
     "output_type": "stream",
     "text": [
      "Skipping zero-sized bounding box.\n",
      "Skipping zero-sized bounding box.\n"
     ]
    },
    {
     "name": "stderr",
     "output_type": "stream",
     "text": [
      "  2%|▏         | 81/4919 [00:42<3:06:12,  2.31s/it]"
     ]
    },
    {
     "name": "stdout",
     "output_type": "stream",
     "text": [
      "Skipping zero-sized bounding box.\n",
      "Skipping zero-sized bounding box.\n"
     ]
    },
    {
     "name": "stderr",
     "output_type": "stream",
     "text": [
      "  2%|▏         | 82/4919 [00:44<3:14:26,  2.41s/it]"
     ]
    },
    {
     "name": "stdout",
     "output_type": "stream",
     "text": [
      "Skipping zero-sized bounding box.\n",
      "Skipping zero-sized bounding box.\n"
     ]
    },
    {
     "name": "stderr",
     "output_type": "stream",
     "text": [
      "  2%|▏         | 83/4919 [00:47<3:20:40,  2.49s/it]"
     ]
    },
    {
     "name": "stdout",
     "output_type": "stream",
     "text": [
      "Skipping zero-sized bounding box.\n",
      "Skipping zero-sized bounding box.\n"
     ]
    },
    {
     "name": "stderr",
     "output_type": "stream",
     "text": [
      " 22%|██▏       | 1084/4919 [06:34<32:14,  1.98it/s]  "
     ]
    },
    {
     "name": "stdout",
     "output_type": "stream",
     "text": [
      "Skipping zero-sized bounding box.\n"
     ]
    },
    {
     "name": "stderr",
     "output_type": "stream",
     "text": [
      " 22%|██▏       | 1085/4919 [06:37<57:02,  1.12it/s]"
     ]
    },
    {
     "name": "stdout",
     "output_type": "stream",
     "text": [
      "Skipping zero-sized bounding box.\n"
     ]
    },
    {
     "name": "stderr",
     "output_type": "stream",
     "text": [
      " 22%|██▏       | 1086/4919 [06:39<1:20:36,  1.26s/it]"
     ]
    },
    {
     "name": "stdout",
     "output_type": "stream",
     "text": [
      "Skipping zero-sized bounding box.\n"
     ]
    },
    {
     "name": "stderr",
     "output_type": "stream",
     "text": [
      " 22%|██▏       | 1087/4919 [06:42<1:41:10,  1.58s/it]"
     ]
    },
    {
     "name": "stdout",
     "output_type": "stream",
     "text": [
      "Skipping zero-sized bounding box.\n"
     ]
    },
    {
     "name": "stderr",
     "output_type": "stream",
     "text": [
      " 22%|██▏       | 1088/4919 [06:45<1:58:33,  1.86s/it]"
     ]
    },
    {
     "name": "stdout",
     "output_type": "stream",
     "text": [
      "Skipping zero-sized bounding box.\n"
     ]
    },
    {
     "name": "stderr",
     "output_type": "stream",
     "text": [
      " 22%|██▏       | 1089/4919 [06:48<2:12:26,  2.07s/it]"
     ]
    },
    {
     "name": "stdout",
     "output_type": "stream",
     "text": [
      "Skipping zero-sized bounding box.\n"
     ]
    },
    {
     "name": "stderr",
     "output_type": "stream",
     "text": [
      " 22%|██▏       | 1090/4919 [06:50<2:23:13,  2.24s/it]"
     ]
    },
    {
     "name": "stdout",
     "output_type": "stream",
     "text": [
      "Skipping zero-sized bounding box.\n"
     ]
    },
    {
     "name": "stderr",
     "output_type": "stream",
     "text": [
      " 22%|██▏       | 1091/4919 [06:53<2:31:27,  2.37s/it]"
     ]
    },
    {
     "name": "stdout",
     "output_type": "stream",
     "text": [
      "Skipping zero-sized bounding box.\n"
     ]
    },
    {
     "name": "stderr",
     "output_type": "stream",
     "text": [
      " 22%|██▏       | 1092/4919 [06:56<2:37:27,  2.47s/it]"
     ]
    },
    {
     "name": "stdout",
     "output_type": "stream",
     "text": [
      "Skipping zero-sized bounding box.\n"
     ]
    },
    {
     "name": "stderr",
     "output_type": "stream",
     "text": [
      " 22%|██▏       | 1093/4919 [06:58<2:41:46,  2.54s/it]"
     ]
    },
    {
     "name": "stdout",
     "output_type": "stream",
     "text": [
      "Skipping zero-sized bounding box.\n"
     ]
    },
    {
     "name": "stderr",
     "output_type": "stream",
     "text": [
      " 22%|██▏       | 1094/4919 [07:01<2:45:09,  2.59s/it]"
     ]
    },
    {
     "name": "stdout",
     "output_type": "stream",
     "text": [
      "Skipping zero-sized bounding box.\n"
     ]
    },
    {
     "name": "stderr",
     "output_type": "stream",
     "text": [
      " 22%|██▏       | 1095/4919 [07:04<2:48:03,  2.64s/it]"
     ]
    },
    {
     "name": "stdout",
     "output_type": "stream",
     "text": [
      "Skipping zero-sized bounding box.\n"
     ]
    },
    {
     "name": "stderr",
     "output_type": "stream",
     "text": [
      " 22%|██▏       | 1096/4919 [07:07<2:49:46,  2.66s/it]"
     ]
    },
    {
     "name": "stdout",
     "output_type": "stream",
     "text": [
      "Skipping zero-sized bounding box.\n"
     ]
    },
    {
     "name": "stderr",
     "output_type": "stream",
     "text": [
      " 22%|██▏       | 1097/4919 [07:09<2:50:39,  2.68s/it]"
     ]
    },
    {
     "name": "stdout",
     "output_type": "stream",
     "text": [
      "Skipping zero-sized bounding box.\n"
     ]
    },
    {
     "name": "stderr",
     "output_type": "stream",
     "text": [
      " 22%|██▏       | 1098/4919 [07:12<2:52:17,  2.71s/it]"
     ]
    },
    {
     "name": "stdout",
     "output_type": "stream",
     "text": [
      "Skipping zero-sized bounding box.\n"
     ]
    },
    {
     "name": "stderr",
     "output_type": "stream",
     "text": [
      " 22%|██▏       | 1099/4919 [07:15<2:52:15,  2.71s/it]"
     ]
    },
    {
     "name": "stdout",
     "output_type": "stream",
     "text": [
      "Skipping zero-sized bounding box.\n"
     ]
    },
    {
     "name": "stderr",
     "output_type": "stream",
     "text": [
      " 39%|███▉      | 1911/4919 [10:54<05:55,  8.47it/s]  "
     ]
    },
    {
     "name": "stdout",
     "output_type": "stream",
     "text": [
      "Skipping zero-sized bounding box.\n"
     ]
    },
    {
     "name": "stderr",
     "output_type": "stream",
     "text": [
      " 39%|███▉      | 1914/4919 [10:59<33:17,  1.50it/s]"
     ]
    },
    {
     "name": "stdout",
     "output_type": "stream",
     "text": [
      "Skipping zero-sized bounding box.\n",
      "Skipping zero-sized bounding box.\n"
     ]
    },
    {
     "name": "stderr",
     "output_type": "stream",
     "text": [
      " 39%|███▉      | 1916/4919 [11:05<57:21,  1.15s/it]"
     ]
    },
    {
     "name": "stdout",
     "output_type": "stream",
     "text": [
      "Skipping zero-sized bounding box.\n",
      "Skipping zero-sized bounding box.\n"
     ]
    },
    {
     "name": "stderr",
     "output_type": "stream",
     "text": [
      " 39%|███▉      | 1918/4919 [11:10<1:17:17,  1.55s/it]"
     ]
    },
    {
     "name": "stdout",
     "output_type": "stream",
     "text": [
      "Skipping zero-sized bounding box.\n"
     ]
    },
    {
     "name": "stderr",
     "output_type": "stream",
     "text": [
      " 39%|███▉      | 1919/4919 [11:13<1:26:20,  1.73s/it]"
     ]
    },
    {
     "name": "stdout",
     "output_type": "stream",
     "text": [
      "Skipping zero-sized bounding box.\n"
     ]
    },
    {
     "name": "stderr",
     "output_type": "stream",
     "text": [
      " 39%|███▉      | 1920/4919 [11:16<1:35:24,  1.91s/it]"
     ]
    },
    {
     "name": "stdout",
     "output_type": "stream",
     "text": [
      "Skipping zero-sized bounding box.\n"
     ]
    },
    {
     "name": "stderr",
     "output_type": "stream",
     "text": [
      " 39%|███▉      | 1921/4919 [11:19<1:43:48,  2.08s/it]"
     ]
    },
    {
     "name": "stdout",
     "output_type": "stream",
     "text": [
      "Skipping zero-sized bounding box.\n"
     ]
    },
    {
     "name": "stderr",
     "output_type": "stream",
     "text": [
      " 39%|███▉      | 1922/4919 [11:21<1:51:15,  2.23s/it]"
     ]
    },
    {
     "name": "stdout",
     "output_type": "stream",
     "text": [
      "Skipping zero-sized bounding box.\n"
     ]
    },
    {
     "name": "stderr",
     "output_type": "stream",
     "text": [
      " 39%|███▉      | 1923/4919 [11:24<1:58:08,  2.37s/it]"
     ]
    },
    {
     "name": "stdout",
     "output_type": "stream",
     "text": [
      "Skipping zero-sized bounding box.\n"
     ]
    },
    {
     "name": "stderr",
     "output_type": "stream",
     "text": [
      " 39%|███▉      | 1924/4919 [11:27<2:02:48,  2.46s/it]"
     ]
    },
    {
     "name": "stdout",
     "output_type": "stream",
     "text": [
      "Skipping zero-sized bounding box.\n"
     ]
    },
    {
     "name": "stderr",
     "output_type": "stream",
     "text": [
      " 39%|███▉      | 1925/4919 [11:30<2:06:30,  2.54s/it]"
     ]
    },
    {
     "name": "stdout",
     "output_type": "stream",
     "text": [
      "Skipping zero-sized bounding box.\n"
     ]
    },
    {
     "name": "stderr",
     "output_type": "stream",
     "text": [
      " 39%|███▉      | 1926/4919 [11:32<2:09:20,  2.59s/it]"
     ]
    },
    {
     "name": "stdout",
     "output_type": "stream",
     "text": [
      "Skipping zero-sized bounding box.\n"
     ]
    },
    {
     "name": "stderr",
     "output_type": "stream",
     "text": [
      " 39%|███▉      | 1927/4919 [11:35<2:11:56,  2.65s/it]"
     ]
    },
    {
     "name": "stdout",
     "output_type": "stream",
     "text": [
      "Skipping zero-sized bounding box.\n"
     ]
    },
    {
     "name": "stderr",
     "output_type": "stream",
     "text": [
      " 57%|█████▋    | 2810/4919 [15:14<11:11,  3.14it/s]  "
     ]
    },
    {
     "name": "stdout",
     "output_type": "stream",
     "text": [
      "Skipping zero-sized bounding box.\n"
     ]
    },
    {
     "name": "stderr",
     "output_type": "stream",
     "text": [
      " 58%|█████▊    | 2840/4919 [15:21<09:20,  3.71it/s]"
     ]
    },
    {
     "name": "stdout",
     "output_type": "stream",
     "text": [
      "Skipping zero-sized bounding box.\n"
     ]
    },
    {
     "name": "stderr",
     "output_type": "stream",
     "text": [
      " 58%|█████▊    | 2855/4919 [15:24<11:49,  2.91it/s]"
     ]
    },
    {
     "name": "stdout",
     "output_type": "stream",
     "text": [
      "Skipping zero-sized bounding box.\n"
     ]
    },
    {
     "name": "stderr",
     "output_type": "stream",
     "text": [
      " 58%|█████▊    | 2870/4919 [15:28<12:17,  2.78it/s]"
     ]
    },
    {
     "name": "stdout",
     "output_type": "stream",
     "text": [
      "Skipping zero-sized bounding box.\n"
     ]
    },
    {
     "name": "stderr",
     "output_type": "stream",
     "text": [
      " 59%|█████▊    | 2885/4919 [15:31<12:12,  2.78it/s]"
     ]
    },
    {
     "name": "stdout",
     "output_type": "stream",
     "text": [
      "Skipping zero-sized bounding box.\n",
      "Skipping zero-sized bounding box.\n"
     ]
    },
    {
     "name": "stderr",
     "output_type": "stream",
     "text": [
      " 59%|█████▊    | 2887/4919 [15:36<29:41,  1.14it/s]"
     ]
    },
    {
     "name": "stdout",
     "output_type": "stream",
     "text": [
      "Skipping zero-sized bounding box.\n",
      "Skipping zero-sized bounding box.\n"
     ]
    },
    {
     "name": "stderr",
     "output_type": "stream",
     "text": [
      " 59%|█████▊    | 2889/4919 [15:42<44:23,  1.31s/it]"
     ]
    },
    {
     "name": "stdout",
     "output_type": "stream",
     "text": [
      "Skipping zero-sized bounding box.\n"
     ]
    },
    {
     "name": "stderr",
     "output_type": "stream",
     "text": [
      " 59%|█████▉    | 2890/4919 [15:44<51:11,  1.51s/it]"
     ]
    },
    {
     "name": "stdout",
     "output_type": "stream",
     "text": [
      "Skipping zero-sized bounding box.\n"
     ]
    },
    {
     "name": "stderr",
     "output_type": "stream",
     "text": [
      " 59%|█████▉    | 2891/4919 [15:47<58:03,  1.72s/it]"
     ]
    },
    {
     "name": "stdout",
     "output_type": "stream",
     "text": [
      "Skipping zero-sized bounding box.\n"
     ]
    },
    {
     "name": "stderr",
     "output_type": "stream",
     "text": [
      " 59%|█████▉    | 2892/4919 [15:50<1:04:30,  1.91s/it]"
     ]
    },
    {
     "name": "stdout",
     "output_type": "stream",
     "text": [
      "Skipping zero-sized bounding box.\n"
     ]
    },
    {
     "name": "stderr",
     "output_type": "stream",
     "text": [
      " 59%|█████▉    | 2893/4919 [15:52<1:10:15,  2.08s/it]"
     ]
    },
    {
     "name": "stdout",
     "output_type": "stream",
     "text": [
      "Skipping zero-sized bounding box.\n"
     ]
    },
    {
     "name": "stderr",
     "output_type": "stream",
     "text": [
      " 59%|█████▉    | 2894/4919 [15:55<1:15:06,  2.23s/it]"
     ]
    },
    {
     "name": "stdout",
     "output_type": "stream",
     "text": [
      "Skipping zero-sized bounding box.\n"
     ]
    },
    {
     "name": "stderr",
     "output_type": "stream",
     "text": [
      " 59%|█████▉    | 2895/4919 [15:58<1:19:03,  2.34s/it]"
     ]
    },
    {
     "name": "stdout",
     "output_type": "stream",
     "text": [
      "Skipping zero-sized bounding box.\n"
     ]
    },
    {
     "name": "stderr",
     "output_type": "stream",
     "text": [
      " 59%|█████▉    | 2896/4919 [16:00<1:22:29,  2.45s/it]"
     ]
    },
    {
     "name": "stdout",
     "output_type": "stream",
     "text": [
      "Skipping zero-sized bounding box.\n"
     ]
    },
    {
     "name": "stderr",
     "output_type": "stream",
     "text": [
      " 59%|█████▉    | 2897/4919 [16:03<1:24:37,  2.51s/it]"
     ]
    },
    {
     "name": "stdout",
     "output_type": "stream",
     "text": [
      "Skipping zero-sized bounding box.\n"
     ]
    },
    {
     "name": "stderr",
     "output_type": "stream",
     "text": [
      " 59%|█████▉    | 2898/4919 [16:06<1:26:10,  2.56s/it]"
     ]
    },
    {
     "name": "stdout",
     "output_type": "stream",
     "text": [
      "Skipping zero-sized bounding box.\n"
     ]
    },
    {
     "name": "stderr",
     "output_type": "stream",
     "text": [
      " 59%|█████▉    | 2899/4919 [16:09<1:27:23,  2.60s/it]"
     ]
    },
    {
     "name": "stdout",
     "output_type": "stream",
     "text": [
      "Skipping zero-sized bounding box.\n"
     ]
    },
    {
     "name": "stderr",
     "output_type": "stream",
     "text": [
      " 59%|█████▉    | 2903/4919 [16:11<40:23,  1.20s/it]  "
     ]
    },
    {
     "name": "stdout",
     "output_type": "stream",
     "text": [
      "Skipping zero-sized bounding box.\n"
     ]
    },
    {
     "name": "stderr",
     "output_type": "stream",
     "text": [
      " 59%|█████▉    | 2925/4919 [16:18<16:37,  2.00it/s]"
     ]
    },
    {
     "name": "stdout",
     "output_type": "stream",
     "text": [
      "Skipping zero-sized bounding box.\n",
      "Skipping zero-sized bounding box.\n"
     ]
    },
    {
     "name": "stderr",
     "output_type": "stream",
     "text": [
      " 60%|█████▉    | 2927/4919 [16:23<36:03,  1.09s/it]"
     ]
    },
    {
     "name": "stdout",
     "output_type": "stream",
     "text": [
      "Skipping zero-sized bounding box.\n"
     ]
    },
    {
     "name": "stderr",
     "output_type": "stream",
     "text": [
      " 60%|█████▉    | 2928/4919 [16:26<44:34,  1.34s/it]"
     ]
    },
    {
     "name": "stdout",
     "output_type": "stream",
     "text": [
      "Skipping zero-sized bounding box.\n"
     ]
    },
    {
     "name": "stderr",
     "output_type": "stream",
     "text": [
      " 60%|█████▉    | 2929/4919 [16:29<52:53,  1.59s/it]"
     ]
    },
    {
     "name": "stdout",
     "output_type": "stream",
     "text": [
      "Skipping zero-sized bounding box.\n"
     ]
    },
    {
     "name": "stderr",
     "output_type": "stream",
     "text": [
      " 60%|█████▉    | 2930/4919 [16:31<1:00:31,  1.83s/it]"
     ]
    },
    {
     "name": "stdout",
     "output_type": "stream",
     "text": [
      "Skipping zero-sized bounding box.\n"
     ]
    },
    {
     "name": "stderr",
     "output_type": "stream",
     "text": [
      " 60%|█████▉    | 2931/4919 [16:34<1:07:06,  2.03s/it]"
     ]
    },
    {
     "name": "stdout",
     "output_type": "stream",
     "text": [
      "Skipping zero-sized bounding box.\n"
     ]
    },
    {
     "name": "stderr",
     "output_type": "stream",
     "text": [
      " 60%|█████▉    | 2932/4919 [16:37<1:12:31,  2.19s/it]"
     ]
    },
    {
     "name": "stdout",
     "output_type": "stream",
     "text": [
      "Skipping zero-sized bounding box.\n"
     ]
    },
    {
     "name": "stderr",
     "output_type": "stream",
     "text": [
      " 60%|█████▉    | 2933/4919 [16:39<1:16:49,  2.32s/it]"
     ]
    },
    {
     "name": "stdout",
     "output_type": "stream",
     "text": [
      "Skipping zero-sized bounding box.\n"
     ]
    },
    {
     "name": "stderr",
     "output_type": "stream",
     "text": [
      " 60%|█████▉    | 2934/4919 [16:42<1:20:06,  2.42s/it]"
     ]
    },
    {
     "name": "stdout",
     "output_type": "stream",
     "text": [
      "Skipping zero-sized bounding box.\n"
     ]
    },
    {
     "name": "stderr",
     "output_type": "stream",
     "text": [
      " 60%|█████▉    | 2935/4919 [16:45<1:22:31,  2.50s/it]"
     ]
    },
    {
     "name": "stdout",
     "output_type": "stream",
     "text": [
      "Skipping zero-sized bounding box.\n"
     ]
    },
    {
     "name": "stderr",
     "output_type": "stream",
     "text": [
      " 60%|█████▉    | 2936/4919 [16:47<1:24:18,  2.55s/it]"
     ]
    },
    {
     "name": "stdout",
     "output_type": "stream",
     "text": [
      "Skipping zero-sized bounding box.\n"
     ]
    },
    {
     "name": "stderr",
     "output_type": "stream",
     "text": [
      " 60%|█████▉    | 2937/4919 [16:50<1:25:30,  2.59s/it]"
     ]
    },
    {
     "name": "stdout",
     "output_type": "stream",
     "text": [
      "Skipping zero-sized bounding box.\n"
     ]
    },
    {
     "name": "stderr",
     "output_type": "stream",
     "text": [
      " 60%|█████▉    | 2938/4919 [16:53<1:26:48,  2.63s/it]"
     ]
    },
    {
     "name": "stdout",
     "output_type": "stream",
     "text": [
      "Skipping zero-sized bounding box.\n"
     ]
    },
    {
     "name": "stderr",
     "output_type": "stream",
     "text": [
      " 60%|█████▉    | 2939/4919 [16:55<1:27:20,  2.65s/it]"
     ]
    },
    {
     "name": "stdout",
     "output_type": "stream",
     "text": [
      "Skipping zero-sized bounding box.\n"
     ]
    },
    {
     "name": "stderr",
     "output_type": "stream",
     "text": [
      " 60%|██████    | 2970/4919 [17:05<14:01,  2.32it/s]  "
     ]
    },
    {
     "name": "stdout",
     "output_type": "stream",
     "text": [
      "Skipping zero-sized bounding box.\n"
     ]
    },
    {
     "name": "stderr",
     "output_type": "stream",
     "text": [
      " 91%|█████████▏| 4492/4919 [25:14<01:06,  6.43it/s]"
     ]
    },
    {
     "name": "stdout",
     "output_type": "stream",
     "text": [
      "Skipping zero-sized bounding box.\n"
     ]
    },
    {
     "name": "stderr",
     "output_type": "stream",
     "text": [
      " 91%|█████████▏| 4494/4919 [25:19<06:32,  1.08it/s]"
     ]
    },
    {
     "name": "stdout",
     "output_type": "stream",
     "text": [
      "Skipping zero-sized bounding box.\n"
     ]
    },
    {
     "name": "stderr",
     "output_type": "stream",
     "text": [
      " 91%|█████████▏| 4495/4919 [25:22<08:45,  1.24s/it]"
     ]
    },
    {
     "name": "stdout",
     "output_type": "stream",
     "text": [
      "Skipping zero-sized bounding box.\n"
     ]
    },
    {
     "name": "stderr",
     "output_type": "stream",
     "text": [
      " 91%|█████████▏| 4496/4919 [25:25<10:49,  1.54s/it]"
     ]
    },
    {
     "name": "stdout",
     "output_type": "stream",
     "text": [
      "Skipping zero-sized bounding box.\n"
     ]
    },
    {
     "name": "stderr",
     "output_type": "stream",
     "text": [
      " 91%|█████████▏| 4497/4919 [25:27<12:39,  1.80s/it]"
     ]
    },
    {
     "name": "stdout",
     "output_type": "stream",
     "text": [
      "Skipping zero-sized bounding box.\n"
     ]
    },
    {
     "name": "stderr",
     "output_type": "stream",
     "text": [
      " 91%|█████████▏| 4498/4919 [25:30<14:10,  2.02s/it]"
     ]
    },
    {
     "name": "stdout",
     "output_type": "stream",
     "text": [
      "Skipping zero-sized bounding box.\n"
     ]
    },
    {
     "name": "stderr",
     "output_type": "stream",
     "text": [
      " 91%|█████████▏| 4499/4919 [25:33<15:23,  2.20s/it]"
     ]
    },
    {
     "name": "stdout",
     "output_type": "stream",
     "text": [
      "Skipping zero-sized bounding box.\n"
     ]
    },
    {
     "name": "stderr",
     "output_type": "stream",
     "text": [
      " 91%|█████████▏| 4500/4919 [25:36<16:19,  2.34s/it]"
     ]
    },
    {
     "name": "stdout",
     "output_type": "stream",
     "text": [
      "Skipping zero-sized bounding box.\n"
     ]
    },
    {
     "name": "stderr",
     "output_type": "stream",
     "text": [
      " 92%|█████████▏| 4501/4919 [25:38<17:00,  2.44s/it]"
     ]
    },
    {
     "name": "stdout",
     "output_type": "stream",
     "text": [
      "Skipping zero-sized bounding box.\n"
     ]
    },
    {
     "name": "stderr",
     "output_type": "stream",
     "text": [
      " 98%|█████████▊| 4826/4919 [27:50<00:13,  6.88it/s]"
     ]
    },
    {
     "name": "stdout",
     "output_type": "stream",
     "text": [
      "Skipping zero-sized bounding box.\n"
     ]
    },
    {
     "name": "stderr",
     "output_type": "stream",
     "text": [
      " 98%|█████████▊| 4828/4919 [27:56<01:23,  1.09it/s]"
     ]
    },
    {
     "name": "stdout",
     "output_type": "stream",
     "text": [
      "Skipping zero-sized bounding box.\n",
      "Skipping zero-sized bounding box.\n"
     ]
    },
    {
     "name": "stderr",
     "output_type": "stream",
     "text": [
      " 98%|█████████▊| 4830/4919 [28:01<02:09,  1.45s/it]"
     ]
    },
    {
     "name": "stdout",
     "output_type": "stream",
     "text": [
      "Skipping zero-sized bounding box.\n"
     ]
    },
    {
     "name": "stderr",
     "output_type": "stream",
     "text": [
      " 98%|█████████▊| 4831/4919 [28:04<02:27,  1.67s/it]"
     ]
    },
    {
     "name": "stdout",
     "output_type": "stream",
     "text": [
      "Skipping zero-sized bounding box.\n"
     ]
    },
    {
     "name": "stderr",
     "output_type": "stream",
     "text": [
      " 98%|█████████▊| 4832/4919 [28:07<02:43,  1.88s/it]"
     ]
    },
    {
     "name": "stdout",
     "output_type": "stream",
     "text": [
      "Skipping zero-sized bounding box.\n"
     ]
    },
    {
     "name": "stderr",
     "output_type": "stream",
     "text": [
      " 98%|█████████▊| 4833/4919 [28:09<02:57,  2.07s/it]"
     ]
    },
    {
     "name": "stdout",
     "output_type": "stream",
     "text": [
      "Skipping zero-sized bounding box.\n"
     ]
    },
    {
     "name": "stderr",
     "output_type": "stream",
     "text": [
      " 98%|█████████▊| 4834/4919 [28:12<03:08,  2.22s/it]"
     ]
    },
    {
     "name": "stdout",
     "output_type": "stream",
     "text": [
      "Skipping zero-sized bounding box.\n"
     ]
    },
    {
     "name": "stderr",
     "output_type": "stream",
     "text": [
      " 98%|█████████▊| 4835/4919 [28:15<03:17,  2.35s/it]"
     ]
    },
    {
     "name": "stdout",
     "output_type": "stream",
     "text": [
      "Skipping zero-sized bounding box.\n"
     ]
    },
    {
     "name": "stderr",
     "output_type": "stream",
     "text": [
      " 99%|█████████▊| 4856/4919 [28:24<00:26,  2.35it/s]"
     ]
    },
    {
     "name": "stdout",
     "output_type": "stream",
     "text": [
      "Skipping zero-sized bounding box.\n"
     ]
    },
    {
     "name": "stderr",
     "output_type": "stream",
     "text": [
      "100%|██████████| 4919/4919 [28:45<00:00,  2.85it/s]\n"
     ]
    }
   ],
   "source": [
    "# for i in range(len(train_rad_data)):\n",
    "#failure case: 432-3 + 100\n",
    "from tqdm import tqdm\n",
    "for i in tqdm(range(len(train_data_seg))):\n",
    "# for i in tqdm(range(20)):\n",
    "    data = train_data_seg[i]\n",
    "    image_path = os.path.join(\"/data/aofei/hallucination/Slake/imgs\", data[\"img_name\"])\n",
    "    if \"chest\" in data['location'].lower():\n",
    "        # query = f\"Medical image of {data['image_organ']} and lungs. \" + data[\"question\"]\n",
    "        # query = f\"{data['location']}\"\n",
    "        query = f\"Medical image of {data['location']} and lungs. \" + data[\"question\"]\n",
    "    elif \"abd\" in data['location'].lower():\n",
    "        query = f\"Medical imgaing of abdomen.\" + data[\"question\"]\n",
    "        # query = f\"Medical imgaing of abdomen.\"\n",
    "    else:\n",
    "        # query = f\"Medical image of {data['image_organ']}. \" + data[\"question\"]\n",
    "        query = f\"Medical image of {data['location']}.\" + data[\"question\"]\n",
    "    bbox, segs, max_indices = [], [], []\n",
    "    try:\n",
    "        bbox, segs, max_indices = generate_segments(query, image_path)\n",
    "    except:\n",
    "        continue\n",
    "    # print(bbox)\n",
    "    data['bbox'] = bbox\n",
    "    data['mask'] = segs\n",
    "    data[\"bbox_indices\"] = max_indices\n",
    "    "
   ]
  },
  {
   "cell_type": "code",
   "execution_count": 15,
   "metadata": {},
   "outputs": [
    {
     "data": {
      "text/plain": [
       "{'img_id': 99,\n",
       " 'img_name': 'xmlab99/source.jpg',\n",
       " 'question': 'Is the lung healthy?',\n",
       " 'answer': 'Yes',\n",
       " 'q_lang': 'en',\n",
       " 'location': 'Lung',\n",
       " 'modality': 'CT',\n",
       " 'answer_type': 'CLOSED',\n",
       " 'base_type': 'vqa',\n",
       " 'triple': ['vhead', '_', '_'],\n",
       " 'qid': 4918,\n",
       " 'content_type': 'Abnormality',\n",
       " 'bbox': [[5, 58, 244, 183],\n",
       "  [28, 80, 89, 132],\n",
       "  [169, 78, 53, 59],\n",
       "  [147, 140, 77, 72],\n",
       "  [97, 173, 51, 56],\n",
       "  [40, 118, 47, 77],\n",
       "  [28, 78, 198, 135],\n",
       "  [40, 78, 149, 151]],\n",
       " 'mask': [array([[False, False, False, ..., False, False, False],\n",
       "         [False, False, False, ..., False, False, False],\n",
       "         [False, False, False, ..., False, False, False],\n",
       "         ...,\n",
       "         [False, False, False, ..., False, False, False],\n",
       "         [False, False, False, ..., False, False, False],\n",
       "         [False, False, False, ..., False, False, False]]),\n",
       "  array([[False, False, False, ..., False, False, False],\n",
       "         [False, False, False, ..., False, False, False],\n",
       "         [False, False, False, ..., False, False, False],\n",
       "         ...,\n",
       "         [False, False, False, ..., False, False, False],\n",
       "         [False, False, False, ..., False, False, False],\n",
       "         [False, False, False, ..., False, False, False]]),\n",
       "  array([[False, False, False, ..., False, False, False],\n",
       "         [False, False, False, ..., False, False, False],\n",
       "         [False, False, False, ..., False, False, False],\n",
       "         ...,\n",
       "         [False, False, False, ..., False, False, False],\n",
       "         [False, False, False, ..., False, False, False],\n",
       "         [False, False, False, ..., False, False, False]]),\n",
       "  array([[False, False, False, ..., False, False, False],\n",
       "         [False, False, False, ..., False, False, False],\n",
       "         [False, False, False, ..., False, False, False],\n",
       "         ...,\n",
       "         [False, False, False, ..., False, False, False],\n",
       "         [False, False, False, ..., False, False, False],\n",
       "         [False, False, False, ..., False, False, False]]),\n",
       "  array([[False, False, False, ..., False, False, False],\n",
       "         [False, False, False, ..., False, False, False],\n",
       "         [False, False, False, ..., False, False, False],\n",
       "         ...,\n",
       "         [False, False, False, ..., False, False, False],\n",
       "         [False, False, False, ..., False, False, False],\n",
       "         [False, False, False, ..., False, False, False]]),\n",
       "  array([[False, False, False, ..., False, False, False],\n",
       "         [False, False, False, ..., False, False, False],\n",
       "         [False, False, False, ..., False, False, False],\n",
       "         ...,\n",
       "         [False, False, False, ..., False, False, False],\n",
       "         [False, False, False, ..., False, False, False],\n",
       "         [False, False, False, ..., False, False, False]]),\n",
       "  array([[False, False, False, ..., False, False, False],\n",
       "         [False, False, False, ..., False, False, False],\n",
       "         [False, False, False, ..., False, False, False],\n",
       "         ...,\n",
       "         [False, False, False, ..., False, False, False],\n",
       "         [False, False, False, ..., False, False, False],\n",
       "         [False, False, False, ..., False, False, False]]),\n",
       "  array([[False, False, False, ..., False, False, False],\n",
       "         [False, False, False, ..., False, False, False],\n",
       "         [False, False, False, ..., False, False, False],\n",
       "         ...,\n",
       "         [False, False, False, ..., False, False, False],\n",
       "         [False, False, False, ..., False, False, False],\n",
       "         [False, False, False, ..., False, False, False]])],\n",
       " 'bbox_indices': [3, 8, 2, 0, 5, 1, 10, 11]}"
      ]
     },
     "execution_count": 15,
     "metadata": {},
     "output_type": "execute_result"
    }
   ],
   "source": [
    "train_data_seg[-1]"
   ]
  },
  {
   "cell_type": "code",
   "execution_count": null,
   "metadata": {},
   "outputs": [],
   "source": [
    "import os\n",
    "import cv2\n",
    "import matplotlib.pyplot as plt\n",
    "\n",
    "output_folder = \"/data/aofei/hallucination/Slake/imgs_masks\"\n",
    "os.makedirs(output_folder, exist_ok=True)\n",
    "\n",
    "for data in tqdm(train_data):\n",
    "    image_path = os.path.join(\"/data/aofei/hallucination/Slake/imgs\", data[\"img_name\"])\n",
    "    output_path = os.path.join(output_folder, data[\"img_name\"])\n",
    "    \n",
    "    if os.path.exists(output_path):\n",
    "        continue\n",
    "    \n",
    "    masks = generate_all_segments(image_path=image_path)\n",
    "    \n",
    "    image = preprocess_image(image_path=image_path)\n",
    "    image_with_contours = image.copy()\n",
    "    \n",
    "    for mask in masks:\n",
    "        segmentation = mask['segmentation'].astype(np.uint8)\n",
    "        contours, _ = cv2.findContours(segmentation, cv2.RETR_EXTERNAL, cv2.CHAIN_APPROX_SIMPLE)\n",
    "        cv2.drawContours(image_with_contours, contours, -1, (0, 0, 255), 1)\n",
    "    \n",
    "    # Ensure the output directory exists\n",
    "    os.makedirs(os.path.dirname(output_path), exist_ok=True)\n",
    "    \n",
    "    # Save the image with contours\n",
    "    success = cv2.imwrite(output_path, image_with_contours)\n",
    "    if not success:\n",
    "        print(f\"Failed to save image: {output_path}\")\n",
    "    \n",
    "    # Visualize the image with contours before saving\n",
    "    # plt.figure(figsize=(6, 6))\n",
    "    # plt.imshow(cv2.cvtColor(image_with_contours, cv2.COLOR_BGR2RGB))\n",
    "    # plt.axis('off')\n",
    "    # plt.show()\n",
    "    \n",
    "    print(f\"Saved image with contours: {output_path}\")\n",
    "\n",
    "    "
   ]
  },
  {
   "cell_type": "code",
   "execution_count": null,
   "metadata": {},
   "outputs": [],
   "source": [
    "masks_all_image_dict"
   ]
  },
  {
   "cell_type": "code",
   "execution_count": null,
   "metadata": {},
   "outputs": [],
   "source": [
    "np.sum(train_data[0]['mask'][2]) / (256*256)"
   ]
  },
  {
   "cell_type": "code",
   "execution_count": 16,
   "metadata": {},
   "outputs": [
    {
     "data": {
      "text/plain": [
       "90"
      ]
     },
     "execution_count": 16,
     "metadata": {},
     "output_type": "execute_result"
    }
   ],
   "source": [
    "s = 0\n",
    "for i in train_data_seg:\n",
    "    if not i.__contains__(\"mask\"):\n",
    "        s+= 1\n",
    "s"
   ]
  },
  {
   "cell_type": "code",
   "execution_count": 17,
   "metadata": {},
   "outputs": [
    {
     "data": {
      "text/plain": [
       "{'image': 'xmlab99/source.jpg',\n",
       " 'id': 4918,\n",
       " 'conversations': [{'from': 'human', 'value': '<image>\\nIs the lung healthy?'},\n",
       "  {'from': 'gpt', 'value': 'Yes'}],\n",
       " 'bboxes': [[5, 58, 244, 183],\n",
       "  [28, 80, 89, 132],\n",
       "  [169, 78, 53, 59],\n",
       "  [147, 140, 77, 72],\n",
       "  [97, 173, 51, 56],\n",
       "  [40, 118, 47, 77],\n",
       "  [28, 78, 198, 135],\n",
       "  [40, 78, 149, 151]],\n",
       " 'masks': []}"
      ]
     },
     "execution_count": 17,
     "metadata": {},
     "output_type": "execute_result"
    }
   ],
   "source": [
    "#training2\n",
    "new_train_data = []\n",
    "segments_dict = dict()\n",
    "for i in train_data_seg:\n",
    "    if i['q_lang'] != \"en\":\n",
    "        continue\n",
    "    template = dict()\n",
    "    \n",
    "    # template['answer_type'] = i['answer_type']\n",
    "    template['image'] = i['img_name']\n",
    "    template['id'] = i['qid']\n",
    "    template['conversations'] = []\n",
    "    template['bboxes'] = []\n",
    "    template['masks'] = []\n",
    "    segments_dict[str(i['qid'])] = []\n",
    "    if i.__contains__(\"bbox\"):\n",
    "        template['bboxes'] = i[\"bbox\"]\n",
    "    if i.__contains__(\"mask\"):\n",
    "        segments_dict[str(i['qid'])] = i[\"mask\"]\n",
    "\n",
    "    # if i.__contains__(\"mask\"):\n",
    "    #     json_ready_segments = [\n",
    "    #         arr.astype(int).tolist() for arr in i[\"mask\"]\n",
    "    #     ]\n",
    "    #     template['masks'] = json_ready_segments\n",
    "    # template['text'] = i['question']\n",
    "\n",
    "    new_qa = {\"from\": \"human\", \"value\": \"<image>\\n\" + i['question']}\n",
    "    new_qa2 = {\"from\": \"gpt\", \"value\": str(i['answer'])}\n",
    "    template['conversations'] += [new_qa, new_qa2]\n",
    "    new_train_data.append(template)\n",
    "\n",
    "new_train_data[-1]"
   ]
  },
  {
   "cell_type": "code",
   "execution_count": 18,
   "metadata": {},
   "outputs": [
    {
     "data": {
      "text/plain": [
       "90"
      ]
     },
     "execution_count": 18,
     "metadata": {},
     "output_type": "execute_result"
    }
   ],
   "source": [
    "# segments_dict['0']\n",
    "ed = 0\n",
    "for i in segments_dict:\n",
    "    if len(segments_dict[i]) == 0:\n",
    "        ed += 1\n",
    "ed"
   ]
  },
  {
   "cell_type": "code",
   "execution_count": 19,
   "metadata": {},
   "outputs": [],
   "source": [
    "# save the masks to npz file\n",
    "\n",
    "np.savez_compressed(\"/data/aofei/hallucination/Slake/data/training_segments_top8.npz\", **segments_dict)"
   ]
  },
  {
   "cell_type": "code",
   "execution_count": 20,
   "metadata": {},
   "outputs": [
    {
     "data": {
      "text/plain": [
       "4919"
      ]
     },
     "execution_count": 20,
     "metadata": {},
     "output_type": "execute_result"
    }
   ],
   "source": [
    "len(new_train_data)"
   ]
  },
  {
   "cell_type": "code",
   "execution_count": null,
   "metadata": {},
   "outputs": [],
   "source": [
    "loaded_segments = np.load(\"/data/aofei/hallucination/Slake/data/training_segments.npz\", allow_pickle=True)  # Allow pickle to handle lists\n",
    "\n",
    "# Access a list of segment arrays by its ID, e.g., \"id_1\"\n",
    "segments_list_id_1 = loaded_segments[\"0\"]\n",
    "\n",
    "# Each item in segments_list_id_1 is a 256x256 numpy array\n",
    "for segment in segments_list_id_1:\n",
    "    print(segment.shape)"
   ]
  },
  {
   "cell_type": "code",
   "execution_count": null,
   "metadata": {},
   "outputs": [],
   "source": []
  },
  {
   "cell_type": "code",
   "execution_count": null,
   "metadata": {},
   "outputs": [],
   "source": []
  },
  {
   "cell_type": "code",
   "execution_count": 21,
   "metadata": {},
   "outputs": [],
   "source": [
    "with open('/data/aofei/hallucination/Slake/data/training_masks_top8.json', 'w') as json_file:\n",
    "    json.dump(new_train_data, json_file, indent=4)"
   ]
  },
  {
   "cell_type": "code",
   "execution_count": null,
   "metadata": {},
   "outputs": [],
   "source": [
    "with open(r\"/data/aofei/hallucination/Slake/test.json\", \"r\") as f:\n",
    "    test_data = json.load(f)\n",
    "len(test_data)\n",
    "\n",
    "#training2\n",
    "new_test_data = []\n",
    "for i in test_data:\n",
    "    if i['q_lang'] != \"en\":\n",
    "        continue\n",
    "    template = dict()\n",
    "    \n",
    "    # template['answer_type'] = i['answer_type']\n",
    "    template['image'] = i['img_name']\n",
    "    template['id'] = i['qid']\n",
    "    template['answer_type'] = i['answer_type']\n",
    "    template['conversations'] = []\n",
    "\n",
    "    new_qa = {\"from\": \"human\", \"value\": \"<image>\\n\" + i['question']}\n",
    "    new_qa2 = {\"from\": \"gpt\", \"value\": str(i['answer'])}\n",
    "    template['conversations'] += [new_qa, new_qa2]\n",
    "    new_test_data.append(template)"
   ]
  },
  {
   "cell_type": "code",
   "execution_count": null,
   "metadata": {},
   "outputs": [],
   "source": [
    "print(len(test_data))\n",
    "with open('/data/aofei/hallucination/Slake/data/test.json', 'w') as json_file:\n",
    "    json.dump(new_test_data, json_file, indent=4)"
   ]
  },
  {
   "cell_type": "code",
   "execution_count": 22,
   "metadata": {},
   "outputs": [],
   "source": [
    "import json\n",
    "with open(r\"/data/aofei/hallucination/Slake/data/training_masks_top8.json\", \"r\") as f:\n",
    "    seg_train_data = json.load(f)\n",
    "len(seg_train_data)\n",
    "seg_train_dict = dict()\n",
    "for i in seg_train_data:\n",
    "    seg_train_dict[i['id']] = i"
   ]
  },
  {
   "cell_type": "code",
   "execution_count": 23,
   "metadata": {},
   "outputs": [
    {
     "data": {
      "text/plain": [
       "9835"
      ]
     },
     "execution_count": 23,
     "metadata": {},
     "output_type": "execute_result"
    }
   ],
   "source": [
    "with open(r\"/data/aofei/hallucination/Slake/train.json\", \"r\") as f:\n",
    "    train_data = json.load(f)\n",
    "len(train_data)"
   ]
  },
  {
   "cell_type": "code",
   "execution_count": 24,
   "metadata": {},
   "outputs": [
    {
     "data": {
      "text/plain": [
       "{'img_id': 1,\n",
       " 'img_name': 'xmlab1/source.jpg',\n",
       " 'question': 'Which part of the body does this image belong to?',\n",
       " 'answer': 'Abdomen',\n",
       " 'q_lang': 'en',\n",
       " 'location': 'Abdomen',\n",
       " 'modality': 'MRI',\n",
       " 'answer_type': 'OPEN',\n",
       " 'base_type': 'vqa',\n",
       " 'content_type': 'Position',\n",
       " 'triple': ['vhead', '_', '_'],\n",
       " 'qid': 1}"
      ]
     },
     "execution_count": 24,
     "metadata": {},
     "output_type": "execute_result"
    }
   ],
   "source": [
    "train_data[1]"
   ]
  },
  {
   "cell_type": "code",
   "execution_count": 25,
   "metadata": {},
   "outputs": [],
   "source": [
    "num_dict = dict()\n",
    "ids_dict = dict()\n",
    "for i in train_data:\n",
    "    organ = i['location']\n",
    "    id = i['qid']\n",
    "    if num_dict.__contains__(organ):\n",
    "        num_dict[organ] += 1\n",
    "    else:\n",
    "        num_dict[organ] = 1\n",
    "    \n",
    "    if ids_dict.__contains__(organ):\n",
    "        ids_dict[organ].append(id)\n",
    "    else:\n",
    "        ids_dict[organ] = [id]"
   ]
  },
  {
   "cell_type": "code",
   "execution_count": 26,
   "metadata": {},
   "outputs": [
    {
     "data": {
      "text/plain": [
       "{'Abdomen': 3041,\n",
       " 'Lung': 3406,\n",
       " 'Chest_heart': 187,\n",
       " 'Chest_lung': 283,\n",
       " 'Brain_Tissue': 1394,\n",
       " 'Brain_Face': 250,\n",
       " 'Brain': 543,\n",
       " 'Neck': 264,\n",
       " 'Chest_mediastinal': 33,\n",
       " 'Pelvic Cavity': 434}"
      ]
     },
     "execution_count": 26,
     "metadata": {},
     "output_type": "execute_result"
    }
   ],
   "source": [
    "num_dict"
   ]
  },
  {
   "cell_type": "code",
   "execution_count": 27,
   "metadata": {},
   "outputs": [],
   "source": [
    "train_data_lungs = []\n",
    "for _id in ids_dict['Lung']:\n",
    "    if seg_train_dict.__contains__(_id):\n",
    "        train_data_lungs.append(seg_train_dict[_id])"
   ]
  },
  {
   "cell_type": "code",
   "execution_count": 28,
   "metadata": {},
   "outputs": [
    {
     "data": {
      "text/plain": [
       "1710"
      ]
     },
     "execution_count": 28,
     "metadata": {},
     "output_type": "execute_result"
    }
   ],
   "source": [
    "len(train_data_lungs)"
   ]
  },
  {
   "cell_type": "code",
   "execution_count": 29,
   "metadata": {},
   "outputs": [],
   "source": [
    "with open('/data/aofei/hallucination/Slake/data/training_masks_top8_lung.json', 'w') as json_file:\n",
    "    json.dump(train_data_lungs, json_file, indent=4)"
   ]
  },
  {
   "cell_type": "code",
   "execution_count": 30,
   "metadata": {},
   "outputs": [],
   "source": [
    "train_data_lungs = []\n",
    "for _id in ids_dict['Abdomen']:\n",
    "    if seg_train_dict.__contains__(_id):\n",
    "        train_data_lungs.append(seg_train_dict[_id])\n",
    "with open('/data/aofei/hallucination/Slake/data/training_masks_top8_abd.json', 'w') as json_file:\n",
    "    json.dump(train_data_lungs, json_file, indent=4)"
   ]
  },
  {
   "cell_type": "code",
   "execution_count": null,
   "metadata": {},
   "outputs": [],
   "source": [
    "train_data[0]"
   ]
  },
  {
   "cell_type": "code",
   "execution_count": null,
   "metadata": {},
   "outputs": [],
   "source": [
    "visualize_with_indices(image_name='xmlab1/source.jpg', indices_list=[3,0,2,1], fig_width=5)"
   ]
  },
  {
   "cell_type": "code",
   "execution_count": null,
   "metadata": {},
   "outputs": [],
   "source": [
    "for i in train_rad_data[-20:-10]:\n",
    "    image_name = i['image_name']\n",
    "    indices_list = i['bbox_indices']\n",
    "    visualize_with_indices(image_name=image_name, indices_list=indices_list)"
   ]
  },
  {
   "cell_type": "code",
   "execution_count": null,
   "metadata": {},
   "outputs": [],
   "source": [
    "# visualize_with_indices(image_name='synpic28602.jpg', indices_list=[3, 8, 9], fig_width=5)"
   ]
  },
  {
   "cell_type": "code",
   "execution_count": null,
   "metadata": {},
   "outputs": [],
   "source": []
  },
  {
   "cell_type": "code",
   "execution_count": null,
   "metadata": {},
   "outputs": [],
   "source": [
    "import cv2\n",
    "import numpy as np\n",
    "import matplotlib.pyplot as plt\n",
    "\n",
    "def visualize_with_indices(image_name, indices_list:list = None, indices:tuple = None, width_threshold=260, fig_width=6):\n",
    "    image_path = os.path.join(\"/data/aofei/hallucination/Slake/imgs\", image_name)\n",
    "    masks = masks_image_dict[image_path]\n",
    "    image = cv2.imread(image_path)\n",
    "    image = cv2.resize(image, (256, 256))\n",
    "    image_rgb = cv2.cvtColor(image, cv2.COLOR_BGR2RGB)\n",
    "    image_with_boxes = image_rgb.copy()\n",
    "\n",
    "    # Create an empty mask with the same size as the image\n",
    "    combined_mask = np.zeros_like(image_rgb, dtype=np.uint8)\n",
    "\n",
    "    # Loop over all segmentation results\n",
    "    selected_masks = []\n",
    "    if indices is not None:\n",
    "        selected_masks = masks[indices[0]:indices[1]]\n",
    "    elif indices_list is not None:\n",
    "        for i in indices_list:\n",
    "            selected_masks.append(masks[i])\n",
    "\n",
    "    for seg in selected_masks:\n",
    "        # Unpack bbox (bounding box)\n",
    "        x, y, w, h = seg['bbox']\n",
    "        if w >= width_threshold:\n",
    "            continue\n",
    "\n",
    "        # Draw the bounding box (in red)\n",
    "        cv2.rectangle(image_with_boxes, (x, y), (x + w, y + h), (255, 0, 0), 1)\n",
    "\n",
    "        # Extract and resize the segmentation mask\n",
    "        mask = seg['segmentation'].astype(np.uint8)\n",
    "        mask = cv2.resize(mask, (image_rgb.shape[1], image_rgb.shape[0]))  # Resize to fit the image\n",
    "\n",
    "        # Add mask to combined mask (use a different color for each mask if desired)\n",
    "        color_mask = np.zeros_like(image_rgb)\n",
    "        color_mask[mask == 1] = [0, 255, 0]  # Green mask for the segment\n",
    "        combined_mask = np.maximum(combined_mask, color_mask)\n",
    "\n",
    "    # Blend the original image with the combined mask once\n",
    "    alpha = 0.5  # Transparency factor\n",
    "    image_with_masks = cv2.addWeighted(image_with_boxes, 1 - alpha, combined_mask, alpha, 0)\n",
    "\n",
    "    # Display the image with bounding boxes and masks\n",
    "    plt.figure(figsize=(fig_width, fig_width))\n",
    "    plt.imshow(image_with_masks)\n",
    "    plt.axis('off')  # Turn off axis for clean visualization\n",
    "    plt.show()"
   ]
  },
  {
   "cell_type": "code",
   "execution_count": null,
   "metadata": {},
   "outputs": [],
   "source": []
  }
 ],
 "metadata": {
  "kernelspec": {
   "display_name": "medh",
   "language": "python",
   "name": "python3"
  },
  "language_info": {
   "codemirror_mode": {
    "name": "ipython",
    "version": 3
   },
   "file_extension": ".py",
   "mimetype": "text/x-python",
   "name": "python",
   "nbconvert_exporter": "python",
   "pygments_lexer": "ipython3",
   "version": "3.10.14"
  }
 },
 "nbformat": 4,
 "nbformat_minor": 2
}
