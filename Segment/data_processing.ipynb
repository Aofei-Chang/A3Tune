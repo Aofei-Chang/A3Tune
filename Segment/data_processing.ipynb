{
 "cells": [
  {
   "cell_type": "code",
   "execution_count": 1,
   "metadata": {},
   "outputs": [],
   "source": [
    "import json"
   ]
  },
  {
   "cell_type": "code",
   "execution_count": 2,
   "metadata": {},
   "outputs": [
    {
     "data": {
      "text/plain": [
       "1506"
      ]
     },
     "execution_count": 2,
     "metadata": {},
     "output_type": "execute_result"
    }
   ],
   "source": [
    "with open(r\"/data/aofei/hallucination/Slake/data/training_gt_bboxes_abd.json\", \"r\") as f:\n",
    "    gt_abd_data = json.load(f)\n",
    "len(gt_abd_data)\n",
    "\n",
    "with open(r\"/data/aofei/hallucination/Slake/data/training_masks_abd.json\", \"r\") as f:\n",
    "    mask_abd_data = json.load(f)\n",
    "len(mask_abd_data)\n"
   ]
  },
  {
   "cell_type": "code",
   "execution_count": 3,
   "metadata": {},
   "outputs": [
    {
     "data": {
      "text/plain": [
       "({'image': 'xmlab20/source.jpg',\n",
       "  'id': 687,\n",
       "  'location': 'Abdomen',\n",
       "  'conversations': [{'from': 'human',\n",
       "    'value': '<image>\\nWhich is bigger, liver or spleen?'},\n",
       "   {'from': 'gpt', 'value': 'Liver'}],\n",
       "  'bboxes': [[55.0, 127.0, 96.0, 82.0], [193.0, 173.0, 63.0, 49.0]],\n",
       "  'bboxes_dict': {'liver': [55.0, 127.0, 96.0, 82.0],\n",
       "   'spleen': [193.0, 173.0, 63.0, 49.0]}},\n",
       " {'image': 'xmlab20/source.jpg',\n",
       "  'id': 687,\n",
       "  'conversations': [{'from': 'human',\n",
       "    'value': '<image>\\nWhich is bigger, liver or spleen?'},\n",
       "   {'from': 'gpt', 'value': 'Liver'}],\n",
       "  'bboxes': [[33, 51, 185, 152],\n",
       "   [44, 56, 166, 119],\n",
       "   [44, 73, 80, 94],\n",
       "   [44, 92, 77, 74]],\n",
       "  'masks': []})"
      ]
     },
     "execution_count": 3,
     "metadata": {},
     "output_type": "execute_result"
    }
   ],
   "source": [
    "gt_abd_data[90], mask_abd_data[90]"
   ]
  },
  {
   "cell_type": "code",
   "execution_count": 4,
   "metadata": {},
   "outputs": [],
   "source": [
    "from copy import deepcopy\n",
    "mixed_abd_data = deepcopy(mask_abd_data)"
   ]
  },
  {
   "cell_type": "code",
   "execution_count": 5,
   "metadata": {},
   "outputs": [],
   "source": [
    "max_gt_bbox = 0\n",
    "for i in range(len(gt_abd_data)):\n",
    "    mixed_abd_data[i]['gt_data'] = False\n",
    "    mixed_abd_data[i]['bboxes_dict'] = None\n",
    "    if len(gt_abd_data[i]['bboxes']) > 0:\n",
    "        mixed_abd_data[i]['bboxes'] = gt_abd_data[i]['bboxes']\n",
    "        mixed_abd_data[i]['bboxes_dict'] = gt_abd_data[i]['bboxes_dict']\n",
    "        mixed_abd_data[i]['gt_data'] = True\n",
    "        max_gt_bbox = max(len(gt_abd_data[i]['bboxes']), max_gt_bbox)"
   ]
  },
  {
   "cell_type": "code",
   "execution_count": 6,
   "metadata": {},
   "outputs": [
    {
     "data": {
      "text/plain": [
       "5"
      ]
     },
     "execution_count": 6,
     "metadata": {},
     "output_type": "execute_result"
    }
   ],
   "source": [
    "max_gt_bbox"
   ]
  },
  {
   "cell_type": "code",
   "execution_count": 7,
   "metadata": {},
   "outputs": [
    {
     "data": {
      "text/plain": [
       "{'image': 'xmlab20/source.jpg',\n",
       " 'id': 687,\n",
       " 'conversations': [{'from': 'human',\n",
       "   'value': '<image>\\nWhich is bigger, liver or spleen?'},\n",
       "  {'from': 'gpt', 'value': 'Liver'}],\n",
       " 'bboxes': [[55.0, 127.0, 96.0, 82.0], [193.0, 173.0, 63.0, 49.0]],\n",
       " 'masks': [],\n",
       " 'gt_data': True,\n",
       " 'bboxes_dict': {'liver': [55.0, 127.0, 96.0, 82.0],\n",
       "  'spleen': [193.0, 173.0, 63.0, 49.0]}}"
      ]
     },
     "execution_count": 7,
     "metadata": {},
     "output_type": "execute_result"
    }
   ],
   "source": [
    "mixed_abd_data[90]"
   ]
  },
  {
   "cell_type": "code",
   "execution_count": 8,
   "metadata": {},
   "outputs": [
    {
     "data": {
      "text/plain": [
       "0.21713147410358566"
      ]
     },
     "execution_count": 8,
     "metadata": {},
     "output_type": "execute_result"
    }
   ],
   "source": [
    "s=0\n",
    "for i in mixed_abd_data:\n",
    "    if i['gt_data']:\n",
    "        s += 1\n",
    "s / len(mixed_abd_data)"
   ]
  },
  {
   "cell_type": "code",
   "execution_count": 9,
   "metadata": {},
   "outputs": [],
   "source": [
    "with open(r\"/data/aofei/hallucination/Slake/data/training_mixed_abd.json\", \"w\") as f:\n",
    "    json.dump(mixed_abd_data, f, indent=4)"
   ]
  },
  {
   "cell_type": "code",
   "execution_count": null,
   "metadata": {},
   "outputs": [],
   "source": []
  }
 ],
 "metadata": {
  "kernelspec": {
   "display_name": "medh",
   "language": "python",
   "name": "python3"
  },
  "language_info": {
   "codemirror_mode": {
    "name": "ipython",
    "version": 3
   },
   "file_extension": ".py",
   "mimetype": "text/x-python",
   "name": "python",
   "nbconvert_exporter": "python",
   "pygments_lexer": "ipython3",
   "version": "3.10.14"
  }
 },
 "nbformat": 4,
 "nbformat_minor": 2
}
