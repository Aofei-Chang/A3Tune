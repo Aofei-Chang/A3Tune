{
 "cells": [
  {
   "cell_type": "code",
   "execution_count": 1,
   "metadata": {},
   "outputs": [],
   "source": [
    "# Generate the data for slake, with the bbox annotations in slake\n",
    "import json\n",
    "ori_train_file = \"/data/aofei/hallucination/Slake/train.json\"\n",
    "final_train_file = \"/data/aofei/hallucination/Slake/data/training_gt_bbox.json\""
   ]
  },
  {
   "cell_type": "code",
   "execution_count": 2,
   "metadata": {},
   "outputs": [
    {
     "data": {
      "text/plain": [
       "9835"
      ]
     },
     "execution_count": 2,
     "metadata": {},
     "output_type": "execute_result"
    }
   ],
   "source": [
    "with open(r\"/data/aofei/hallucination/Slake/train.json\", \"r\") as f:\n",
    "    train_data = json.load(f)\n",
    "len(train_data)"
   ]
  },
  {
   "cell_type": "code",
   "execution_count": 3,
   "metadata": {},
   "outputs": [
    {
     "data": {
      "text/plain": [
       "4919"
      ]
     },
     "execution_count": 3,
     "metadata": {},
     "output_type": "execute_result"
    }
   ],
   "source": [
    "train_data_en = []\n",
    "for i in train_data:\n",
    "    if i['q_lang'] == \"en\":\n",
    "        train_data_en.append(i)\n",
    "len(train_data_en)"
   ]
  },
  {
   "cell_type": "code",
   "execution_count": 4,
   "metadata": {},
   "outputs": [
    {
     "data": {
      "text/plain": [
       "{'img_id': 1,\n",
       " 'img_name': 'xmlab1/source.jpg',\n",
       " 'question': 'What modality is used to take this image?',\n",
       " 'answer': 'MRI',\n",
       " 'q_lang': 'en',\n",
       " 'location': 'Abdomen',\n",
       " 'modality': 'MRI',\n",
       " 'answer_type': 'OPEN',\n",
       " 'base_type': 'vqa',\n",
       " 'content_type': 'Modality',\n",
       " 'triple': ['vhead', '_', '_'],\n",
       " 'qid': 0}"
      ]
     },
     "execution_count": 4,
     "metadata": {},
     "output_type": "execute_result"
    }
   ],
   "source": [
    "train_data_en[0]"
   ]
  },
  {
   "cell_type": "code",
   "execution_count": 5,
   "metadata": {},
   "outputs": [],
   "source": [
    "import os\n",
    "image_name_segments_dict = dict()\n",
    "for i in train_data_en:\n",
    "    detections_path = os.path.join(\"/data/aofei/hallucination/Slake/imgs/\" + i['img_name'].split(\"/\")[0], \"detection.json\")\n",
    "    with open(detections_path, \"r\") as f:\n",
    "        bbox = json.load(f)\n",
    "    image_name_segments_dict[i['img_name']] = bbox"
   ]
  },
  {
   "cell_type": "code",
   "execution_count": 6,
   "metadata": {},
   "outputs": [
    {
     "data": {
      "text/plain": [
       "[{'Liver': [54.0, 106.0, 30.0, 31.0]}]"
      ]
     },
     "execution_count": 6,
     "metadata": {},
     "output_type": "execute_result"
    }
   ],
   "source": [
    "image_name_segments_dict['xmlab1/source.jpg']"
   ]
  },
  {
   "cell_type": "code",
   "execution_count": 7,
   "metadata": {},
   "outputs": [],
   "source": [
    "new_train_data = []\n",
    "for i in train_data_en:\n",
    "    template = dict()\n",
    "    \n",
    "    # template['answer_type'] = i['answer_type']\n",
    "    template['image'] = i['img_name']\n",
    "    template['id'] = i['qid']\n",
    "    template['location'] = i['location']\n",
    "    template['conversations'] = []\n",
    "    # template['text'] = i['question']\n",
    "\n",
    "    new_qa = {\"from\": \"human\", \"value\": \"<image>\\n\" + i['question']}\n",
    "    new_qa2 = {\"from\": \"gpt\", \"value\": str(i['answer'])}\n",
    "    template['conversations'] += [new_qa, new_qa2]\n",
    "    template['bboxes'] = []\n",
    "    template['bboxes_dict'] = dict()\n",
    "    for box_dict in image_name_segments_dict[i['img_name']]:\n",
    "        k, bbox = list(box_dict.items())[0]\n",
    "        if k.lower() in i['question'].lower():\n",
    "            template['bboxes'].append(bbox)\n",
    "            template['bboxes_dict'][k.lower()] = bbox\n",
    "    new_train_data.append(template)"
   ]
  },
  {
   "cell_type": "code",
   "execution_count": 8,
   "metadata": {},
   "outputs": [
    {
     "data": {
      "text/plain": [
       "{'image': 'xmlab1/source.jpg',\n",
       " 'id': 6,\n",
       " 'location': 'Abdomen',\n",
       " 'conversations': [{'from': 'human', 'value': '<image>\\nWhere is the liver?'},\n",
       "  {'from': 'gpt', 'value': 'Right'}],\n",
       " 'bboxes': [[54.0, 106.0, 30.0, 31.0]],\n",
       " 'bboxes_dict': {'liver': [54.0, 106.0, 30.0, 31.0]}}"
      ]
     },
     "execution_count": 8,
     "metadata": {},
     "output_type": "execute_result"
    }
   ],
   "source": [
    "new_train_data[6]"
   ]
  },
  {
   "cell_type": "code",
   "execution_count": 9,
   "metadata": {},
   "outputs": [
    {
     "data": {
      "text/plain": [
       "(1710, 1506)"
      ]
     },
     "execution_count": 9,
     "metadata": {},
     "output_type": "execute_result"
    }
   ],
   "source": [
    "train_data_abd, train_data_lung = [], []\n",
    "for i in new_train_data:\n",
    "    if i['location'].lower() == \"abdomen\":\n",
    "        train_data_abd.append(i)\n",
    "    elif i['location'].lower() == \"lung\":\n",
    "        train_data_lung.append(i)\n",
    "len(train_data_lung), len(train_data_abd)"
   ]
  },
  {
   "cell_type": "code",
   "execution_count": 10,
   "metadata": {},
   "outputs": [],
   "source": [
    "with open(r\"/data/aofei/hallucination/Slake/data/training_gt_bboxes_abd.json\", \"w\") as f:\n",
    "    json.dump(train_data_abd, f, indent=4)\n",
    "with open(r\"/data/aofei/hallucination/Slake/data/training_gt_bboxes_lung.json\", \"w\") as f:\n",
    "    json.dump(train_data_lung, f, indent=4)\n",
    "with open(r\"/data/aofei/hallucination/Slake/data/training_gt_bboxes.json\", \"w\") as f:\n",
    "    json.dump(new_train_data, f, indent=4)"
   ]
  },
  {
   "cell_type": "code",
   "execution_count": 11,
   "metadata": {},
   "outputs": [
    {
     "name": "stdout",
     "output_type": "stream",
     "text": [
      "0.07543859649122807\n",
      "0.21713147410358566\n"
     ]
    }
   ],
   "source": [
    "s = 0\n",
    "for i in train_data_lung:\n",
    "    if len(i['bboxes']) > 0:\n",
    "        s+=1\n",
    "print(s / len(train_data_lung))\n",
    "\n",
    "s = 0\n",
    "for i in train_data_abd:\n",
    "    if len(i['bboxes']) > 0:\n",
    "        s+=1\n",
    "print(s / len(train_data_abd))"
   ]
  },
  {
   "cell_type": "code",
   "execution_count": 12,
   "metadata": {},
   "outputs": [
    {
     "data": {
      "text/plain": [
       "1506"
      ]
     },
     "execution_count": 12,
     "metadata": {},
     "output_type": "execute_result"
    }
   ],
   "source": [
    "import json\n",
    "with open(r\"/data/aofei/hallucination/Slake/data/training_gt_bboxes_abd.json\", \"r\") as f:\n",
    "    train_data_abd = json.load(f)\n",
    "len(train_data_abd)"
   ]
  },
  {
   "cell_type": "code",
   "execution_count": 13,
   "metadata": {},
   "outputs": [
    {
     "data": {
      "text/plain": [
       "327"
      ]
     },
     "execution_count": 13,
     "metadata": {},
     "output_type": "execute_result"
    }
   ],
   "source": [
    "bbox_data_abd = []\n",
    "for i in train_data_abd:\n",
    "    if len(i['bboxes']) != 0:\n",
    "        bbox_data_abd.append(i)\n",
    "len(bbox_data_abd)"
   ]
  },
  {
   "cell_type": "code",
   "execution_count": 5,
   "metadata": {},
   "outputs": [],
   "source": [
    "with open(r\"/data/aofei/hallucination/Slake/data/training_gt_only_bboxes_abd.json\", \"w\") as f:\n",
    "    json.dump(bbox_data_abd, f, indent=4)"
   ]
  },
  {
   "cell_type": "code",
   "execution_count": 7,
   "metadata": {},
   "outputs": [
    {
     "data": {
      "text/plain": [
       "{'image': 'xmlab230/source.jpg',\n",
       " 'id': 1035,\n",
       " 'location': 'Abdomen',\n",
       " 'conversations': [{'from': 'human', 'value': '<image>\\nWhere is the liver?'},\n",
       "  {'from': 'gpt', 'value': 'Left'}],\n",
       " 'bboxes': [[97.0, 186.0, 47.0, 59.0]]}"
      ]
     },
     "execution_count": 7,
     "metadata": {},
     "output_type": "execute_result"
    }
   ],
   "source": [
    "bbox_data_abd[90]"
   ]
  },
  {
   "cell_type": "code",
   "execution_count": null,
   "metadata": {},
   "outputs": [],
   "source": []
  }
 ],
 "metadata": {
  "kernelspec": {
   "display_name": "medh",
   "language": "python",
   "name": "python3"
  },
  "language_info": {
   "codemirror_mode": {
    "name": "ipython",
    "version": 3
   },
   "file_extension": ".py",
   "mimetype": "text/x-python",
   "name": "python",
   "nbconvert_exporter": "python",
   "pygments_lexer": "ipython3",
   "version": "3.10.14"
  }
 },
 "nbformat": 4,
 "nbformat_minor": 2
}
