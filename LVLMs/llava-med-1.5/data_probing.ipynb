{
 "cells": [
  {
   "cell_type": "code",
   "execution_count": 1,
   "metadata": {},
   "outputs": [],
   "source": [
    "original_data = \"/data/aofei/hallucination/PathVQA/pvqa/train.json\"\n",
    "process_data = \"/data/aofei/hallucination/PathVQA/pvqa/training_masks_top4.json\""
   ]
  },
  {
   "cell_type": "code",
   "execution_count": 2,
   "metadata": {},
   "outputs": [],
   "source": [
    "import json\n",
    "\n",
    "with open(original_data, \"r\") as f:\n",
    "    ori_data = json.load(f)\n",
    "\n",
    "with open(process_data, \"r\") as f:\n",
    "    pro_data = json.load(f)"
   ]
  },
  {
   "cell_type": "code",
   "execution_count": 3,
   "metadata": {},
   "outputs": [
    {
     "data": {
      "text/plain": [
       "(19755, 19755)"
      ]
     },
     "execution_count": 3,
     "metadata": {},
     "output_type": "execute_result"
    }
   ],
   "source": [
    "len(ori_data), len(pro_data)"
   ]
  },
  {
   "cell_type": "code",
   "execution_count": 4,
   "metadata": {},
   "outputs": [
    {
     "data": {
      "text/plain": [
       "({'image': 'train_0422.jpg',\n",
       "  'id': 100422000,\n",
       "  'conversations': [{'from': 'human',\n",
       "    'value': 'Where are liver stem cells (oval cells) located?'},\n",
       "   {'from': 'gpt', 'value': 'in the canals of hering'}]},\n",
       " {'image': 'train_0422.jpg',\n",
       "  'id': 100422000,\n",
       "  'conversations': [{'from': 'human',\n",
       "    'value': '<image>\\nWhere are liver stem cells (oval cells) located?'},\n",
       "   {'from': 'gpt', 'value': 'in the canals of hering'}],\n",
       "  'bboxes': [[225, 102, 21, 24],\n",
       "   [188, 88, 14, 28],\n",
       "   [178, 89, 45, 36],\n",
       "   [71, 138, 20, 23]],\n",
       "  'masks': []})"
      ]
     },
     "execution_count": 4,
     "metadata": {},
     "output_type": "execute_result"
    }
   ],
   "source": [
    "ori_data[0], pro_data[0]"
   ]
  },
  {
   "cell_type": "code",
   "execution_count": null,
   "metadata": {},
   "outputs": [],
   "source": []
  }
 ],
 "metadata": {
  "kernelspec": {
   "display_name": "llava_v1.5",
   "language": "python",
   "name": "python3"
  },
  "language_info": {
   "codemirror_mode": {
    "name": "ipython",
    "version": 3
   },
   "file_extension": ".py",
   "mimetype": "text/x-python",
   "name": "python",
   "nbconvert_exporter": "python",
   "pygments_lexer": "ipython3",
   "version": "3.10.14"
  }
 },
 "nbformat": 4,
 "nbformat_minor": 2
}
