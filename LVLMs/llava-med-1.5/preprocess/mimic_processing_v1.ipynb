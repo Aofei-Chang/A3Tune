{
 "cells": [
  {
   "cell_type": "code",
   "execution_count": 1,
   "metadata": {},
   "outputs": [],
   "source": [
    "import json\n",
    "\n",
    "sampled_train_path = \"/data/aofei/hallucination/MIMIC_CXR/sampled_paths_train.json\"\n",
    "sampled_test_path = \"/data/aofei/hallucination/MIMIC_CXR/sampled_paths_test.json\"\n",
    "\n",
    "with open(sampled_train_path, \"r\") as f:\n",
    "    sampled_train_paths = json.load(f) \n",
    "\n",
    "with open(sampled_test_path, \"r\") as f: \n",
    "    sampled_test_paths = json.load(f)"
   ]
  },
  {
   "cell_type": "code",
   "execution_count": 2,
   "metadata": {},
   "outputs": [
    {
     "data": {
      "text/plain": [
       "(2000, 2000)"
      ]
     },
     "execution_count": 2,
     "metadata": {},
     "output_type": "execute_result"
    }
   ],
   "source": [
    "len(sampled_train_paths), len(sampled_test_paths)"
   ]
  },
  {
   "cell_type": "code",
   "execution_count": 3,
   "metadata": {},
   "outputs": [
    {
     "data": {
      "text/plain": [
       "set()"
      ]
     },
     "execution_count": 3,
     "metadata": {},
     "output_type": "execute_result"
    }
   ],
   "source": [
    "set(sampled_train_paths) & set(sampled_test_paths)"
   ]
  },
  {
   "cell_type": "code",
   "execution_count": 4,
   "metadata": {},
   "outputs": [],
   "source": [
    "import os\n",
    "mimic_train = []\n",
    "s = 0\n",
    "report_prompt_MIMIC = \"Analyze the chest X-ray and generate a concise medical report.\"\n",
    "all_reports = []\n",
    "for p in sampled_train_paths:\n",
    "    template = {}\n",
    "    template[\"id\"] = s\n",
    "    template[\"image\"] = p\n",
    "    s += 1\n",
    "    report_path = \"/\".join(p.split(\"/\")[:3]) + \".txt\"\n",
    "    report_path = os.path.join(\"/data/aofei/hallucination/MIMIC_CXR/reports_files\", report_path)\n",
    "    with open(report_path, \"r\") as f:\n",
    "        report = f.read()\n",
    "    # report = report.split(\"FINDINGS:\")[-1]\n",
    "    # report = \"FINDINGS:\" + report\n",
    "    all_reports.append(report)\n",
    "    template['conversations'] = []\n",
    "    new_qa = {\"from\": \"human\", \"value\": \"<image>\\n\" + report_prompt_MIMIC}\n",
    "    new_qa2 = {\"from\": \"gpt\", \"value\": report}\n",
    "    template['conversations'] += [new_qa, new_qa2]\n",
    "    mimic_train.append(template)"
   ]
  },
  {
   "cell_type": "code",
   "execution_count": 5,
   "metadata": {},
   "outputs": [
    {
     "data": {
      "text/plain": [
       "['                                 FINAL REPORT\\n EXAMINATION:  CHEST (PORTABLE AP)\\n \\n INDICATION:  ___ yo M struck by vehicle, R SDH s/p evac crani, L epidural\\n hematoma untreated s/p tib fx ex fix  // fever. r/o PNA\\n \\n COMPARISON:  ___\\n \\n IMPRESSION: \\n \\n As compared to the previous radiograph, no relevant change has occurred. The\\n lung parenchyma is clear and the current image shows no evidence of pneumonia.\\n A minimal atelectasis at the right hilus is less severe than on the previous\\n exam.  No larger pleural effusions.  No pneumothorax.  Normal size of the\\n cardiac silhouette.\\n',\n",
       " ' WET READ: ___ ___ ___ 9:31 AM\\n  \\n  \\n  \\n  Left lung base consolidation and small left pleural effusion appears similar\\n  to CT from ___.\\n WET READ VERSION #1 ___ ___ ___ 1:36 AM\\n  Left lung base consolidation and small left pleural effusion appears similar\\n  to CT from ___.\\n ______________________________________________________________________________\\n                                 FINAL REPORT\\n EXAMINATION:  CHEST (PA AND LAT)\\n \\n INDICATION:  ___ year old woman with new pleural effusions in the setting of\\n endocarditis with multiple sites of septic emboli/metastatic infections  //\\n eval for cavitary lesion or evidence of empyema     eval for cavitary lesion\\n or evidence of empyema\\n \\n IMPRESSION: \\n \\n In comparison with the study of ___, the tip of the PICC line now appears\\n to be at the level of the cavoatrial junction.  Pulmonary vascularity is\\n essentially within normal limits.  Opacification at the left base is again\\n seen, representing pleural fluid and either atelectasis or superimposed\\n pneumonia given the clinical history.\\n']"
      ]
     },
     "execution_count": 5,
     "metadata": {},
     "output_type": "execute_result"
    }
   ],
   "source": [
    "all_reports[:2]"
   ]
  },
  {
   "cell_type": "code",
   "execution_count": 6,
   "metadata": {},
   "outputs": [
    {
     "name": "stdout",
     "output_type": "stream",
     "text": [
      "2000\n"
     ]
    }
   ],
   "source": [
    "import json\n",
    "import csv\n",
    "train_path = '/data/aofei/hallucination/MIMIC_CXR/data_report/training_no_clean.json'\n",
    "test_path = '/data/aofei/hallucination/MIMIC_CXR/data_report/test.json'\n",
    "# Save training data\n",
    "print(len(mimic_train))\n",
    "with open(train_path, 'w') as train_file:\n",
    "    json.dump(mimic_train, train_file, indent=4)\n",
    "\n",
    "# # Save test data\n",
    "# print(len(new_iu_test_data))\n",
    "# with open(test_path, 'w') as test_file:\n",
    "#     json.dump(new_iu_test_data, test_file, indent=4)"
   ]
  },
  {
   "cell_type": "markdown",
   "metadata": {},
   "source": [
    "## Process the report"
   ]
  },
  {
   "cell_type": "code",
   "execution_count": 9,
   "metadata": {},
   "outputs": [],
   "source": [
    "import section_parser as sp\n",
    "def list_rindex(l, s):\n",
    "    \"\"\"Helper function: *last* matching element in a list\"\"\"\n",
    "    return len(l) - l[-1::-1].index(s) - 1"
   ]
  },
  {
   "cell_type": "code",
   "execution_count": 8,
   "metadata": {},
   "outputs": [
    {
     "data": {
      "text/plain": [
       "(['                                 FINAL REPORT\\n ',\n",
       "  ' CHEST (PORTABLE AP)\\n ',\n",
       "  ' ___ yo M struck by vehicle, R SDH s/p evac crani, L epidural\\n hematoma untreated s/p tib fx ex fix  // fever. r/o PNA\\n ',\n",
       "  ' ___\\n ',\n",
       "  '\\n \\n As compared to the previous radiograph, no relevant change has occurred. The\\n lung parenchyma is clear and the current image shows no evidence of pneumonia.\\n A minimal atelectasis at the right hilus is less severe than on the previous\\n exam.  No larger pleural effusions.  No pneumothorax.  Normal size of the\\n cardiac silhouette.\\n'],\n",
       " ['preamble', 'examination', 'indication', 'comparison', 'impression'],\n",
       " [0, 60, 96, 230, 250])"
      ]
     },
     "execution_count": 8,
     "metadata": {},
     "output_type": "execute_result"
    }
   ],
   "source": [
    "sp.section_text(all_reports[0])"
   ]
  },
  {
   "cell_type": "code",
   "execution_count": 91,
   "metadata": {},
   "outputs": [],
   "source": [
    "cleaned_reports = []\n",
    "batch_data_dict = {}"
   ]
  },
  {
   "cell_type": "code",
   "execution_count": 113,
   "metadata": {},
   "outputs": [],
   "source": [
    "cleaned_reports_test = []\n",
    "batch_data_dict_test = {}"
   ]
  },
  {
   "cell_type": "code",
   "execution_count": 13,
   "metadata": {},
   "outputs": [],
   "source": [
    "import os\n",
    "all_cleaned_reports = []\n",
    "# for i in range(0, len(all_reports)):\n",
    "for i in range(0, len(all_reports)):\n",
    "    report = all_reports[i]\n",
    "    sections, section_names, section_idx = sp.section_text(report)\n",
    "    idx = -1\n",
    "    cleaned_report = \"\"\n",
    "    if \"impression\" not in section_names and \"findings\" not in section_names:\n",
    "        all_cleaned_reports.append(\"\")\n",
    "    else:\n",
    "        if \"impression\" in section_names:\n",
    "            idx = section_names.index(\"impression\")\n",
    "            cleaned_report += sections[idx]\n",
    "        if \"findings\" in section_names:\n",
    "            idx = section_names.index(\"findings\")\n",
    "            cleaned_report += sections[idx]\n",
    "        all_cleaned_reports.append(cleaned_report)"
   ]
  },
  {
   "cell_type": "code",
   "execution_count": 14,
   "metadata": {},
   "outputs": [
    {
     "data": {
      "text/plain": [
       "['\\n \\n As compared to the previous radiograph, no relevant change has occurred. The\\n lung parenchyma is clear and the current image shows no evidence of pneumonia.\\n A minimal atelectasis at the right hilus is less severe than on the previous\\n exam.  No larger pleural effusions.  No pneumothorax.  Normal size of the\\n cardiac silhouette.\\n',\n",
       " '\\n \\n In comparison with the study of ___, the tip of the PICC line now appears\\n to be at the level of the cavoatrial junction.  Pulmonary vascularity is\\n essentially within normal limits.  Opacification at the left base is again\\n seen, representing pleural fluid and either atelectasis or superimposed\\n pneumonia given the clinical history.\\n',\n",
       " '\\n \\n In comparison with the earlier study of this date, there has been placement of\\n a nasogastric tube that extends at least to the mid to upper body of the\\n stomach, were crosses the lower margin of the image.  Otherwise, little\\n change.\\n']"
      ]
     },
     "execution_count": 14,
     "metadata": {},
     "output_type": "execute_result"
    }
   ],
   "source": [
    "all_cleaned_reports[:3]"
   ]
  },
  {
   "cell_type": "code",
   "execution_count": 17,
   "metadata": {},
   "outputs": [],
   "source": [
    "no_rep_ids = []\n",
    "for i in range(len(all_cleaned_reports)):\n",
    "    rep = all_cleaned_reports[i]\n",
    "    if rep == \"\" or len(rep) < 10:\n",
    "        no_rep_ids.append(i)"
   ]
  },
  {
   "cell_type": "code",
   "execution_count": 41,
   "metadata": {},
   "outputs": [],
   "source": [
    "def clean_report_func(text):\n",
    "    text = text.replace('\\t', '')\n",
    "    text = text.replace('\\n', '')\n",
    "\n",
    "    \"\"\"delete note like 'talk to Doc, at pm, where'\"\"\"\n",
    "    sentence_list = text.split('.')\n",
    "    # \"with Dr\", \"by Dr\", \"to Dr\",\n",
    "    key_words = [\"email\", \"phone\", \"Dr\", \"contact\", \"discuss\", \"minutes\", \"review\", \"dictation\", \"observation\",\n",
    "                    \"communi\"]\n",
    "\n",
    "    first_cut_pos = 0\n",
    "    temp_key = []\n",
    "    for sentence_index, single_sentence in enumerate(sentence_list):\n",
    "        for keyy in key_words:\n",
    "            if keyy in single_sentence:\n",
    "                temp_key.append(keyy)\n",
    "                # find_pos = single_sentence.find(keyy)\n",
    "                # first_cut_pos += find_pos\n",
    "                break\n",
    "            # else:\n",
    "            #     if len(temp_key) != 0:\n",
    "            #         first_cut_pos += len(single_sentence)\n",
    "        if len(temp_key) != 0:\n",
    "            break\n",
    "\n",
    "    if len(temp_key) == 0:\n",
    "        new_imp_text = text\n",
    "    else:\n",
    "        for ii in range(sentence_index):\n",
    "            first_cut_pos += (len(sentence_list[ii]) + 1)\n",
    "        new_imp_text = text[:first_cut_pos]\n",
    "    \n",
    "    return new_imp_text.strip()\n"
   ]
  },
  {
   "cell_type": "code",
   "execution_count": 30,
   "metadata": {},
   "outputs": [],
   "source": [
    "all_cleaned_reports2 = [clean_report_func(rep) for rep in all_cleaned_reports]"
   ]
  },
  {
   "cell_type": "code",
   "execution_count": 31,
   "metadata": {},
   "outputs": [
    {
     "data": {
      "text/plain": [
       "82"
      ]
     },
     "execution_count": 31,
     "metadata": {},
     "output_type": "execute_result"
    }
   ],
   "source": [
    "no_rep_ids = []\n",
    "for i in range(len(all_cleaned_reports)):\n",
    "    rep = all_cleaned_reports[i]\n",
    "    if rep == \"\" or len(rep) < 10:\n",
    "        no_rep_ids.append(i)\n",
    "len(no_rep_ids)"
   ]
  },
  {
   "cell_type": "code",
   "execution_count": 32,
   "metadata": {},
   "outputs": [
    {
     "data": {
      "text/plain": [
       "['As compared to the previous radiograph, no relevant change has occurred. The lung parenchyma is clear and the current image shows no evidence of pneumonia. A minimal atelectasis at the right hilus is less severe than on the previous exam.  No larger pleural effusions.  No pneumothorax.  Normal size of the cardiac silhouette.',\n",
       " 'In comparison with the study of ___, the tip of the PICC line now appears to be at the level of the cavoatrial junction.  Pulmonary vascularity is essentially within normal limits.  Opacification at the left base is again seen, representing pleural fluid and either atelectasis or superimposed pneumonia given the clinical history.',\n",
       " 'In comparison with the earlier study of this date, there has been placement of a nasogastric tube that extends at least to the mid to upper body of the stomach, were crosses the lower margin of the image.  Otherwise, little change.']"
      ]
     },
     "execution_count": 32,
     "metadata": {},
     "output_type": "execute_result"
    }
   ],
   "source": [
    "all_cleaned_reports2[:3]"
   ]
  },
  {
   "cell_type": "code",
   "execution_count": 34,
   "metadata": {},
   "outputs": [],
   "source": [
    "mimic_train_cleaned = []\n",
    "for i in mimic_train:\n",
    "    k = i.copy()\n",
    "    clean_report = all_cleaned_reports2[i['id']]\n",
    "    if clean_report == \"\" or len(clean_report) < 10:\n",
    "        continue\n",
    "    k['conversations'][-1]['value'] = clean_report\n",
    "    mimic_train_cleaned.append(k)"
   ]
  },
  {
   "cell_type": "code",
   "execution_count": 35,
   "metadata": {},
   "outputs": [
    {
     "data": {
      "text/plain": [
       "(1911,\n",
       " {'id': 1998,\n",
       "  'image': 'p13/p13202007/s55485353/19e461d1-03e672cd-f3ec31aa-89d44e06-7f6f6f05.jpg',\n",
       "  'conversations': [{'from': 'human',\n",
       "    'value': '<image>\\nAnalyze the chest X-ray and generate a concise medical report.'},\n",
       "   {'from': 'gpt',\n",
       "    'value': '1. Appropriate positioning of the ETT and NG tube. 2. Multifocal pneumonia with mild improvement in the right upper and lower lobes.  ET tube terminates 4 cm above the carina.  There is a NG tube with the tip and side hole in the stomach.  There is bilateral diffuse opacification, consistent with multifocal pneumonia seen on the prior chest CT.  The opacification appears to improved in the right upper and lower lobes.  Heart size is stable.  The mediastinal and hilar contours are stable. The pulmonary vasculature is normal.  No pleural effusion or pneumothorax is seen. There are no acute osseous abnormalities.'}]})"
      ]
     },
     "execution_count": 35,
     "metadata": {},
     "output_type": "execute_result"
    }
   ],
   "source": [
    "len(mimic_train_cleaned), mimic_train_cleaned[-1]"
   ]
  },
  {
   "cell_type": "code",
   "execution_count": 36,
   "metadata": {},
   "outputs": [
    {
     "name": "stdout",
     "output_type": "stream",
     "text": [
      "1911\n"
     ]
    }
   ],
   "source": [
    "import json\n",
    "import csv\n",
    "train_path = '/data/aofei/hallucination/MIMIC_CXR/data_report/training.json'\n",
    "# test_path = '/data/aofei/hallucination/MIMIC_CXR/data_report/test.json'\n",
    "# Save training data\n",
    "print(len(mimic_train_cleaned))\n",
    "with open(train_path, 'w') as train_file:\n",
    "    json.dump(mimic_train_cleaned, train_file, indent=4)\n"
   ]
  },
  {
   "cell_type": "code",
   "execution_count": null,
   "metadata": {},
   "outputs": [],
   "source": []
  },
  {
   "cell_type": "code",
   "execution_count": 37,
   "metadata": {},
   "outputs": [],
   "source": [
    "import os\n",
    "mimic_test = []\n",
    "s = 0\n",
    "report_prompt_MIMIC = \"Analyze the chest X-ray and generate a concise medical report.\"\n",
    "all_test_reports = []\n",
    "for p in sampled_test_paths[:500]:\n",
    "    template = {}\n",
    "    template[\"id\"] = s\n",
    "    template[\"image\"] = p\n",
    "    s += 1\n",
    "    report_path = \"/\".join(p.split(\"/\")[:3]) + \".txt\"\n",
    "    report_path = os.path.join(\"/data/aofei/hallucination/MIMIC_CXR/reports_files\", report_path)\n",
    "    with open(report_path, \"r\") as f:\n",
    "        report = f.read()\n",
    "    # report = report.split(\"FINDINGS:\")[-1]\n",
    "    # report = \"FINDINGS:\" + report\n",
    "    image_exist_flag = os.path.exists(os.path.join(\"/data/aofei/hallucination/mimic_cxr/images\", p))\n",
    "    if not image_exist_flag:\n",
    "        print(p)\n",
    "    all_test_reports.append(report)\n",
    "    template['conversations'] = []\n",
    "    new_qa = {\"from\": \"human\", \"value\": \"<image>\\n\" + report_prompt_MIMIC}\n",
    "    new_qa2 = {\"from\": \"gpt\", \"value\": report}\n",
    "    template['conversations'] += [new_qa, new_qa2]\n",
    "    mimic_test.append(template)"
   ]
  },
  {
   "cell_type": "code",
   "execution_count": 38,
   "metadata": {},
   "outputs": [
    {
     "data": {
      "text/plain": [
       "(500,\n",
       " {'id': 0,\n",
       "  'image': 'p19/p19454978/s57331547/7d047120-d24a497e-fc26ea7e-6c3acc0c-ce5bc190.jpg',\n",
       "  'conversations': [{'from': 'human',\n",
       "    'value': '<image>\\nAnalyze the chest X-ray and generate a concise medical report.'},\n",
       "   {'from': 'gpt',\n",
       "    'value': \"                                 FINAL REPORT\\n EXAMINATION:  CHEST (PORTABLE AP)\\n \\n INDICATION:  ___ year old woman with Caroli's disease, here with sepsis, new\\n fever spike, ? new lung pathology  // ? pneumonia\\n \\n TECHNIQUE:  Portable chest film\\n \\n COMPARISON:   ___\\n \\n FINDINGS: \\n \\n There is a new retrocardiac opacity. A right IJ has been removed. Small\\n bilateral pleural effusions are seen. Cardiomediastinal silhouette is\\n unchanged compared to prior.\\n \\n IMPRESSION: \\n \\n New retrocardiac opacity concerning for pneumonia in the appropriate clinical\\n setting.\\n \\n NOTIFICATION:   The findings were relayed by text page by Dr. ___ with Dr.\\n ___ on the telephone on ___ at 12:15 PM, 1 minutes after discovery of\\n the findings.  In addition, the impression will be put in the critical\\n dashboard. The impression above was entered by Dr. ___ on ___\\n at 12:16 into the Department of Radiology critical communications system for\\n direct communication to the referring provider.\\n\"}]})"
      ]
     },
     "execution_count": 38,
     "metadata": {},
     "output_type": "execute_result"
    }
   ],
   "source": [
    "len(mimic_test), mimic_test[0]"
   ]
  },
  {
   "cell_type": "code",
   "execution_count": 39,
   "metadata": {},
   "outputs": [],
   "source": [
    "import os\n",
    "all_cleaned_test_reports = []\n",
    "# for i in range(0, len(all_reports)):\n",
    "for i in range(0, len(all_test_reports)):\n",
    "    report = all_test_reports[i]\n",
    "    sections, section_names, section_idx = sp.section_text(report)\n",
    "    idx = -1\n",
    "    cleaned_report = \"\"\n",
    "    if \"impression\" not in section_names and \"findings\" not in section_names:\n",
    "        all_cleaned_test_reports.append(\"\")\n",
    "    else:\n",
    "        if \"impression\" in section_names:\n",
    "            idx = section_names.index(\"impression\")\n",
    "            cleaned_report += sections[idx]\n",
    "        if \"findings\" in section_names:\n",
    "            idx = section_names.index(\"findings\")\n",
    "            cleaned_report += sections[idx]\n",
    "        all_cleaned_test_reports.append(cleaned_report)"
   ]
  },
  {
   "cell_type": "code",
   "execution_count": 42,
   "metadata": {},
   "outputs": [
    {
     "data": {
      "text/plain": [
       "56"
      ]
     },
     "execution_count": 42,
     "metadata": {},
     "output_type": "execute_result"
    }
   ],
   "source": [
    "all_cleaned_test_reports2 = [clean_report_func(rep) for rep in all_cleaned_test_reports]\n",
    "\n",
    "no_rep_ids = []\n",
    "for i in range(len(all_cleaned_test_reports)):\n",
    "    rep = all_cleaned_test_reports[i]\n",
    "    if rep == \"\" or len(rep) < 10:\n",
    "        no_rep_ids.append(i)\n",
    "len(no_rep_ids)"
   ]
  },
  {
   "cell_type": "code",
   "execution_count": 43,
   "metadata": {},
   "outputs": [],
   "source": [
    "mimic_test_cleaned = []\n",
    "for i in mimic_test:\n",
    "    k = i.copy()\n",
    "    clean_report = all_cleaned_test_reports2[i['id']]\n",
    "    if clean_report == \"\" or len(clean_report) < 10:\n",
    "        continue\n",
    "    k['conversations'][-1]['value'] = clean_report\n",
    "    mimic_test_cleaned.append(k)"
   ]
  },
  {
   "cell_type": "code",
   "execution_count": 45,
   "metadata": {},
   "outputs": [
    {
     "data": {
      "text/plain": [
       "(441,\n",
       " {'id': 499,\n",
       "  'image': 'p16/p16043637/s52793175/1b3d4f71-68977c5e-a070ff6b-29584c84-b70bf667.jpg',\n",
       "  'conversations': [{'from': 'human',\n",
       "    'value': '<image>\\nAnalyze the chest X-ray and generate a concise medical report.'},\n",
       "   {'from': 'gpt',\n",
       "    'value': \"No acute cardiopulmonary process, unchanged compared to ___. PA and lateral views of the chest.  A left-sided pacemaker is in appropriate position.  Sternotomy wires again seen.  An aortic valve replacement is again noted.  Faint haziness over the lower lung fields bilaterally, likely from patient's body habitus.  This is unchanged.  There is no new focal consolidation, pleural effusion or pneumothorax.  Cardiomediastinal and hilar contours are normal.\"}]})"
      ]
     },
     "execution_count": 45,
     "metadata": {},
     "output_type": "execute_result"
    }
   ],
   "source": [
    "len(mimic_test_cleaned), mimic_test_cleaned[-1]"
   ]
  },
  {
   "cell_type": "code",
   "execution_count": 121,
   "metadata": {},
   "outputs": [
    {
     "data": {
      "text/plain": [
       "{'id': 499,\n",
       " 'image': 'p16/p16043637/s52793175/1b3d4f71-68977c5e-a070ff6b-29584c84-b70bf667.jpg',\n",
       " 'conversations': [{'from': 'human',\n",
       "   'value': '<image>\\nAnalyze the chest X-ray and generate a concise medical report.'},\n",
       "  {'from': 'gpt',\n",
       "   'value': 'PA and lateral views show a left-sided pacemaker, sternotomy wires, and an aortic valve replacement in place. There is faint haziness over the lower lung fields bilaterally, likely due to body habitus, with no new focal consolidation, pleural effusion, or pneumothorax. Cardiomediastinal and hilar contours are normal. No acute cardiopulmonary process detected.'}]}"
      ]
     },
     "execution_count": 121,
     "metadata": {},
     "output_type": "execute_result"
    }
   ],
   "source": [
    "mimic_test_cleaned[-1]"
   ]
  },
  {
   "cell_type": "code",
   "execution_count": 46,
   "metadata": {},
   "outputs": [
    {
     "name": "stdout",
     "output_type": "stream",
     "text": [
      "441\n"
     ]
    }
   ],
   "source": [
    "import json\n",
    "import csv\n",
    "test_path = '/data/aofei/hallucination/MIMIC_CXR/data_report/test.json'\n",
    "# Save training data\n",
    "print(len(mimic_test_cleaned))\n",
    "with open(test_path, 'w') as train_file:\n",
    "    json.dump(mimic_test_cleaned, train_file, indent=4)\n"
   ]
  },
  {
   "cell_type": "code",
   "execution_count": 47,
   "metadata": {},
   "outputs": [
    {
     "data": {
      "text/plain": [
       "({'id': 115,\n",
       "  'image': 'p12/p12185775/s56494283/957c26f1-18da168e-71c98f71-7f791b2a-4cb759cb.jpg',\n",
       "  'conversations': [{'from': 'human',\n",
       "    'value': '<image>\\nAnalyze the chest X-ray and generate a concise medical report.'},\n",
       "   {'from': 'gpt',\n",
       "    'value': 'Severe cardiomegaly and widened mediastinum are unchanged. Pulmonary edema has markedly improved. Retrocardiac opacities have improved consistent with improving atelectasis and small left effusion. There is no pneumothorax. Lines and tubes are in standard position. calcified granulomas in the left upper lobe are again noted.'}]},\n",
       " {'id': 100,\n",
       "  'image': 'p15/p15857729/s52428322/754c8b94-ddf3a484-279e5c47-973dad5c-3e52b57c.jpg',\n",
       "  'conversations': [{'from': 'human',\n",
       "    'value': '<image>\\nAnalyze the chest X-ray and generate a concise medical report.'},\n",
       "   {'from': 'gpt', 'value': 'No acute cardiopulmonary process. ___.'}]})"
      ]
     },
     "execution_count": 47,
     "metadata": {},
     "output_type": "execute_result"
    }
   ],
   "source": [
    "mimic_test_cleaned[100], mimic_test[100]"
   ]
  },
  {
   "cell_type": "code",
   "execution_count": null,
   "metadata": {},
   "outputs": [],
   "source": []
  },
  {
   "cell_type": "code",
   "execution_count": 48,
   "metadata": {},
   "outputs": [],
   "source": [
    "## Porcess training and test data\n",
    "\n",
    "import json\n",
    "\n",
    "train_path = '/data/aofei/hallucination/MIMIC_CXR/data_report/training.json'\n",
    "train_mask_path = '/data/aofei/hallucination/MIMIC_CXR/data_report/training_masks_top4.json'\n",
    "\n",
    "train_data = json.load(open(train_path, 'r'))\n",
    "train_mask_data = json.load(open(train_mask_path, 'r'))"
   ]
  },
  {
   "cell_type": "code",
   "execution_count": 53,
   "metadata": {},
   "outputs": [],
   "source": [
    "len(train_mask_data)\n",
    "new_train_data = []\n",
    "mask_dict = dict(zip([i['image'] for i in train_mask_data], [i['bboxes'] for i in train_mask_data]))\n",
    "for i in train_data:\n",
    "    if i['image'] not in mask_dict:\n",
    "        continue\n",
    "    i['bboxes'] = mask_dict[i['image']]\n",
    "    i['masks'] = []\n",
    "    new_train_data.append(i)"
   ]
  },
  {
   "cell_type": "code",
   "execution_count": 54,
   "metadata": {},
   "outputs": [
    {
     "data": {
      "text/plain": [
       "(1902,\n",
       " {'id': 1998,\n",
       "  'image': 'p13/p13202007/s55485353/19e461d1-03e672cd-f3ec31aa-89d44e06-7f6f6f05.jpg',\n",
       "  'conversations': [{'from': 'human',\n",
       "    'value': '<image>\\nAnalyze the chest X-ray and generate a concise medical report.'},\n",
       "   {'from': 'gpt',\n",
       "    'value': '1. Appropriate positioning of the ETT and NG tube. 2. Multifocal pneumonia with mild improvement in the right upper and lower lobes.  ET tube terminates 4 cm above the carina.  There is a NG tube with the tip and side hole in the stomach.  There is bilateral diffuse opacification, consistent with multifocal pneumonia seen on the prior chest CT.  The opacification appears to improved in the right upper and lower lobes.  Heart size is stable.  The mediastinal and hilar contours are stable. The pulmonary vasculature is normal.  No pleural effusion or pneumothorax is seen. There are no acute osseous abnormalities.'}],\n",
       "  'bboxes': [[74, 25, 49, 62],\n",
       "   [160, 27, 41, 65],\n",
       "   [165, 27, 37, 56],\n",
       "   [165, 27, 40, 103]],\n",
       "  'masks': []})"
      ]
     },
     "execution_count": 54,
     "metadata": {},
     "output_type": "execute_result"
    }
   ],
   "source": [
    "len(new_train_data), new_train_data[-1]"
   ]
  },
  {
   "cell_type": "code",
   "execution_count": 55,
   "metadata": {},
   "outputs": [],
   "source": [
    "# with open(train_path, 'w') as train_file:\n",
    "#     json.dump(new_train_data, train_file, indent=4)\n",
    "with open(train_mask_path, 'w') as train_file:\n",
    "    json.dump(new_train_data, train_file, indent=4)"
   ]
  },
  {
   "cell_type": "code",
   "execution_count": 12,
   "metadata": {},
   "outputs": [
    {
     "data": {
      "text/plain": [
       "(500,\n",
       " {'id': 0,\n",
       "  'image': 'p19/p19454978/s57331547/7d047120-d24a497e-fc26ea7e-6c3acc0c-ce5bc190.jpg',\n",
       "  'conversations': [{'from': 'human',\n",
       "    'value': '<image>\\nAnalyze the chest X-ray and generate a concise medical report.'},\n",
       "   {'from': 'gpt',\n",
       "    'value': 'There is a new retrocardiac opacity, and small bilateral pleural effusions are seen. New retrocardiac opacity is concerning for pneumonia in the appropriate clinical setting.'}]},\n",
       " {'id': 499,\n",
       "  'image': 'p16/p16043637/s52793175/1b3d4f71-68977c5e-a070ff6b-29584c84-b70bf667.jpg',\n",
       "  'conversations': [{'from': 'human',\n",
       "    'value': '<image>\\nAnalyze the chest X-ray and generate a concise medical report.'},\n",
       "   {'from': 'gpt',\n",
       "    'value': 'PA and lateral views show a left-sided pacemaker, sternotomy wires, and an aortic valve replacement in place. There is faint haziness over the lower lung fields bilaterally, likely due to body habitus, with no new focal consolidation, pleural effusion, or pneumothorax. Cardiomediastinal and hilar contours are normal. No acute cardiopulmonary process detected.'}]})"
      ]
     },
     "execution_count": 12,
     "metadata": {},
     "output_type": "execute_result"
    }
   ],
   "source": [
    "test_path = '/data/aofei/hallucination/MIMIC_CXR/data_report/test.json'\n",
    "test_data = json.load(open(test_path, 'r'))\n",
    "len(test_data), test_data[0], test_data[-1]"
   ]
  },
  {
   "cell_type": "code",
   "execution_count": 13,
   "metadata": {},
   "outputs": [
    {
     "name": "stdout",
     "output_type": "stream",
     "text": [
      "165 0\n",
      "440 0\n"
     ]
    }
   ],
   "source": [
    "new_test_data = []\n",
    "_id = 0\n",
    "for i in range(len(test_data)):\n",
    "    ground_truth = test_data[i]['conversations'][-1]['value']\n",
    "    if len(ground_truth) < 10:\n",
    "        print(i, len(ground_truth))\n",
    "        continue\n",
    "    test_data[i][\"id\"] = _id\n",
    "    _id += 1\n",
    "    new_test_data.append(test_data[i])"
   ]
  },
  {
   "cell_type": "code",
   "execution_count": 14,
   "metadata": {},
   "outputs": [
    {
     "data": {
      "text/plain": [
       "({'id': 0,\n",
       "  'image': 'p19/p19454978/s57331547/7d047120-d24a497e-fc26ea7e-6c3acc0c-ce5bc190.jpg',\n",
       "  'conversations': [{'from': 'human',\n",
       "    'value': '<image>\\nAnalyze the chest X-ray and generate a concise medical report.'},\n",
       "   {'from': 'gpt',\n",
       "    'value': 'There is a new retrocardiac opacity, and small bilateral pleural effusions are seen. New retrocardiac opacity is concerning for pneumonia in the appropriate clinical setting.'}]},\n",
       " 498,\n",
       " {'id': 497,\n",
       "  'image': 'p16/p16043637/s52793175/1b3d4f71-68977c5e-a070ff6b-29584c84-b70bf667.jpg',\n",
       "  'conversations': [{'from': 'human',\n",
       "    'value': '<image>\\nAnalyze the chest X-ray and generate a concise medical report.'},\n",
       "   {'from': 'gpt',\n",
       "    'value': 'PA and lateral views show a left-sided pacemaker, sternotomy wires, and an aortic valve replacement in place. There is faint haziness over the lower lung fields bilaterally, likely due to body habitus, with no new focal consolidation, pleural effusion, or pneumothorax. Cardiomediastinal and hilar contours are normal. No acute cardiopulmonary process detected.'}]})"
      ]
     },
     "execution_count": 14,
     "metadata": {},
     "output_type": "execute_result"
    }
   ],
   "source": [
    "new_test_data[0], len(new_test_data), new_test_data[-1]"
   ]
  },
  {
   "cell_type": "code",
   "execution_count": 15,
   "metadata": {},
   "outputs": [],
   "source": [
    "with open(test_path, 'w') as test_file:\n",
    "    json.dump(new_test_data, test_file, indent=4)"
   ]
  },
  {
   "cell_type": "code",
   "execution_count": null,
   "metadata": {},
   "outputs": [],
   "source": []
  }
 ],
 "metadata": {
  "kernelspec": {
   "display_name": "medh",
   "language": "python",
   "name": "python3"
  },
  "language_info": {
   "codemirror_mode": {
    "name": "ipython",
    "version": 3
   },
   "file_extension": ".py",
   "mimetype": "text/x-python",
   "name": "python",
   "nbconvert_exporter": "python",
   "pygments_lexer": "ipython3",
   "version": "3.10.14"
  }
 },
 "nbformat": 4,
 "nbformat_minor": 2
}
