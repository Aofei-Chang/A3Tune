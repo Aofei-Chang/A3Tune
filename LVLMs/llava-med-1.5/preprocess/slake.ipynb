{
 "cells": [
  {
   "cell_type": "code",
   "execution_count": 3,
   "metadata": {},
   "outputs": [
    {
     "data": {
      "text/plain": [
       "9835"
      ]
     },
     "execution_count": 3,
     "metadata": {},
     "output_type": "execute_result"
    }
   ],
   "source": [
    "import json\n",
    "\n",
    "with open(r\"/data/aofei/hallucination/Slake/train.json\", \"r\") as f:\n",
    "    train_data = json.load(f)\n",
    "len(train_data)"
   ]
  },
  {
   "cell_type": "code",
   "execution_count": 4,
   "metadata": {},
   "outputs": [],
   "source": [
    "num_dict = dict()\n",
    "ids_dict = dict()\n",
    "for i in train_data:\n",
    "    organ = i['location']\n",
    "    id = i['qid']\n",
    "    if num_dict.__contains__(organ):\n",
    "        num_dict[organ] += 1\n",
    "    else:\n",
    "        num_dict[organ] = 1\n",
    "    \n",
    "    if ids_dict.__contains__(organ):\n",
    "        ids_dict[organ].append(id)\n",
    "    else:\n",
    "        ids_dict[organ] = [id]"
   ]
  },
  {
   "cell_type": "code",
   "execution_count": 5,
   "metadata": {},
   "outputs": [
    {
     "data": {
      "text/plain": [
       "{'Abdomen': 3041,\n",
       " 'Lung': 3406,\n",
       " 'Chest_heart': 187,\n",
       " 'Chest_lung': 283,\n",
       " 'Brain_Tissue': 1394,\n",
       " 'Brain_Face': 250,\n",
       " 'Brain': 543,\n",
       " 'Neck': 264,\n",
       " 'Chest_mediastinal': 33,\n",
       " 'Pelvic Cavity': 434}"
      ]
     },
     "execution_count": 5,
     "metadata": {},
     "output_type": "execute_result"
    }
   ],
   "source": [
    "num_dict"
   ]
  },
  {
   "cell_type": "code",
   "execution_count": 6,
   "metadata": {},
   "outputs": [],
   "source": [
    "import json\n",
    "with open(r\"/data/aofei/hallucination/Slake/data/training_masks.json\", \"r\") as f:\n",
    "    seg_train_data = json.load(f)\n",
    "len(seg_train_data)\n",
    "seg_train_dict = dict()\n",
    "for i in seg_train_data:\n",
    "    seg_train_dict[i['id']] = i"
   ]
  },
  {
   "cell_type": "code",
   "execution_count": 7,
   "metadata": {},
   "outputs": [],
   "source": [
    "train_data_lungs = []\n",
    "for _id in ids_dict['Lung']:\n",
    "    if seg_train_dict.__contains__(_id):\n",
    "        train_data_lungs.append(seg_train_dict[_id])\n",
    "\n",
    "train_data_abds = []\n",
    "for _id in ids_dict['Abdomen']:\n",
    "    if seg_train_dict.__contains__(_id):\n",
    "        train_data_abds.append(seg_train_dict[_id])\n",
    "\n",
    "train_data_brains = []\n",
    "for _id in ids_dict['Brain_Tissue'] + ids_dict['Brain']:\n",
    "    if seg_train_dict.__contains__(_id):\n",
    "        train_data_brains.append(seg_train_dict[_id])"
   ]
  },
  {
   "cell_type": "code",
   "execution_count": 8,
   "metadata": {},
   "outputs": [
    {
     "data": {
      "text/plain": [
       "(1710, 1506, 963)"
      ]
     },
     "execution_count": 8,
     "metadata": {},
     "output_type": "execute_result"
    }
   ],
   "source": [
    "len(train_data_lungs), len(train_data_abds), len(train_data_brains)"
   ]
  },
  {
   "cell_type": "code",
   "execution_count": 9,
   "metadata": {},
   "outputs": [],
   "source": [
    "# train_data_lungs[0]"
   ]
  },
  {
   "cell_type": "code",
   "execution_count": 10,
   "metadata": {},
   "outputs": [],
   "source": [
    "with open('/data/aofei/hallucination/Slake/data/organ/training_masks_abd.json', 'w') as json_file:\n",
    "    json.dump(train_data_abds, json_file, indent=4)\n",
    "with open('/data/aofei/hallucination/Slake/data/organ/training_masks_lung.json', 'w') as json_file:\n",
    "    json.dump(train_data_lungs, json_file, indent=4)\n",
    "with open('/data/aofei/hallucination/Slake/data/organ/training_masks_brain.json', 'w') as json_file:\n",
    "    json.dump(train_data_brains, json_file, indent=4)"
   ]
  },
  {
   "cell_type": "code",
   "execution_count": 14,
   "metadata": {},
   "outputs": [],
   "source": [
    "\n",
    "with open(r\"/data/aofei/hallucination/Slake/data/test.json\", \"r\") as f:\n",
    "    test_data = json.load(f)\n",
    "len(test_data)\n",
    "\n",
    "num_dict = dict()\n",
    "ids_dict = dict()\n",
    "for i in test_data:\n",
    "    organ = i['organ']\n",
    "    id = i['id']\n",
    "    if num_dict.__contains__(organ):\n",
    "        num_dict[organ] += 1\n",
    "    else:\n",
    "        num_dict[organ] = 1\n",
    "    \n",
    "    if ids_dict.__contains__(organ):\n",
    "        ids_dict[organ].append(id)\n",
    "    else:\n",
    "        ids_dict[organ] = [id]"
   ]
  },
  {
   "cell_type": "code",
   "execution_count": 15,
   "metadata": {},
   "outputs": [
    {
     "data": {
      "text/plain": [
       "{'Lung': 419,\n",
       " 'Abdomen': 313,\n",
       " 'Brain_Tissue': 166,\n",
       " 'Brain_Face': 29,\n",
       " 'Neck': 35,\n",
       " 'Brain': 42,\n",
       " 'Chest_mediastinal': 10,\n",
       " 'Pelvic Cavity': 47}"
      ]
     },
     "execution_count": 15,
     "metadata": {},
     "output_type": "execute_result"
    }
   ],
   "source": [
    "num_dict"
   ]
  },
  {
   "cell_type": "code",
   "execution_count": 16,
   "metadata": {},
   "outputs": [],
   "source": [
    "test_data_lungs, test_data_abds, test_data_brains = [], [], []\n",
    "for i in test_data:\n",
    "    if i['organ'] == 'Lung':\n",
    "        test_data_lungs.append(i)\n",
    "    elif i['organ'] == 'Abdomen':\n",
    "        test_data_abds.append(i)\n",
    "    elif i['organ'] == 'Brain' or i['organ'] == 'Brain_Tissue':\n",
    "        test_data_brains.append(i)"
   ]
  },
  {
   "cell_type": "code",
   "execution_count": 17,
   "metadata": {},
   "outputs": [
    {
     "data": {
      "text/plain": [
       "(419, 313, 208)"
      ]
     },
     "execution_count": 17,
     "metadata": {},
     "output_type": "execute_result"
    }
   ],
   "source": [
    "len(test_data_lungs), len(test_data_abds), len(test_data_brains)"
   ]
  },
  {
   "cell_type": "code",
   "execution_count": 19,
   "metadata": {},
   "outputs": [
    {
     "data": {
      "text/plain": [
       "{'image': 'xmlab401/source.jpg',\n",
       " 'id': 12534,\n",
       " 'organ': 'Brain_Tissue',\n",
       " 'answer_type': 'OPEN',\n",
       " 'conversations': [{'from': 'human',\n",
       "   'value': '<image>\\nWhich type of modality is shown about this image, MRI, CT or X-Ray?'},\n",
       "  {'from': 'gpt', 'value': 'CT'}]}"
      ]
     },
     "execution_count": 19,
     "metadata": {},
     "output_type": "execute_result"
    }
   ],
   "source": [
    "test_data_brains[0]"
   ]
  },
  {
   "cell_type": "code",
   "execution_count": 20,
   "metadata": {},
   "outputs": [],
   "source": [
    "with open('/data/aofei/hallucination/Slake/data/organ/test_brain.json', 'w') as json_file:\n",
    "    json.dump(test_data_brains, json_file, indent=4)\n",
    "with open('/data/aofei/hallucination/Slake/data/organ/test_lung.json', 'w') as json_file:\n",
    "    json.dump(test_data_lungs, json_file, indent=4)\n",
    "with open('/data/aofei/hallucination/Slake/data/organ/test_abd.json', 'w') as json_file:\n",
    "    json.dump(test_data_abds, json_file, indent=4)"
   ]
  },
  {
   "cell_type": "code",
   "execution_count": null,
   "metadata": {},
   "outputs": [],
   "source": []
  }
 ],
 "metadata": {
  "kernelspec": {
   "display_name": "medh",
   "language": "python",
   "name": "python3"
  },
  "language_info": {
   "codemirror_mode": {
    "name": "ipython",
    "version": 3
   },
   "file_extension": ".py",
   "mimetype": "text/x-python",
   "name": "python",
   "nbconvert_exporter": "python",
   "pygments_lexer": "ipython3",
   "version": "3.10.14"
  }
 },
 "nbformat": 4,
 "nbformat_minor": 2
}
