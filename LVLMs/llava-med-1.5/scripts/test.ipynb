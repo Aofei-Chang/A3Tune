{
 "cells": [
  {
   "cell_type": "code",
   "execution_count": null,
   "metadata": {},
   "outputs": [],
   "source": []
  },
  {
   "cell_type": "code",
   "execution_count": 1,
   "metadata": {},
   "outputs": [
    {
     "name": "stdout",
     "output_type": "stream",
     "text": [
      "Index of -200: (tensor([0], device='cuda:0'), tensor([34], device='cuda:0'))\n"
     ]
    }
   ],
   "source": [
    "import torch\n",
    "\n",
    "tensor_data = torch.tensor([[    1,   330, 10706,  1444,   264, 13903,  2188,   304,   396, 18278,\n",
    "         10895, 13892, 28723,   415, 13892,  5212, 10865, 28725, 10537, 28725,\n",
    "           304, 27057, 11194,   298,   272,  2188, 28742, 28713,  4224, 28723,\n",
    "          2223,   725, 28747, 28705,  -200, 28705,    13,  3195,   349,   272,\n",
    "          5843,   302,   272,  6371,  2705,   297,   272,  5754, 28804,  8602,\n",
    "          8048, 12738, 28747,  4747, 17534,     2]], device='cuda:0')\n",
    "# Find the index of -200\n",
    "result = torch.where(tensor_data == -200)\n",
    "\n",
    "# Display the result\n",
    "print(\"Index of -200:\", result)"
   ]
  },
  {
   "cell_type": "code",
   "execution_count": 4,
   "metadata": {},
   "outputs": [],
   "source": [
    "import torch\n",
    "\n",
    "path = \"/data/aofei/hallucination/mitigation/Slake/llava_med_1.5/ours_v1/all_v0/expert_4_8_rank16_lora_0_bbox_0.03/epoch6_seed4/checkpoints/non_lora_trainables.bin\"\n",
    "\n",
    "checkpoint = torch.load(path, map_location=\"cuda:0\")"
   ]
  },
  {
   "cell_type": "code",
   "execution_count": 5,
   "metadata": {},
   "outputs": [
    {
     "data": {
      "text/plain": [
       "tensor([-0.0179,  0.0125,  0.0081,  ..., -0.0222, -0.0186,  0.0278],\n",
       "       device='cuda:0', dtype=torch.bfloat16)"
      ]
     },
     "execution_count": 5,
     "metadata": {},
     "output_type": "execute_result"
    }
   ],
   "source": [
    "checkpoint['base_model.model.model.mm_projector.0.bias']"
   ]
  },
  {
   "cell_type": "code",
   "execution_count": 3,
   "metadata": {},
   "outputs": [
    {
     "data": {
      "text/plain": [
       "tensor([-0.0181,  0.0135,  0.0082,  ..., -0.0223, -0.0190,  0.0272],\n",
       "       device='cuda:0', dtype=torch.bfloat16)"
      ]
     },
     "execution_count": 3,
     "metadata": {},
     "output_type": "execute_result"
    }
   ],
   "source": [
    "checkpoint['base_model.model.model.mm_projector.0.bias']"
   ]
  },
  {
   "cell_type": "code",
   "execution_count": null,
   "metadata": {},
   "outputs": [],
   "source": []
  }
 ],
 "metadata": {
  "kernelspec": {
   "display_name": "medh",
   "language": "python",
   "name": "python3"
  },
  "language_info": {
   "codemirror_mode": {
    "name": "ipython",
    "version": 3
   },
   "file_extension": ".py",
   "mimetype": "text/x-python",
   "name": "python",
   "nbconvert_exporter": "python",
   "pygments_lexer": "ipython3",
   "version": "3.10.14"
  }
 },
 "nbformat": 4,
 "nbformat_minor": 2
}
