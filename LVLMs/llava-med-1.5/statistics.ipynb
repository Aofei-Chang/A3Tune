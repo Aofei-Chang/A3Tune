{
 "cells": [
  {
   "cell_type": "code",
   "execution_count": null,
   "metadata": {},
   "outputs": [],
   "source": [
    "def count_json_objects_in_file(file_path):\n",
    "    count = 0\n",
    "    try:\n",
    "        with open(file_path, 'r', encoding='utf-8') as file:\n",
    "            for line in file:\n",
    "                # Skip empty lines\n",
    "                if line.strip():\n",
    "                    count += 1\n",
    "    except FileNotFoundError:\n",
    "        print(f\"Error: File not found at path {file_path}\")\n",
    "    except Exception as e:\n",
    "        print(f\"An error occurred: {e}\")\n",
    "    \n",
    "    return count\n"
   ]
  },
  {
   "cell_type": "code",
   "execution_count": null,
   "metadata": {},
   "outputs": [],
   "source": [
    "# Example usage\n",
    "file_path = \"path/to/your/file.jsonl\"\n",
    "print(f\"Number of JSON objects: {count_json_objects_in_file(file_path)}\")"
   ]
  },
  {
   "cell_type": "code",
   "execution_count": 1,
   "metadata": {},
   "outputs": [],
   "source": [
    "import json\n",
    "\n",
    "def count_json_objects_in_file(file_path):\n",
    "    try:\n",
    "        with open(file_path, 'r', encoding='utf-8') as file:\n",
    "            data = json.load(file)\n",
    "            \n",
    "            # Check if the root object is a list\n",
    "            if isinstance(data, list):\n",
    "                return len(data)\n",
    "            else:\n",
    "                # If it's a single JSON object, count it as 1\n",
    "                return 1\n",
    "    except FileNotFoundError:\n",
    "        print(f\"Error: File not found at path {file_path}\")\n",
    "    except json.JSONDecodeError:\n",
    "        print(f\"Error: File is not a valid JSON.\")\n",
    "    except Exception as e:\n",
    "        print(f\"An error occurred: {e}\")\n",
    "    \n",
    "    return 0"
   ]
  },
  {
   "cell_type": "code",
   "execution_count": 3,
   "metadata": {},
   "outputs": [
    {
     "name": "stdout",
     "output_type": "stream",
     "text": [
      "Number of JSON objects: 4919\n",
      "Number of test JSON objects: 1061\n"
     ]
    }
   ],
   "source": [
    "# Example usage\n",
    "file_path = \"/data/aofei/hallucination/Slake/data/training_bboxes.json\"\n",
    "print(f\"Number of JSON objects: {count_json_objects_in_file(file_path)}\")\n",
    "test_file_path = \"/data/aofei/hallucination/Slake/data/test.json\"\n",
    "print(f\"Number of test JSON objects: {count_json_objects_in_file(test_file_path)}\")"
   ]
  },
  {
   "cell_type": "code",
   "execution_count": 4,
   "metadata": {},
   "outputs": [
    {
     "name": "stdout",
     "output_type": "stream",
     "text": [
      "Number of JSON objects: 1797\n",
      "Number of test JSON objects: 451\n"
     ]
    }
   ],
   "source": [
    "\n",
    "# Example usage\n",
    "file_path = \"/data/aofei/hallucination/VQA_RAD/data/training.json\"\n",
    "print(f\"Number of JSON objects: {count_json_objects_in_file(file_path)}\")\n",
    "test_file_path = \"/data/aofei/hallucination/VQA_RAD/data/test.json\"\n",
    "print(f\"Number of test JSON objects: {count_json_objects_in_file(test_file_path)}\")"
   ]
  },
  {
   "cell_type": "code",
   "execution_count": 5,
   "metadata": {},
   "outputs": [
    {
     "name": "stdout",
     "output_type": "stream",
     "text": [
      "Number of JSON objects: 19755\n",
      "Number of test JSON objects: 6761\n"
     ]
    }
   ],
   "source": [
    "\n",
    "# Example usage\n",
    "file_path = \"/data/aofei/hallucination/PathVQA/pvqa/training_masks_top4.json\"\n",
    "print(f\"Number of JSON objects: {count_json_objects_in_file(file_path)}\")\n",
    "test_file_path = \"/data/aofei/hallucination/PathVQA/pvqa/test.json\"\n",
    "print(f\"Number of test JSON objects: {count_json_objects_in_file(test_file_path)}\")"
   ]
  },
  {
   "cell_type": "code",
   "execution_count": 6,
   "metadata": {},
   "outputs": [
    {
     "name": "stdout",
     "output_type": "stream",
     "text": [
      "Number of JSON objects: 1789\n",
      "Number of test JSON objects: 784\n"
     ]
    }
   ],
   "source": [
    "\n",
    "# Example usage\n",
    "file_path = \"/data/aofei/hallucination/CARES/IU_Xray/training.json\"\n",
    "print(f\"Number of JSON objects: {count_json_objects_in_file(file_path)}\")\n",
    "test_file_path = \"/data/aofei/hallucination/CARES/IU_Xray/test.json\"\n",
    "print(f\"Number of test JSON objects: {count_json_objects_in_file(test_file_path)}\")"
   ]
  },
  {
   "cell_type": "code",
   "execution_count": 7,
   "metadata": {},
   "outputs": [
    {
     "name": "stdout",
     "output_type": "stream",
     "text": [
      "Number of JSON objects: 6155\n",
      "Number of test JSON objects: 2642\n"
     ]
    }
   ],
   "source": [
    "\n",
    "# Example usage\n",
    "file_path = \"/data/aofei/hallucination/CARES/OmniMedVQA/training_masks_top4.json\"\n",
    "print(f\"Number of JSON objects: {count_json_objects_in_file(file_path)}\")\n",
    "test_file_path = \"/data/aofei/hallucination/CARES/OmniMedVQA/test.json\"\n",
    "print(f\"Number of test JSON objects: {count_json_objects_in_file(test_file_path)}\")"
   ]
  },
  {
   "cell_type": "code",
   "execution_count": 8,
   "metadata": {},
   "outputs": [
    {
     "name": "stdout",
     "output_type": "stream",
     "text": [
      "Number of JSON objects: 2069\n",
      "Number of test JSON objects: 590\n"
     ]
    }
   ],
   "source": [
    "\n",
    "# Example usage\n",
    "file_path = \"/data/aofei/hallucination/IU_Xray/data_report/training_masks_top4.json\"\n",
    "print(f\"Number of JSON objects: {count_json_objects_in_file(file_path)}\")\n",
    "test_file_path = \"/data/aofei/hallucination/IU_Xray/data_report/test.json\"\n",
    "print(f\"Number of test JSON objects: {count_json_objects_in_file(test_file_path)}\")"
   ]
  },
  {
   "cell_type": "code",
   "execution_count": 9,
   "metadata": {},
   "outputs": [
    {
     "name": "stdout",
     "output_type": "stream",
     "text": [
      "Number of JSON objects: 1902\n",
      "Number of test JSON objects: 441\n"
     ]
    }
   ],
   "source": [
    "\n",
    "# Example usage\n",
    "file_path = \"/data/aofei/hallucination/MIMIC_CXR/data_report/training_masks_top4.json\"\n",
    "print(f\"Number of JSON objects: {count_json_objects_in_file(file_path)}\")\n",
    "test_file_path = \"/data/aofei/hallucination/MIMIC_CXR/data_report/test.json\"\n",
    "print(f\"Number of test JSON objects: {count_json_objects_in_file(test_file_path)}\")"
   ]
  },
  {
   "cell_type": "code",
   "execution_count": null,
   "metadata": {},
   "outputs": [],
   "source": []
  }
 ],
 "metadata": {
  "kernelspec": {
   "display_name": "medh",
   "language": "python",
   "name": "python3"
  },
  "language_info": {
   "codemirror_mode": {
    "name": "ipython",
    "version": 3
   },
   "file_extension": ".py",
   "mimetype": "text/x-python",
   "name": "python",
   "nbconvert_exporter": "python",
   "pygments_lexer": "ipython3",
   "version": "3.10.14"
  }
 },
 "nbformat": 4,
 "nbformat_minor": 2
}
