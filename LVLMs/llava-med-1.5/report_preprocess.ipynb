{
 "cells": [
  {
   "cell_type": "code",
   "execution_count": 5,
   "metadata": {},
   "outputs": [
    {
     "data": {
      "text/plain": [
       "dict_keys(['train', 'val', 'test'])"
      ]
     },
     "execution_count": 5,
     "metadata": {},
     "output_type": "execute_result"
    }
   ],
   "source": [
    "import json\n",
    "\n",
    "iu_path = \"/data/aofei/hallucination/IU_Xray/iu_xray/annotation.json\"\n",
    "iu_data = json.load(open(iu_path, \"r\"))\n",
    "iu_data.keys()"
   ]
  },
  {
   "cell_type": "code",
   "execution_count": 6,
   "metadata": {},
   "outputs": [
    {
     "data": {
      "text/plain": [
       "({'id': 'CXR2384_IM-0942',\n",
       "  'report': 'The heart size and pulmonary vascularity appear within normal limits. A large hiatal hernia is noted. The lungs are free of focal airspace disease. No pneumothorax or pleural effusion is seen. Degenerative changes are present in the spine.',\n",
       "  'image_path': ['CXR2384_IM-0942/0.png', 'CXR2384_IM-0942/1.png'],\n",
       "  'split': 'train'},\n",
       " 2069)"
      ]
     },
     "execution_count": 6,
     "metadata": {},
     "output_type": "execute_result"
    }
   ],
   "source": [
    "iu_data['train'][0], len(iu_data['train'])"
   ]
  },
  {
   "cell_type": "code",
   "execution_count": 7,
   "metadata": {},
   "outputs": [
    {
     "data": {
      "text/plain": [
       "0"
      ]
     },
     "execution_count": 7,
     "metadata": {},
     "output_type": "execute_result"
    }
   ],
   "source": [
    "s = 0\n",
    "for i in range(len(iu_data['train'])):\n",
    "    if len(iu_data['train'][i]['image_path']) == 1:\n",
    "        s += 1\n",
    "s"
   ]
  },
  {
   "cell_type": "code",
   "execution_count": 8,
   "metadata": {},
   "outputs": [
    {
     "data": {
      "text/plain": [
       "({'id': 'CXR3030_IM-1405',\n",
       "  'report': 'Normal cardiomediastinal silhouette. There is no focal consolidation. There are no XXXX of a large pleural effusion. There is no pneumothorax. There is no acute bony abnormality seen.',\n",
       "  'image_path': ['CXR3030_IM-1405/0.png', 'CXR3030_IM-1405/1.png'],\n",
       "  'split': 'test'},\n",
       " 590)"
      ]
     },
     "execution_count": 8,
     "metadata": {},
     "output_type": "execute_result"
    }
   ],
   "source": [
    "iu_data['test'][0], len(iu_data['test'])"
   ]
  },
  {
   "cell_type": "code",
   "execution_count": 9,
   "metadata": {},
   "outputs": [
    {
     "data": {
      "text/plain": [
       "({'image': 'CXR3835_IM-1938/0.png',\n",
       "  'id': 'CXR3835_IM-1938_train2068',\n",
       "  'conversations': [{'from': 'human',\n",
       "    'value': '<image>\\nAnalyze the chest X-ray and generate a concise medical report.'},\n",
       "   {'from': 'gpt',\n",
       "    'value': 'Lungs are clear bilaterally. There is no focal consolidation, pleural effusion, or pneumothoraces. There is widening adjacent to the right paratracheal stripe, most XXXX represents the SVC with rotated position. XXXX are unremarkable.'}]},\n",
       " 2069)"
      ]
     },
     "execution_count": 9,
     "metadata": {},
     "output_type": "execute_result"
    }
   ],
   "source": [
    "# qs = qs.replace(DEFAULT_IMAGE_TOKEN, '').strip()\n",
    "report_prompt_iu = \"Analyze the chest X-ray and generate a concise medical report.\"\n",
    "#training2\n",
    "iu_train_data = iu_data['train']\n",
    "new_iu_train_data = []\n",
    "s = 0\n",
    "for i in iu_train_data:\n",
    "    template = dict()\n",
    "    template['image'] = i['image_path'][0]\n",
    "    template['id'] = str(i['id']) + \"_train\" + str(s)\n",
    "    template['conversations'] = []\n",
    "    new_qa = {\"from\": \"human\", \"value\": \"<image>\\n\" + report_prompt_iu}\n",
    "    new_qa2 = {\"from\": \"gpt\", \"value\": i['report']}\n",
    "    template['conversations'] += [new_qa, new_qa2]\n",
    "    new_iu_train_data.append(template)\n",
    "    s+=1\n",
    "\n",
    "new_iu_train_data[-1], len(new_iu_train_data)"
   ]
  },
  {
   "cell_type": "code",
   "execution_count": 10,
   "metadata": {},
   "outputs": [
    {
     "data": {
      "text/plain": [
       "({'image': 'CXR49_IM-2110/0.png',\n",
       "  'id': 'CXR49_IM-2110_train589',\n",
       "  'conversations': [{'from': 'human',\n",
       "    'value': '<image>\\nAnalyze the chest X-ray and generate a concise medical report.'},\n",
       "   {'from': 'gpt',\n",
       "    'value': 'The heart, pulmonary XXXX and mediastinum are within normal limits. There is no pleural effusion or pneumothorax. There is no focal air space opacity to suggest a pneumonia. There are degenerative changes of the thoracic spine. There is a calcified granuloma identified in the right suprahilar region. The aorta is mildly tortuous and ectatic. There is asymmetric right apical smooth pleural thickening. There are severe degenerative changes of the XXXX.'}]},\n",
       " 590)"
      ]
     },
     "execution_count": 10,
     "metadata": {},
     "output_type": "execute_result"
    }
   ],
   "source": [
    "iu_test_data = iu_data['test']\n",
    "new_iu_test_data = []\n",
    "s = 0\n",
    "for i in iu_test_data:\n",
    "    template = dict()\n",
    "    template['image'] = i['image_path'][0]\n",
    "    template['id'] = str(i['id']) + \"_train\" + str(s)\n",
    "    template['conversations'] = []\n",
    "    new_qa = {\"from\": \"human\", \"value\": \"<image>\\n\" + report_prompt_iu}\n",
    "    new_qa2 = {\"from\": \"gpt\", \"value\": i['report']}\n",
    "    template['conversations'] += [new_qa, new_qa2]\n",
    "    new_iu_test_data.append(template)\n",
    "    s+=1\n",
    "\n",
    "new_iu_test_data[-1], len(new_iu_test_data)"
   ]
  },
  {
   "cell_type": "code",
   "execution_count": 11,
   "metadata": {},
   "outputs": [],
   "source": [
    "import json\n",
    "import csv\n",
    "train_path = '/data/aofei/hallucination/IU_Xray/data_report/training.json'\n",
    "test_path = '/data/aofei/hallucination/IU_Xray/data_report/test.json'\n",
    "# Save training data\n",
    "# print(len(new_iu_train_data))\n",
    "# with open(train_path, 'w') as train_file:\n",
    "#     json.dump(new_iu_train_data, train_file, indent=4)\n",
    "\n",
    "# # Save test data\n",
    "# print(len(new_iu_test_data))\n",
    "# with open(test_path, 'w') as test_file:\n",
    "#     json.dump(new_iu_test_data, test_file, indent=4)\n",
    "\n",
    "csv_test_path = '/data/aofei/hallucination/IU_Xray/data_report/test.csv'\n",
    "\n",
    "    # Write test data to CSV\n",
    "with open(csv_test_path, 'w', newline='') as csvfile:\n",
    "    fieldnames = ['study_id', 'report']\n",
    "    writer = csv.DictWriter(csvfile, fieldnames=fieldnames)\n",
    "\n",
    "    writer.writeheader()\n",
    "    for data in new_iu_test_data:\n",
    "        new_line = dict()\n",
    "        new_line['study_id'] = int(data['id'].split(\"train\")[-1])\n",
    "        new_line['report'] = data['conversations'][1]['value']\n",
    "        writer.writerow(new_line)"
   ]
  },
  {
   "cell_type": "code",
   "execution_count": 10,
   "metadata": {},
   "outputs": [
    {
     "data": {
      "text/plain": [
       "{'question_id': 'CXR3030_IM-1405_train0',\n",
       " 'prompt': '<image>\\nAnalyze the chest X-ray and generate a concise medical report.',\n",
       " 'text': 'Assistant: Heart size is normal. The lungs are clear. There is no pleural line to suggest pneumothorax or costophrenic XXXX blunting to suggest large pleural effusion. Bony structures are within normal limits.',\n",
       " 'gt': 'Normal cardiomediastinal silhouette. There is no focal consolidation. There are no XXXX of a large pleural effusion. There is no pneumothorax. There is no acute bony abnormality seen.',\n",
       " 'answer_id': 'CHoTw6eoyGHDKy3eDricq5',\n",
       " 'model_id': '/data/aofei/LLM/llava_med',\n",
       " 'metadata': {}}"
      ]
     },
     "execution_count": 10,
     "metadata": {},
     "output_type": "execute_result"
    }
   ],
   "source": [
    "pred_path = \"/data/aofei/hallucination/mitigation/IU_Xray/llava_med/lora_report/epoch4/seed4/inference/pred.jsonl\"\n",
    "with open(pred_path, \"r\") as f:\n",
    "    pred_data = [json.loads(line) for line in f]\n",
    "pred_data[0]"
   ]
  },
  {
   "cell_type": "code",
   "execution_count": 13,
   "metadata": {},
   "outputs": [],
   "source": [
    "\n",
    "csv_pred_path = '/data/aofei/hallucination/mitigation/IU_Xray/llava_med/lora_report/epoch4/seed4/inference/pred.csv'\n",
    "\n",
    "    # Write test data to CSV\n",
    "with open(csv_pred_path, 'w', newline='') as csvfile:\n",
    "    fieldnames = ['study_id', 'report']\n",
    "    writer = csv.DictWriter(csvfile, fieldnames=fieldnames)\n",
    "\n",
    "    writer.writeheader()\n",
    "    for data in pred_data:\n",
    "        new_line = dict()\n",
    "        new_line['study_id'] = int(data['question_id'].split(\"train\")[-1])\n",
    "        new_line['report'] = data['text'].strip(\"Assistant:\")\n",
    "        writer.writerow(new_line)"
   ]
  },
  {
   "cell_type": "code",
   "execution_count": 3,
   "metadata": {},
   "outputs": [
    {
     "data": {
      "text/plain": [
       "{'question_id': 'CXR3030_IM-1405_train0',\n",
       " 'prompt': '<image>\\nAnalyze the chest X-ray and generate a concise medical report.',\n",
       " 'text': 'Assistant: The heart is normal in size. The mediastinum is unremarkable. The lungs are clear.',\n",
       " 'gt': 'Normal cardiomediastinal silhouette. There is no focal consolidation. There are no XXXX of a large pleural effusion. There is no pneumothorax. There is no acute bony abnormality seen.',\n",
       " 'answer_id': 'HJC3RdZNazP4gzgdvtxPdE',\n",
       " 'model_id': '/data/aofei/LLM/llava_med',\n",
       " 'metadata': {}}"
      ]
     },
     "execution_count": 3,
     "metadata": {},
     "output_type": "execute_result"
    }
   ],
   "source": [
    "pred_path = \"/data/aofei/hallucination/mitigation/IU_Xray_report/llava_med/ours_v1/top128_balance_top3/all_expert_8_16_rank16/lora_0_bbox_0.06/epoch4_seed4/inference/pred_beam.jsonl\"\n",
    "with open(pred_path, \"r\") as f:\n",
    "    pred_data = [json.loads(line) for line in f]\n",
    "pred_data[0]"
   ]
  },
  {
   "cell_type": "code",
   "execution_count": 4,
   "metadata": {},
   "outputs": [],
   "source": [
    "csv_pred_path = '/data/aofei/hallucination/mitigation/IU_Xray_report/llava_med/ours_v1/top128_balance_top3/all_expert_8_16_rank16/lora_0_bbox_0.06/epoch4_seed4/inference/pred_beam.csv'\n",
    "\n",
    "    # Write test data to CSV\n",
    "with open(csv_pred_path, 'w', newline='') as csvfile:\n",
    "    fieldnames = ['study_id', 'report']\n",
    "    writer = csv.DictWriter(csvfile, fieldnames=fieldnames)\n",
    "\n",
    "    writer.writeheader()\n",
    "    for data in pred_data:\n",
    "        new_line = dict()\n",
    "        new_line['study_id'] = int(data['question_id'].split(\"train\")[-1])\n",
    "        new_line['report'] = data['text'].strip(\"Assistant:\")\n",
    "        writer.writerow(new_line)"
   ]
  },
  {
   "cell_type": "code",
   "execution_count": 1,
   "metadata": {},
   "outputs": [],
   "source": [
    "import json\n",
    "\n",
    "test_infer_path = \"/data/aofei/hallucination/IU_Xray/data_report/test.json\"\n",
    "test_infer_data = json.load(open(test_infer_path, \"r\")) "
   ]
  },
  {
   "cell_type": "code",
   "execution_count": 2,
   "metadata": {},
   "outputs": [
    {
     "data": {
      "text/plain": [
       "{'image': 'CXR3030_IM-1405/0.png',\n",
       " 'id': 'CXR3030_IM-1405_train0',\n",
       " 'conversations': [{'from': 'human',\n",
       "   'value': '<image>\\nAnalyze the chest X-ray and generate a concise medical report.'},\n",
       "  {'from': 'gpt',\n",
       "   'value': 'Normal cardiomediastinal silhouette. There is no focal consolidation. There are no XXXX of a large pleural effusion. There is no pneumothorax. There is no acute bony abnormality seen.'}]}"
      ]
     },
     "execution_count": 2,
     "metadata": {},
     "output_type": "execute_result"
    }
   ],
   "source": [
    "test_infer_data[0]"
   ]
  },
  {
   "cell_type": "code",
   "execution_count": 3,
   "metadata": {},
   "outputs": [],
   "source": [
    "report_prompt_iu = \"Analyze the chest X-ray and generate a medical report.\"\n",
    "new_test_infer_data = []\n",
    "for i in test_infer_data:\n",
    "    i['conversations'][0]['value'] = \"<image>\\n\" + report_prompt_iu\n",
    "    new_test_infer_data.append(i)"
   ]
  },
  {
   "cell_type": "code",
   "execution_count": 4,
   "metadata": {},
   "outputs": [],
   "source": [
    "new_test_infer_path = \"/data/aofei/hallucination/IU_Xray/data_report/original_inference/test.json\"\n",
    "with open(new_test_infer_path, 'w') as test_file:\n",
    "    json.dump(new_test_infer_data, test_file, indent=4)"
   ]
  },
  {
   "cell_type": "code",
   "execution_count": null,
   "metadata": {},
   "outputs": [],
   "source": []
  }
 ],
 "metadata": {
  "kernelspec": {
   "display_name": "medh",
   "language": "python",
   "name": "python3"
  },
  "language_info": {
   "codemirror_mode": {
    "name": "ipython",
    "version": 3
   },
   "file_extension": ".py",
   "mimetype": "text/x-python",
   "name": "python",
   "nbconvert_exporter": "python",
   "pygments_lexer": "ipython3",
   "version": "3.10.14"
  }
 },
 "nbformat": 4,
 "nbformat_minor": 2
}
