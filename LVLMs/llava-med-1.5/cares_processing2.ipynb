{
 "cells": [
  {
   "cell_type": "code",
   "execution_count": 1,
   "metadata": {},
   "outputs": [
    {
     "data": {
      "text/plain": [
       "{'conversations': [{'from': 'human',\n",
       "   'value': \"<image>\\nThis is a medical Question with several Options, and there is only one correct answer among these options. Please select the correct answer for the question. Remember, you can only select one option. The Question is:Which specific area of the body's surface is affected by the pigmented lesion shown in this dermatoscopic image?The candidate Options are:[A:genital, B:hand, C:back, D:trunk]\\n\"},\n",
       "  {'from': 'gpt', 'value': 'C:back'}],\n",
       " 'answer_type': 'CLOSED',\n",
       " 'image': 'ham10000_testset/ISIC_0035460.jpg',\n",
       " 'id': 'ISIC_0035460_test0'}"
      ]
     },
     "execution_count": 1,
     "metadata": {},
     "output_type": "execute_result"
    }
   ],
   "source": [
    "import json\n",
    "\n",
    "ham_test_path = \"/data/aofei/hallucination/CARES/HAM10000/test.json\"\n",
    "with open(ham_test_path, \"r\") as f:\n",
    "    ham_test = json.load(f)\n",
    "ham_test[0]"
   ]
  },
  {
   "cell_type": "code",
   "execution_count": 2,
   "metadata": {},
   "outputs": [],
   "source": [
    "cases_more_than_4_options = []\n",
    "for i in range(len(ham_test)):\n",
    "    ham_test[i][\"answer\"] = ham_test[i][\"conversations\"][1][\"value\"]\n",
    "    options = ham_test[i][\"conversations\"][0][\"value\"].split(\"The candidate Options are:\")[-1][1:].strip(\"]\\n\")\n",
    "    options = options.split(\", \")\n",
    "    if len(options) > 4:\n",
    "        cases_more_than_4_options.append(i)\n",
    "    ham_test[i][\"option_A\"] = options[0]\n",
    "    ham_test[i][\"option_B\"] = options[1] if len(options) > 1 else None\n",
    "    ham_test[i][\"option_C\"] = options[2] if len(options) > 2 else None\n",
    "    ham_test[i][\"option_D\"] = options[3] if len(options) > 3 else None\n"
   ]
  },
  {
   "cell_type": "code",
   "execution_count": 3,
   "metadata": {},
   "outputs": [
    {
     "data": {
      "text/plain": [
       "0"
      ]
     },
     "execution_count": 3,
     "metadata": {},
     "output_type": "execute_result"
    }
   ],
   "source": [
    "len(cases_more_than_4_options)"
   ]
  },
  {
   "cell_type": "code",
   "execution_count": 4,
   "metadata": {},
   "outputs": [
    {
     "data": {
      "text/plain": [
       "{'conversations': [{'from': 'human',\n",
       "   'value': \"<image>\\nThis is a medical Question with several Options, and there is only one correct answer among these options. Please select the correct answer for the question. Remember, you can only select one option. The Question is:Which specific area of the body's surface is affected by the pigmented lesion shown in this dermatoscopic image?The candidate Options are:[A:genital, B:hand, C:back, D:trunk]\\n\"},\n",
       "  {'from': 'gpt', 'value': 'C:back'}],\n",
       " 'answer_type': 'CLOSED',\n",
       " 'image': 'ham10000_testset/ISIC_0035460.jpg',\n",
       " 'id': 'ISIC_0035460_test0',\n",
       " 'answer': 'C:back',\n",
       " 'option_A': 'A:genital',\n",
       " 'option_B': 'B:hand',\n",
       " 'option_C': 'C:back',\n",
       " 'option_D': 'D:trunk'}"
      ]
     },
     "execution_count": 4,
     "metadata": {},
     "output_type": "execute_result"
    }
   ],
   "source": [
    "ham_test[0]"
   ]
  },
  {
   "cell_type": "code",
   "execution_count": 5,
   "metadata": {},
   "outputs": [],
   "source": [
    "ham_test_path = \"/data/aofei/hallucination/CARES/HAM10000/test_w_options.json\"\n",
    "with open(ham_test_path, \"w\") as f:\n",
    "    json.dump(ham_test, f, indent=2)"
   ]
  },
  {
   "cell_type": "code",
   "execution_count": null,
   "metadata": {},
   "outputs": [],
   "source": []
  },
  {
   "cell_type": "markdown",
   "metadata": {},
   "source": [
    "### Processing 02"
   ]
  },
  {
   "cell_type": "code",
   "execution_count": 7,
   "metadata": {},
   "outputs": [
    {
     "data": {
      "text/plain": [
       "{'conversations': [{'from': 'human',\n",
       "   'value': \"<image>\\nThis is a medical Question with several Options, and there is only one correct answer among these options. Please select the correct answer for the question. Remember, you can only select one option. The Question is:Which specific area of the body's surface is affected by the pigmented lesion shown in this dermatoscopic image?The candidate Options are:[A:genital, B:hand, C:back, D:trunk]\\n\"},\n",
       "  {'from': 'gpt', 'value': 'C:back'}],\n",
       " 'answer_type': 'CLOSED',\n",
       " 'image': 'ham10000_testset/ISIC_0035460.jpg',\n",
       " 'id': 'ISIC_0035460_test0',\n",
       " 'answer': 'C:back',\n",
       " 'option_A': 'A:genital',\n",
       " 'option_B': 'B:hand',\n",
       " 'option_C': 'C:back',\n",
       " 'option_D': 'D:trunk'}"
      ]
     },
     "execution_count": 7,
     "metadata": {},
     "output_type": "execute_result"
    }
   ],
   "source": [
    "import json\n",
    "\n",
    "ham_test_path = \"/data/aofei/hallucination/CARES/HAM10000/test_w_options.json\"\n",
    "with open(ham_test_path, \"r\") as f:\n",
    "    ham_test = json.load(f)\n",
    "ham_test[0]"
   ]
  },
  {
   "cell_type": "code",
   "execution_count": 8,
   "metadata": {},
   "outputs": [
    {
     "data": {
      "text/plain": [
       "{'image': 'ham10000_testset/ISIC_0034761.jpg',\n",
       " 'id': 'ISIC_0034761_train0',\n",
       " 'conversations': [{'from': 'human',\n",
       "   'value': \"<image>\\nThis is a medical Question with several Options, and there is only one correct answer among these options. Please select the correct answer for the question. Remember, you can only select one option. The Question is:Which part of the body's skin is affected by pigmented lesion in this dermoscopy image?The candidate Options are:[A:scalp, B:ear, C:upper extremity, D:lower extremity]\\n\"},\n",
       "  {'from': 'gpt', 'value': 'C:upper extremity'}]}"
      ]
     },
     "execution_count": 8,
     "metadata": {},
     "output_type": "execute_result"
    }
   ],
   "source": [
    "# ham_train_path = \"/data/aofei/hallucination/CARES/HAM10000/training_masks_top4.json\"\n",
    "ham_train_path = \"/data/aofei/hallucination/CARES/HAM10000/training.json\"\n",
    "with open(ham_train_path, \"r\") as f:\n",
    "    ham_train = json.load(f)\n",
    "ham_train[0]"
   ]
  },
  {
   "cell_type": "code",
   "execution_count": 9,
   "metadata": {},
   "outputs": [],
   "source": [
    "def modify_value(value):\n",
    "    value_split = value.split(\"The Question is:\")\n",
    "    return \"<image>\\n\" + value_split[-1]"
   ]
  },
  {
   "cell_type": "code",
   "execution_count": 10,
   "metadata": {},
   "outputs": [
    {
     "data": {
      "text/plain": [
       "{'image': 'ham10000_testset/ISIC_0034761.jpg',\n",
       " 'id': 'ISIC_0034761_train0',\n",
       " 'conversations': [{'from': 'human',\n",
       "   'value': \"<image>\\nWhich part of the body's skin is affected by pigmented lesion in this dermoscopy image?The candidate Options are:[A:scalp, B:ear, C:upper extremity, D:lower extremity]\\n\"},\n",
       "  {'from': 'gpt', 'value': 'C:upper extremity'}]}"
      ]
     },
     "execution_count": 10,
     "metadata": {},
     "output_type": "execute_result"
    }
   ],
   "source": [
    "for item in ham_train:\n",
    "    item[\"conversations\"][0][\"value\"] = modify_value(item[\"conversations\"][0][\"value\"])\n",
    "ham_train[0]"
   ]
  },
  {
   "cell_type": "code",
   "execution_count": 11,
   "metadata": {},
   "outputs": [
    {
     "data": {
      "text/plain": [
       "{'image': 'ham10000_testset/ISIC_0034761.jpg',\n",
       " 'id': 'ISIC_0034761_train0',\n",
       " 'conversations': [{'from': 'human',\n",
       "   'value': \"<image>\\nWhich part of the body's skin is affected by pigmented lesion in this dermoscopy image?The candidate Options are:[A:scalp, B:ear, C:upper extremity, D:lower extremity]\"},\n",
       "  {'from': 'gpt', 'value': 'C:upper extremity'}]}"
      ]
     },
     "execution_count": 11,
     "metadata": {},
     "output_type": "execute_result"
    }
   ],
   "source": [
    "for item in ham_train:\n",
    "    item[\"conversations\"][0][\"value\"] = item[\"conversations\"][0][\"value\"].strip(\"\\n\")\n",
    "ham_train[0]"
   ]
  },
  {
   "cell_type": "code",
   "execution_count": 12,
   "metadata": {},
   "outputs": [],
   "source": [
    "with open(ham_train_path, \"w\") as f:\n",
    "    json.dump(ham_train, f, indent=2)"
   ]
  },
  {
   "cell_type": "code",
   "execution_count": 13,
   "metadata": {},
   "outputs": [
    {
     "data": {
      "text/plain": [
       "{'conversations': [{'from': 'human',\n",
       "   'value': \"<image>\\nWhich specific area of the body's surface is affected by the pigmented lesion shown in this dermatoscopic image?The candidate Options are:[A:genital, B:hand, C:back, D:trunk]\"},\n",
       "  {'from': 'gpt', 'value': 'C:back'}],\n",
       " 'answer_type': 'CLOSED',\n",
       " 'image': 'ham10000_testset/ISIC_0035460.jpg',\n",
       " 'id': 'ISIC_0035460_test0',\n",
       " 'answer': 'C:back',\n",
       " 'option_A': 'A:genital',\n",
       " 'option_B': 'B:hand',\n",
       " 'option_C': 'C:back',\n",
       " 'option_D': 'D:trunk'}"
      ]
     },
     "execution_count": 13,
     "metadata": {},
     "output_type": "execute_result"
    }
   ],
   "source": [
    "for item in ham_test:\n",
    "    item[\"conversations\"][0][\"value\"] = modify_value(item[\"conversations\"][0][\"value\"]).strip(\"\\n\")\n",
    "ham_test[0]"
   ]
  },
  {
   "cell_type": "code",
   "execution_count": 14,
   "metadata": {},
   "outputs": [],
   "source": [
    "with open(ham_test_path, \"w\") as f:\n",
    "    json.dump(ham_test, f, indent=2)"
   ]
  },
  {
   "cell_type": "code",
   "execution_count": 15,
   "metadata": {},
   "outputs": [
    {
     "data": {
      "text/plain": [
       "set()"
      ]
     },
     "execution_count": 15,
     "metadata": {},
     "output_type": "execute_result"
    }
   ],
   "source": [
    "train_imgs = set([i[\"image\"] for i in ham_train])\n",
    "test_imgs = set([i[\"image\"] for i in ham_test])\n",
    "\n",
    "train_imgs.intersection(test_imgs)"
   ]
  },
  {
   "cell_type": "code",
   "execution_count": 21,
   "metadata": {},
   "outputs": [],
   "source": [
    "# train_imgs.difference(test_imgs)"
   ]
  },
  {
   "cell_type": "markdown",
   "metadata": {},
   "source": [
    "### Process 03, iu_xray"
   ]
  },
  {
   "cell_type": "code",
   "execution_count": 11,
   "metadata": {},
   "outputs": [
    {
     "data": {
      "text/plain": [
       "{'image': 'CXR3030_IM-1405/0.png',\n",
       " 'id': '0_train0',\n",
       " 'conversations': [{'from': 'human',\n",
       "   'value': '<image>\\nDoes the cardiomediastinal silhouette appear normal in the chest X-ray? Please choose from the following two options: [yes, no]'},\n",
       "  {'from': 'gpt', 'value': 'Yes.'}],\n",
       " 'bboxes': [[140, 25, 91, 208],\n",
       "  [133, 139, 64, 75],\n",
       "  [6, 22, 104, 207],\n",
       "  [140, 222, 13, 19]],\n",
       " 'masks': []}"
      ]
     },
     "execution_count": 11,
     "metadata": {},
     "output_type": "execute_result"
    }
   ],
   "source": [
    "iu_train_path = r\"/data/aofei/hallucination/CARES/IU_Xray/training_masks_top4.json\"\n",
    "with open(iu_train_path, \"r\") as f:\n",
    "    iu_train = json.load(f)\n",
    "iu_train[0]"
   ]
  },
  {
   "cell_type": "code",
   "execution_count": 12,
   "metadata": {},
   "outputs": [],
   "source": [
    "def modify_value_iu(value):\n",
    "    value_split = value.split(\"Please choose from\")\n",
    "    return value_split[0].strip()"
   ]
  },
  {
   "cell_type": "code",
   "execution_count": 13,
   "metadata": {},
   "outputs": [
    {
     "data": {
      "text/plain": [
       "{'image': 'CXR3030_IM-1405/0.png',\n",
       " 'id': '0_train0',\n",
       " 'conversations': [{'from': 'human',\n",
       "   'value': '<image>\\nDoes the cardiomediastinal silhouette appear normal in the chest X-ray?'},\n",
       "  {'from': 'gpt', 'value': 'Yes.'}],\n",
       " 'bboxes': [[140, 25, 91, 208],\n",
       "  [133, 139, 64, 75],\n",
       "  [6, 22, 104, 207],\n",
       "  [140, 222, 13, 19]],\n",
       " 'masks': []}"
      ]
     },
     "execution_count": 13,
     "metadata": {},
     "output_type": "execute_result"
    }
   ],
   "source": [
    "for item in iu_train:\n",
    "    item[\"conversations\"][0][\"value\"] = modify_value_iu(item[\"conversations\"][0][\"value\"])\n",
    "iu_train[0]"
   ]
  },
  {
   "cell_type": "code",
   "execution_count": 14,
   "metadata": {},
   "outputs": [
    {
     "data": {
      "text/plain": [
       "{'conversations': [{'from': 'human',\n",
       "   'value': '<image>\\nDoes the chest X-ray show an enlarged heart? Please choose from the following two options: [yes, no]'},\n",
       "  {'from': 'gpt', 'value': 'No.'}],\n",
       " 'answer_type': 'CLOSED',\n",
       " 'image': 'CXR1347_IM-0225/0.png',\n",
       " 'id': '0_test0'}"
      ]
     },
     "execution_count": 14,
     "metadata": {},
     "output_type": "execute_result"
    }
   ],
   "source": [
    "iu_test_path = r\"/data/aofei/hallucination/CARES/IU_Xray/w_instruct_test.json\"\n",
    "with open(iu_test_path, \"r\") as f:\n",
    "    iu_test = json.load(f)\n",
    "iu_test[0]"
   ]
  },
  {
   "cell_type": "code",
   "execution_count": 15,
   "metadata": {},
   "outputs": [
    {
     "data": {
      "text/plain": [
       "{'conversations': [{'from': 'human',\n",
       "   'value': '<image>\\nDoes the chest X-ray show an enlarged heart?'},\n",
       "  {'from': 'gpt', 'value': 'No.'}],\n",
       " 'answer_type': 'CLOSED',\n",
       " 'image': 'CXR1347_IM-0225/0.png',\n",
       " 'id': '0_test0'}"
      ]
     },
     "execution_count": 15,
     "metadata": {},
     "output_type": "execute_result"
    }
   ],
   "source": [
    "for item in iu_test:\n",
    "    item[\"conversations\"][0][\"value\"] = modify_value_iu(item[\"conversations\"][0][\"value\"])\n",
    "iu_test[0]"
   ]
  },
  {
   "cell_type": "code",
   "execution_count": 16,
   "metadata": {},
   "outputs": [],
   "source": [
    "with open(iu_train_path, \"w\") as f:\n",
    "    json.dump(iu_train, f, indent=2)"
   ]
  },
  {
   "cell_type": "code",
   "execution_count": 17,
   "metadata": {},
   "outputs": [],
   "source": [
    "iu_test_path = r\"/data/aofei/hallucination/CARES/IU_Xray/test.json\"\n",
    "with open(iu_test_path, \"w\") as f:\n",
    "    json.dump(iu_test, f, indent=2)"
   ]
  },
  {
   "cell_type": "code",
   "execution_count": null,
   "metadata": {},
   "outputs": [],
   "source": []
  },
  {
   "cell_type": "markdown",
   "metadata": {},
   "source": [
    "## OminiMedVQA"
   ]
  },
  {
   "cell_type": "code",
   "execution_count": 23,
   "metadata": {},
   "outputs": [],
   "source": [
    "\n",
    "# !pip install openxlab #安装\n",
    "\n",
    "# !pip install -U openxlab #版本升级\n"
   ]
  },
  {
   "cell_type": "code",
   "execution_count": 24,
   "metadata": {},
   "outputs": [
    {
     "data": {
      "text/html": [
       "<pre style=\"white-space:pre;overflow-x:auto;line-height:normal;font-family:Menlo,'DejaVu Sans Mono',consolas,'Courier New',monospace\">+-----------+-----------------------------------------------------------------------------------------------------+\n",
       "|<span style=\"color: #008080; text-decoration-color: #008080; font-weight: bold\"> Field     </span>|<span style=\"color: #008080; text-decoration-color: #008080; font-weight: bold\"> Content                                                                                             </span>|\n",
       "+-----------+-----------------------------------------------------------------------------------------------------+\n",
       "| Name      | GMAI/OmniMedVQA                                                                                     |\n",
       "+-----------+-----------------------------------------------------------------------------------------------------+\n",
       "| Introduct |                                                                                                     |\n",
       "| ion       |                                                                                                     |\n",
       "+-----------+-----------------------------------------------------------------------------------------------------+\n",
       "| Author    |                                                                                                     |\n",
       "+-----------+-----------------------------------------------------------------------------------------------------+\n",
       "| Data Type |                                                                                                     |\n",
       "+-----------+-----------------------------------------------------------------------------------------------------+\n",
       "| Label     |                                                                                                     |\n",
       "| Type      |                                                                                                     |\n",
       "+-----------+-----------------------------------------------------------------------------------------------------+\n",
       "| Task Type |                                                                                                     |\n",
       "+-----------+-----------------------------------------------------------------------------------------------------+\n",
       "| File List |  Total Size: 10.0G                                                                                  |\n",
       "|           |  +---------------------+---------+                                                                  |\n",
       "|           |  |<span style=\"color: #008080; text-decoration-color: #008080\"> File                </span>|<span style=\"color: #008080; text-decoration-color: #008080\">    Size </span>|                                                                  |\n",
       "|           |  +---------------------+---------+                                                                  |\n",
       "|           |  | - /                 |         |                                                                  |\n",
       "|           |  +---------------------+---------+                                                                  |\n",
       "|           |  |    - README.md      |   7.47K |                                                                  |\n",
       "|           |  +---------------------+---------+                                                                  |\n",
       "|           |  |    - metafile.yaml  | 156.00B |                                                                  |\n",
       "|           |  +---------------------+---------+                                                                  |\n",
       "|           |  | - /raw/             |         |                                                                  |\n",
       "|           |  +---------------------+---------+                                                                  |\n",
       "|           |  |    - OmniMedVQA.zip |   9.96G |                                                                  |\n",
       "|           |  +---------------------+---------+                                                                  |\n",
       "+-----------+-----------------------------------------------------------------------------------------------------+\n",
       "</pre>\n"
      ],
      "text/plain": [
       "+-----------+-----------------------------------------------------------------------------------------------------+\n",
       "|\u001b[1;36m \u001b[0m\u001b[1;36mField\u001b[0m\u001b[1;36m    \u001b[0m\u001b[1;36m \u001b[0m|\u001b[1;36m \u001b[0m\u001b[1;36mContent\u001b[0m\u001b[1;36m                                                                                            \u001b[0m\u001b[1;36m \u001b[0m|\n",
       "+-----------+-----------------------------------------------------------------------------------------------------+\n",
       "| Name      | GMAI/OmniMedVQA                                                                                     |\n",
       "+-----------+-----------------------------------------------------------------------------------------------------+\n",
       "| Introduct |                                                                                                     |\n",
       "| ion       |                                                                                                     |\n",
       "+-----------+-----------------------------------------------------------------------------------------------------+\n",
       "| Author    |                                                                                                     |\n",
       "+-----------+-----------------------------------------------------------------------------------------------------+\n",
       "| Data Type |                                                                                                     |\n",
       "+-----------+-----------------------------------------------------------------------------------------------------+\n",
       "| Label     |                                                                                                     |\n",
       "| Type      |                                                                                                     |\n",
       "+-----------+-----------------------------------------------------------------------------------------------------+\n",
       "| Task Type |                                                                                                     |\n",
       "+-----------+-----------------------------------------------------------------------------------------------------+\n",
       "| File List |  Total Size: 10.0G                                                                                  |\n",
       "|           |  +---------------------+---------+                                                                  |\n",
       "|           |  |\u001b[36m \u001b[0m\u001b[36mFile               \u001b[0m\u001b[36m \u001b[0m|\u001b[36m \u001b[0m\u001b[36m   Size\u001b[0m\u001b[36m \u001b[0m|                                                                  |\n",
       "|           |  +---------------------+---------+                                                                  |\n",
       "|           |  | - /                 |         |                                                                  |\n",
       "|           |  +---------------------+---------+                                                                  |\n",
       "|           |  |    - README.md      |   7.47K |                                                                  |\n",
       "|           |  +---------------------+---------+                                                                  |\n",
       "|           |  |    - metafile.yaml  | 156.00B |                                                                  |\n",
       "|           |  +---------------------+---------+                                                                  |\n",
       "|           |  | - /raw/             |         |                                                                  |\n",
       "|           |  +---------------------+---------+                                                                  |\n",
       "|           |  |    - OmniMedVQA.zip |   9.96G |                                                                  |\n",
       "|           |  +---------------------+---------+                                                                  |\n",
       "+-----------+-----------------------------------------------------------------------------------------------------+\n"
      ]
     },
     "metadata": {},
     "output_type": "display_data"
    },
    {
     "data": {
      "text/plain": [
       "{'Name': 'GMAI/OmniMedVQA',\n",
       " 'Introduction': '',\n",
       " 'Author': '',\n",
       " 'Data Type': '',\n",
       " 'Label Type': '',\n",
       " 'Task Type': '',\n",
       " 'File List': {'Total size': '10.0G',\n",
       "  '/': {'README.md': '7.47K', 'metafile.yaml': '156.00B'},\n",
       "  '/raw/': {'OmniMedVQA.zip': '9.96G'}}}"
      ]
     },
     "execution_count": 24,
     "metadata": {},
     "output_type": "execute_result"
    }
   ],
   "source": [
    "\n",
    "import openxlab\n",
    "openxlab.login(ak=\"mard9wdyj7egr72qejey\", sk=\"elj5q3vlx1p72gnknjnjveljokdpqdvnjaybwe08\") #进行登录，输入对应的AK/SK\n",
    "\n",
    "from openxlab.dataset import info\n",
    "info(dataset_repo='GMAI/OmniMedVQA') #数据集信息及文件列表查看"
   ]
  },
  {
   "cell_type": "code",
   "execution_count": 25,
   "metadata": {},
   "outputs": [
    {
     "data": {
      "text/html": [
       "<pre style=\"white-space:pre;overflow-x:auto;line-height:normal;font-family:Menlo,'DejaVu Sans Mono',consolas,'Courier New',monospace\">Fetching the list of datasets<span style=\"color: #808000; text-decoration-color: #808000\">...</span>\n",
       "</pre>\n"
      ],
      "text/plain": [
       "Fetching the list of datasets\u001b[33m...\u001b[0m\n"
      ]
     },
     "metadata": {},
     "output_type": "display_data"
    },
    {
     "data": {
      "text/html": [
       "<pre style=\"white-space:pre;overflow-x:auto;line-height:normal;font-family:Menlo,'DejaVu Sans Mono',consolas,'Courier New',monospace\">Downloading <span style=\"color: #008080; text-decoration-color: #008080; font-weight: bold\">3</span> files: \n",
       "</pre>\n"
      ],
      "text/plain": [
       "Downloading \u001b[1;36m3\u001b[0m files: \n"
      ]
     },
     "metadata": {},
     "output_type": "display_data"
    },
    {
     "data": {
      "text/html": [
       "<pre style=\"white-space:pre;overflow-x:auto;line-height:normal;font-family:Menlo,'DejaVu Sans Mono',consolas,'Courier New',monospace\"><span style=\"color: #008080; text-decoration-color: #008080; font-weight: bold\">1</span>. file: README.md, size: <span style=\"color: #008080; text-decoration-color: #008080; font-weight: bold\">7.</span>47K, progress: <span style=\"color: #008080; text-decoration-color: #008080; font-weight: bold\">100</span>%\n",
       "</pre>\n"
      ],
      "text/plain": [
       "\u001b[1;36m1\u001b[0m. file: README.md, size: \u001b[1;36m7.\u001b[0m47K, progress: \u001b[1;36m100\u001b[0m%\n"
      ]
     },
     "metadata": {},
     "output_type": "display_data"
    },
    {
     "data": {
      "text/html": [
       "<pre style=\"white-space:pre;overflow-x:auto;line-height:normal;font-family:Menlo,'DejaVu Sans Mono',consolas,'Courier New',monospace\">Total progress: <span style=\"color: #008080; text-decoration-color: #008080; font-weight: bold\">0</span>%, total files:<span style=\"color: #008080; text-decoration-color: #008080; font-weight: bold\">1</span>/<span style=\"color: #008080; text-decoration-color: #008080; font-weight: bold\">3</span>, downloaded size: <span style=\"color: #008080; text-decoration-color: #008080; font-weight: bold\">7.</span>5K, total size: <span style=\"color: #008080; text-decoration-color: #008080; font-weight: bold\">10.</span>0G</pre>\n"
      ],
      "text/plain": [
       "Total progress: \u001b[1;36m0\u001b[0m%, total files:\u001b[1;36m1\u001b[0m/\u001b[1;36m3\u001b[0m, downloaded size: \u001b[1;36m7.\u001b[0m5K, total size: \u001b[1;36m10.\u001b[0m0G"
      ]
     },
     "metadata": {},
     "output_type": "display_data"
    },
    {
     "name": "stdout",
     "output_type": "stream",
     "text": [
      "\u001b[2K\r"
     ]
    },
    {
     "data": {
      "text/html": [
       "<pre style=\"white-space:pre;overflow-x:auto;line-height:normal;font-family:Menlo,'DejaVu Sans Mono',consolas,'Courier New',monospace\"><span style=\"color: #008080; text-decoration-color: #008080; font-weight: bold\">2</span>. file: metafile.yaml, size: <span style=\"color: #008080; text-decoration-color: #008080; font-weight: bold\">156.</span>00B, progress: <span style=\"color: #008080; text-decoration-color: #008080; font-weight: bold\">100</span>%\n",
       "</pre>\n"
      ],
      "text/plain": [
       "\u001b[1;36m2\u001b[0m. file: metafile.yaml, size: \u001b[1;36m156.\u001b[0m00B, progress: \u001b[1;36m100\u001b[0m%\n"
      ]
     },
     "metadata": {},
     "output_type": "display_data"
    },
    {
     "data": {
      "text/html": [
       "<pre style=\"white-space:pre;overflow-x:auto;line-height:normal;font-family:Menlo,'DejaVu Sans Mono',consolas,'Courier New',monospace\">Total progress: <span style=\"color: #008080; text-decoration-color: #008080; font-weight: bold\">0</span>%, total files:<span style=\"color: #008080; text-decoration-color: #008080; font-weight: bold\">2</span>/<span style=\"color: #008080; text-decoration-color: #008080; font-weight: bold\">3</span>, downloaded size: <span style=\"color: #008080; text-decoration-color: #008080; font-weight: bold\">7.</span>6K, total size: <span style=\"color: #008080; text-decoration-color: #008080; font-weight: bold\">10.</span>0G</pre>\n"
      ],
      "text/plain": [
       "Total progress: \u001b[1;36m0\u001b[0m%, total files:\u001b[1;36m2\u001b[0m/\u001b[1;36m3\u001b[0m, downloaded size: \u001b[1;36m7.\u001b[0m6K, total size: \u001b[1;36m10.\u001b[0m0G"
      ]
     },
     "metadata": {},
     "output_type": "display_data"
    },
    {
     "name": "stdout",
     "output_type": "stream",
     "text": [
      "\n",
      "[3. file: OmniMedVQA.zip download info] File Progress: 99.99 % | Speed: 3.7 MB/s | Number of Workers: 1 | Time Elapsed: 760s | ETA: 0.41ssss9999.88s"
     ]
    },
    {
     "ename": "SystemExit",
     "evalue": "1",
     "output_type": "error",
     "traceback": [
      "An exception has occurred, use %tb to see the full traceback.\n",
      "\u001b[0;31mSystemExit\u001b[0m\u001b[0;31m:\u001b[0m 1\n"
     ]
    },
    {
     "name": "stderr",
     "output_type": "stream",
     "text": [
      "/data/aofei/conda/env/medh/lib/python3.10/site-packages/IPython/core/interactiveshell.py:3585: UserWarning: To exit: use 'exit', 'quit', or Ctrl-D.\n",
      "  warn(\"To exit: use 'exit', 'quit', or Ctrl-D.\", stacklevel=1)\n"
     ]
    }
   ],
   "source": [
    "from openxlab.dataset import get\n",
    "get(dataset_repo='GMAI/OmniMedVQA', target_path='/data/aofei/hallucination/OmniMedVQA')  # 数据集下载\n",
    "\n",
    "from openxlab.dataset import download\n",
    "download(dataset_repo='GMAI/OmniMedVQA',source_path='/README.md', target_path='/data/aofei/hallucination/OmniMedVQA') #数据集文件下载"
   ]
  },
  {
   "cell_type": "code",
   "execution_count": null,
   "metadata": {},
   "outputs": [],
   "source": []
  }
 ],
 "metadata": {
  "kernelspec": {
   "display_name": "medh",
   "language": "python",
   "name": "python3"
  },
  "language_info": {
   "codemirror_mode": {
    "name": "ipython",
    "version": 3
   },
   "file_extension": ".py",
   "mimetype": "text/x-python",
   "name": "python",
   "nbconvert_exporter": "python",
   "pygments_lexer": "ipython3",
   "version": "3.10.14"
  }
 },
 "nbformat": 4,
 "nbformat_minor": 2
}
