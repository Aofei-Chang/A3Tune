{
 "cells": [
  {
   "cell_type": "code",
   "execution_count": 1,
   "metadata": {},
   "outputs": [
    {
     "data": {
      "text/plain": [
       "{'id': 'CXR2079_IM-0711/0.png',\n",
       " 'image': 'CXR2079_IM-0711/0.png',\n",
       " 'conversations': [{'from': 'human',\n",
       "   'value': 'You are provided with a chest X-ray image, a image-related question and 1 reference report(s): Stable cardiomediastinal silhouette. Stable XXXX opacity in the left base, XXXX scarring or atelectasis. Rounded calcified density in the left lung base, XXXX calcified granuloma. No XXXX consolidation. No pleural effusion or pneumothorax. Stable degenerative changes of the spine.\\nPlease answer the question based on the image and report and choose from the following two options: [yes, no]. It should be noted that the diagnostic information in the reference reports cannot be directly used as the basis for diagnosis, but should only be used for reference and comparison. Question: Is there any focal airspace opacity present?\\n<image>'},\n",
       "  {'from': 'gpt',\n",
       "   'value': 'The chest x-ray does not show any focal airspace opacity.'}],\n",
       " 'rejected_conversations': [{'from': 'human',\n",
       "   'value': 'You are provided with a chest X-ray image, a image-related question and 1 reference report(s): Stable cardiomediastinal silhouette. Stable XXXX opacity in the left base, XXXX scarring or atelectasis. Rounded calcified density in the left lung base, XXXX calcified granuloma. No XXXX consolidation. No pleural effusion or pneumothorax. Stable degenerative changes of the spine.\\nPlease answer the question based on the image and report and choose from the following two options: [yes, no]. It should be noted that the diagnostic information in the reference reports cannot be directly used as the basis for diagnosis, but should only be used for reference and comparison. Question: Is there any focal airspace opacity present?\\n<image>'},\n",
       "  {'from': 'gpt',\n",
       "   'value': 'Yes, there is a focal airspace opacity present in the left base of the lung.'}]}"
      ]
     },
     "execution_count": 1,
     "metadata": {},
     "output_type": "execute_result"
    }
   ],
   "source": [
    "import json\n",
    "iu_data = \"/data/aofei/hallucination/RULE/training/alignment/iuxray.json\"\n",
    "iu_data = json.load(open(iu_data))\n",
    "iu_data[0]"
   ]
  },
  {
   "cell_type": "code",
   "execution_count": 2,
   "metadata": {},
   "outputs": [
    {
     "data": {
      "text/plain": [
       "{'id': 'CXR2079_IM-0711/0.png',\n",
       " 'image': 'CXR2079_IM-0711/0.png',\n",
       " 'conversations': [{'from': 'human',\n",
       "   'value': '<image>\\n Is there any focal airspace opacity present?'},\n",
       "  {'from': 'gpt',\n",
       "   'value': 'The chest x-ray does not show any focal airspace opacity.'}]}"
      ]
     },
     "execution_count": 2,
     "metadata": {},
     "output_type": "execute_result"
    }
   ],
   "source": [
    "iu_data2 = []\n",
    "for i in iu_data:\n",
    "    question_wp = i[\"conversations\"][0][\"value\"]\n",
    "    template = i.copy()\n",
    "    question = question_wp.split(\"Question:\")[-1].strip(\"\\n<image>\")\n",
    "    question = \"<image>\\n\" + question\n",
    "    template[\"conversations\"][0][\"value\"] = question\n",
    "    del template[\"rejected_conversations\"]\n",
    "    iu_data2.append(template)\n",
    "\n",
    "iu_data2[0]"
   ]
  },
  {
   "cell_type": "code",
   "execution_count": 4,
   "metadata": {},
   "outputs": [
    {
     "data": {
      "text/plain": [
       "(1579,\n",
       " {'id': 'CXR925_IM-2425/0.png',\n",
       "  'image': 'CXR925_IM-2425/0.png',\n",
       "  'conversations': [{'from': 'human',\n",
       "    'value': '<image>\\n Does the chest X-ray image show increased interstitial lung changes?'},\n",
       "   {'from': 'gpt',\n",
       "    'value': 'Yes, the chest X-ray image shows increased interstitial lung changes.'}]})"
      ]
     },
     "execution_count": 4,
     "metadata": {},
     "output_type": "execute_result"
    }
   ],
   "source": [
    "len(iu_data2), iu_data2[100]"
   ]
  },
  {
   "cell_type": "code",
   "execution_count": 9,
   "metadata": {},
   "outputs": [
    {
     "data": {
      "text/plain": [
       "(1579,\n",
       " {'id': 'CXR499_IM-2116/0.png',\n",
       "  'image': 'CXR499_IM-2116/0.png',\n",
       "  'conversations': [{'from': 'human',\n",
       "    'value': '<image>\\n Is the heart size abnormal as seen on the chest X-ray?'},\n",
       "   {'from': 'gpt',\n",
       "    'value': 'No, the heart size appears to be normal in the chest X-ray image.'}]})"
      ]
     },
     "execution_count": 9,
     "metadata": {},
     "output_type": "execute_result"
    }
   ],
   "source": [
    "len(iu_data2), iu_data2[48]"
   ]
  },
  {
   "cell_type": "code",
   "execution_count": 6,
   "metadata": {},
   "outputs": [],
   "source": [
    "import json\n",
    "iu_test_path = \"/data/aofei/hallucination/RULE/test/iuxray_test.jsonl\"\n",
    "iu_test = [json.loads(line) for line in open(iu_test_path)]"
   ]
  },
  {
   "cell_type": "code",
   "execution_count": 7,
   "metadata": {},
   "outputs": [
    {
     "data": {
      "text/plain": [
       "{'question': 'Does the cardiomediastinal silhouette appear normal in the chest X-ray? \\n<image>',\n",
       " 'answer': 'Yes.',\n",
       " 'image': 'CXR3030_IM-1405/0.png',\n",
       " 'question_id': 1,\n",
       " 'text': 'Does the cardiomediastinal silhouette appear normal in the chest X-ray? Please choose from the following two options: [yes, no]\\n<image>',\n",
       " 'report': 'Normal cardiomediastinal silhouette. There is no focal consolidation. There are no XXXX of a large pleural effusion. There is no pneumothorax. There is no acute bony abnormality seen.'}"
      ]
     },
     "execution_count": 7,
     "metadata": {},
     "output_type": "execute_result"
    }
   ],
   "source": [
    "iu_test[0]"
   ]
  },
  {
   "cell_type": "code",
   "execution_count": 14,
   "metadata": {},
   "outputs": [
    {
     "data": {
      "text/plain": [
       "{'image': 'CXR49_IM-2110/0.png',\n",
       " 'id': '2573_test2572',\n",
       " 'answer_type': 'CLOSED',\n",
       " 'conversations': [{'from': 'human',\n",
       "   'value': '<image>\\nAre the mediastinal contours within normal limits?'},\n",
       "  {'from': 'gpt',\n",
       "   'value': 'Yes, since the report does not mention any abnormalities of the mediastinum.'}]}"
      ]
     },
     "execution_count": 14,
     "metadata": {},
     "output_type": "execute_result"
    }
   ],
   "source": [
    "new_test_data = []\n",
    "s = 0\n",
    "for i in iu_test:\n",
    "    template = dict()\n",
    "    template['image'] = i['image']\n",
    "    template['id'] = str(i['question_id']) + \"_test\" + str(s)\n",
    "    template[\"answer_type\"] = \"CLOSED\"\n",
    "    template['conversations'] = []\n",
    "    new_qa = {\"from\": \"human\", \"value\": \"<image>\\n\" + i['text'].split(\"Please choose\")[0].strip()}\n",
    "    new_qa2 = {\"from\": \"gpt\", \"value\": str(i['answer'])}\n",
    "    template['conversations'] += [new_qa, new_qa2]\n",
    "    new_test_data.append(template)\n",
    "    s+=1\n",
    "    \n",
    "\n",
    "new_test_data[-1]"
   ]
  },
  {
   "cell_type": "code",
   "execution_count": 15,
   "metadata": {},
   "outputs": [],
   "source": [
    "iu_train_path = \"/data/aofei/hallucination/RULE/training/alignment/IU_Xray/training.json\"\n",
    "iu_test_path = \"/data/aofei/hallucination/RULE/training/alignment/IU_Xray/test.json\"\n",
    "\n",
    "with open(iu_train_path, 'w') as train_file:\n",
    "    json.dump(iu_data2, train_file, indent=2)\n",
    "with open(iu_test_path, 'w') as test_file:\n",
    "    json.dump(new_test_data, test_file, indent=2)"
   ]
  },
  {
   "cell_type": "code",
   "execution_count": 12,
   "metadata": {},
   "outputs": [
    {
     "name": "stdout",
     "output_type": "stream",
     "text": [
      "0 The report does not mention chronic conditions, so the answer based on the report provided would be No or Unable to determine if not strictly considering the information given in the report.\n",
      "1 The report does not specify, so I cannot provide a yes or no answer based solely on \"acute abnormalities.\"\n",
      "2 The report does not mention any masses or nodules, so the answer would be no.\n",
      "3 This information is not provided in the report, so I cannot provide a yes or no answer.\n",
      "4 \n",
      "5 The report does not directly state anything about the pulmonary vessels, but the indication that the lungs are clear may suggest that there is no obvious abnormality with the pulmonary vasculature, typically resulting in a \"Yes.\" However, without a specific comment on pulmonary vessels, it is not possible to provide a definitive answer.\n",
      "6 The report doesn't mention it, so likely no.\n",
      "7 The report does not mention masses or nodules, suggesting that the answer is likely no, but technically this question cannot be answered definitively with a yes or no without further context from the report or the image.\n",
      "8 The XXXX in the text most likely represents a redacted or unclear word, but since the conclusion is that there's no large pleural effusion, the answer is \"No.\")\n",
      "9 Information not provided in the report (the report only mentions \"lungs are clear,\" which does not necessarily exclude chronic lung diseases).\n",
      "10 The report does not mention the chest wall, so cannot be determined from the provided information.\n",
      "11 1. Does the patient's chest X-ray show any evidence of lung consolidation?\n",
      "12 The report does not mention any, so the answer would be no based on the provided information.\n",
      "13 The report does not mention prior surgical interventions, so the answer would be no based on the provided information.\n",
      "14 It's not explicit in the provided report, but generally, if the report indicates no acute abnormality, then the answer would likely be No.\n",
      "15 The report doesn't explicitly state this, but it can be interpreted as normal since the lungs are clear and no pleural effusion is mentioned.\n",
      "16 - No.\n",
      "17 - No.\n",
      "18 - No.\n",
      "19 It's unclear what \"XXXX XXXX\" refers to; this seems to be a placeholder or redaction in your provided text. Therefore, I cannot provide a yes or no answer to this question without additional context. If \"XXXX XXXX\" represents a structure such as the diaphragm or bony thorax, then the question would need to be specific to that structure to answer definitively.\n",
      "20 The report does not mention pleural thickening, so the answer cannot be determined from the given information.\n",
      "21 The report does not mention any, so based on the provided report, the answer would be no.\n",
      "22 - Yes\n",
      "23 - No\n",
      "24 - No\n",
      "25 - No\n",
      "26 - Yes (assuming \"XXXX\" was meant to be a placeholder for another structure or aspect of the X-ray that is normal)\n",
      "27 - Yes.\n",
      "28 - Yes.\n",
      "29 - No.\n",
      "30 - Yes.\n",
      "31 2. Are the hilum contours normal on the chest X-ray? - Yes\n",
      "32 4. Is there any evidence of pleural effusion on the chest X-ray? - No\n",
      "33 6. Do the findings suggest a history of granulomatous disease? - Yes\n",
      "34 8. Is there any acute osseous abnormality present? - No\n",
      "35 10. Does the chest X-ray indicate any immediate need for surgical intervention? - No\n",
      "36 It depends on context and underlying conditions; radiologists often use comparison with previous imagery, clinical correlation, and patient history to determine if a finding is atypical. This question cannot be answered with Yes or No without additional context on what is considered 'typical.'\n",
      "37 - Yes\n",
      "38 - No\n",
      "39 - Yes\n",
      "40 - No\n",
      "41 - No\n",
      "42 - Yes\n",
      "43 - Yes\n",
      "44 - Yes\n",
      "45 - No\n",
      "46 - Yes, as small calcified lymph nodes are noted.\n",
      "47 Since the report mentions \"stable cardiomegaly and mediastinal contour\" without indicating it as abnormal, it's not clear. This answer would require further clarification. Typically, cardiomegaly indicates an abnormality but the descriptor \"stable\" could mean it's an unchanged finding from prior studies.\n",
      "48 The question cannot be answered with a simple yes or no without having access to the previous images for comparison.\n",
      "49 - Yes\n",
      "50 - Yes\n",
      "51 - Yes\n",
      "52 - Yes\n",
      "53 - No\n",
      "54 Based on the phrase \"XXXX stable,\" it suggests that there has not been a change, so the answer would likely be No.\n",
      "55 The report does not mention lung nodules, so the answer would be No based on the information given.\n",
      "56 2. Are the lungs well aerated according to the chest X-ray? - Yes\n",
      "57 4. Can a pleural effusion be seen on the chest X-ray? - No\n",
      "58 6. Is the right middle lobe collapse more distinct compared to the prior study on this chest X-ray? - No\n",
      "59 8. Is mediastinal widening observed on the chest X-ray? - No\n",
      "60 10. Does the chest X-ray show any improvement in the right middle lobe collapse compared to the prior study? - Yes\n",
      "61 - Yes.\n",
      "62 - No.\n",
      "63 - No.\n",
      "64 - No.\n",
      "65 - Yes (moderate degenerative changes).\n",
      "66 - Yes (mild loss).\n",
      "67 - No (it is described as having a stable appearance).\n",
      "68 The provided report does not mention lung masses or nodules, so the answer cannot be determined from the given information.\n",
      "69 The report does not mention pleural effusion, so the answer cannot be derived from the given information.\n",
      "70 The provided report doesn't state the presence of masses or nodules, so this cannot be determined with a simple 'yes' or 'no' without additional information or a direct observation of the X-ray image.\n",
      "71 The provided report does not state any findings characteristic of COPD, so the answer would be no based on the given information.\n",
      "72 2. Are the lungs hyperexpanded? - Yes\n",
      "73 4. Are there mild increased lung markings that could be chronic changes? - Yes\n",
      "74 6. Is a pneumothorax observed in the X-ray? - No\n",
      "75 8. Are there moderate degenerative changes in the thoracic spine? - Yes\n",
      "76 The report does not mention any; therefore, the answer is likely no, but more information or a detailed look at the actual X-ray image might be necessary to confirm.\n",
      "77 - Yes\n",
      "78 - No\n",
      "79 - No\n",
      "80 - No\n",
      "81 - No\n",
      "82 (Cannot answer 'Yes' or 'No' as the specific area of calcification is redacted with XXXX)\n",
      "83 - Does the patient show any signs of having a pneumothorax on this chest X-ray? No\n",
      "84 - Can focal consolidation be seen in the chest X-ray? No\n",
      "85 The report does not mention pleural effusion, so the answer cannot be determined from the provided information.\n",
      "86 2. Is there an indication of an abnormal heart size on the X-ray? - No\n",
      "87 4. Are there signs of abnormal pulmonary vascularity? - No\n",
      "88 6. Is there any focal airspace consolidation noted on the X-ray? - No\n",
      "89 8. Can pneumothorax be observed in the X-ray image? - No\n",
      "90 10. Is there any indication of mild degenerative changes of the spine? - Yes\n",
      "91 The provided report does not specify chronic lung disease, so cannot determine a yes or no without additional information or reviewing the image.\n",
      "92 The report does not mention any such findings, so the answer is no.\n",
      "93 The report does not mention any broken ribs, so the answer should be no based on the provided information.\n",
      "94 - Yes.\n",
      "95 - Yes.\n",
      "96 - No.\n",
      "97 - No.\n",
      "98 - Yes (assuming \"remote\" implies past injury and \"XXXX\" implies a traumatic cause that’s not specified due to redaction).\n",
      "99 Cannot determine without prior images.\n",
      "100 The provided information does not specify, but based on the report stating that the lungs are clear, the likelihood is No.\n",
      "101 The report does not mention any masses or lung tumors, so the answer would be no based on the provided information.\n",
      "102 The initial report does not mention tumors or lung masses, but without directly stating their absence, a definitive answer of yes or no cannot be provided based on the information given.\n",
      "103 The report does not mention masses or nodules, therefore, based on the information provided, the answer should be no for the purposes of this question.\n",
      "104 The report only mentions \"minimal left basilar opacities,\" which does not specifically indicate consolidation, so the answer should be based on a more detailed report or image review. However, based on the limited information given, the answer would be No, unless otherwise proven by additional imaging or clinical correlation.\n",
      "105 - Yes.\n",
      "106 - Yes.\n",
      "107 - No.\n",
      "108 - No.\n",
      "109 - No.\n",
      "110 - Yes.\n",
      "111 - No.\n",
      "112 - No.\n",
      "113 - No.\n",
      "114 Inconclusive with the data provided (since the right base shows an air-fluid level, it would suggest a pleural effusion, but the lateral view specifics are not provided).\n",
      "115 The report does not mention a rib fracture, so based on the report, the answer is no.\n",
      "116 The absence of pleural effusion suggests that the costophrenic angles are likely clear, so the answer is yes.\n",
      "117 The report only mentions that the changes are stable, so new X-rays would be required to definitively answer whether they have worsened recently or not, but based on the report alone, the assumption is No.\n",
      "118 The report does not mention any fractures, so based on the given information, the answer would be No.\n",
      "119 (The response would depend on the meaning of \"XXX\" and whether it stands for something like \"filter\". If \"XXX\" stands for \"filter\", then the answer would be) Yes.\n"
     ]
    },
    {
     "data": {
      "text/plain": [
       "120"
      ]
     },
     "execution_count": 12,
     "metadata": {},
     "output_type": "execute_result"
    }
   ],
   "source": [
    "s = 0\n",
    "for i in new_test_data:\n",
    "    value = i['conversations'][1]['value']\n",
    "    if value.lower().startswith(\"yes\") or value.lower().startswith(\"no\"):\n",
    "        continue\n",
    "    else:\n",
    "        print(s, value)\n",
    "        s += 1\n",
    "s"
   ]
  },
  {
   "cell_type": "code",
   "execution_count": null,
   "metadata": {},
   "outputs": [],
   "source": []
  }
 ],
 "metadata": {
  "kernelspec": {
   "display_name": "medh",
   "language": "python",
   "name": "python3"
  },
  "language_info": {
   "codemirror_mode": {
    "name": "ipython",
    "version": 3
   },
   "file_extension": ".py",
   "mimetype": "text/x-python",
   "name": "python",
   "nbconvert_exporter": "python",
   "pygments_lexer": "ipython3",
   "version": "3.10.14"
  }
 },
 "nbformat": 4,
 "nbformat_minor": 2
}
