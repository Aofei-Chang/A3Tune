{
 "cells": [
  {
   "cell_type": "code",
   "execution_count": 1,
   "metadata": {},
   "outputs": [
    {
     "name": "stdout",
     "output_type": "stream",
     "text": [
      "num_gt_ids: 419 || num_pred_ids: 419\n"
     ]
    }
   ],
   "source": [
    "from eval_metrics.glossary import *\n",
    "\n",
    "import json\n",
    "def load_jsonl(path):\n",
    "    data=[]\n",
    "    with open(path, 'r', encoding='utf-8') as reader:\n",
    "        for line in reader:\n",
    "            data.append(json.loads(line))\n",
    "    return data \n",
    "\n",
    "ROOT_PATH = \"/data/aofei\"\n",
    "dataset = \"Slake\"\n",
    "lora_pred_path = \"/data/aofei/hallucination/mitigation/Slake/llava_med/lora/epoch3_lung/inference/pred.jsonl\"\n",
    "bv_pred_path = \"/data/aofei/hallucination/mitigation/Slake/llava_med/visual_enhance/lung/lora_0.1_bbox_0.05/epoch3/inference/pred.jsonl\"\n",
    "\n",
    "gt_path = f\"{ROOT_PATH}/hallucination/{dataset}/data/test_lung.json\"\n",
    "\n",
    "gt = json.load(open(gt_path, 'r'))\n",
    "# candidate = json.load(open(args.candidate, 'r'))\n",
    "lora_pred = load_jsonl(lora_pred_path)\n",
    "bv_pred = load_jsonl(bv_pred_path)\n",
    "\n",
    "gt_ids = [item['id'] for item in gt]\n",
    "pred_ids = [item['question_id'] for item in lora_pred]\n",
    "bv_pred_ids = [item['question_id'] for item in bv_pred]\n",
    "num_gt_ids, num_pred_ids = len(gt_ids), len(pred_ids)\n",
    "print(f'num_gt_ids: {num_gt_ids} || num_pred_ids: {num_pred_ids}')\n",
    "# import pdb; pdb.set_trace()\n",
    "assert gt_ids == pred_ids, \"please make sure pred and gt are exactly matched\"\n",
    "assert gt_ids == bv_pred_ids, \"please make sure pred and gt are exactly matched\""
   ]
  },
  {
   "cell_type": "code",
   "execution_count": 2,
   "metadata": {},
   "outputs": [],
   "source": [
    "# the original lora\n",
    "num_close = 0\n",
    "correct_ids, wrong_ids = [], []\n",
    "for gt_item, pred_item in zip(gt, lora_pred):\n",
    "    try:\n",
    "        gt_results = gt_item['conversations']\n",
    "    except:\n",
    "        gt_results = gt_item['conversatons']\n",
    "    gt_value = gt_results[1]['value'].lower()\n",
    "    pred_value = pred_item['text'].lower()\n",
    "\n",
    "    gt_value = normalize_word(gt_value)\n",
    "    pred_value = normalize_word(pred_value)\n",
    "\n",
    "    if gt_item['answer_type'] == 'CLOSED':\n",
    "        num_close += 1\n",
    "        _id = pred_item['question_id']\n",
    "        if 'yes' in pred_value or 'no' in pred_value:\n",
    "            if gt_value in pred_value:\n",
    "                correct_ids.append(_id)\n",
    "            else:\n",
    "                wrong_ids.append(_id)\n",
    "        # else:\n",
    "        #     wrong_ids.append(_id)"
   ]
  },
  {
   "cell_type": "code",
   "execution_count": 3,
   "metadata": {},
   "outputs": [
    {
     "data": {
      "text/plain": [
       "(20, 99)"
      ]
     },
     "execution_count": 3,
     "metadata": {},
     "output_type": "execute_result"
    }
   ],
   "source": [
    "len(wrong_ids), len(correct_ids)"
   ]
  },
  {
   "cell_type": "code",
   "execution_count": 4,
   "metadata": {},
   "outputs": [],
   "source": [
    "# our method, without MOE\n",
    "num_close = 0\n",
    "bv_correct_ids, bv_wrong_ids = [], []\n",
    "for gt_item, pred_item in zip(gt, bv_pred):\n",
    "    try:\n",
    "        gt_results = gt_item['conversations']\n",
    "    except:\n",
    "        gt_results = gt_item['conversatons']\n",
    "    gt_value = gt_results[1]['value'].lower()\n",
    "    pred_value = pred_item['text'].lower()\n",
    "\n",
    "    gt_value = normalize_word(gt_value)\n",
    "    pred_value = normalize_word(pred_value)\n",
    "\n",
    "    if gt_item['answer_type'] == 'CLOSED':\n",
    "        num_close += 1\n",
    "        _id = pred_item['question_id']\n",
    "        if 'yes' in pred_value or 'no' in pred_value:\n",
    "            if gt_value in pred_value:\n",
    "                bv_correct_ids.append(_id)\n",
    "            else:\n",
    "                bv_wrong_ids.append(_id)\n",
    "        # else:\n",
    "        #     nobbox_wrong_ids.append(_id)"
   ]
  },
  {
   "cell_type": "code",
   "execution_count": 5,
   "metadata": {},
   "outputs": [
    {
     "data": {
      "text/plain": [
       "(15, 104)"
      ]
     },
     "execution_count": 5,
     "metadata": {},
     "output_type": "execute_result"
    }
   ],
   "source": [
    "len(bv_wrong_ids), len(bv_correct_ids)"
   ]
  },
  {
   "cell_type": "code",
   "execution_count": 10,
   "metadata": {},
   "outputs": [
    {
     "data": {
      "text/plain": [
       "(4, 9)"
      ]
     },
     "execution_count": 10,
     "metadata": {},
     "output_type": "execute_result"
    }
   ],
   "source": [
    "common_wrong_ids, bv_wrongs, lora_wrongs = [], [], []\n",
    "for i in wrong_ids:\n",
    "    if i in bv_wrong_ids:\n",
    "        common_wrong_ids.append(i)\n",
    "    else:\n",
    "        lora_wrongs.append(i)\n",
    "for i in bv_wrong_ids:\n",
    "    if i in wrong_ids:\n",
    "        continue\n",
    "    else:\n",
    "        bv_wrongs.append(i)\n",
    "\n",
    "common_correct_ids, bv_corrects, lora_corrects = [], [], []\n",
    "for i in correct_ids:\n",
    "    if i in bv_correct_ids:\n",
    "        common_correct_ids.append(i)\n",
    "    else:\n",
    "        lora_corrects.append(i)\n",
    "for i in bv_correct_ids:\n",
    "    if i in correct_ids:\n",
    "        continue\n",
    "    else:\n",
    "        bv_corrects.append(i)\n",
    "len(lora_corrects), len(bv_corrects)"
   ]
  },
  {
   "cell_type": "code",
   "execution_count": 9,
   "metadata": {},
   "outputs": [],
   "source": [
    "gt[0]\n",
    "gt_id_dict = dict()\n",
    "for i in gt:\n",
    "    gt_id_dict[i['id']] = i"
   ]
  },
  {
   "cell_type": "code",
   "execution_count": 11,
   "metadata": {},
   "outputs": [
    {
     "name": "stdout",
     "output_type": "stream",
     "text": [
      "{'image': 'xmlab350/source.jpg', 'id': 12408, 'organ': 'Lung', 'answer_type': 'CLOSED', 'conversations': [{'from': 'human', 'value': '<image>\\nCan pneumothorax be observed on the lower right lung in this picture?'}, {'from': 'gpt', 'value': 'No'}]}\n",
      "{'image': 'xmlab357/source.jpg', 'id': 12423, 'organ': 'Lung', 'answer_type': 'CLOSED', 'conversations': [{'from': 'human', 'value': '<image>\\nCan pneumothorax be observed on the lower left lung in this picture?'}, {'from': 'gpt', 'value': 'Yes'}]}\n",
      "{'image': 'xmlab367/source.jpg', 'id': 12453, 'organ': 'Lung', 'answer_type': 'CLOSED', 'conversations': [{'from': 'human', 'value': '<image>\\nCan pneumonia be observed on the upper right lung in this picture?'}, {'from': 'gpt', 'value': 'No'}]}\n",
      "{'image': 'xmlab85/source.jpg', 'id': 12976, 'organ': 'Lung', 'answer_type': 'CLOSED', 'conversations': [{'from': 'human', 'value': '<image>\\nDoes the picture contain lung?'}, {'from': 'gpt', 'value': 'Yes'}]}\n"
     ]
    }
   ],
   "source": [
    "lora_corrects\n",
    "# specific questions correctly answered by LoRA\n",
    "for i in lora_corrects:\n",
    "    print(gt_id_dict[i])"
   ]
  },
  {
   "cell_type": "code",
   "execution_count": 12,
   "metadata": {},
   "outputs": [
    {
     "name": "stdout",
     "output_type": "stream",
     "text": [
      "{'image': 'xmlab105/source.jpg', 'id': 11961, 'organ': 'Lung', 'answer_type': 'CLOSED', 'conversations': [{'from': 'human', 'value': '<image>\\nDoes the picture contain heart?'}, {'from': 'gpt', 'value': 'No'}]}\n",
      "{'image': 'xmlab299/source.jpg', 'id': 12273, 'organ': 'Lung', 'answer_type': 'CLOSED', 'conversations': [{'from': 'human', 'value': '<image>\\nCan pneumothorax be observed on the lower left lung in this picture?'}, {'from': 'gpt', 'value': 'No'}]}\n",
      "{'image': 'xmlab314/source.jpg', 'id': 12333, 'organ': 'Lung', 'answer_type': 'CLOSED', 'conversations': [{'from': 'human', 'value': '<image>\\nCan pneumonia be observed on the right lung in this picture?'}, {'from': 'gpt', 'value': 'Yes'}]}\n",
      "{'image': 'xmlab361/source.jpg', 'id': 12438, 'organ': 'Lung', 'answer_type': 'CLOSED', 'conversations': [{'from': 'human', 'value': '<image>\\nCan nodule be observed on the lower right lung in this picture?'}, {'from': 'gpt', 'value': 'No'}]}\n",
      "{'image': 'xmlab378/source.jpg', 'id': 12496, 'organ': 'Lung', 'answer_type': 'CLOSED', 'conversations': [{'from': 'human', 'value': \"<image>\\nIs/Are there abnormalities in the patient's left lung?\"}, {'from': 'gpt', 'value': 'Yes'}]}\n",
      "{'image': 'xmlab378/source.jpg', 'id': 12498, 'organ': 'Lung', 'answer_type': 'CLOSED', 'conversations': [{'from': 'human', 'value': '<image>\\nCan infiltration be observed on the lower left lung in this picture?'}, {'from': 'gpt', 'value': 'Yes'}]}\n",
      "{'image': 'xmlab386/source.jpg', 'id': 12528, 'organ': 'Lung', 'answer_type': 'CLOSED', 'conversations': [{'from': 'human', 'value': '<image>\\nCan effusion be observed on the lower left lung in this picture?'}, {'from': 'gpt', 'value': 'Yes'}]}\n",
      "{'image': 'xmlab85/source.jpg', 'id': 12977, 'organ': 'Lung', 'answer_type': 'CLOSED', 'conversations': [{'from': 'human', 'value': '<image>\\nDoes the picture contain heart?'}, {'from': 'gpt', 'value': 'No'}]}\n",
      "{'image': 'xmlab85/source.jpg', 'id': 12978, 'organ': 'Lung', 'answer_type': 'CLOSED', 'conversations': [{'from': 'human', 'value': '<image>\\nDoes the lung look healthy?'}, {'from': 'gpt', 'value': 'Yes'}]}\n"
     ]
    }
   ],
   "source": [
    "bv_corrects\n",
    "# gt_id_dict[11979]\n",
    "for i in bv_corrects:\n",
    "    print(gt_id_dict[i])"
   ]
  },
  {
   "cell_type": "code",
   "execution_count": null,
   "metadata": {},
   "outputs": [],
   "source": []
  },
  {
   "cell_type": "code",
   "execution_count": 13,
   "metadata": {},
   "outputs": [
    {
     "name": "stdout",
     "output_type": "stream",
     "text": [
      "4 4 4\n"
     ]
    },
    {
     "data": {
      "text/plain": [
       "(9, 9, 9)"
      ]
     },
     "execution_count": 13,
     "metadata": {},
     "output_type": "execute_result"
    }
   ],
   "source": [
    "wrong_after_tuning_ids = list(set(lora_corrects) and set(bv_wrongs))\n",
    "print(len(wrong_after_tuning_ids), len(lora_corrects), len(bv_wrongs))\n",
    "\n",
    "correct_after_tuning_ids = list(set(lora_wrongs) and set(bv_corrects))\n",
    "len(correct_after_tuning_ids), len(lora_wrongs), len(bv_corrects)"
   ]
  },
  {
   "cell_type": "code",
   "execution_count": 14,
   "metadata": {},
   "outputs": [
    {
     "name": "stdout",
     "output_type": "stream",
     "text": [
      "{'image': 'xmlab350/source.jpg', 'id': 12408, 'organ': 'Lung', 'answer_type': 'CLOSED', 'conversations': [{'from': 'human', 'value': '<image>\\nCan pneumothorax be observed on the lower right lung in this picture?'}, {'from': 'gpt', 'value': 'No'}]}\n",
      "{'image': 'xmlab367/source.jpg', 'id': 12453, 'organ': 'Lung', 'answer_type': 'CLOSED', 'conversations': [{'from': 'human', 'value': '<image>\\nCan pneumonia be observed on the upper right lung in this picture?'}, {'from': 'gpt', 'value': 'No'}]}\n",
      "{'image': 'xmlab85/source.jpg', 'id': 12976, 'organ': 'Lung', 'answer_type': 'CLOSED', 'conversations': [{'from': 'human', 'value': '<image>\\nDoes the picture contain lung?'}, {'from': 'gpt', 'value': 'Yes'}]}\n",
      "{'image': 'xmlab357/source.jpg', 'id': 12423, 'organ': 'Lung', 'answer_type': 'CLOSED', 'conversations': [{'from': 'human', 'value': '<image>\\nCan pneumothorax be observed on the lower left lung in this picture?'}, {'from': 'gpt', 'value': 'Yes'}]}\n"
     ]
    }
   ],
   "source": [
    "# wrong_after_tuning_ids\n",
    "for i in wrong_after_tuning_ids:\n",
    "    print(gt_id_dict[i])"
   ]
  },
  {
   "cell_type": "code",
   "execution_count": 15,
   "metadata": {},
   "outputs": [
    {
     "name": "stdout",
     "output_type": "stream",
     "text": [
      "{'image': 'xmlab314/source.jpg', 'id': 12333, 'organ': 'Lung', 'answer_type': 'CLOSED', 'conversations': [{'from': 'human', 'value': '<image>\\nCan pneumonia be observed on the right lung in this picture?'}, {'from': 'gpt', 'value': 'Yes'}]}\n",
      "{'image': 'xmlab378/source.jpg', 'id': 12496, 'organ': 'Lung', 'answer_type': 'CLOSED', 'conversations': [{'from': 'human', 'value': \"<image>\\nIs/Are there abnormalities in the patient's left lung?\"}, {'from': 'gpt', 'value': 'Yes'}]}\n",
      "{'image': 'xmlab299/source.jpg', 'id': 12273, 'organ': 'Lung', 'answer_type': 'CLOSED', 'conversations': [{'from': 'human', 'value': '<image>\\nCan pneumothorax be observed on the lower left lung in this picture?'}, {'from': 'gpt', 'value': 'No'}]}\n",
      "{'image': 'xmlab378/source.jpg', 'id': 12498, 'organ': 'Lung', 'answer_type': 'CLOSED', 'conversations': [{'from': 'human', 'value': '<image>\\nCan infiltration be observed on the lower left lung in this picture?'}, {'from': 'gpt', 'value': 'Yes'}]}\n",
      "{'image': 'xmlab386/source.jpg', 'id': 12528, 'organ': 'Lung', 'answer_type': 'CLOSED', 'conversations': [{'from': 'human', 'value': '<image>\\nCan effusion be observed on the lower left lung in this picture?'}, {'from': 'gpt', 'value': 'Yes'}]}\n",
      "{'image': 'xmlab85/source.jpg', 'id': 12977, 'organ': 'Lung', 'answer_type': 'CLOSED', 'conversations': [{'from': 'human', 'value': '<image>\\nDoes the picture contain heart?'}, {'from': 'gpt', 'value': 'No'}]}\n",
      "{'image': 'xmlab85/source.jpg', 'id': 12978, 'organ': 'Lung', 'answer_type': 'CLOSED', 'conversations': [{'from': 'human', 'value': '<image>\\nDoes the lung look healthy?'}, {'from': 'gpt', 'value': 'Yes'}]}\n",
      "{'image': 'xmlab361/source.jpg', 'id': 12438, 'organ': 'Lung', 'answer_type': 'CLOSED', 'conversations': [{'from': 'human', 'value': '<image>\\nCan nodule be observed on the lower right lung in this picture?'}, {'from': 'gpt', 'value': 'No'}]}\n",
      "{'image': 'xmlab105/source.jpg', 'id': 11961, 'organ': 'Lung', 'answer_type': 'CLOSED', 'conversations': [{'from': 'human', 'value': '<image>\\nDoes the picture contain heart?'}, {'from': 'gpt', 'value': 'No'}]}\n"
     ]
    }
   ],
   "source": [
    "# correct_after_tuning_ids\n",
    "for i in correct_after_tuning_ids:\n",
    "    print(gt_id_dict[i])"
   ]
  },
  {
   "cell_type": "code",
   "execution_count": null,
   "metadata": {},
   "outputs": [],
   "source": [
    "'Can pneumonia be observed on the right lung in this picture?'\n",
    "\"Is/Are there abnormalities in the patient's left lung?\"\n",
    "'Can pneumothorax be observed on the lower left lung in this picture?'\n",
    "'Can infiltration be observed on the lower left lung in this picture?'\n",
    "'Can effusion be observed on the lower left lung in this picture?'\n",
    "'Does the picture contain heart?'\n",
    "'Does the lung look healthy?'\n",
    "'Can nodule be observed on the lower right lung in this picture?'\n",
    "'Does the picture contain heart?'\n"
   ]
  }
 ],
 "metadata": {
  "kernelspec": {
   "display_name": "medh",
   "language": "python",
   "name": "python3"
  },
  "language_info": {
   "codemirror_mode": {
    "name": "ipython",
    "version": 3
   },
   "file_extension": ".py",
   "mimetype": "text/x-python",
   "name": "python",
   "nbconvert_exporter": "python",
   "pygments_lexer": "ipython3",
   "version": "3.10.14"
  }
 },
 "nbformat": 4,
 "nbformat_minor": 2
}
