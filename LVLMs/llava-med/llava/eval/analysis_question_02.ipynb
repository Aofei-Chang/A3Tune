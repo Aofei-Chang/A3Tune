{
 "cells": [
  {
   "cell_type": "code",
   "execution_count": 2,
   "metadata": {},
   "outputs": [
    {
     "name": "stdout",
     "output_type": "stream",
     "text": [
      "num_gt_ids: 1061 || num_pred_ids: 1061\n"
     ]
    }
   ],
   "source": [
    "from eval_metrics.glossary import *\n",
    "\n",
    "import json\n",
    "def load_jsonl(path):\n",
    "    data=[]\n",
    "    with open(path, 'r', encoding='utf-8') as reader:\n",
    "        for line in reader:\n",
    "            data.append(json.loads(line))\n",
    "    return data \n",
    "\n",
    "ROOT_PATH = \"/data/aofei\"\n",
    "dataset = \"Slake\"\n",
    "lora_pred_path = \"/data/aofei/hallucination/mitigation/Slake/llava_med/lora/epoch6/inference/pred.jsonl\"\n",
    "bv_pred_path = \"/data/aofei/hallucination/mitigation/Slake/llava_med/visual_enhance/lora_0.1_bbox_0.01/epoch6/inference/pred.jsonl\"\n",
    "\n",
    "gt_path = f\"{ROOT_PATH}/hallucination/{dataset}/data/test.json\"\n",
    "\n",
    "gt = json.load(open(gt_path, 'r'))\n",
    "# candidate = json.load(open(args.candidate, 'r'))\n",
    "lora_pred = load_jsonl(lora_pred_path)\n",
    "bv_pred = load_jsonl(bv_pred_path)\n",
    "\n",
    "gt_ids = [item['id'] for item in gt]\n",
    "pred_ids = [item['question_id'] for item in lora_pred]\n",
    "bv_pred_ids = [item['question_id'] for item in bv_pred]\n",
    "num_gt_ids, num_pred_ids = len(gt_ids), len(pred_ids)\n",
    "print(f'num_gt_ids: {num_gt_ids} || num_pred_ids: {num_pred_ids}')\n",
    "# import pdb; pdb.set_trace()\n",
    "assert gt_ids == pred_ids, \"please make sure pred and gt are exactly matched\"\n",
    "assert gt_ids == bv_pred_ids, \"please make sure pred and gt are exactly matched\""
   ]
  },
  {
   "cell_type": "code",
   "execution_count": 3,
   "metadata": {},
   "outputs": [],
   "source": [
    "# the original lora\n",
    "num_close = 0\n",
    "correct_ids, wrong_ids = [], []\n",
    "for gt_item, pred_item in zip(gt, lora_pred):\n",
    "    try:\n",
    "        gt_results = gt_item['conversations']\n",
    "    except:\n",
    "        gt_results = gt_item['conversatons']\n",
    "    gt_value = gt_results[1]['value'].lower()\n",
    "    pred_value = pred_item['text'].lower()\n",
    "\n",
    "    gt_value = normalize_word(gt_value)\n",
    "    pred_value = normalize_word(pred_value)\n",
    "\n",
    "    if gt_item['answer_type'] == 'CLOSED':\n",
    "        num_close += 1\n",
    "        _id = pred_item['question_id']\n",
    "        if 'yes' in pred_value or 'no' in pred_value:\n",
    "            if gt_value in pred_value:\n",
    "                correct_ids.append(_id)\n",
    "            else:\n",
    "                wrong_ids.append(_id)\n",
    "        # else:\n",
    "        #     wrong_ids.append(_id)"
   ]
  },
  {
   "cell_type": "code",
   "execution_count": 7,
   "metadata": {},
   "outputs": [
    {
     "data": {
      "text/plain": [
       "(48, 307)"
      ]
     },
     "execution_count": 7,
     "metadata": {},
     "output_type": "execute_result"
    }
   ],
   "source": [
    "len(wrong_ids), len(correct_ids)"
   ]
  },
  {
   "cell_type": "code",
   "execution_count": 8,
   "metadata": {},
   "outputs": [],
   "source": [
    "# our method, without MOE\n",
    "num_close = 0\n",
    "bv_correct_ids, bv_wrong_ids, bv_close_fail_ids = [], [], []\n",
    "for gt_item, pred_item in zip(gt, bv_pred):\n",
    "    try:\n",
    "        gt_results = gt_item['conversations']\n",
    "    except:\n",
    "        gt_results = gt_item['conversatons']\n",
    "    gt_value = gt_results[1]['value'].lower()\n",
    "    pred_value = pred_item['text'].lower()\n",
    "\n",
    "    gt_value = normalize_word(gt_value)\n",
    "    pred_value = normalize_word(pred_value)\n",
    "\n",
    "    if gt_item['answer_type'] == 'CLOSED':\n",
    "        num_close += 1\n",
    "        _id = pred_item['question_id']\n",
    "        if 'yes' in pred_value or 'no' in pred_value:\n",
    "            if gt_value in pred_value:\n",
    "                bv_correct_ids.append(_id)\n",
    "            else:\n",
    "                bv_wrong_ids.append(_id)\n",
    "        else:\n",
    "            bv_close_fail_ids.append(_id)\n",
    "        # else:\n",
    "        #     nobbox_wrong_ids.append(_id)"
   ]
  },
  {
   "cell_type": "code",
   "execution_count": 9,
   "metadata": {},
   "outputs": [
    {
     "data": {
      "text/plain": [
       "(51, 280, 24)"
      ]
     },
     "execution_count": 9,
     "metadata": {},
     "output_type": "execute_result"
    }
   ],
   "source": [
    "len(bv_wrong_ids), len(bv_correct_ids), len(bv_close_fail_ids)"
   ]
  },
  {
   "cell_type": "code",
   "execution_count": 25,
   "metadata": {},
   "outputs": [
    {
     "name": "stdout",
     "output_type": "stream",
     "text": [
      "Lung [{'from': 'human', 'value': '<image>\\nDoes the picture contain liver?'}, {'from': 'gpt', 'value': 'No'}]\n",
      "Lung [{'from': 'human', 'value': '<image>\\nDoes the picture contain lung?'}, {'from': 'gpt', 'value': 'Yes'}]\n",
      "Lung [{'from': 'human', 'value': '<image>\\nDoes the picture contain heart?'}, {'from': 'gpt', 'value': 'No'}]\n",
      "Lung [{'from': 'human', 'value': '<image>\\nIs the lung healthy?'}, {'from': 'gpt', 'value': 'No'}]\n",
      "Abdomen [{'from': 'human', 'value': '<image>\\nDoes the picture contain kidney?'}, {'from': 'gpt', 'value': 'Yes'}]\n",
      "Abdomen [{'from': 'human', 'value': '<image>\\nDoes the picture contain spleen?'}, {'from': 'gpt', 'value': 'No'}]\n",
      "Abdomen [{'from': 'human', 'value': '<image>\\nDoes the picture contain lung?'}, {'from': 'gpt', 'value': 'No'}]\n",
      "Abdomen [{'from': 'human', 'value': '<image>\\nDoes the picture contain heart?'}, {'from': 'gpt', 'value': 'No'}]\n",
      "Abdomen [{'from': 'human', 'value': '<image>\\nDoes the picture contain liver?'}, {'from': 'gpt', 'value': 'Yes'}]\n",
      "Abdomen [{'from': 'human', 'value': '<image>\\nDoes the picture contain kidney?'}, {'from': 'gpt', 'value': 'Yes'}]\n",
      "Abdomen [{'from': 'human', 'value': '<image>\\nDoes the picture contain spleen?'}, {'from': 'gpt', 'value': 'Yes'}]\n",
      "Abdomen [{'from': 'human', 'value': '<image>\\nDoes the picture contain lung?'}, {'from': 'gpt', 'value': 'No'}]\n",
      "Abdomen [{'from': 'human', 'value': '<image>\\nDoes the picture contain heart?'}, {'from': 'gpt', 'value': 'No'}]\n",
      "Abdomen [{'from': 'human', 'value': '<image>\\nDoes the picture contain lung?'}, {'from': 'gpt', 'value': 'Yes'}]\n",
      "Abdomen [{'from': 'human', 'value': '<image>\\nDoes the picture contain heart?'}, {'from': 'gpt', 'value': 'No'}]\n",
      "Abdomen [{'from': 'human', 'value': '<image>\\nDoes the picture contain liver?'}, {'from': 'gpt', 'value': 'No'}]\n",
      "Abdomen [{'from': 'human', 'value': '<image>\\nDoes the picture contain kidney?'}, {'from': 'gpt', 'value': 'Yes'}]\n",
      "Abdomen [{'from': 'human', 'value': '<image>\\nDoes the picture contain spleen?'}, {'from': 'gpt', 'value': 'No'}]\n",
      "Abdomen [{'from': 'human', 'value': '<image>\\nDoes the picture contain lung?'}, {'from': 'gpt', 'value': 'No'}]\n",
      "Abdomen [{'from': 'human', 'value': '<image>\\nDoes the picture contain heart?'}, {'from': 'gpt', 'value': 'No'}]\n",
      "Abdomen [{'from': 'human', 'value': '<image>\\nDoes the picture contain lung?'}, {'from': 'gpt', 'value': 'Yes'}]\n",
      "Brain_Tissue [{'from': 'human', 'value': '<image>\\nDo any of the organs in the picture belong to the respiratory system?'}, {'from': 'gpt', 'value': 'No'}]\n",
      "Pelvic Cavity [{'from': 'human', 'value': '<image>\\nDoes the picture contain the organ which has the effect of detoxicating?'}, {'from': 'gpt', 'value': 'No'}]\n",
      "Lung [{'from': 'human', 'value': '<image>\\nDoes the picture contain lung?'}, {'from': 'gpt', 'value': 'Yes'}]\n"
     ]
    }
   ],
   "source": [
    "for i in bv_close_fail_ids:\n",
    "    print(gt_id_dict[i][\"organ\"], gt_id_dict[i][\"conversations\"])"
   ]
  },
  {
   "cell_type": "code",
   "execution_count": 12,
   "metadata": {},
   "outputs": [
    {
     "data": {
      "text/plain": [
       "('correct:', 39, 12, 'wrong:', 15, 18)"
      ]
     },
     "execution_count": 12,
     "metadata": {},
     "output_type": "execute_result"
    }
   ],
   "source": [
    "common_wrong_ids, bv_wrongs, lora_wrongs = [], [], []\n",
    "for i in wrong_ids:\n",
    "    if i in bv_wrong_ids:\n",
    "        common_wrong_ids.append(i)\n",
    "    else:\n",
    "        lora_wrongs.append(i)\n",
    "for i in bv_wrong_ids:\n",
    "    if i in wrong_ids:\n",
    "        continue\n",
    "    else:\n",
    "        bv_wrongs.append(i)\n",
    "\n",
    "common_correct_ids, bv_corrects, lora_corrects = [], [], []\n",
    "for i in correct_ids:\n",
    "    if i in bv_correct_ids:\n",
    "        common_correct_ids.append(i)\n",
    "    else:\n",
    "        lora_corrects.append(i)\n",
    "for i in bv_correct_ids:\n",
    "    if i in correct_ids:\n",
    "        continue\n",
    "    else:\n",
    "        bv_corrects.append(i)\n",
    "\"correct:\", len(lora_corrects), len(bv_corrects), \"wrong:\", len(lora_wrongs), len(bv_wrongs),"
   ]
  },
  {
   "cell_type": "code",
   "execution_count": 11,
   "metadata": {},
   "outputs": [],
   "source": [
    "gt[0]\n",
    "gt_id_dict = dict()\n",
    "for i in gt:\n",
    "    gt_id_dict[i['id']] = i"
   ]
  },
  {
   "cell_type": "code",
   "execution_count": 13,
   "metadata": {},
   "outputs": [
    {
     "name": "stdout",
     "output_type": "stream",
     "text": [
      "Abdomen [{'from': 'human', 'value': '<image>\\nDoes the liver look normal?'}, {'from': 'gpt', 'value': 'Yes'}]\n",
      "Abdomen [{'from': 'human', 'value': '<image>\\nDoes the picture contain spleen?'}, {'from': 'gpt', 'value': 'Yes'}]\n",
      "Abdomen [{'from': 'human', 'value': '<image>\\nDoes this image look normal?'}, {'from': 'gpt', 'value': 'No'}]\n",
      "Abdomen [{'from': 'human', 'value': '<image>\\nDoes the picture contain spleen?'}, {'from': 'gpt', 'value': 'No'}]\n",
      "Abdomen [{'from': 'human', 'value': '<image>\\nDoes the picture contain spleen?'}, {'from': 'gpt', 'value': 'Yes'}]\n",
      "Lung [{'from': 'human', 'value': '<image>\\nCan pneumothorax be observed on the lower left lung in this picture?'}, {'from': 'gpt', 'value': 'No'}]\n",
      "Lung [{'from': 'human', 'value': '<image>\\nIs this image normal?'}, {'from': 'gpt', 'value': 'No'}]\n",
      "Lung [{'from': 'human', 'value': '<image>\\nCan pneumothorax be observed on the lower right lung in this picture?'}, {'from': 'gpt', 'value': 'No'}]\n",
      "Lung [{'from': 'human', 'value': '<image>\\nCan pneumothorax be observed on the lower left lung in this picture?'}, {'from': 'gpt', 'value': 'Yes'}]\n",
      "Neck [{'from': 'human', 'value': '<image>\\nDo the organs in the image exist in the head?'}, {'from': 'gpt', 'value': 'No'}]\n",
      "Neck [{'from': 'human', 'value': '<image>\\nAre there organs in the picture that can deliver food?'}, {'from': 'gpt', 'value': 'Yes'}]\n",
      "Neck [{'from': 'human', 'value': '<image>\\nDoes the picture contain the organ which has the effect of discharging waste?'}, {'from': 'gpt', 'value': 'No'}]\n",
      "Brain_Tissue [{'from': 'human', 'value': '<image>\\nIs this an MRI image with T1 weighted?'}, {'from': 'gpt', 'value': 'No'}]\n",
      "Brain_Tissue [{'from': 'human', 'value': '<image>\\nIs this an MRI image with T2 weighted?'}, {'from': 'gpt', 'value': 'No'}]\n",
      "Abdomen [{'from': 'human', 'value': '<image>\\nDo any of the organs in the picture belong to the respiratory system?'}, {'from': 'gpt', 'value': 'No'}]\n",
      "Pelvic Cavity [{'from': 'human', 'value': '<image>\\nDoes the picture contain colon?'}, {'from': 'gpt', 'value': 'Yes'}]\n",
      "Pelvic Cavity [{'from': 'human', 'value': '<image>\\nAre there organs in the picture that can deliver food?'}, {'from': 'gpt', 'value': 'No'}]\n",
      "Pelvic Cavity [{'from': 'human', 'value': '<image>\\nAre there organs in the picture that can promote blood flow?'}, {'from': 'gpt', 'value': 'No'}]\n"
     ]
    }
   ],
   "source": [
    "# specific questions wrongly answered by our method\n",
    "for i in bv_wrongs:\n",
    "    print(gt_id_dict[i][\"organ\"], gt_id_dict[i][\"conversations\"])"
   ]
  },
  {
   "cell_type": "code",
   "execution_count": 14,
   "metadata": {},
   "outputs": [
    {
     "name": "stdout",
     "output_type": "stream",
     "text": [
      "Lung [{'from': 'human', 'value': '<image>\\nIs the lung healthy?'}, {'from': 'gpt', 'value': 'No'}]\n",
      "Abdomen [{'from': 'human', 'value': '<image>\\nIs the liver healthy?'}, {'from': 'gpt', 'value': 'Yes'}]\n",
      "Abdomen [{'from': 'human', 'value': '<image>\\nDoes this image look normal?'}, {'from': 'gpt', 'value': 'Yes'}]\n",
      "Abdomen [{'from': 'human', 'value': '<image>\\nDoes the picture contain heart?'}, {'from': 'gpt', 'value': 'No'}]\n",
      "Abdomen [{'from': 'human', 'value': '<image>\\nDoes the picture contain liver?'}, {'from': 'gpt', 'value': 'No'}]\n",
      "Lung [{'from': 'human', 'value': '<image>\\nCan effusion be observed on the lower left lung in this picture?'}, {'from': 'gpt', 'value': 'Yes'}]\n",
      "Neck [{'from': 'human', 'value': '<image>\\nDoes the trachea exist in this picture?'}, {'from': 'gpt', 'value': 'No'}]\n",
      "Brain_Tissue [{'from': 'human', 'value': '<image>\\nIs this an MRI image with T1 weighted?'}, {'from': 'gpt', 'value': 'No'}]\n",
      "Brain_Tissue [{'from': 'human', 'value': '<image>\\nIs there evidence of a brain edema?'}, {'from': 'gpt', 'value': 'Yes'}]\n",
      "Abdomen [{'from': 'human', 'value': '<image>\\nDoes the picture contain the organ which has the effect of discharging waste?'}, {'from': 'gpt', 'value': 'Yes'}]\n",
      "Abdomen [{'from': 'human', 'value': '<image>\\nDoes the picture contain the organ that could be used for secreting enzymes?'}, {'from': 'gpt', 'value': 'Yes'}]\n",
      "Abdomen [{'from': 'human', 'value': '<image>\\nDoes the picture contain the organ which has the effect of gas delivery?'}, {'from': 'gpt', 'value': 'No'}]\n",
      "Pelvic Cavity [{'from': 'human', 'value': '<image>\\nDoes the picture contain the organ which has the effect of discharging waste?'}, {'from': 'gpt', 'value': 'No'}]\n",
      "Pelvic Cavity [{'from': 'human', 'value': '<image>\\nDoes the picture contain the organ which has the effect of detoxicating?'}, {'from': 'gpt', 'value': 'No'}]\n",
      "Lung [{'from': 'human', 'value': '<image>\\nDoes the lung look healthy?'}, {'from': 'gpt', 'value': 'Yes'}]\n"
     ]
    }
   ],
   "source": [
    "for i in lora_wrongs:\n",
    "    print(gt_id_dict[i][\"organ\"], gt_id_dict[i][\"conversations\"])"
   ]
  },
  {
   "cell_type": "code",
   "execution_count": 12,
   "metadata": {},
   "outputs": [
    {
     "name": "stdout",
     "output_type": "stream",
     "text": [
      "{'image': 'xmlab105/source.jpg', 'id': 11961, 'organ': 'Lung', 'answer_type': 'CLOSED', 'conversations': [{'from': 'human', 'value': '<image>\\nDoes the picture contain heart?'}, {'from': 'gpt', 'value': 'No'}]}\n",
      "{'image': 'xmlab299/source.jpg', 'id': 12273, 'organ': 'Lung', 'answer_type': 'CLOSED', 'conversations': [{'from': 'human', 'value': '<image>\\nCan pneumothorax be observed on the lower left lung in this picture?'}, {'from': 'gpt', 'value': 'No'}]}\n",
      "{'image': 'xmlab314/source.jpg', 'id': 12333, 'organ': 'Lung', 'answer_type': 'CLOSED', 'conversations': [{'from': 'human', 'value': '<image>\\nCan pneumonia be observed on the right lung in this picture?'}, {'from': 'gpt', 'value': 'Yes'}]}\n",
      "{'image': 'xmlab361/source.jpg', 'id': 12438, 'organ': 'Lung', 'answer_type': 'CLOSED', 'conversations': [{'from': 'human', 'value': '<image>\\nCan nodule be observed on the lower right lung in this picture?'}, {'from': 'gpt', 'value': 'No'}]}\n",
      "{'image': 'xmlab378/source.jpg', 'id': 12496, 'organ': 'Lung', 'answer_type': 'CLOSED', 'conversations': [{'from': 'human', 'value': \"<image>\\nIs/Are there abnormalities in the patient's left lung?\"}, {'from': 'gpt', 'value': 'Yes'}]}\n",
      "{'image': 'xmlab378/source.jpg', 'id': 12498, 'organ': 'Lung', 'answer_type': 'CLOSED', 'conversations': [{'from': 'human', 'value': '<image>\\nCan infiltration be observed on the lower left lung in this picture?'}, {'from': 'gpt', 'value': 'Yes'}]}\n",
      "{'image': 'xmlab386/source.jpg', 'id': 12528, 'organ': 'Lung', 'answer_type': 'CLOSED', 'conversations': [{'from': 'human', 'value': '<image>\\nCan effusion be observed on the lower left lung in this picture?'}, {'from': 'gpt', 'value': 'Yes'}]}\n",
      "{'image': 'xmlab85/source.jpg', 'id': 12977, 'organ': 'Lung', 'answer_type': 'CLOSED', 'conversations': [{'from': 'human', 'value': '<image>\\nDoes the picture contain heart?'}, {'from': 'gpt', 'value': 'No'}]}\n",
      "{'image': 'xmlab85/source.jpg', 'id': 12978, 'organ': 'Lung', 'answer_type': 'CLOSED', 'conversations': [{'from': 'human', 'value': '<image>\\nDoes the lung look healthy?'}, {'from': 'gpt', 'value': 'Yes'}]}\n"
     ]
    }
   ],
   "source": [
    "bv_corrects\n",
    "# gt_id_dict[11979]\n",
    "for i in bv_corrects:\n",
    "    print(gt_id_dict[i])"
   ]
  },
  {
   "cell_type": "code",
   "execution_count": null,
   "metadata": {},
   "outputs": [],
   "source": []
  },
  {
   "cell_type": "code",
   "execution_count": 27,
   "metadata": {},
   "outputs": [
    {
     "name": "stdout",
     "output_type": "stream",
     "text": [
      "18 39 18\n"
     ]
    },
    {
     "data": {
      "text/plain": [
       "(12, 15, 12)"
      ]
     },
     "execution_count": 27,
     "metadata": {},
     "output_type": "execute_result"
    }
   ],
   "source": [
    "wrong_after_tuning_ids = list(set(lora_corrects) and set(bv_wrongs))\n",
    "print(len(wrong_after_tuning_ids), len(lora_corrects), len(bv_wrongs))\n",
    "\n",
    "correct_after_tuning_ids = list(set(lora_wrongs) and set(bv_corrects))\n",
    "len(correct_after_tuning_ids), len(lora_wrongs), len(bv_corrects)"
   ]
  },
  {
   "cell_type": "code",
   "execution_count": 19,
   "metadata": {},
   "outputs": [
    {
     "data": {
      "text/plain": [
       "True"
      ]
     },
     "execution_count": 19,
     "metadata": {},
     "output_type": "execute_result"
    }
   ],
   "source": [
    "set(wrong_after_tuning_ids) == set(bv_wrongs)"
   ]
  },
  {
   "cell_type": "code",
   "execution_count": 24,
   "metadata": {},
   "outputs": [
    {
     "name": "stdout",
     "output_type": "stream",
     "text": [
      "{'image': 'xmlab468/source.jpg', 'id': 12642, 'organ': 'Brain_Tissue', 'answer_type': 'CLOSED', 'conversations': [{'from': 'human', 'value': '<image>\\nIs this an MRI image with T1 weighted?'}, {'from': 'gpt', 'value': 'No'}]}\n",
      "{'image': 'xmlab429/source.jpg', 'id': 12611, 'organ': 'Neck', 'answer_type': 'CLOSED', 'conversations': [{'from': 'human', 'value': '<image>\\nDoes the picture contain the organ which has the effect of discharging waste?'}, {'from': 'gpt', 'value': 'No'}]}\n",
      "{'image': 'xmlab427/source.jpg', 'id': 12580, 'organ': 'Neck', 'answer_type': 'CLOSED', 'conversations': [{'from': 'human', 'value': '<image>\\nDo the organs in the image exist in the head?'}, {'from': 'gpt', 'value': 'No'}]}\n",
      "{'image': 'xmlab513/source.jpg', 'id': 12738, 'organ': 'Brain_Tissue', 'answer_type': 'CLOSED', 'conversations': [{'from': 'human', 'value': '<image>\\nIs this an MRI image with T2 weighted?'}, {'from': 'gpt', 'value': 'No'}]}\n",
      "{'image': 'xmlab622/source.jpg', 'id': 12925, 'organ': 'Pelvic Cavity', 'answer_type': 'CLOSED', 'conversations': [{'from': 'human', 'value': '<image>\\nAre there organs in the picture that can deliver food?'}, {'from': 'gpt', 'value': 'No'}]}\n",
      "{'image': 'xmlab357/source.jpg', 'id': 12423, 'organ': 'Lung', 'answer_type': 'CLOSED', 'conversations': [{'from': 'human', 'value': '<image>\\nCan pneumothorax be observed on the lower left lung in this picture?'}, {'from': 'gpt', 'value': 'Yes'}]}\n",
      "{'image': 'xmlab13/source.jpg', 'id': 11976, 'organ': 'Abdomen', 'answer_type': 'CLOSED', 'conversations': [{'from': 'human', 'value': '<image>\\nDoes the liver look normal?'}, {'from': 'gpt', 'value': 'Yes'}]}\n",
      "{'image': 'xmlab538/source.jpg', 'id': 12792, 'organ': 'Abdomen', 'answer_type': 'CLOSED', 'conversations': [{'from': 'human', 'value': '<image>\\nDo any of the organs in the picture belong to the respiratory system?'}, {'from': 'gpt', 'value': 'No'}]}\n",
      "{'image': 'xmlab427/source.jpg', 'id': 12586, 'organ': 'Neck', 'answer_type': 'CLOSED', 'conversations': [{'from': 'human', 'value': '<image>\\nAre there organs in the picture that can deliver food?'}, {'from': 'gpt', 'value': 'Yes'}]}\n",
      "{'image': 'xmlab250/source.jpg', 'id': 12172, 'organ': 'Abdomen', 'answer_type': 'CLOSED', 'conversations': [{'from': 'human', 'value': '<image>\\nDoes this image look normal?'}, {'from': 'gpt', 'value': 'No'}]}\n",
      "{'image': 'xmlab634/source.jpg', 'id': 12944, 'organ': 'Pelvic Cavity', 'answer_type': 'CLOSED', 'conversations': [{'from': 'human', 'value': '<image>\\nAre there organs in the picture that can promote blood flow?'}, {'from': 'gpt', 'value': 'No'}]}\n",
      "{'image': 'xmlab299/source.jpg', 'id': 12273, 'organ': 'Lung', 'answer_type': 'CLOSED', 'conversations': [{'from': 'human', 'value': '<image>\\nCan pneumothorax be observed on the lower left lung in this picture?'}, {'from': 'gpt', 'value': 'No'}]}\n",
      "{'image': 'xmlab622/source.jpg', 'id': 12923, 'organ': 'Pelvic Cavity', 'answer_type': 'CLOSED', 'conversations': [{'from': 'human', 'value': '<image>\\nDoes the picture contain colon?'}, {'from': 'gpt', 'value': 'Yes'}]}\n",
      "{'image': 'xmlab253/source.jpg', 'id': 12213, 'organ': 'Abdomen', 'answer_type': 'CLOSED', 'conversations': [{'from': 'human', 'value': '<image>\\nDoes the picture contain spleen?'}, {'from': 'gpt', 'value': 'No'}]}\n",
      "{'image': 'xmlab350/source.jpg', 'id': 12408, 'organ': 'Lung', 'answer_type': 'CLOSED', 'conversations': [{'from': 'human', 'value': '<image>\\nCan pneumothorax be observed on the lower right lung in this picture?'}, {'from': 'gpt', 'value': 'No'}]}\n",
      "{'image': 'xmlab320/source.jpg', 'id': 12347, 'organ': 'Lung', 'answer_type': 'CLOSED', 'conversations': [{'from': 'human', 'value': '<image>\\nIs this image normal?'}, {'from': 'gpt', 'value': 'No'}]}\n",
      "{'image': 'xmlab234/source.jpg', 'id': 12125, 'organ': 'Abdomen', 'answer_type': 'CLOSED', 'conversations': [{'from': 'human', 'value': '<image>\\nDoes the picture contain spleen?'}, {'from': 'gpt', 'value': 'Yes'}]}\n",
      "{'image': 'xmlab274/source.jpg', 'id': 12254, 'organ': 'Abdomen', 'answer_type': 'CLOSED', 'conversations': [{'from': 'human', 'value': '<image>\\nDoes the picture contain spleen?'}, {'from': 'gpt', 'value': 'Yes'}]}\n"
     ]
    }
   ],
   "source": [
    "# wrong_after_tuning_ids\n",
    "for i in wrong_after_tuning_ids:\n",
    "    print(gt_id_dict[i])"
   ]
  },
  {
   "cell_type": "code",
   "execution_count": 28,
   "metadata": {},
   "outputs": [
    {
     "name": "stdout",
     "output_type": "stream",
     "text": [
      "{'image': 'xmlab557/source.jpg', 'id': 12833, 'organ': 'Abdomen', 'answer_type': 'CLOSED', 'conversations': [{'from': 'human', 'value': '<image>\\nDoes the picture contain the organ that could be used for secreting enzymes?'}, {'from': 'gpt', 'value': 'Yes'}]}\n",
      "{'image': 'xmlab102/source.jpg', 'id': 11942, 'organ': 'Lung', 'answer_type': 'CLOSED', 'conversations': [{'from': 'human', 'value': '<image>\\nIs the lung healthy?'}, {'from': 'gpt', 'value': 'No'}]}\n",
      "{'image': 'xmlab427/source.jpg', 'id': 12583, 'organ': 'Neck', 'answer_type': 'CLOSED', 'conversations': [{'from': 'human', 'value': '<image>\\nDoes the trachea exist in this picture?'}, {'from': 'gpt', 'value': 'No'}]}\n",
      "{'image': 'xmlab604/source.jpg', 'id': 12908, 'organ': 'Pelvic Cavity', 'answer_type': 'CLOSED', 'conversations': [{'from': 'human', 'value': '<image>\\nDoes the picture contain the organ which has the effect of discharging waste?'}, {'from': 'gpt', 'value': 'No'}]}\n",
      "{'image': 'xmlab442/source.jpg', 'id': 12623, 'organ': 'Brain_Tissue', 'answer_type': 'CLOSED', 'conversations': [{'from': 'human', 'value': '<image>\\nIs this an MRI image with T1 weighted?'}, {'from': 'gpt', 'value': 'No'}]}\n",
      "{'image': 'xmlab386/source.jpg', 'id': 12528, 'organ': 'Lung', 'answer_type': 'CLOSED', 'conversations': [{'from': 'human', 'value': '<image>\\nCan effusion be observed on the lower left lung in this picture?'}, {'from': 'gpt', 'value': 'Yes'}]}\n",
      "{'image': 'xmlab469/source.jpg', 'id': 12656, 'organ': 'Brain_Tissue', 'answer_type': 'CLOSED', 'conversations': [{'from': 'human', 'value': '<image>\\nIs there evidence of a brain edema?'}, {'from': 'gpt', 'value': 'Yes'}]}\n",
      "{'image': 'xmlab85/source.jpg', 'id': 12978, 'organ': 'Lung', 'answer_type': 'CLOSED', 'conversations': [{'from': 'human', 'value': '<image>\\nDoes the lung look healthy?'}, {'from': 'gpt', 'value': 'Yes'}]}\n",
      "{'image': 'xmlab208/source.jpg', 'id': 12085, 'organ': 'Abdomen', 'answer_type': 'CLOSED', 'conversations': [{'from': 'human', 'value': '<image>\\nIs the liver healthy?'}, {'from': 'gpt', 'value': 'Yes'}]}\n",
      "{'image': 'xmlab538/source.jpg', 'id': 12791, 'organ': 'Abdomen', 'answer_type': 'CLOSED', 'conversations': [{'from': 'human', 'value': '<image>\\nDoes the picture contain the organ which has the effect of discharging waste?'}, {'from': 'gpt', 'value': 'Yes'}]}\n",
      "{'image': 'xmlab573/source.jpg', 'id': 12857, 'organ': 'Abdomen', 'answer_type': 'CLOSED', 'conversations': [{'from': 'human', 'value': '<image>\\nDoes the picture contain the organ which has the effect of gas delivery?'}, {'from': 'gpt', 'value': 'No'}]}\n",
      "{'image': 'xmlab219/source.jpg', 'id': 12092, 'organ': 'Abdomen', 'answer_type': 'CLOSED', 'conversations': [{'from': 'human', 'value': '<image>\\nDoes this image look normal?'}, {'from': 'gpt', 'value': 'Yes'}]}\n"
     ]
    }
   ],
   "source": [
    "# correct_after_tuning_ids\n",
    "for i in correct_after_tuning_ids:\n",
    "    print(gt_id_dict[i])"
   ]
  },
  {
   "cell_type": "code",
   "execution_count": null,
   "metadata": {},
   "outputs": [],
   "source": []
  }
 ],
 "metadata": {
  "kernelspec": {
   "display_name": "medh",
   "language": "python",
   "name": "python3"
  },
  "language_info": {
   "codemirror_mode": {
    "name": "ipython",
    "version": 3
   },
   "file_extension": ".py",
   "mimetype": "text/x-python",
   "name": "python",
   "nbconvert_exporter": "python",
   "pygments_lexer": "ipython3",
   "version": "3.10.14"
  }
 },
 "nbformat": 4,
 "nbformat_minor": 2
}
