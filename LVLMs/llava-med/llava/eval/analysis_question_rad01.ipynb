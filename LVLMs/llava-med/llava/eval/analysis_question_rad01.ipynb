{
 "cells": [
  {
   "cell_type": "code",
   "execution_count": 1,
   "metadata": {},
   "outputs": [
    {
     "name": "stdout",
     "output_type": "stream",
     "text": [
      "num_gt_ids: 451 || num_pred_ids: 451\n"
     ]
    }
   ],
   "source": [
    "from eval_metrics.glossary import *\n",
    "\n",
    "import json\n",
    "def load_jsonl(path):\n",
    "    data=[]\n",
    "    with open(path, 'r', encoding='utf-8') as reader:\n",
    "        for line in reader:\n",
    "            data.append(json.loads(line))\n",
    "    return data \n",
    "\n",
    "ROOT_PATH = \"/data/aofei\"\n",
    "dataset = \"VQA_RAD\"\n",
    "lora_pred_path = \"/data/aofei/hallucination/mitigation/VQA_RAD/llava_med/lora/epoch9/inference/pred.jsonl\"\n",
    "bv_pred_path = \"/data/aofei/hallucination/mitigation/VQA_RAD/llava_med/moe_query/lora_0.15_bbox_0.1/epoch9/inference/pred.jsonl\"\n",
    "\n",
    "gt_path = f\"{ROOT_PATH}/hallucination/{dataset}/data/test.json\"\n",
    "\n",
    "gt = json.load(open(gt_path, 'r'))\n",
    "# candidate = json.load(open(args.candidate, 'r'))\n",
    "lora_pred = load_jsonl(lora_pred_path)\n",
    "bv_pred = load_jsonl(bv_pred_path)\n",
    "\n",
    "gt_ids = [item['id'] for item in gt]\n",
    "pred_ids = [item['question_id'] for item in lora_pred]\n",
    "bv_pred_ids = [item['question_id'] for item in bv_pred]\n",
    "num_gt_ids, num_pred_ids = len(gt_ids), len(pred_ids)\n",
    "print(f'num_gt_ids: {num_gt_ids} || num_pred_ids: {num_pred_ids}')\n",
    "# import pdb; pdb.set_trace()\n",
    "assert gt_ids == pred_ids, \"please make sure pred and gt are exactly matched\"\n",
    "assert gt_ids == bv_pred_ids, \"please make sure pred and gt are exactly matched\""
   ]
  },
  {
   "cell_type": "code",
   "execution_count": 2,
   "metadata": {},
   "outputs": [],
   "source": [
    "# the original lora\n",
    "num_close = 0\n",
    "correct_ids, wrong_ids = [], []\n",
    "for gt_item, pred_item in zip(gt, lora_pred):\n",
    "    try:\n",
    "        gt_results = gt_item['conversations']\n",
    "    except:\n",
    "        gt_results = gt_item['conversatons']\n",
    "    gt_value = gt_results[1]['value'].lower()\n",
    "    pred_value = pred_item['text'].lower()\n",
    "\n",
    "    gt_value = normalize_word(gt_value)\n",
    "    pred_value = normalize_word(pred_value)\n",
    "\n",
    "    if gt_item['answer_type'] == 'CLOSED':\n",
    "        num_close += 1\n",
    "        _id = pred_item['question_id']\n",
    "        if 'yes' in pred_value or 'no' in pred_value:\n",
    "            if gt_value in pred_value:\n",
    "                correct_ids.append(_id)\n",
    "            else:\n",
    "                wrong_ids.append(_id)\n",
    "        # else:\n",
    "        #     wrong_ids.append(_id)"
   ]
  },
  {
   "cell_type": "code",
   "execution_count": 3,
   "metadata": {},
   "outputs": [
    {
     "data": {
      "text/plain": [
       "(76, 176)"
      ]
     },
     "execution_count": 3,
     "metadata": {},
     "output_type": "execute_result"
    }
   ],
   "source": [
    "len(wrong_ids), len(correct_ids)"
   ]
  },
  {
   "cell_type": "code",
   "execution_count": 4,
   "metadata": {},
   "outputs": [],
   "source": [
    "# our method, without MOE\n",
    "num_close = 0\n",
    "bv_correct_ids, bv_wrong_ids, bv_close_fail_ids = [], [], []\n",
    "for gt_item, pred_item in zip(gt, bv_pred):\n",
    "    try:\n",
    "        gt_results = gt_item['conversations']\n",
    "    except:\n",
    "        gt_results = gt_item['conversatons']\n",
    "    gt_value = gt_results[1]['value'].lower()\n",
    "    pred_value = pred_item['text'].lower()\n",
    "\n",
    "    gt_value = normalize_word(gt_value)\n",
    "    pred_value = normalize_word(pred_value)\n",
    "\n",
    "    if gt_item['answer_type'] == 'CLOSED':\n",
    "        num_close += 1\n",
    "        _id = pred_item['question_id']\n",
    "        if 'yes' in pred_value or 'no' in pred_value:\n",
    "            if gt_value in pred_value:\n",
    "                bv_correct_ids.append(_id)\n",
    "            else:\n",
    "                bv_wrong_ids.append(_id)\n",
    "        else:\n",
    "            bv_close_fail_ids.append(_id)\n",
    "        # else:\n",
    "        #     nobbox_wrong_ids.append(_id)"
   ]
  },
  {
   "cell_type": "code",
   "execution_count": 5,
   "metadata": {},
   "outputs": [
    {
     "data": {
      "text/plain": [
       "(77, 172, 5)"
      ]
     },
     "execution_count": 5,
     "metadata": {},
     "output_type": "execute_result"
    }
   ],
   "source": [
    "len(bv_wrong_ids), len(bv_correct_ids), len(bv_close_fail_ids)"
   ]
  },
  {
   "cell_type": "code",
   "execution_count": 6,
   "metadata": {},
   "outputs": [
    {
     "data": {
      "text/plain": [
       "('correct:', 24, 20, 'wrong:', 21, 22)"
      ]
     },
     "execution_count": 6,
     "metadata": {},
     "output_type": "execute_result"
    }
   ],
   "source": [
    "common_wrong_ids, bv_wrongs, lora_wrongs = [], [], []\n",
    "for i in wrong_ids:\n",
    "    if i in bv_wrong_ids:\n",
    "        common_wrong_ids.append(i)\n",
    "    else:\n",
    "        lora_wrongs.append(i)\n",
    "for i in bv_wrong_ids:\n",
    "    if i in wrong_ids:\n",
    "        continue\n",
    "    else:\n",
    "        bv_wrongs.append(i)\n",
    "\n",
    "common_correct_ids, bv_corrects, lora_corrects = [], [], []\n",
    "for i in correct_ids:\n",
    "    if i in bv_correct_ids:\n",
    "        common_correct_ids.append(i)\n",
    "    else:\n",
    "        lora_corrects.append(i)\n",
    "for i in bv_correct_ids:\n",
    "    if i in correct_ids:\n",
    "        continue\n",
    "    else:\n",
    "        bv_corrects.append(i)\n",
    "\"correct:\", len(lora_corrects), len(bv_corrects), \"wrong:\", len(lora_wrongs), len(bv_wrongs),"
   ]
  },
  {
   "cell_type": "code",
   "execution_count": 7,
   "metadata": {},
   "outputs": [],
   "source": [
    "gt[0]\n",
    "gt_id_dict = dict()\n",
    "for i in gt:\n",
    "    gt_id_dict[i['id']] = i"
   ]
  },
  {
   "cell_type": "code",
   "execution_count": 9,
   "metadata": {},
   "outputs": [
    {
     "name": "stdout",
     "output_type": "stream",
     "text": [
      "[{'from': 'human', 'value': 'Does this patient have evidence of pneumoperitoneum?'}, {'from': 'gpt', 'value': 'No'}]\n",
      "[{'from': 'human', 'value': 'Is the cardiac silhouette less than half the diameter of the diaphragm?'}, {'from': 'gpt', 'value': 'Yes'}]\n",
      "[{'from': 'human', 'value': 'Is the cardiac silhouette within normal size limits?'}, {'from': 'gpt', 'value': 'Yes'}]\n",
      "[{'from': 'human', 'value': 'Does this look like a healthy liver?'}, {'from': 'gpt', 'value': 'Yes'}]\n",
      "[{'from': 'human', 'value': 'Are lung markings present in the entire thoracic cavity?'}, {'from': 'gpt', 'value': 'Yes'}]\n",
      "[{'from': 'human', 'value': 'Is the gallbladder present?'}, {'from': 'gpt', 'value': 'Yes'}]\n",
      "[{'from': 'human', 'value': 'Are the borders of the heart clearly visualized?'}, {'from': 'gpt', 'value': 'yes'}]\n",
      "[{'from': 'human', 'value': 'Can you see the esophagus in this image?'}, {'from': 'gpt', 'value': 'No'}]\n",
      "[{'from': 'human', 'value': 'Is the mediastinum visualized?'}, {'from': 'gpt', 'value': 'No'}]\n",
      "[{'from': 'human', 'value': 'is there hylar lymphadenopathy?'}, {'from': 'gpt', 'value': 'yes'}]\n",
      "[{'from': 'human', 'value': 'Is there mass effect?'}, {'from': 'gpt', 'value': 'no'}]\n",
      "[{'from': 'human', 'value': 'Does this patient have a pneumothorax?'}, {'from': 'gpt', 'value': 'No'}]\n",
      "[{'from': 'human', 'value': 'Is the lesion wedge-shaped?'}, {'from': 'gpt', 'value': 'Yes'}]\n",
      "[{'from': 'human', 'value': 'Is the size of the ventricle abnormal?'}, {'from': 'gpt', 'value': 'Yes'}]\n",
      "[{'from': 'human', 'value': 'Is there a hypodense mass in the liver'}, {'from': 'gpt', 'value': 'Yes'}]\n",
      "[{'from': 'human', 'value': 'Is there air outside the bowel walls?'}, {'from': 'gpt', 'value': 'No'}]\n",
      "[{'from': 'human', 'value': \"Can the patient's encephalon be seen in this image?\"}, {'from': 'gpt', 'value': 'No'}]\n",
      "[{'from': 'human', 'value': 'Is pneumo intestinalis present?'}, {'from': 'gpt', 'value': 'yes'}]\n",
      "[{'from': 'human', 'value': 'Is there a chest tube placed?'}, {'from': 'gpt', 'value': 'No'}]\n",
      "[{'from': 'human', 'value': 'Are there EKG leads on this patient?'}, {'from': 'gpt', 'value': 'Yes'}]\n",
      "[{'from': 'human', 'value': 'Are the bronchial airways enlarged?'}, {'from': 'gpt', 'value': 'Yes'}]\n",
      "[{'from': 'human', 'value': 'Are the small bubbles of air seen normal or abnormal?'}, {'from': 'gpt', 'value': 'abnormal'}]\n"
     ]
    }
   ],
   "source": [
    "# specific questions wrongly answered by our method\n",
    "for i in bv_wrongs:\n",
    "    print(gt_id_dict[i][\"conversations\"])"
   ]
  },
  {
   "cell_type": "code",
   "execution_count": 10,
   "metadata": {},
   "outputs": [
    {
     "name": "stdout",
     "output_type": "stream",
     "text": [
      "[{'from': 'human', 'value': 'Is there small bowel thickening present?'}, {'from': 'gpt', 'value': 'Yes'}]\n",
      "[{'from': 'human', 'value': 'are there calcifications present on the abdominal aorta?'}, {'from': 'gpt', 'value': 'yes'}]\n",
      "[{'from': 'human', 'value': 'Has the midline of the mediastinum shifted?'}, {'from': 'gpt', 'value': 'No'}]\n",
      "[{'from': 'human', 'value': 'Is the liver normal?'}, {'from': 'gpt', 'value': 'Yes'}]\n",
      "[{'from': 'human', 'value': 'Is this in a coronal plane?'}, {'from': 'gpt', 'value': 'no'}]\n",
      "[{'from': 'human', 'value': 'Is there a pneumothorax present?'}, {'from': 'gpt', 'value': 'No'}]\n",
      "[{'from': 'human', 'value': 'Is the heart wider than more than half the width of the thorax?'}, {'from': 'gpt', 'value': 'No'}]\n",
      "[{'from': 'human', 'value': 'Is a pneumothorax present in the left apex?'}, {'from': 'gpt', 'value': 'No'}]\n",
      "[{'from': 'human', 'value': 'Can fluids be highlighted with this modality?'}, {'from': 'gpt', 'value': 'yes'}]\n",
      "[{'from': 'human', 'value': 'Can the lateral ventricles be seen?'}, {'from': 'gpt', 'value': 'yes'}]\n",
      "[{'from': 'human', 'value': 'Do you see hylar lymphadenopathy in this image?'}, {'from': 'gpt', 'value': 'yes'}]\n",
      "[{'from': 'human', 'value': 'Is there cardiomegaly?'}, {'from': 'gpt', 'value': 'yes'}]\n",
      "[{'from': 'human', 'value': 'Is this a T1 weighted MRI?'}, {'from': 'gpt', 'value': 'no'}]\n",
      "[{'from': 'human', 'value': 'Can a mass in the pancreatic head cause a liver injury?'}, {'from': 'gpt', 'value': 'yes'}]\n",
      "[{'from': 'human', 'value': 'Are there clearly defined cardiac borders in this image?'}, {'from': 'gpt', 'value': 'yes'}]\n",
      "[{'from': 'human', 'value': 'Is there air trapped in the body?'}, {'from': 'gpt', 'value': 'No'}]\n",
      "[{'from': 'human', 'value': \"Is there contrast in the patient's small bowel?\"}, {'from': 'gpt', 'value': 'Yes'}]\n",
      "[{'from': 'human', 'value': 'Are nodules present in both lungs?'}, {'from': 'gpt', 'value': 'yes'}]\n",
      "[{'from': 'human', 'value': 'Is there hilar lymphadenopathy?'}, {'from': 'gpt', 'value': 'No'}]\n",
      "[{'from': 'human', 'value': 'Are the ventricles an abnormal size?'}, {'from': 'gpt', 'value': 'no'}]\n",
      "[{'from': 'human', 'value': 'Is the trachea deviated in this image?'}, {'from': 'gpt', 'value': 'No'}]\n"
     ]
    }
   ],
   "source": [
    "for i in lora_wrongs:\n",
    "    print(gt_id_dict[i][\"conversations\"])"
   ]
  },
  {
   "cell_type": "code",
   "execution_count": 12,
   "metadata": {},
   "outputs": [
    {
     "name": "stdout",
     "output_type": "stream",
     "text": [
      "{'image': 'xmlab105/source.jpg', 'id': 11961, 'organ': 'Lung', 'answer_type': 'CLOSED', 'conversations': [{'from': 'human', 'value': '<image>\\nDoes the picture contain heart?'}, {'from': 'gpt', 'value': 'No'}]}\n",
      "{'image': 'xmlab299/source.jpg', 'id': 12273, 'organ': 'Lung', 'answer_type': 'CLOSED', 'conversations': [{'from': 'human', 'value': '<image>\\nCan pneumothorax be observed on the lower left lung in this picture?'}, {'from': 'gpt', 'value': 'No'}]}\n",
      "{'image': 'xmlab314/source.jpg', 'id': 12333, 'organ': 'Lung', 'answer_type': 'CLOSED', 'conversations': [{'from': 'human', 'value': '<image>\\nCan pneumonia be observed on the right lung in this picture?'}, {'from': 'gpt', 'value': 'Yes'}]}\n",
      "{'image': 'xmlab361/source.jpg', 'id': 12438, 'organ': 'Lung', 'answer_type': 'CLOSED', 'conversations': [{'from': 'human', 'value': '<image>\\nCan nodule be observed on the lower right lung in this picture?'}, {'from': 'gpt', 'value': 'No'}]}\n",
      "{'image': 'xmlab378/source.jpg', 'id': 12496, 'organ': 'Lung', 'answer_type': 'CLOSED', 'conversations': [{'from': 'human', 'value': \"<image>\\nIs/Are there abnormalities in the patient's left lung?\"}, {'from': 'gpt', 'value': 'Yes'}]}\n",
      "{'image': 'xmlab378/source.jpg', 'id': 12498, 'organ': 'Lung', 'answer_type': 'CLOSED', 'conversations': [{'from': 'human', 'value': '<image>\\nCan infiltration be observed on the lower left lung in this picture?'}, {'from': 'gpt', 'value': 'Yes'}]}\n",
      "{'image': 'xmlab386/source.jpg', 'id': 12528, 'organ': 'Lung', 'answer_type': 'CLOSED', 'conversations': [{'from': 'human', 'value': '<image>\\nCan effusion be observed on the lower left lung in this picture?'}, {'from': 'gpt', 'value': 'Yes'}]}\n",
      "{'image': 'xmlab85/source.jpg', 'id': 12977, 'organ': 'Lung', 'answer_type': 'CLOSED', 'conversations': [{'from': 'human', 'value': '<image>\\nDoes the picture contain heart?'}, {'from': 'gpt', 'value': 'No'}]}\n",
      "{'image': 'xmlab85/source.jpg', 'id': 12978, 'organ': 'Lung', 'answer_type': 'CLOSED', 'conversations': [{'from': 'human', 'value': '<image>\\nDoes the lung look healthy?'}, {'from': 'gpt', 'value': 'Yes'}]}\n"
     ]
    }
   ],
   "source": [
    "bv_corrects\n",
    "# gt_id_dict[11979]\n",
    "for i in bv_corrects:\n",
    "    print(gt_id_dict[i])"
   ]
  },
  {
   "cell_type": "code",
   "execution_count": 11,
   "metadata": {},
   "outputs": [
    {
     "name": "stdout",
     "output_type": "stream",
     "text": [
      "22 24 22\n"
     ]
    },
    {
     "data": {
      "text/plain": [
       "(20, 21, 20)"
      ]
     },
     "execution_count": 11,
     "metadata": {},
     "output_type": "execute_result"
    }
   ],
   "source": [
    "wrong_after_tuning_ids = list(set(lora_corrects) and set(bv_wrongs))\n",
    "print(len(wrong_after_tuning_ids), len(lora_corrects), len(bv_wrongs))\n",
    "\n",
    "correct_after_tuning_ids = list(set(lora_wrongs) and set(bv_corrects))\n",
    "len(correct_after_tuning_ids), len(lora_wrongs), len(bv_corrects)"
   ]
  },
  {
   "cell_type": "code",
   "execution_count": 12,
   "metadata": {},
   "outputs": [
    {
     "name": "stdout",
     "output_type": "stream",
     "text": [
      "{'conversations': [{'from': 'human', 'value': 'Is the gallbladder present?'}, {'from': 'gpt', 'value': 'Yes'}], 'answer_type': 'CLOSED', 'image': 'synpic24220.jpg', 'id': 391, 'text': 'Is the gallbladder present?'}\n",
      "{'conversations': [{'from': 'human', 'value': \"Can the patient's encephalon be seen in this image?\"}, {'from': 'gpt', 'value': 'No'}], 'answer_type': 'CLOSED', 'image': 'synpic24878.jpg', 'id': 1544, 'text': \"Can the patient's encephalon be seen in this image?\"}\n",
      "{'conversations': [{'from': 'human', 'value': 'is there hylar lymphadenopathy?'}, {'from': 'gpt', 'value': 'yes'}], 'answer_type': 'CLOSED', 'image': 'synpic32962.jpg', 'id': 649, 'text': 'is there hylar lymphadenopathy?'}\n",
      "{'conversations': [{'from': 'human', 'value': 'Is pneumo intestinalis present?'}, {'from': 'gpt', 'value': 'yes'}], 'answer_type': 'CLOSED', 'image': 'synpic23008.jpg', 'id': 1555, 'text': 'Is pneumo intestinalis present?'}\n",
      "{'conversations': [{'from': 'human', 'value': 'Does this patient have a pneumothorax?'}, {'from': 'gpt', 'value': 'No'}], 'answer_type': 'CLOSED', 'image': 'synpic28355.jpg', 'id': 791, 'text': 'Does this patient have a pneumothorax?'}\n",
      "{'conversations': [{'from': 'human', 'value': 'Are the bronchial airways enlarged?'}, {'from': 'gpt', 'value': 'Yes'}], 'answer_type': 'CLOSED', 'image': 'synpic59126.jpg', 'id': 1690, 'text': 'Are the bronchial airways enlarged?'}\n",
      "{'conversations': [{'from': 'human', 'value': 'Is there mass effect?'}, {'from': 'gpt', 'value': 'no'}], 'answer_type': 'CLOSED', 'image': 'synpic39301.jpg', 'id': 667, 'text': 'Is there mass effect?'}\n",
      "{'conversations': [{'from': 'human', 'value': 'Are the borders of the heart clearly visualized?'}, {'from': 'gpt', 'value': 'yes'}], 'answer_type': 'CLOSED', 'image': 'synpic45557.jpg', 'id': 415, 'text': 'Are the borders of the heart clearly visualized?'}\n",
      "{'conversations': [{'from': 'human', 'value': 'Does this look like a healthy liver?'}, {'from': 'gpt', 'value': 'Yes'}], 'answer_type': 'CLOSED', 'image': 'synpic29219.jpg', 'id': 294, 'text': 'Does this look like a healthy liver?'}\n",
      "{'conversations': [{'from': 'human', 'value': 'Can you see the esophagus in this image?'}, {'from': 'gpt', 'value': 'No'}], 'answer_type': 'CLOSED', 'image': 'synpic43648.jpg', 'id': 553, 'text': 'Can you see the esophagus in this image?'}\n",
      "{'conversations': [{'from': 'human', 'value': 'Is there a chest tube placed?'}, {'from': 'gpt', 'value': 'No'}], 'answer_type': 'CLOSED', 'image': 'synpic23989.jpg', 'id': 1593, 'text': 'Is there a chest tube placed?'}\n",
      "{'conversations': [{'from': 'human', 'value': 'Is there air outside the bowel walls?'}, {'from': 'gpt', 'value': 'No'}], 'answer_type': 'CLOSED', 'image': 'synpic23008.jpg', 'id': 1468, 'text': 'Is there air outside the bowel walls?'}\n",
      "{'conversations': [{'from': 'human', 'value': 'Are lung markings present in the entire thoracic cavity?'}, {'from': 'gpt', 'value': 'Yes'}], 'answer_type': 'CLOSED', 'image': 'synpic39532.jpg', 'id': 325, 'text': 'Are lung markings present in the entire thoracic cavity?'}\n",
      "{'conversations': [{'from': 'human', 'value': 'Is the size of the ventricle abnormal?'}, {'from': 'gpt', 'value': 'Yes'}], 'answer_type': 'CLOSED', 'image': 'synpic38069.jpg', 'id': 1103, 'text': 'Is the size of the ventricle abnormal?'}\n",
      "{'conversations': [{'from': 'human', 'value': 'Are the small bubbles of air seen normal or abnormal?'}, {'from': 'gpt', 'value': 'abnormal'}], 'answer_type': 'CLOSED', 'image': 'synpic23571.jpg', 'id': 1878, 'text': 'Are the small bubbles of air seen normal or abnormal?'}\n",
      "{'conversations': [{'from': 'human', 'value': 'Is there a hypodense mass in the liver'}, {'from': 'gpt', 'value': 'Yes'}], 'answer_type': 'CLOSED', 'image': 'synpic22791.jpg', 'id': 1112, 'text': 'Is there a hypodense mass in the liver'}\n",
      "{'conversations': [{'from': 'human', 'value': 'Are there EKG leads on this patient?'}, {'from': 'gpt', 'value': 'Yes'}], 'answer_type': 'CLOSED', 'image': 'synpic16174.jpg', 'id': 1628, 'text': 'Are there EKG leads on this patient?'}\n",
      "{'conversations': [{'from': 'human', 'value': 'Does this patient have evidence of pneumoperitoneum?'}, {'from': 'gpt', 'value': 'No'}], 'answer_type': 'CLOSED', 'image': 'synpic30324.jpg', 'id': 102, 'text': 'Does this patient have evidence of pneumoperitoneum?'}\n",
      "{'conversations': [{'from': 'human', 'value': 'Is the cardiac silhouette less than half the diameter of the diaphragm?'}, {'from': 'gpt', 'value': 'Yes'}], 'answer_type': 'CLOSED', 'image': 'synpic16174.jpg', 'id': 104, 'text': 'Is the cardiac silhouette less than half the diameter of the diaphragm?'}\n",
      "{'conversations': [{'from': 'human', 'value': 'Is the cardiac silhouette within normal size limits?'}, {'from': 'gpt', 'value': 'Yes'}], 'answer_type': 'CLOSED', 'image': 'synpic16174.jpg', 'id': 105, 'text': 'Is the cardiac silhouette within normal size limits?'}\n",
      "{'conversations': [{'from': 'human', 'value': 'Is the lesion wedge-shaped?'}, {'from': 'gpt', 'value': 'Yes'}], 'answer_type': 'CLOSED', 'image': 'synpic53033.jpg', 'id': 873, 'text': 'Is the lesion wedge-shaped?'}\n",
      "{'conversations': [{'from': 'human', 'value': 'Is the mediastinum visualized?'}, {'from': 'gpt', 'value': 'No'}], 'answer_type': 'CLOSED', 'image': 'synpic25758.jpg', 'id': 627, 'text': 'Is the mediastinum visualized?'}\n"
     ]
    }
   ],
   "source": [
    "# wrong_after_tuning_ids\n",
    "for i in wrong_after_tuning_ids:\n",
    "    print(gt_id_dict[i])"
   ]
  },
  {
   "cell_type": "code",
   "execution_count": 13,
   "metadata": {},
   "outputs": [
    {
     "name": "stdout",
     "output_type": "stream",
     "text": [
      "{'conversations': [{'from': 'human', 'value': 'Do you see hylar lymphadenopathy in this image?'}, {'from': 'gpt', 'value': 'yes'}], 'answer_type': 'CLOSED', 'image': 'synpic32962.jpg', 'id': 648, 'text': 'Do you see hylar lymphadenopathy in this image?'}\n",
      "{'conversations': [{'from': 'human', 'value': 'Is there cardiomegaly?'}, {'from': 'gpt', 'value': 'yes'}], 'answer_type': 'CLOSED', 'image': 'synpic18651.jpg', 'id': 655, 'text': 'Is there cardiomegaly?'}\n",
      "{'conversations': [{'from': 'human', 'value': 'Is there air trapped in the body?'}, {'from': 'gpt', 'value': 'No'}], 'answer_type': 'CLOSED', 'image': 'synpic34054.jpg', 'id': 1297, 'text': 'Is there air trapped in the body?'}\n",
      "{'conversations': [{'from': 'human', 'value': 'Are the ventricles an abnormal size?'}, {'from': 'gpt', 'value': 'no'}], 'answer_type': 'CLOSED', 'image': 'synpic31928.jpg', 'id': 1945, 'text': 'Are the ventricles an abnormal size?'}\n",
      "{'conversations': [{'from': 'human', 'value': 'Is the trachea deviated in this image?'}, {'from': 'gpt', 'value': 'No'}], 'answer_type': 'CLOSED', 'image': 'synpic25587.jpg', 'id': 1948, 'text': 'Is the trachea deviated in this image?'}\n",
      "{'conversations': [{'from': 'human', 'value': 'Has the midline of the mediastinum shifted?'}, {'from': 'gpt', 'value': 'No'}], 'answer_type': 'CLOSED', 'image': 'synpic33422.jpg', 'id': 161, 'text': 'Has the midline of the mediastinum shifted?'}\n",
      "{'conversations': [{'from': 'human', 'value': 'Is the liver normal?'}, {'from': 'gpt', 'value': 'Yes'}], 'answer_type': 'CLOSED', 'image': 'synpic29219.jpg', 'id': 295, 'text': 'Is the liver normal?'}\n",
      "{'conversations': [{'from': 'human', 'value': 'Is there small bowel thickening present?'}, {'from': 'gpt', 'value': 'Yes'}], 'answer_type': 'CLOSED', 'image': 'synpic34515.jpg', 'id': 40, 'text': 'Is there small bowel thickening present?'}\n",
      "{'conversations': [{'from': 'human', 'value': 'Is this in a coronal plane?'}, {'from': 'gpt', 'value': 'no'}], 'answer_type': 'CLOSED', 'image': 'synpic20260.jpg', 'id': 312, 'text': 'Is this in a coronal plane?'}\n",
      "{'conversations': [{'from': 'human', 'value': 'Is there hilar lymphadenopathy?'}, {'from': 'gpt', 'value': 'No'}], 'answer_type': 'CLOSED', 'image': 'synpic53228.jpg', 'id': 1722, 'text': 'Is there hilar lymphadenopathy?'}\n",
      "{'conversations': [{'from': 'human', 'value': 'Is a pneumothorax present in the left apex?'}, {'from': 'gpt', 'value': 'No'}], 'answer_type': 'CLOSED', 'image': 'synpic13385.jpg', 'id': 446, 'text': 'Is a pneumothorax present in the left apex?'}\n",
      "{'conversations': [{'from': 'human', 'value': 'Is there a pneumothorax present?'}, {'from': 'gpt', 'value': 'No'}], 'answer_type': 'CLOSED', 'image': 'synpic39532.jpg', 'id': 326, 'text': 'Is there a pneumothorax present?'}\n",
      "{'conversations': [{'from': 'human', 'value': 'Are nodules present in both lungs?'}, {'from': 'gpt', 'value': 'yes'}], 'answer_type': 'CLOSED', 'image': 'synpic12210.jpg', 'id': 1606, 'text': 'Are nodules present in both lungs?'}\n",
      "{'conversations': [{'from': 'human', 'value': 'Can fluids be highlighted with this modality?'}, {'from': 'gpt', 'value': 'yes'}], 'answer_type': 'CLOSED', 'image': 'synpic40096.jpg', 'id': 590, 'text': 'Can fluids be highlighted with this modality?'}\n",
      "{'conversations': [{'from': 'human', 'value': 'are there calcifications present on the abdominal aorta?'}, {'from': 'gpt', 'value': 'yes'}], 'answer_type': 'CLOSED', 'image': 'synpic39086.jpg', 'id': 83, 'text': 'are there calcifications present on the abdominal aorta?'}\n",
      "{'conversations': [{'from': 'human', 'value': 'Can the lateral ventricles be seen?'}, {'from': 'gpt', 'value': 'yes'}], 'answer_type': 'CLOSED', 'image': 'synpic57935.jpg', 'id': 599, 'text': 'Can the lateral ventricles be seen?'}\n",
      "{'conversations': [{'from': 'human', 'value': 'Are there clearly defined cardiac borders in this image?'}, {'from': 'gpt', 'value': 'yes'}], 'answer_type': 'CLOSED', 'image': 'synpic27646.jpg', 'id': 1256, 'text': 'Are there clearly defined cardiac borders in this image?'}\n",
      "{'conversations': [{'from': 'human', 'value': 'Is the heart wider than more than half the width of the thorax?'}, {'from': 'gpt', 'value': 'No'}], 'answer_type': 'CLOSED', 'image': 'synpic24390.jpg', 'id': 374, 'text': 'Is the heart wider than more than half the width of the thorax?'}\n",
      "{'conversations': [{'from': 'human', 'value': 'Is this a T1 weighted MRI?'}, {'from': 'gpt', 'value': 'no'}], 'answer_type': 'CLOSED', 'image': 'synpic51426.jpg', 'id': 1020, 'text': 'Is this a T1 weighted MRI?'}\n",
      "{'conversations': [{'from': 'human', 'value': 'Can a mass in the pancreatic head cause a liver injury?'}, {'from': 'gpt', 'value': 'yes'}], 'answer_type': 'CLOSED', 'image': 'synpic50958.jpg', 'id': 1150, 'text': 'Can a mass in the pancreatic head cause a liver injury?'}\n"
     ]
    }
   ],
   "source": [
    "# correct_after_tuning_ids\n",
    "for i in correct_after_tuning_ids:\n",
    "    print(gt_id_dict[i])"
   ]
  },
  {
   "cell_type": "code",
   "execution_count": null,
   "metadata": {},
   "outputs": [],
   "source": [
    "'Do you see hylar lymphadenopathy in this image?'\n",
    "'Is there cardiomegaly?'\n",
    "'Is there air trapped in the body?'\n",
    "'Are the ventricles an abnormal size?'\n",
    "'Is the trachea deviated in this image?'\n",
    "'Has the midline of the mediastinum shifted?'\n",
    "'Is the liver normal?'\n",
    "'Is there small bowel thickening present?'\n",
    "'Is this in a coronal plane?'\n",
    "'Is there hilar lymphadenopathy?'\n",
    "'Is a pneumothorax present in the left apex?'\n",
    "'Is there a pneumothorax present?'\n",
    "'Are nodules present in both lungs?'\n",
    "'Can fluids be highlighted with this modality?'\n",
    "'are there calcifications present on the abdominal aorta?'\n",
    "'Can the lateral ventricles be seen?'\n",
    "'Are there clearly defined cardiac borders in this image?'\n",
    "'Is the heart wider than more than half the width of the thorax?'\n",
    "'Is this a T1 weighted MRI?'\n",
    "'Can a mass in the pancreatic head cause a liver injury?'"
   ]
  }
 ],
 "metadata": {
  "kernelspec": {
   "display_name": "medh",
   "language": "python",
   "name": "python3"
  },
  "language_info": {
   "codemirror_mode": {
    "name": "ipython",
    "version": 3
   },
   "file_extension": ".py",
   "mimetype": "text/x-python",
   "name": "python",
   "nbconvert_exporter": "python",
   "pygments_lexer": "ipython3",
   "version": "3.10.14"
  }
 },
 "nbformat": 4,
 "nbformat_minor": 2
}
