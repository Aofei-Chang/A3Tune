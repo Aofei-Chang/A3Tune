{
 "cells": [
  {
   "cell_type": "code",
   "execution_count": 28,
   "metadata": {},
   "outputs": [
    {
     "name": "stdout",
     "output_type": "stream",
     "text": [
      "num_gt_ids: 419 || num_pred_ids: 419\n"
     ]
    }
   ],
   "source": [
    "# \n",
    "\n",
    "from eval_metrics.glossary import *\n",
    "\n",
    "import json\n",
    "def load_jsonl(path):\n",
    "    data=[]\n",
    "    with open(path, 'r', encoding='utf-8') as reader:\n",
    "        for line in reader:\n",
    "            data.append(json.loads(line))\n",
    "    return data \n",
    "\n",
    "ROOT_PATH = \"/data/aofei\"\n",
    "dataset = \"Slake\"\n",
    "# lora_pred_path = \"/data/aofei/hallucination/mitigation/Slake/llava_med/organ_brain/lora/epoch9_seed4/inference/pred.jsonl\"\n",
    "# bv_pred_path = \"/data/aofei/hallucination/mitigation/Slake/llava_med/organ_brain/bbox_0.1/epoch9_seed4/inference/pred_beam.jsonl\"\n",
    "# gt_path = f\"{ROOT_PATH}/hallucination/{dataset}/data/organ/test_brain.json\"\n",
    "\n",
    "# lora_pred_path = \"/data/aofei/hallucination/mitigation/Slake/llava_med/organ_abd/lora/epoch9_seed4/inference/pred.jsonl\"\n",
    "# bv_pred_path = \"/data/aofei/hallucination/mitigation/Slake/llava_med/organ_abd/bbox_0.1/epoch9_seed4/inference/pred_beam.jsonl\"\n",
    "# gt_path = f\"{ROOT_PATH}/hallucination/{dataset}/data/organ/test_abd.json\"\n",
    "\n",
    "lora_pred_path = \"/data/aofei/hallucination/mitigation/Slake/llava_med/organ_lung/lora/epoch9_seed4/inference/pred.jsonl\"\n",
    "bv_pred_path = \"/data/aofei/hallucination/mitigation/Slake/llava_med/organ_lung/bbox_0.1/epoch9_seed4/inference/pred_beam.jsonl\"\n",
    "gt_path = f\"{ROOT_PATH}/hallucination/{dataset}/data/organ/test_lung.json\"\n",
    "\n",
    "gt = json.load(open(gt_path, 'r'))\n",
    "# candidate = json.load(open(args.candidate, 'r'))\n",
    "lora_pred = load_jsonl(lora_pred_path)\n",
    "bv_pred = load_jsonl(bv_pred_path)\n",
    "\n",
    "gt_ids = [item['id'] for item in gt]\n",
    "pred_ids = [item['question_id'] for item in lora_pred]\n",
    "bv_pred_ids = [item['question_id'] for item in bv_pred]\n",
    "num_gt_ids, num_pred_ids = len(gt_ids), len(pred_ids)\n",
    "print(f'num_gt_ids: {num_gt_ids} || num_pred_ids: {num_pred_ids}')\n",
    "# import pdb; pdb.set_trace()\n",
    "assert gt_ids == pred_ids, \"please make sure pred and gt are exactly matched\"\n",
    "assert gt_ids == bv_pred_ids, \"please make sure pred and gt are exactly matched\""
   ]
  },
  {
   "cell_type": "code",
   "execution_count": 29,
   "metadata": {},
   "outputs": [],
   "source": [
    "# the original lora\n",
    "num_close = 0\n",
    "correct_ids, wrong_ids = [], []\n",
    "for gt_item, pred_item in zip(gt, lora_pred):\n",
    "    try:\n",
    "        gt_results = gt_item['conversations']\n",
    "    except:\n",
    "        gt_results = gt_item['conversatons']\n",
    "    gt_value = gt_results[1]['value'].lower()\n",
    "    pred_value = pred_item['text'].lower()\n",
    "\n",
    "    gt_value = normalize_word(gt_value)\n",
    "    pred_value = normalize_word(pred_value)\n",
    "\n",
    "    if gt_item['answer_type'] == 'CLOSED':\n",
    "        num_close += 1\n",
    "        _id = pred_item['question_id']\n",
    "        if 'yes' in pred_value or 'no' in pred_value:\n",
    "            if gt_value in pred_value:\n",
    "                correct_ids.append(_id)\n",
    "            else:\n",
    "                wrong_ids.append(_id)\n",
    "        # else:\n",
    "        #     wrong_ids.append(_id)"
   ]
  },
  {
   "cell_type": "code",
   "execution_count": 30,
   "metadata": {},
   "outputs": [
    {
     "data": {
      "text/plain": [
       "(13, 106)"
      ]
     },
     "execution_count": 30,
     "metadata": {},
     "output_type": "execute_result"
    }
   ],
   "source": [
    "len(wrong_ids), len(correct_ids)"
   ]
  },
  {
   "cell_type": "code",
   "execution_count": 31,
   "metadata": {},
   "outputs": [],
   "source": [
    "# our method, without MOE\n",
    "num_close = 0\n",
    "bv_correct_ids, bv_wrong_ids, bv_close_fail_ids = [], [], []\n",
    "for gt_item, pred_item in zip(gt, bv_pred):\n",
    "    try:\n",
    "        gt_results = gt_item['conversations']\n",
    "    except:\n",
    "        gt_results = gt_item['conversatons']\n",
    "    gt_value = gt_results[1]['value'].lower()\n",
    "    pred_value = pred_item['text'].lower()\n",
    "\n",
    "    gt_value = normalize_word(gt_value)\n",
    "    pred_value = normalize_word(pred_value)\n",
    "\n",
    "    if gt_item['answer_type'] == 'CLOSED':\n",
    "        num_close += 1\n",
    "        _id = pred_item['question_id']\n",
    "        if 'yes' in pred_value or 'no' in pred_value:\n",
    "            if gt_value in pred_value:\n",
    "                bv_correct_ids.append(_id)\n",
    "            else:\n",
    "                bv_wrong_ids.append(_id)\n",
    "        else:\n",
    "            bv_close_fail_ids.append(_id)\n",
    "        # else:\n",
    "        #     nobbox_wrong_ids.append(_id)"
   ]
  },
  {
   "cell_type": "code",
   "execution_count": 32,
   "metadata": {},
   "outputs": [
    {
     "data": {
      "text/plain": [
       "(12, 107, 0)"
      ]
     },
     "execution_count": 32,
     "metadata": {},
     "output_type": "execute_result"
    }
   ],
   "source": [
    "len(bv_wrong_ids), len(bv_correct_ids), len(bv_close_fail_ids)"
   ]
  },
  {
   "cell_type": "code",
   "execution_count": 33,
   "metadata": {},
   "outputs": [
    {
     "data": {
      "text/plain": [
       "('correct:', 1, 2, 'wrong:', 2, 1)"
      ]
     },
     "execution_count": 33,
     "metadata": {},
     "output_type": "execute_result"
    }
   ],
   "source": [
    "common_wrong_ids, bv_wrongs, lora_wrongs = [], [], []\n",
    "for i in wrong_ids:\n",
    "    if i in bv_wrong_ids:\n",
    "        common_wrong_ids.append(i)\n",
    "    else:\n",
    "        lora_wrongs.append(i)\n",
    "for i in bv_wrong_ids:\n",
    "    if i in wrong_ids:\n",
    "        continue\n",
    "    else:\n",
    "        bv_wrongs.append(i)\n",
    "\n",
    "common_correct_ids, bv_corrects, lora_corrects = [], [], []\n",
    "for i in correct_ids:\n",
    "    if i in bv_correct_ids:\n",
    "        common_correct_ids.append(i)\n",
    "    else:\n",
    "        lora_corrects.append(i)\n",
    "for i in bv_correct_ids:\n",
    "    if i in correct_ids:\n",
    "        continue\n",
    "    else:\n",
    "        bv_corrects.append(i)\n",
    "\"correct:\", len(lora_corrects), len(bv_corrects), \"wrong:\", len(lora_wrongs), len(bv_wrongs),"
   ]
  },
  {
   "cell_type": "code",
   "execution_count": 34,
   "metadata": {},
   "outputs": [],
   "source": [
    "gt[0]\n",
    "gt_id_dict = dict()\n",
    "for i in gt:\n",
    "    gt_id_dict[i['id']] = i"
   ]
  },
  {
   "cell_type": "code",
   "execution_count": 35,
   "metadata": {},
   "outputs": [
    {
     "name": "stdout",
     "output_type": "stream",
     "text": [
      "Lung [{'from': 'human', 'value': '<image>\\nDoes the picture contain liver?'}, {'from': 'gpt', 'value': 'No'}]\n"
     ]
    }
   ],
   "source": [
    "# specific questions wrongly answered by our method\n",
    "for i in bv_wrongs:\n",
    "    print(gt_id_dict[i][\"organ\"], gt_id_dict[i][\"conversations\"])"
   ]
  },
  {
   "cell_type": "code",
   "execution_count": 36,
   "metadata": {},
   "outputs": [
    {
     "name": "stdout",
     "output_type": "stream",
     "text": [
      "Lung [{'from': 'human', 'value': '<image>\\nCan atelectasis be observed on the lower left lung in this picture?'}, {'from': 'gpt', 'value': 'Yes'}]\n",
      "Lung [{'from': 'human', 'value': '<image>\\nCan pneumonia be observed on the lower right lung in this picture?'}, {'from': 'gpt', 'value': 'Yes'}]\n"
     ]
    }
   ],
   "source": [
    "for i in lora_wrongs:\n",
    "    print(gt_id_dict[i][\"organ\"], gt_id_dict[i][\"conversations\"])"
   ]
  },
  {
   "cell_type": "code",
   "execution_count": 37,
   "metadata": {},
   "outputs": [
    {
     "name": "stdout",
     "output_type": "stream",
     "text": [
      "{'image': 'xmlab312/source.jpg', 'id': 12318, 'organ': 'Lung', 'answer_type': 'CLOSED', 'conversations': [{'from': 'human', 'value': '<image>\\nCan atelectasis be observed on the lower left lung in this picture?'}, {'from': 'gpt', 'value': 'Yes'}]}\n",
      "{'image': 'xmlab375/source.jpg', 'id': 12483, 'organ': 'Lung', 'answer_type': 'CLOSED', 'conversations': [{'from': 'human', 'value': '<image>\\nCan pneumonia be observed on the lower right lung in this picture?'}, {'from': 'gpt', 'value': 'Yes'}]}\n"
     ]
    }
   ],
   "source": [
    "bv_corrects\n",
    "# gt_id_dict[11979]\n",
    "for i in bv_corrects:\n",
    "    print(gt_id_dict[i])"
   ]
  },
  {
   "cell_type": "code",
   "execution_count": null,
   "metadata": {},
   "outputs": [],
   "source": []
  },
  {
   "cell_type": "code",
   "execution_count": 38,
   "metadata": {},
   "outputs": [
    {
     "name": "stdout",
     "output_type": "stream",
     "text": [
      "1 1 1\n"
     ]
    },
    {
     "data": {
      "text/plain": [
       "(2, 2, 2)"
      ]
     },
     "execution_count": 38,
     "metadata": {},
     "output_type": "execute_result"
    }
   ],
   "source": [
    "wrong_after_tuning_ids = list(set(lora_corrects) and set(bv_wrongs))\n",
    "print(len(wrong_after_tuning_ids), len(lora_corrects), len(bv_wrongs))\n",
    "\n",
    "correct_after_tuning_ids = list(set(lora_wrongs) and set(bv_corrects))\n",
    "len(correct_after_tuning_ids), len(lora_wrongs), len(bv_corrects)"
   ]
  },
  {
   "cell_type": "code",
   "execution_count": 39,
   "metadata": {},
   "outputs": [
    {
     "data": {
      "text/plain": [
       "True"
      ]
     },
     "execution_count": 39,
     "metadata": {},
     "output_type": "execute_result"
    }
   ],
   "source": [
    "set(wrong_after_tuning_ids) == set(bv_wrongs)"
   ]
  },
  {
   "cell_type": "code",
   "execution_count": 40,
   "metadata": {},
   "outputs": [
    {
     "name": "stdout",
     "output_type": "stream",
     "text": [
      "{'image': 'xmlab25/source.jpg', 'id': 12164, 'organ': 'Lung', 'answer_type': 'CLOSED', 'conversations': [{'from': 'human', 'value': '<image>\\nDoes the picture contain liver?'}, {'from': 'gpt', 'value': 'No'}]}\n"
     ]
    }
   ],
   "source": [
    "# wrong_after_tuning_ids\n",
    "for i in wrong_after_tuning_ids:\n",
    "    print(gt_id_dict[i])"
   ]
  },
  {
   "cell_type": "code",
   "execution_count": 41,
   "metadata": {},
   "outputs": [
    {
     "name": "stdout",
     "output_type": "stream",
     "text": [
      "{'image': 'xmlab375/source.jpg', 'id': 12483, 'organ': 'Lung', 'answer_type': 'CLOSED', 'conversations': [{'from': 'human', 'value': '<image>\\nCan pneumonia be observed on the lower right lung in this picture?'}, {'from': 'gpt', 'value': 'Yes'}]}\n",
      "{'image': 'xmlab312/source.jpg', 'id': 12318, 'organ': 'Lung', 'answer_type': 'CLOSED', 'conversations': [{'from': 'human', 'value': '<image>\\nCan atelectasis be observed on the lower left lung in this picture?'}, {'from': 'gpt', 'value': 'Yes'}]}\n"
     ]
    }
   ],
   "source": [
    "# correct_after_tuning_ids\n",
    "for i in correct_after_tuning_ids:\n",
    "    print(gt_id_dict[i])"
   ]
  },
  {
   "cell_type": "markdown",
   "metadata": {},
   "source": [
    "s"
   ]
  },
  {
   "cell_type": "code",
   "execution_count": null,
   "metadata": {},
   "outputs": [],
   "source": [
    "{'image': 'xmlab93/source.jpg', 'id': 12993, 'organ': 'Abdomen', 'answer_type': 'CLOSED', 'conversations': [{'from': 'human', 'value': '<image>\\nDoes the picture contain lung?'}, {'from': 'gpt', 'value': 'No'}]}\n",
    "{'image': 'xmlab543/source.jpg', 'id': 12802, 'organ': 'Abdomen', 'answer_type': 'CLOSED', 'conversations': [{'from': 'human', 'value': '<image>\\nDoes the picture contain the organ that could be used for secreting enzymes?'}, {'from': 'gpt', 'value': 'No'}]}\n",
    "{'image': 'xmlab252/source.jpg', 'id': 12195, 'organ': 'Abdomen', 'answer_type': 'CLOSED', 'conversations': [{'from': 'human', 'value': '<image>\\nDoes the picture contain kidney?'}, {'from': 'gpt', 'value': 'Yes'}]}\n",
    "{'image': 'xmlab561/source.jpg', 'id': 12836, 'organ': 'Abdomen', 'answer_type': 'CLOSED', 'conversations': [{'from': 'human', 'value': '<image>\\nDoes the picture contain colon?'}, {'from': 'gpt', 'value': 'No'}]}\n",
    "{'image': 'xmlab13/source.jpg', 'id': 11979, 'organ': 'Abdomen', 'answer_type': 'CLOSED', 'conversations': [{'from': 'human', 'value': '<image>\\nDoes the picture contain spleen?'}, {'from': 'gpt', 'value': 'Yes'}]}\n",
    "{'image': 'xmlab538/source.jpg', 'id': 12783, 'organ': 'Abdomen', 'answer_type': 'CLOSED', 'conversations': [{'from': 'human', 'value': '<image>\\nDoes the stomach appear in the image?'}, {'from': 'gpt', 'value': 'No'}]}\n",
    "{'image': 'xmlab580/source.jpg', 'id': 12880, 'organ': 'Abdomen', 'answer_type': 'CLOSED', 'conversations': [{'from': 'human', 'value': '<image>\\nDoes the picture contain heart?'}, {'from': 'gpt', 'value': 'Yes'}]}\n",
    "{'image': 'xmlab580/source.jpg', 'id': 12881, 'organ': 'Abdomen', 'answer_type': 'CLOSED', 'conversations': [{'from': 'human', 'value': '<image>\\nDoes the picture contain stomach?'}, {'from': 'gpt', 'value': 'No'}]}\n",
    "{'image': 'xmlab274/source.jpg', 'id': 12254, 'organ': 'Abdomen', 'answer_type': 'CLOSED', 'conversations': [{'from': 'human', 'value': '<image>\\nDoes the picture contain spleen?'}, {'from': 'gpt', 'value': 'Yes'}]}\n"
   ]
  }
 ],
 "metadata": {
  "kernelspec": {
   "display_name": "medh",
   "language": "python",
   "name": "python3"
  },
  "language_info": {
   "codemirror_mode": {
    "name": "ipython",
    "version": 3
   },
   "file_extension": ".py",
   "mimetype": "text/x-python",
   "name": "python",
   "nbconvert_exporter": "python",
   "pygments_lexer": "ipython3",
   "version": "3.10.14"
  }
 },
 "nbformat": 4,
 "nbformat_minor": 2
}
