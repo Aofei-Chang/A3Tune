{
 "cells": [
  {
   "cell_type": "code",
   "execution_count": 1,
   "metadata": {},
   "outputs": [
    {
     "name": "stderr",
     "output_type": "stream",
     "text": [
      "/data/aofei/conda/env/medh/lib/python3.10/site-packages/transformers/utils/generic.py:441: UserWarning: torch.utils._pytree._register_pytree_node is deprecated. Please use torch.utils._pytree.register_pytree_node instead.\n",
      "  _torch_pytree._register_pytree_node(\n",
      "/data/aofei/conda/env/medh/lib/python3.10/site-packages/transformers/utils/hub.py:123: FutureWarning: Using `TRANSFORMERS_CACHE` is deprecated and will be removed in v5 of Transformers. Use `HF_HOME` instead.\n",
      "  warnings.warn(\n",
      "/data/aofei/conda/env/medh/lib/python3.10/site-packages/transformers/utils/generic.py:309: UserWarning: torch.utils._pytree._register_pytree_node is deprecated. Please use torch.utils._pytree.register_pytree_node instead.\n",
      "  _torch_pytree._register_pytree_node(\n",
      "/data/aofei/conda/env/medh/lib/python3.10/site-packages/transformers/utils/generic.py:309: UserWarning: torch.utils._pytree._register_pytree_node is deprecated. Please use torch.utils._pytree.register_pytree_node instead.\n",
      "  _torch_pytree._register_pytree_node(\n"
     ]
    }
   ],
   "source": [
    "from visualizer import get_local\n",
    "get_local.activate()\n",
    "\n",
    "import os\n",
    "ROOT_PATH=\"/data/aofei\"\n",
    "os.environ[\"CUDA_VISIBLE_DEVICES\"] = '3'\n",
    "os.environ[\"TRANSFORMERS_CACHE\"] = f\"{ROOT_PATH}/huggingface_cache/transformers\"\n",
    "os.environ[\"HF_HOME\"] = f\"{ROOT_PATH}/huggingface_cache/transformers\"\n",
    "\n",
    "from PIL import Image\n",
    "import seaborn as sns\n",
    "import torch\n",
    "import torch.nn.functional as F\n",
    "import json\n",
    "import copy\n",
    "import numpy as np\n",
    "import matplotlib.pyplot as plt\n",
    "\n",
    "import sys\n",
    "sys.path.append(\"/home/avc6555/research/MedH/Mitigation/LVLMs/llava-med\")\n",
    "\n",
    "from llava import LlavaLlamaForCausalLM\n",
    "from llava.conversation import conv_templates\n",
    "from llava.utils import disable_torch_init\n",
    "from transformers import CLIPVisionModel, CLIPImageProcessor, StoppingCriteria\n",
    "from transformers import AutoTokenizer, AutoModelForCausalLM, AutoConfig\n",
    "\n",
    "from PIL import Image\n",
    "import random\n",
    "import math"
   ]
  },
  {
   "cell_type": "code",
   "execution_count": 2,
   "metadata": {},
   "outputs": [
    {
     "name": "stderr",
     "output_type": "stream",
     "text": [
      "Special tokens have been added in the vocabulary, make sure the associated word embeddings are fine-tuned or trained.\n"
     ]
    },
    {
     "name": "stderr",
     "output_type": "stream",
     "text": [
      "/data/aofei/conda/env/medh/lib/python3.10/site-packages/huggingface_hub/file_download.py:1132: FutureWarning: `resume_download` is deprecated and will be removed in version 1.0.0. Downloads always resume when possible. If you want to force a new download, use `force_download=True`.\n",
      "  warnings.warn(\n"
     ]
    },
    {
     "data": {
      "application/vnd.jupyter.widget-view+json": {
       "model_id": "64ffa06c3f074e349e19974a072802a2",
       "version_major": 2,
       "version_minor": 0
      },
      "text/plain": [
       "Loading checkpoint shards:   0%|          | 0/3 [00:00<?, ?it/s]"
      ]
     },
     "metadata": {},
     "output_type": "display_data"
    },
    {
     "name": "stdout",
     "output_type": "stream",
     "text": [
      "256 token length\n"
     ]
    }
   ],
   "source": [
    "# load model\n",
    "ROOT_PATH=\"/data/aofei\"\n",
    "model_name = f\"{ROOT_PATH}/LLM/llava_med\"\n",
    "\n",
    "DEFAULT_IMAGE_TOKEN = \"<image>\"\n",
    "DEFAULT_IMAGE_PATCH_TOKEN = \"<im_patch>\"\n",
    "DEFAULT_IM_START_TOKEN = \"<im_start>\"\n",
    "DEFAULT_IM_END_TOKEN = \"<im_end>\"\n",
    "\n",
    "model_name = os.path.expanduser(model_name)\n",
    "tokenizer = AutoTokenizer.from_pretrained(model_name)\n",
    "\n",
    "model = LlavaLlamaForCausalLM.from_pretrained(model_name, torch_dtype=torch.float16, use_cache=True).cuda()\n",
    "# print(\"vision tower\", model.config.mm_vision_tower)\n",
    "image_processor = CLIPImageProcessor.from_pretrained(model.config.mm_vision_tower, torch_dtype=torch.float16)\n",
    "vision_tower = model.model.vision_tower[0]\n",
    "vision_tower.to(device='cuda', dtype=torch.float16)\n",
    "\n",
    "mm_use_im_start_end = getattr(model.config, \"mm_use_im_start_end\", False)\n",
    "tokenizer.add_tokens([DEFAULT_IMAGE_PATCH_TOKEN], special_tokens=True)\n",
    "if mm_use_im_start_end:\n",
    "    tokenizer.add_tokens([DEFAULT_IM_START_TOKEN, DEFAULT_IM_END_TOKEN], special_tokens=True)\n",
    "\n",
    "vision_config = vision_tower.config\n",
    "vision_config.im_patch_token = tokenizer.convert_tokens_to_ids([DEFAULT_IMAGE_PATCH_TOKEN])[0]\n",
    "vision_config.use_im_start_end = mm_use_im_start_end\n",
    "if mm_use_im_start_end:\n",
    "    vision_config.im_start_token, vision_config.im_end_token = tokenizer.convert_tokens_to_ids([DEFAULT_IM_START_TOKEN, DEFAULT_IM_END_TOKEN])\n",
    "image_token_len = (vision_config.image_size // vision_config.patch_size) ** 2\n",
    "print(image_token_len, \"token length\")"
   ]
  },
  {
   "cell_type": "code",
   "execution_count": 3,
   "metadata": {},
   "outputs": [],
   "source": [
    "import clip\n",
    "_, preprocess = clip.load(\"ViT-B/32\", device='cpu', jit=False)\n",
    "\n",
    "class KeywordsStoppingCriteria(StoppingCriteria):\n",
    "    def __init__(self, keywords, tokenizer, input_ids):\n",
    "        self.keywords = keywords\n",
    "        self.tokenizer = tokenizer\n",
    "        self.start_len = None\n",
    "        self.input_ids = input_ids\n",
    "        \n",
    "\n",
    "    def __call__(self, output_ids: torch.LongTensor, scores: torch.FloatTensor, **kwargs) -> bool:\n",
    "        if self.start_len is None:\n",
    "            self.start_len = self.input_ids.shape[1]\n",
    "        else:\n",
    "            outputs = self.tokenizer.batch_decode(output_ids[:, self.start_len:], skip_special_tokens=True)[0]\n",
    "            for keyword in self.keywords:\n",
    "                if keyword in outputs:\n",
    "                    return True\n",
    "        return False\n",
    "        "
   ]
  },
  {
   "cell_type": "code",
   "execution_count": 4,
   "metadata": {},
   "outputs": [],
   "source": [
    "def get_attention_weights_example(model, question, image_path, conv_mode=\"simple\"):\n",
    "    qs = question.replace(DEFAULT_IMAGE_TOKEN, '').strip()\n",
    "    \n",
    "    image = Image.open(image_path)\n",
    "    image_tensor = image_processor.preprocess(image, return_tensors='pt')['pixel_values'][0]\n",
    "    images = image_tensor.unsqueeze(0).half().cuda()\n",
    "    if getattr(model.config, 'mm_use_im_start_end', False):\n",
    "        qs = DEFAULT_IM_START_TOKEN + DEFAULT_IMAGE_PATCH_TOKEN * image_token_len + DEFAULT_IM_END_TOKEN + '\\n' +  qs\n",
    "    else:\n",
    "        qs = DEFAULT_IMAGE_PATCH_TOKEN * image_token_len + '\\n' + qs\n",
    "    cur_prompt = '<image>' + '\\n' +  qs\n",
    "\n",
    "    conv = conv_templates[conv_mode].copy()\n",
    "    conv.messages = []\n",
    "    conv.append_message(conv.roles[0], qs)\n",
    "    prompt = conv.get_prompt()\n",
    "    inputs = tokenizer([prompt])\n",
    "\n",
    "    input_ids = torch.as_tensor(inputs.input_ids).cuda()\n",
    "\n",
    "\n",
    "    keywords = ['###']\n",
    "    stopping_criteria = KeywordsStoppingCriteria(keywords, tokenizer, input_ids)\n",
    "    \n",
    "\n",
    "    with torch.inference_mode():\n",
    "        outputs = model.generate(\n",
    "            input_ids,\n",
    "            images=images,\n",
    "            do_sample=False,\n",
    "            temperature=0.7,\n",
    "            max_new_tokens=1024,\n",
    "            output_attentions=True,\n",
    "            return_dict_in_generate=True,\n",
    "            stopping_criteria=[stopping_criteria])\n",
    "\n",
    "    text = tokenizer.decode(outputs[\"sequences\"][0]).strip()\n",
    "    cache = get_local.cache\n",
    "    print(text.split(\"###\")[-2])\n",
    "    return cache, text, outputs, input_ids, image"
   ]
  },
  {
   "cell_type": "markdown",
   "metadata": {},
   "source": [
    "### The original model without probing training"
   ]
  },
  {
   "cell_type": "code",
   "execution_count": 33,
   "metadata": {},
   "outputs": [
    {
     "name": "stderr",
     "output_type": "stream",
     "text": [
      "/data/aofei/conda/env/medh/lib/python3.10/site-packages/transformers/generation/configuration_utils.py:389: UserWarning: `do_sample` is set to `False`. However, `temperature` is set to `0.7` -- this flag is only used in sample-based generation modes. You should set `do_sample=True` or unset `temperature`.\n",
      "  warnings.warn(\n"
     ]
    },
    {
     "name": "stdout",
     "output_type": "stream",
     "text": [
      " Assistant: Yes, the computed tomography (CT) scan of the abdomen shows the presence of liver tissue.\n",
      "\n",
      "</s> A chat between a curious human and an artificial intelligence assistant. The assistant gives helpful, detailed, and polite answers to the human's questions.###Human: <im_start><im_patch><im_patch><im_patch><im_patch><im_patch><im_patch><im_patch><im_patch><im_patch><im_patch><im_patch><im_patch><im_patch><im_patch><im_patch><im_patch><im_patch><im_patch><im_patch><im_patch><im_patch><im_patch><im_patch><im_patch><im_patch><im_patch><im_patch><im_patch><im_patch><im_patch><im_patch><im_patch><im_patch><im_patch><im_patch><im_patch><im_patch><im_patch><im_patch><im_patch><im_patch><im_patch><im_patch><im_patch><im_patch><im_patch><im_patch><im_patch><im_patch><im_patch><im_patch><im_patch><im_patch><im_patch><im_patch><im_patch><im_patch><im_patch><im_patch><im_patch><im_patch><im_patch><im_patch><im_patch><im_patch><im_patch><im_patch><im_patch><im_patch><im_patch><im_patch><im_patch><im_patch><im_patch><im_patch><im_patch><im_patch><im_patch><im_patch><im_patch><im_patch><im_patch><im_patch><im_patch><im_patch><im_patch><im_patch><im_patch><im_patch><im_patch><im_patch><im_patch><im_patch><im_patch><im_patch><im_patch><im_patch><im_patch><im_patch><im_patch><im_patch><im_patch><im_patch><im_patch><im_patch><im_patch><im_patch><im_patch><im_patch><im_patch><im_patch><im_patch><im_patch><im_patch><im_patch><im_patch><im_patch><im_patch><im_patch><im_patch><im_patch><im_patch><im_patch><im_patch><im_patch><im_patch><im_patch><im_patch><im_patch><im_patch><im_patch><im_patch><im_patch><im_patch><im_patch><im_patch><im_patch><im_patch><im_patch><im_patch><im_patch><im_patch><im_patch><im_patch><im_patch><im_patch><im_patch><im_patch><im_patch><im_patch><im_patch><im_patch><im_patch><im_patch><im_patch><im_patch><im_patch><im_patch><im_patch><im_patch><im_patch><im_patch><im_patch><im_patch><im_patch><im_patch><im_patch><im_patch><im_patch><im_patch><im_patch><im_patch><im_patch><im_patch><im_patch><im_patch><im_patch><im_patch><im_patch><im_patch><im_patch><im_patch><im_patch><im_patch><im_patch><im_patch><im_patch><im_patch><im_patch><im_patch><im_patch><im_patch><im_patch><im_patch><im_patch><im_patch><im_patch><im_patch><im_patch><im_patch><im_patch><im_patch><im_patch><im_patch><im_patch><im_patch><im_patch><im_patch><im_patch><im_patch><im_patch><im_patch><im_patch><im_patch><im_patch><im_patch><im_patch><im_patch><im_patch><im_patch><im_patch><im_patch><im_patch><im_patch><im_patch><im_patch><im_patch><im_patch><im_patch><im_patch><im_patch><im_patch><im_patch><im_patch><im_patch><im_patch><im_patch><im_patch><im_patch><im_patch><im_patch><im_patch><im_patch><im_patch><im_patch><im_patch><im_patch><im_patch><im_patch><im_patch><im_patch><im_patch><im_patch><im_patch><im_patch><im_patch><im_end> \n",
      "Does the picture contain liver?### Assistant: Yes, the computed tomography (CT) scan of the abdomen shows the presence of liver tissue.\n",
      "###\n",
      ": token\n",
      "torch.Size([32, 1, 256]) tensor(3.0586, device='cuda:0', dtype=torch.float16) torch.Size([32, 1, 36]) torch.Size([32, 1, 12]) tensor(1.7637, device='cuda:0', dtype=torch.float16) tensor(7.9414, device='cuda:0', dtype=torch.float16)\n",
      "Yes token\n",
      "torch.Size([32, 1, 256]) tensor(3.1113, device='cuda:0', dtype=torch.float16) torch.Size([32, 1, 36]) torch.Size([32, 1, 13]) tensor(1.4404, device='cuda:0', dtype=torch.float16) tensor(9.0078, device='cuda:0', dtype=torch.float16)\n",
      ", token\n",
      "torch.Size([32, 1, 256]) tensor(2.7246, device='cuda:0', dtype=torch.float16) torch.Size([32, 1, 36]) torch.Size([32, 1, 14]) tensor(1.4229, device='cuda:0', dtype=torch.float16) tensor(8.2031, device='cuda:0', dtype=torch.float16)\n",
      "the token\n",
      "torch.Size([32, 1, 256]) tensor(3.7461, device='cuda:0', dtype=torch.float16) torch.Size([32, 1, 36]) torch.Size([32, 1, 15]) tensor(1.3701, device='cuda:0', dtype=torch.float16) tensor(8.8828, device='cuda:0', dtype=torch.float16)\n"
     ]
    }
   ],
   "source": [
    "question = \"Does the picture contain liver?\"\n",
    "image_path = \"./../images/example1.jpg\"\n",
    "cache, text, outputs, input_ids, image = get_attention_weights_example(model=model, question=question, image_path=image_path)\n",
    "print(text)\n",
    "\n",
    "img_token_idx = int(torch.where(input_ids[0] == 32001)[0][0])\n",
    "img_token_idx\n",
    "len_out_tokens = len(outputs['attentions'])\n",
    "for i in range(-len_out_tokens + 2, -len_out_tokens + 6):\n",
    "    attn_all_layers = outputs['attentions'][i]\n",
    "    token = tokenizer.decode(outputs[\"sequences\"][0][i])\n",
    "    print(token, \"token\")\n",
    "    attn_all_layers_tensor = torch.cat(attn_all_layers, 0).mean(0)\n",
    "    image_attns = attn_all_layers_tensor[:, :, img_token_idx:img_token_idx+256]\n",
    "    image_attn_sum = torch.sum(image_attns)\n",
    "    # attn_before_image = attn_all_layers_tensor[:, :, :img_token_idx]\n",
    "    # attn_after_image = attn_all_layers_tensor[:, :, img_token_idx+256:]\n",
    "    attn_before_image = attn_all_layers_tensor[:, :, 2:img_token_idx]\n",
    "    attn_after_image = attn_all_layers_tensor[:, :, img_token_idx+256:-2]\n",
    "    text_attn_sum = torch.sum(attn_before_image)\n",
    "    text_attn_sum2 = torch.sum(attn_after_image)\n",
    "    print(image_attns.size(), image_attn_sum, attn_before_image.size(), attn_after_image.size(),  text_attn_sum, text_attn_sum2)"
   ]
  },
  {
   "cell_type": "code",
   "execution_count": 34,
   "metadata": {},
   "outputs": [
    {
     "data": {
      "text/plain": [
       "30"
      ]
     },
     "execution_count": 34,
     "metadata": {},
     "output_type": "execute_result"
    }
   ],
   "source": [
    "len(outputs['attentions'])"
   ]
  },
  {
   "cell_type": "code",
   "execution_count": 35,
   "metadata": {},
   "outputs": [],
   "source": [
    "all_visual_attention_ratios = []\n",
    "total_visual_attention = None\n",
    "head_attn_dict = dict()\n",
    "for i in range(len(outputs['attentions'])):  # Assuming first dimension gives the range of i\n",
    "    attn_all_layers = outputs['attentions'][i]\n",
    "    token = tokenizer.decode(outputs[\"sequences\"][0][-len_out_tokens + i])\n",
    "\n",
    "    for layer in range(len(attn_all_layers)):\n",
    "        for head in range(attn_all_layers[layer].size(1)):\n",
    "            head_name = f\"layer_{layer}_head_{head}\"\n",
    "            visual_attention_tensor = attn_all_layers[layer][0, head, img_token_idx+image_token_len:, img_token_idx:img_token_idx+image_token_len]\n",
    "            if visual_attention_tensor.shape[0] == 0:\n",
    "                continue\n",
    "            if head_name not in head_attn_dict:\n",
    "                head_attn_dict[head_name] = visual_attention_tensor\n",
    "            else:\n",
    "                # head_attn_dict[head_name] = head_attn_dict[head_name] + visual_attention_tensor\n",
    "                head_attn_dict[head_name] = torch.cat([head_attn_dict[head_name], visual_attention_tensor], 0)\n",
    "\n",
    "for key in head_attn_dict:\n",
    "    head_attn_dict[key] = head_attn_dict[key].mean(0)"
   ]
  },
  {
   "cell_type": "code",
   "execution_count": null,
   "metadata": {},
   "outputs": [],
   "source": []
  },
  {
   "cell_type": "code",
   "execution_count": 12,
   "metadata": {},
   "outputs": [
    {
     "data": {
      "image/png": "[encoded data removed]",
      "text/plain": [
       "<Figure size 500x400 with 2 Axes>"
      ]
     },
     "metadata": {},
     "output_type": "display_data"
    }
   ],
   "source": [
    "# Assume that the output attentions (outputs['attentions']) are of the shape (generated_token_length, layers, 1, heads, 1, current_seq_len)\n",
    "# at the dimension of generated_token_length and layers, the format is a tuple, each item is a tensor in size (1, heads, 1, current_seq_len)\n",
    "# I can get the attentions on visual tokens: image_attns = attn_all_layers_tensor[:, :, img_token_idx:img_token_idx+256], like what we used before\n",
    "import matplotlib.pyplot as plt\n",
    "\n",
    "all_visual_attention_ratios = []\n",
    "for i in range(len(outputs['attentions'])):  # Assuming first dimension gives the range of i\n",
    "    attn_all_layers = outputs['attentions'][i]\n",
    "    token = tokenizer.decode(outputs[\"sequences\"][0][-len_out_tokens + i])\n",
    "    # print(token, \"--> generated token\")\n",
    "    \n",
    "    # Temporary list for this i\n",
    "    visual_attention_ratios = []\n",
    "    \n",
    "    # Loop through layers and heads to calculate visual attention ratios\n",
    "    for layer in range(len(attn_all_layers)):\n",
    "        for head in range(attn_all_layers[layer].size(1)):\n",
    "            visual_attention = torch.sum(attn_all_layers[layer][0, head, :, img_token_idx:img_token_idx+image_token_len])\n",
    "            total_attention = torch.sum(attn_all_layers[layer][0, head, :, :])\n",
    "            ratio = (visual_attention / total_attention).item()\n",
    "            visual_attention_ratios.append(ratio)\n",
    "    \n",
    "    # Add the ratios for this i to the overall list\n",
    "    all_visual_attention_ratios.append(visual_attention_ratios)\n",
    "\n",
    "averaged_visual_attention_ratios = [\n",
    "    sum(head_ratios) / len(all_visual_attention_ratios)\n",
    "    for head_ratios in zip(*all_visual_attention_ratios)\n",
    "]\n",
    "# Reshape the ratios into a 32x32 matrix (32 layers, 32 heads)\n",
    "averaged_visual_attention_ratios = np.array(averaged_visual_attention_ratios).reshape(32, 32)\n",
    "\n",
    "# Plot the heatmap\n",
    "plt.figure(figsize=(5, 4))\n",
    "sns.heatmap(averaged_visual_attention_ratios, annot=False, cmap='viridis', cbar=True)\n",
    "# sns.heatmap(visual_attention_ratios, annot=True, cmap='viridis', cbar=True)\n",
    "plt.title('Ratio of Visual Attention Over All Attention (32 Layers x 32 Heads)')\n",
    "plt.xlabel('Heads')\n",
    "plt.ylabel('Layers')\n",
    "plt.show()\n"
   ]
  },
  {
   "cell_type": "code",
   "execution_count": null,
   "metadata": {},
   "outputs": [],
   "source": []
  },
  {
   "cell_type": "markdown",
   "metadata": {},
   "source": [
    "### The results after probing tuning (all lora)"
   ]
  },
  {
   "cell_type": "code",
   "execution_count": 13,
   "metadata": {},
   "outputs": [
    {
     "name": "stdout",
     "output_type": "stream",
     "text": [
      "Loading LoRA weights from /data/aofei/hallucination/mitigation/Slake/llava_med/probing/lora/checkpoints\n",
      "Merging weights\n",
      "Convert to FP16...\n"
     ]
    }
   ],
   "source": [
    "#LOAD LORA\n",
    "dir=\"llava_med/probing/lora\"\n",
    "model_probing = copy.deepcopy(model)\n",
    "# dir=\"llava_med/visual_enhance/lora_0.03_bbox_0.01/epoch6\"\n",
    "# dir=\"llava_med/visual_enhance/abd/lora_0.15_bbox_0.02/epoch6\"\n",
    "dataset=\"Slake\"\n",
    "# dir=\"llava_med/lora/epoch6_bbox\"\n",
    "# dataset=\"VQA_RAD\"\n",
    "peft_path = f\"{ROOT_PATH}/hallucination/mitigation/{dataset}/{dir}/checkpoints\"\n",
    "\n",
    "if peft_path is not None and len(str(peft_path))>4:\n",
    "    from peft import PeftModel\n",
    "    print(f\"Loading LoRA weights from {peft_path}\")\n",
    "    model_probing = PeftModel.from_pretrained(model_probing, peft_path)\n",
    "    print(f\"Merging weights\")\n",
    "    model_probing = model_probing.merge_and_unload()\n",
    "    print('Convert to FP16...')\n",
    "    model_probing.to(torch.float16)"
   ]
  },
  {
   "cell_type": "code",
   "execution_count": 14,
   "metadata": {},
   "outputs": [
    {
     "name": "stderr",
     "output_type": "stream",
     "text": [
      "/data/aofei/conda/env/medh/lib/python3.10/site-packages/transformers/generation/configuration_utils.py:389: UserWarning: `do_sample` is set to `False`. However, `temperature` is set to `0.7` -- this flag is only used in sample-based generation modes. You should set `do_sample=True` or unset `temperature`.\n",
      "  warnings.warn(\n"
     ]
    },
    {
     "name": "stdout",
     "output_type": "stream",
     "text": [
      " Assistant: The liver is located at bounding box coordinate [0.14, 0.29, 0.7, 0.72], and it is present in the image.\n",
      "\n",
      "</s> A chat between a curious human and an artificial intelligence assistant. The assistant gives helpful, detailed, and polite answers to the human's questions.###Human: <im_start><im_patch><im_patch><im_patch><im_patch><im_patch><im_patch><im_patch><im_patch><im_patch><im_patch><im_patch><im_patch><im_patch><im_patch><im_patch><im_patch><im_patch><im_patch><im_patch><im_patch><im_patch><im_patch><im_patch><im_patch><im_patch><im_patch><im_patch><im_patch><im_patch><im_patch><im_patch><im_patch><im_patch><im_patch><im_patch><im_patch><im_patch><im_patch><im_patch><im_patch><im_patch><im_patch><im_patch><im_patch><im_patch><im_patch><im_patch><im_patch><im_patch><im_patch><im_patch><im_patch><im_patch><im_patch><im_patch><im_patch><im_patch><im_patch><im_patch><im_patch><im_patch><im_patch><im_patch><im_patch><im_patch><im_patch><im_patch><im_patch><im_patch><im_patch><im_patch><im_patch><im_patch><im_patch><im_patch><im_patch><im_patch><im_patch><im_patch><im_patch><im_patch><im_patch><im_patch><im_patch><im_patch><im_patch><im_patch><im_patch><im_patch><im_patch><im_patch><im_patch><im_patch><im_patch><im_patch><im_patch><im_patch><im_patch><im_patch><im_patch><im_patch><im_patch><im_patch><im_patch><im_patch><im_patch><im_patch><im_patch><im_patch><im_patch><im_patch><im_patch><im_patch><im_patch><im_patch><im_patch><im_patch><im_patch><im_patch><im_patch><im_patch><im_patch><im_patch><im_patch><im_patch><im_patch><im_patch><im_patch><im_patch><im_patch><im_patch><im_patch><im_patch><im_patch><im_patch><im_patch><im_patch><im_patch><im_patch><im_patch><im_patch><im_patch><im_patch><im_patch><im_patch><im_patch><im_patch><im_patch><im_patch><im_patch><im_patch><im_patch><im_patch><im_patch><im_patch><im_patch><im_patch><im_patch><im_patch><im_patch><im_patch><im_patch><im_patch><im_patch><im_patch><im_patch><im_patch><im_patch><im_patch><im_patch><im_patch><im_patch><im_patch><im_patch><im_patch><im_patch><im_patch><im_patch><im_patch><im_patch><im_patch><im_patch><im_patch><im_patch><im_patch><im_patch><im_patch><im_patch><im_patch><im_patch><im_patch><im_patch><im_patch><im_patch><im_patch><im_patch><im_patch><im_patch><im_patch><im_patch><im_patch><im_patch><im_patch><im_patch><im_patch><im_patch><im_patch><im_patch><im_patch><im_patch><im_patch><im_patch><im_patch><im_patch><im_patch><im_patch><im_patch><im_patch><im_patch><im_patch><im_patch><im_patch><im_patch><im_patch><im_patch><im_patch><im_patch><im_patch><im_patch><im_patch><im_patch><im_patch><im_patch><im_patch><im_patch><im_patch><im_patch><im_patch><im_patch><im_patch><im_patch><im_patch><im_patch><im_patch><im_patch><im_patch><im_patch><im_patch><im_patch><im_patch><im_patch><im_patch><im_patch><im_patch><im_patch><im_patch><im_end> \n",
      "Does the picture contain liver?### Assistant: The liver is located at bounding box coordinate [0.14, 0.29, 0.7, 0.72], and it is present in the image.\n",
      "###\n",
      ": token\n",
      "torch.Size([32, 1, 256]) tensor(2.9902, device='cuda:0', dtype=torch.float16) torch.Size([32, 1, 36]) torch.Size([32, 1, 12]) tensor(1.6982, device='cuda:0', dtype=torch.float16) tensor(8.1406, device='cuda:0', dtype=torch.float16)\n",
      "The token\n",
      "torch.Size([32, 1, 256]) tensor(2.9473, device='cuda:0', dtype=torch.float16) torch.Size([32, 1, 36]) torch.Size([32, 1, 13]) tensor(1.3672, device='cuda:0', dtype=torch.float16) tensor(9.5312, device='cuda:0', dtype=torch.float16)\n",
      "li token\n",
      "torch.Size([32, 1, 256]) tensor(3.1289, device='cuda:0', dtype=torch.float16) torch.Size([32, 1, 36]) torch.Size([32, 1, 14]) tensor(1.4648, device='cuda:0', dtype=torch.float16) tensor(9.3203, device='cuda:0', dtype=torch.float16)\n",
      "ver token\n",
      "torch.Size([32, 1, 256]) tensor(2.6328, device='cuda:0', dtype=torch.float16) torch.Size([32, 1, 36]) torch.Size([32, 1, 15]) tensor(1.3242, device='cuda:0', dtype=torch.float16) tensor(8.4609, device='cuda:0', dtype=torch.float16)\n"
     ]
    }
   ],
   "source": [
    "question = \"Does the picture contain liver?\"\n",
    "image_path = \"./../images/example1.jpg\"\n",
    "cache, text, outputs, input_ids, image = get_attention_weights_example(model=model_probing, question=question, image_path=image_path)\n",
    "print(text)\n",
    "\n",
    "img_token_idx = int(torch.where(input_ids[0] == 32001)[0][0])\n",
    "img_token_idx\n",
    "len_out_tokens = len(outputs['attentions'])\n",
    "for i in range(-len_out_tokens + 2, -len_out_tokens + 6):\n",
    "    attn_all_layers = outputs['attentions'][i]\n",
    "    token = tokenizer.decode(outputs[\"sequences\"][0][i])\n",
    "    print(token, \"token\")\n",
    "    attn_all_layers_tensor = torch.cat(attn_all_layers, 0).mean(0)\n",
    "    image_attns = attn_all_layers_tensor[:, :, img_token_idx:img_token_idx+256]\n",
    "    image_attn_sum = torch.sum(image_attns)\n",
    "    # attn_before_image = attn_all_layers_tensor[:, :, :img_token_idx]\n",
    "    # attn_after_image = attn_all_layers_tensor[:, :, img_token_idx+256:]\n",
    "    attn_before_image = attn_all_layers_tensor[:, :, 2:img_token_idx]\n",
    "    attn_after_image = attn_all_layers_tensor[:, :, img_token_idx+256:-2]\n",
    "    text_attn_sum = torch.sum(attn_before_image)\n",
    "    text_attn_sum2 = torch.sum(attn_after_image)\n",
    "    print(image_attns.size(), image_attn_sum, attn_before_image.size(), attn_after_image.size(),  text_attn_sum, text_attn_sum2)"
   ]
  },
  {
   "cell_type": "code",
   "execution_count": 17,
   "metadata": {},
   "outputs": [
    {
     "name": "stdout",
     "output_type": "stream",
     "text": [
      "ver --> generated token\n"
     ]
    },
    {
     "data": {
      "image/png": "[encoded data removed]",
      "text/plain": [
       "<Figure size 500x400 with 2 Axes>"
      ]
     },
     "metadata": {},
     "output_type": "display_data"
    }
   ],
   "source": [
    "# Assume that the output attentions (outputs['attentions']) are of the shape (generated_token_length, layers, 1, heads, 1, current_seq_len)\n",
    "# at the dimension of generated_token_length and layers, the format is a tuple, each item is a tensor in size (1, heads, 1, current_seq_len)\n",
    "# I can get the attentions on visual tokens: image_attns = attn_all_layers_tensor[:, :, img_token_idx:img_token_idx+256], like what we used before\n",
    "import matplotlib.pyplot as plt\n",
    "\n",
    "i = 5\n",
    "attn_all_layers = outputs['attentions'][i]\n",
    "token = tokenizer.decode(outputs[\"sequences\"][0][-len_out_tokens + i])\n",
    "print(token, \"--> generated token\")\n",
    "attn_all_layers[0].size()\n",
    "# Calculate the ratio of visual attention over all attention for each head\n",
    "visual_attention_ratios = []\n",
    "for layer in range(len(attn_all_layers)):\n",
    "    for head in range(attn_all_layers[layer].size(1)):\n",
    "        visual_attention = torch.sum(attn_all_layers[layer][0, head, :, img_token_idx:img_token_idx+image_token_len])\n",
    "        total_attention = torch.sum(attn_all_layers[layer][0, head, :, :])\n",
    "        ratio = (visual_attention / total_attention).item()\n",
    "        visual_attention_ratios.append(ratio)\n",
    "\n",
    "# Reshape the ratios into a 32x32 matrix (32 layers, 32 heads)\n",
    "visual_attention_ratios = np.array(visual_attention_ratios).reshape(32, 32)\n",
    "\n",
    "# Plot the heatmap\n",
    "plt.figure(figsize=(5, 4))\n",
    "sns.heatmap(visual_attention_ratios, annot=False, cmap='viridis', cbar=True)\n",
    "# sns.heatmap(visual_attention_ratios, annot=True, cmap='viridis', cbar=True)\n",
    "plt.title('Ratio of Visual Attention Over All Attention (32 Layers x 32 Heads)')\n",
    "plt.xlabel('Heads')\n",
    "plt.ylabel('Layers')\n",
    "plt.show()\n"
   ]
  },
  {
   "cell_type": "code",
   "execution_count": null,
   "metadata": {},
   "outputs": [],
   "source": []
  },
  {
   "cell_type": "markdown",
   "metadata": {},
   "source": [
    "### The results after probing tuning (qk)"
   ]
  },
  {
   "cell_type": "markdown",
   "metadata": {},
   "source": []
  },
  {
   "cell_type": "code",
   "execution_count": 5,
   "metadata": {},
   "outputs": [
    {
     "name": "stdout",
     "output_type": "stream",
     "text": [
      "Loading LoRA weights from /data/aofei/hallucination/mitigation/Slake/llava_med/probing/qk/checkpoints\n",
      "Merging weights\n",
      "Convert to FP16...\n"
     ]
    }
   ],
   "source": [
    "#LOAD LORA\n",
    "dir=\"llava_med/probing/qk\"\n",
    "model_probing2 = copy.deepcopy(model)\n",
    "# dir=\"llava_med/visual_enhance/lora_0.03_bbox_0.01/epoch6\"\n",
    "# dir=\"llava_med/visual_enhance/abd/lora_0.15_bbox_0.02/epoch6\"\n",
    "dataset=\"Slake\"\n",
    "# dir=\"llava_med/lora/epoch6_bbox\"\n",
    "# dataset=\"VQA_RAD\"\n",
    "peft_path = f\"{ROOT_PATH}/hallucination/mitigation/{dataset}/{dir}/checkpoints\"\n",
    "\n",
    "if peft_path is not None and len(str(peft_path))>4:\n",
    "    from peft import PeftModel\n",
    "    print(f\"Loading LoRA weights from {peft_path}\")\n",
    "    model_probing2 = PeftModel.from_pretrained(model_probing2, peft_path)\n",
    "    print(f\"Merging weights\")\n",
    "    model_probing2 = model_probing2.merge_and_unload()\n",
    "    print('Convert to FP16...')\n",
    "    model_probing2.to(torch.float16)"
   ]
  },
  {
   "cell_type": "code",
   "execution_count": 29,
   "metadata": {},
   "outputs": [
    {
     "name": "stderr",
     "output_type": "stream",
     "text": [
      "/data/aofei/conda/env/medh/lib/python3.10/site-packages/transformers/generation/configuration_utils.py:389: UserWarning: `do_sample` is set to `False`. However, `temperature` is set to `0.7` -- this flag is only used in sample-based generation modes. You should set `do_sample=True` or unset `temperature`.\n",
      "  warnings.warn(\n"
     ]
    },
    {
     "name": "stdout",
     "output_type": "stream",
     "text": [
      " Assistant: The liver is located at bounding box coordinate [0.13, 0.28, 0.37, 0.52], and it is present in the image.\n",
      "\n",
      "</s> A chat between a curious human and an artificial intelligence assistant. The assistant gives helpful, detailed, and polite answers to the human's questions.###Human: <im_start><im_patch><im_patch><im_patch><im_patch><im_patch><im_patch><im_patch><im_patch><im_patch><im_patch><im_patch><im_patch><im_patch><im_patch><im_patch><im_patch><im_patch><im_patch><im_patch><im_patch><im_patch><im_patch><im_patch><im_patch><im_patch><im_patch><im_patch><im_patch><im_patch><im_patch><im_patch><im_patch><im_patch><im_patch><im_patch><im_patch><im_patch><im_patch><im_patch><im_patch><im_patch><im_patch><im_patch><im_patch><im_patch><im_patch><im_patch><im_patch><im_patch><im_patch><im_patch><im_patch><im_patch><im_patch><im_patch><im_patch><im_patch><im_patch><im_patch><im_patch><im_patch><im_patch><im_patch><im_patch><im_patch><im_patch><im_patch><im_patch><im_patch><im_patch><im_patch><im_patch><im_patch><im_patch><im_patch><im_patch><im_patch><im_patch><im_patch><im_patch><im_patch><im_patch><im_patch><im_patch><im_patch><im_patch><im_patch><im_patch><im_patch><im_patch><im_patch><im_patch><im_patch><im_patch><im_patch><im_patch><im_patch><im_patch><im_patch><im_patch><im_patch><im_patch><im_patch><im_patch><im_patch><im_patch><im_patch><im_patch><im_patch><im_patch><im_patch><im_patch><im_patch><im_patch><im_patch><im_patch><im_patch><im_patch><im_patch><im_patch><im_patch><im_patch><im_patch><im_patch><im_patch><im_patch><im_patch><im_patch><im_patch><im_patch><im_patch><im_patch><im_patch><im_patch><im_patch><im_patch><im_patch><im_patch><im_patch><im_patch><im_patch><im_patch><im_patch><im_patch><im_patch><im_patch><im_patch><im_patch><im_patch><im_patch><im_patch><im_patch><im_patch><im_patch><im_patch><im_patch><im_patch><im_patch><im_patch><im_patch><im_patch><im_patch><im_patch><im_patch><im_patch><im_patch><im_patch><im_patch><im_patch><im_patch><im_patch><im_patch><im_patch><im_patch><im_patch><im_patch><im_patch><im_patch><im_patch><im_patch><im_patch><im_patch><im_patch><im_patch><im_patch><im_patch><im_patch><im_patch><im_patch><im_patch><im_patch><im_patch><im_patch><im_patch><im_patch><im_patch><im_patch><im_patch><im_patch><im_patch><im_patch><im_patch><im_patch><im_patch><im_patch><im_patch><im_patch><im_patch><im_patch><im_patch><im_patch><im_patch><im_patch><im_patch><im_patch><im_patch><im_patch><im_patch><im_patch><im_patch><im_patch><im_patch><im_patch><im_patch><im_patch><im_patch><im_patch><im_patch><im_patch><im_patch><im_patch><im_patch><im_patch><im_patch><im_patch><im_patch><im_patch><im_patch><im_patch><im_patch><im_patch><im_patch><im_patch><im_patch><im_patch><im_patch><im_patch><im_patch><im_patch><im_patch><im_patch><im_patch><im_patch><im_patch><im_patch><im_patch><im_end> \n",
      "Does the picture contain liver?### Assistant: The liver is located at bounding box coordinate [0.13, 0.28, 0.37, 0.52], and it is present in the image.\n",
      "###\n",
      ": token\n",
      "torch.Size([32, 1, 256]) tensor(3.0449, device='cuda:0', dtype=torch.float16) torch.Size([32, 1, 36]) torch.Size([32, 1, 12]) tensor(1.7158, device='cuda:0', dtype=torch.float16) tensor(8.0938, device='cuda:0', dtype=torch.float16)\n",
      "The token\n",
      "torch.Size([32, 1, 256]) tensor(2.9414, device='cuda:0', dtype=torch.float16) torch.Size([32, 1, 36]) torch.Size([32, 1, 13]) tensor(1.4043, device='cuda:0', dtype=torch.float16) tensor(9.3594, device='cuda:0', dtype=torch.float16)\n",
      "li token\n",
      "torch.Size([32, 1, 256]) tensor(3.4688, device='cuda:0', dtype=torch.float16) torch.Size([32, 1, 36]) torch.Size([32, 1, 14]) tensor(1.4717, device='cuda:0', dtype=torch.float16) tensor(9.2578, device='cuda:0', dtype=torch.float16)\n",
      "ver token\n",
      "torch.Size([32, 1, 256]) tensor(2.9570, device='cuda:0', dtype=torch.float16) torch.Size([32, 1, 36]) torch.Size([32, 1, 15]) tensor(1.3604, device='cuda:0', dtype=torch.float16) tensor(8.2891, device='cuda:0', dtype=torch.float16)\n"
     ]
    }
   ],
   "source": [
    "question = \"Does the picture contain liver?\"\n",
    "image_path = \"./../images/example1.jpg\"\n",
    "cache, text, outputs, input_ids, image = get_attention_weights_example(model=model_probing2, question=question, image_path=image_path)\n",
    "print(text)\n",
    "\n",
    "img_token_idx = int(torch.where(input_ids[0] == 32001)[0][0])\n",
    "img_token_idx\n",
    "len_out_tokens = len(outputs['attentions'])\n",
    "for i in range(-len_out_tokens + 2, -len_out_tokens + 6):\n",
    "    attn_all_layers = outputs['attentions'][i]\n",
    "    token = tokenizer.decode(outputs[\"sequences\"][0][i])\n",
    "    print(token, \"token\")\n",
    "    attn_all_layers_tensor = torch.cat(attn_all_layers, 0).mean(0)\n",
    "    image_attns = attn_all_layers_tensor[:, :, img_token_idx:img_token_idx+256]\n",
    "    image_attn_sum = torch.sum(image_attns)\n",
    "    # attn_before_image = attn_all_layers_tensor[:, :, :img_token_idx]\n",
    "    # attn_after_image = attn_all_layers_tensor[:, :, img_token_idx+256:]\n",
    "    attn_before_image = attn_all_layers_tensor[:, :, 2:img_token_idx]\n",
    "    attn_after_image = attn_all_layers_tensor[:, :, img_token_idx+256:-2]\n",
    "    text_attn_sum = torch.sum(attn_before_image)\n",
    "    text_attn_sum2 = torch.sum(attn_after_image)\n",
    "    print(image_attns.size(), image_attn_sum, attn_before_image.size(), attn_after_image.size(),  text_attn_sum, text_attn_sum2)"
   ]
  },
  {
   "cell_type": "code",
   "execution_count": 30,
   "metadata": {},
   "outputs": [],
   "source": [
    "all_visual_attention_ratios = []\n",
    "total_visual_attention = None\n",
    "head_attn_dict = dict()\n",
    "for i in range(len(outputs['attentions'])):  # Assuming first dimension gives the range of i\n",
    "    attn_all_layers = outputs['attentions'][i]\n",
    "    token = tokenizer.decode(outputs[\"sequences\"][0][-len_out_tokens + i])\n",
    "\n",
    "    for layer in range(len(attn_all_layers)):\n",
    "        for head in range(attn_all_layers[layer].size(1)):\n",
    "            head_name = f\"layer_{layer}_head_{head}\"\n",
    "            visual_attention_tensor = attn_all_layers[layer][0, head, img_token_idx+image_token_len:, img_token_idx:img_token_idx+image_token_len]\n",
    "            if visual_attention_tensor.shape[0] == 0:\n",
    "                continue\n",
    "            if head_name not in head_attn_dict:\n",
    "                head_attn_dict[head_name] = visual_attention_tensor\n",
    "            else:\n",
    "                # head_attn_dict[head_name] = head_attn_dict[head_name] + visual_attention_tensor\n",
    "                head_attn_dict[head_name] = torch.cat([head_attn_dict[head_name], visual_attention_tensor], 0)\n",
    "\n",
    "for key in head_attn_dict:\n",
    "    head_attn_dict[key] = head_attn_dict[key].mean(0)\n"
   ]
  },
  {
   "cell_type": "code",
   "execution_count": null,
   "metadata": {},
   "outputs": [
    {
     "data": {
      "text/plain": [
       "torch.Size([256])"
      ]
     },
     "execution_count": 31,
     "metadata": {},
     "output_type": "execute_result"
    }
   ],
   "source": [
    "# the average attention pattern for each head\n",
    "head_attn_dict['layer_0_head_0'].size()"
   ]
  },
  {
   "cell_type": "code",
   "execution_count": 32,
   "metadata": {},
   "outputs": [],
   "source": [
    "kv_head_attn_dict = copy.deepcopy(head_attn_dict)"
   ]
  },
  {
   "cell_type": "code",
   "execution_count": 37,
   "metadata": {},
   "outputs": [],
   "source": [
    "# compare the attention pattern change after the finetuning\n",
    "def compute_kl_divergence(p, q):\n",
    "    # Normalize to convert to probability distributions\n",
    "    p = p / p.sum()\n",
    "    q = q / q.sum()\n",
    "    # Compute KL divergence (add a small epsilon for numerical stability)\n",
    "    kl_div = F.kl_div(p.log(), q, reduction='batchmean')\n",
    "    return kl_div.item()\n",
    "\n",
    "# Compare KL divergence for each key\n",
    "kl_divergences = {}\n",
    "for key in head_attn_dict.keys():\n",
    "    kl_divergences[key] = compute_kl_divergence(head_attn_dict[key], kv_head_attn_dict[key])\n"
   ]
  },
  {
   "cell_type": "code",
   "execution_count": 38,
   "metadata": {},
   "outputs": [
    {
     "name": "stdout",
     "output_type": "stream",
     "text": [
      "\n",
      "Top-K items with most distribution changes:\n",
      "layer_31_head_1: 0.00042057037353515625\n",
      "layer_22_head_17: 0.0003101825714111328\n",
      "layer_19_head_15: 0.0002923011779785156\n",
      "layer_31_head_17: 0.0002689361572265625\n",
      "layer_18_head_18: 0.0002613067626953125\n",
      "layer_20_head_27: 0.0002551078796386719\n",
      "layer_30_head_21: 0.0002503395080566406\n",
      "layer_13_head_14: 0.00023698806762695312\n",
      "layer_12_head_5: 0.0002090930938720703\n",
      "layer_27_head_3: 0.00019431114196777344\n",
      "layer_21_head_23: 0.00017952919006347656\n",
      "layer_31_head_27: 0.00017952919006347656\n",
      "layer_31_head_11: 0.00017261505126953125\n",
      "layer_23_head_20: 0.00016677379608154297\n",
      "layer_23_head_27: 0.00014090538024902344\n",
      "layer_22_head_5: 0.00014078617095947266\n",
      "layer_27_head_2: 0.0001341104507446289\n",
      "layer_31_head_3: 0.00013303756713867188\n",
      "layer_28_head_25: 0.00013267993927001953\n",
      "layer_21_head_17: 0.00012803077697753906\n",
      "layer_28_head_0: 0.00012791156768798828\n",
      "layer_28_head_1: 0.0001277923583984375\n",
      "layer_12_head_11: 0.00012755393981933594\n",
      "layer_12_head_2: 0.0001246929168701172\n",
      "layer_29_head_14: 0.0001207590103149414\n",
      "layer_26_head_14: 0.00012052059173583984\n",
      "layer_31_head_24: 0.00012028217315673828\n",
      "layer_17_head_5: 0.00011932849884033203\n",
      "layer_12_head_0: 0.0001169443130493164\n",
      "layer_21_head_9: 0.00011497735977172852\n",
      "layer_19_head_17: 0.00010830163955688477\n",
      "layer_28_head_17: 0.00010699033737182617\n"
     ]
    }
   ],
   "source": [
    "top_k = 32  # Replace with the desired number of top items\n",
    "sorted_kl = sorted(kl_divergences.items(), key=lambda x: abs(x[1]), reverse=True)\n",
    "\n",
    "# Get top-K items\n",
    "top_k_items = sorted_kl[:top_k]\n",
    "\n",
    "print(\"\\nTop-K items with most distribution changes:\")\n",
    "for key, kl in top_k_items:\n",
    "    print(f\"{key}: {kl}\")"
   ]
  },
  {
   "cell_type": "code",
   "execution_count": 1,
   "metadata": {},
   "outputs": [],
   "source": [
    "layers = \"\"\"layer_31_head_1: 0.00042057037353515625\n",
    "layer_22_head_17: 0.0003101825714111328\n",
    "layer_19_head_15: 0.0002923011779785156\n",
    "layer_31_head_17: 0.0002689361572265625\n",
    "layer_18_head_18: 0.0002613067626953125\n",
    "layer_20_head_27: 0.0002551078796386719\n",
    "layer_30_head_21: 0.0002503395080566406\n",
    "layer_13_head_14: 0.00023698806762695312\n",
    "layer_12_head_5: 0.0002090930938720703\n",
    "layer_27_head_3: 0.00019431114196777344\n",
    "layer_21_head_23: 0.00017952919006347656\n",
    "layer_31_head_27: 0.00017952919006347656\n",
    "layer_31_head_11: 0.00017261505126953125\n",
    "layer_23_head_20: 0.00016677379608154297\n",
    "layer_23_head_27: 0.00014090538024902344\n",
    "layer_22_head_5: 0.00014078617095947266\n",
    "layer_27_head_2: 0.0001341104507446289\n",
    "layer_31_head_3: 0.00013303756713867188\n",
    "layer_28_head_25: 0.00013267993927001953\n",
    "layer_21_head_17: 0.00012803077697753906\n",
    "layer_28_head_0: 0.00012791156768798828\n",
    "layer_28_head_1: 0.0001277923583984375\n",
    "layer_12_head_11: 0.00012755393981933594\n",
    "layer_12_head_2: 0.0001246929168701172\n",
    "layer_29_head_14: 0.0001207590103149414\n",
    "layer_26_head_14: 0.00012052059173583984\n",
    "layer_31_head_24: 0.00012028217315673828\n",
    "layer_17_head_5: 0.00011932849884033203\n",
    "layer_12_head_0: 0.0001169443130493164\n",
    "layer_21_head_9: 0.00011497735977172852\n",
    "layer_19_head_17: 0.00010830163955688477\n",
    "layer_28_head_17: 0.00010699033737182617\"\"\""
   ]
  },
  {
   "cell_type": "code",
   "execution_count": 7,
   "metadata": {},
   "outputs": [
    {
     "data": {
      "text/plain": [
       "(32,\n",
       " 'layer_31_head_1: 0.00042057037353515625',\n",
       " ['layer', '31', 'head', '1: 0.00042057037353515625'])"
      ]
     },
     "execution_count": 7,
     "metadata": {},
     "output_type": "execute_result"
    }
   ],
   "source": [
    "len(layers.split(\"\\n\")), layers.split(\"\\n\")[0], layers.split(\"\\n\")[0].split(\"_\")"
   ]
  },
  {
   "cell_type": "code",
   "execution_count": 8,
   "metadata": {},
   "outputs": [],
   "source": [
    "top_heads_indices = []\n",
    "for i in layers.split(\"\\n\"):\n",
    "    layer = i.split(\"_\")[1]\n",
    "    head = i.split(\"_\")[3].split(\":\")[0]\n",
    "    top_heads_indices.append((int(layer), int(head)))"
   ]
  },
  {
   "cell_type": "code",
   "execution_count": 10,
   "metadata": {},
   "outputs": [
    {
     "data": {
      "text/plain": [
       "{12, 13, 17, 18, 19, 20, 21, 22, 23, 26, 27, 28, 29, 30, 31}"
      ]
     },
     "execution_count": 10,
     "metadata": {},
     "output_type": "execute_result"
    }
   ],
   "source": [
    "set([i[0] for i in top_heads_indices])"
   ]
  },
  {
   "cell_type": "code",
   "execution_count": 11,
   "metadata": {},
   "outputs": [
    {
     "data": {
      "text/plain": [
       "[(31, 1),\n",
       " (22, 17),\n",
       " (19, 15),\n",
       " (31, 17),\n",
       " (18, 18),\n",
       " (20, 27),\n",
       " (30, 21),\n",
       " (13, 14),\n",
       " (12, 5),\n",
       " (27, 3),\n",
       " (21, 23),\n",
       " (31, 27),\n",
       " (31, 11),\n",
       " (23, 20),\n",
       " (23, 27),\n",
       " (22, 5),\n",
       " (27, 2),\n",
       " (31, 3),\n",
       " (28, 25),\n",
       " (21, 17),\n",
       " (28, 0),\n",
       " (28, 1),\n",
       " (12, 11),\n",
       " (12, 2),\n",
       " (29, 14),\n",
       " (26, 14),\n",
       " (31, 24),\n",
       " (17, 5),\n",
       " (12, 0),\n",
       " (21, 9),\n",
       " (19, 17),\n",
       " (28, 17)]"
      ]
     },
     "execution_count": 11,
     "metadata": {},
     "output_type": "execute_result"
    }
   ],
   "source": [
    "top_heads_indices"
   ]
  },
  {
   "cell_type": "code",
   "execution_count": 9,
   "metadata": {},
   "outputs": [
    {
     "name": "stdout",
     "output_type": "stream",
     "text": [
      "li --> generated token\n"
     ]
    },
    {
     "data": {
      "image/png": "[encoded data removed]",
      "text/plain": [
       "<Figure size 500x400 with 2 Axes>"
      ]
     },
     "metadata": {},
     "output_type": "display_data"
    }
   ],
   "source": [
    "# Assume that the output attentions (outputs['attentions']) are of the shape (generated_token_length, layers, 1, heads, 1, current_seq_len)\n",
    "# at the dimension of generated_token_length and layers, the format is a tuple, each item is a tensor in size (1, heads, 1, current_seq_len)\n",
    "# I can get the attentions on visual tokens: image_attns = attn_all_layers_tensor[:, :, img_token_idx:img_token_idx+256], like what we used before\n",
    "import matplotlib.pyplot as plt\n",
    "\n",
    "i = 4\n",
    "attn_all_layers = outputs['attentions'][i]\n",
    "token = tokenizer.decode(outputs[\"sequences\"][0][-len_out_tokens + i])\n",
    "print(token, \"--> generated token\")\n",
    "attn_all_layers[0].size()\n",
    "# Calculate the ratio of visual attention over all attention for each head\n",
    "visual_attention_ratios = []\n",
    "for layer in range(len(attn_all_layers)):\n",
    "    for head in range(attn_all_layers[layer].size(1)):\n",
    "        visual_attention = torch.sum(attn_all_layers[layer][0, head, :, img_token_idx:img_token_idx+image_token_len])\n",
    "        total_attention = torch.sum(attn_all_layers[layer][0, head, :, :])\n",
    "        ratio = (visual_attention / total_attention).item()\n",
    "        visual_attention_ratios.append(ratio)\n",
    "\n",
    "# Reshape the ratios into a 32x32 matrix (32 layers, 32 heads)\n",
    "visual_attention_ratios = np.array(visual_attention_ratios).reshape(32, 32)\n",
    "\n",
    "# Plot the heatmap\n",
    "plt.figure(figsize=(5, 4))\n",
    "sns.heatmap(visual_attention_ratios, annot=False, cmap='viridis', cbar=True)\n",
    "# sns.heatmap(visual_attention_ratios, annot=True, cmap='viridis', cbar=True)\n",
    "plt.title('Ratio of Visual Attention Over All Attention (32 Layers x 32 Heads)')\n",
    "plt.xlabel('Heads')\n",
    "plt.ylabel('Layers')\n",
    "plt.show()\n"
   ]
  },
  {
   "cell_type": "code",
   "execution_count": null,
   "metadata": {},
   "outputs": [],
   "source": []
  }
 ],
 "metadata": {
  "kernelspec": {
   "display_name": "medh",
   "language": "python",
   "name": "python3"
  },
  "language_info": {
   "codemirror_mode": {
    "name": "ipython",
    "version": 3
   },
   "file_extension": ".py",
   "mimetype": "text/x-python",
   "name": "python",
   "nbconvert_exporter": "python",
   "pygments_lexer": "ipython3",
   "version": "3.10.14"
  }
 },
 "nbformat": 4,
 "nbformat_minor": 2
}
